{
 "cells": [
  {
   "cell_type": "markdown",
   "metadata": {},
   "source": [
    "## Map analysis with geemap"
   ]
  },
  {
   "cell_type": "code",
   "execution_count": 1,
   "metadata": {},
   "outputs": [],
   "source": [
    "import geemap"
   ]
  },
  {
   "cell_type": "code",
   "execution_count": 2,
   "metadata": {},
   "outputs": [
    {
     "data": {
      "text/html": [
       "\n",
       "            <style>\n",
       "                .geemap-dark {\n",
       "                    --jp-widgets-color: white;\n",
       "                    --jp-widgets-label-color: white;\n",
       "                    --jp-ui-font-color1: white;\n",
       "                    --jp-layout-color2: #454545;\n",
       "                    background-color: #383838;\n",
       "                }\n",
       "\n",
       "                .geemap-dark .jupyter-button {\n",
       "                    --jp-layout-color3: #383838;\n",
       "                }\n",
       "\n",
       "                .geemap-colab {\n",
       "                    background-color: var(--colab-primary-surface-color, white);\n",
       "                }\n",
       "\n",
       "                .geemap-colab .jupyter-button {\n",
       "                    --jp-layout-color3: var(--colab-primary-surface-color, white);\n",
       "                }\n",
       "            </style>\n",
       "            "
      ],
      "text/plain": [
       "<IPython.core.display.HTML object>"
      ]
     },
     "metadata": {},
     "output_type": "display_data"
    },
    {
     "ename": "EEException",
     "evalue": "Not signed up for Earth Engine or project is not registered. Visit https://developers.google.com/earth-engine/guides/access",
     "output_type": "error",
     "traceback": [
      "\u001b[1;31m---------------------------------------------------------------------------\u001b[0m",
      "\u001b[1;31mHttpError\u001b[0m                                 Traceback (most recent call last)",
      "File \u001b[1;32mc:\\Users\\timmy\\Downloads\\Rameen-Fiverr\\venv\\lib\\site-packages\\ee\\data.py:402\u001b[0m, in \u001b[0;36m_execute_cloud_call\u001b[1;34m(call, num_retries)\u001b[0m\n\u001b[0;32m    401\u001b[0m \u001b[38;5;28;01mtry\u001b[39;00m:\n\u001b[1;32m--> 402\u001b[0m   \u001b[38;5;28;01mreturn\u001b[39;00m \u001b[43mcall\u001b[49m\u001b[38;5;241;43m.\u001b[39;49m\u001b[43mexecute\u001b[49m\u001b[43m(\u001b[49m\u001b[43mnum_retries\u001b[49m\u001b[38;5;241;43m=\u001b[39;49m\u001b[43mnum_retries\u001b[49m\u001b[43m)\u001b[49m\n\u001b[0;32m    403\u001b[0m \u001b[38;5;28;01mexcept\u001b[39;00m googleapiclient\u001b[38;5;241m.\u001b[39merrors\u001b[38;5;241m.\u001b[39mHttpError \u001b[38;5;28;01mas\u001b[39;00m e:\n",
      "File \u001b[1;32mc:\\Users\\timmy\\Downloads\\Rameen-Fiverr\\venv\\lib\\site-packages\\googleapiclient\\_helpers.py:130\u001b[0m, in \u001b[0;36mpositional.<locals>.positional_decorator.<locals>.positional_wrapper\u001b[1;34m(*args, **kwargs)\u001b[0m\n\u001b[0;32m    129\u001b[0m         logger\u001b[38;5;241m.\u001b[39mwarning(message)\n\u001b[1;32m--> 130\u001b[0m \u001b[38;5;28;01mreturn\u001b[39;00m wrapped(\u001b[38;5;241m*\u001b[39margs, \u001b[38;5;241m*\u001b[39m\u001b[38;5;241m*\u001b[39mkwargs)\n",
      "File \u001b[1;32mc:\\Users\\timmy\\Downloads\\Rameen-Fiverr\\venv\\lib\\site-packages\\googleapiclient\\http.py:938\u001b[0m, in \u001b[0;36mHttpRequest.execute\u001b[1;34m(self, http, num_retries)\u001b[0m\n\u001b[0;32m    937\u001b[0m \u001b[38;5;28;01mif\u001b[39;00m resp\u001b[38;5;241m.\u001b[39mstatus \u001b[38;5;241m>\u001b[39m\u001b[38;5;241m=\u001b[39m \u001b[38;5;241m300\u001b[39m:\n\u001b[1;32m--> 938\u001b[0m     \u001b[38;5;28;01mraise\u001b[39;00m HttpError(resp, content, uri\u001b[38;5;241m=\u001b[39m\u001b[38;5;28mself\u001b[39m\u001b[38;5;241m.\u001b[39muri)\n\u001b[0;32m    939\u001b[0m \u001b[38;5;28;01mreturn\u001b[39;00m \u001b[38;5;28mself\u001b[39m\u001b[38;5;241m.\u001b[39mpostproc(resp, content)\n",
      "\u001b[1;31mHttpError\u001b[0m: <HttpError 403 when requesting https://earthengine.googleapis.com/v1/projects/earthengine-legacy/algorithms?prettyPrint=false&alt=json returned \"Not signed up for Earth Engine or project is not registered. Visit https://developers.google.com/earth-engine/guides/access\". Details: \"Not signed up for Earth Engine or project is not registered. Visit https://developers.google.com/earth-engine/guides/access\">",
      "\nDuring handling of the above exception, another exception occurred:\n",
      "\u001b[1;31mEEException\u001b[0m                               Traceback (most recent call last)",
      "File \u001b[1;32mc:\\Users\\timmy\\Downloads\\Rameen-Fiverr\\venv\\lib\\site-packages\\geemap\\common.py:134\u001b[0m, in \u001b[0;36mee_initialize\u001b[1;34m(token_name, auth_mode, service_account, auth_args, user_agent_prefix, **kwargs)\u001b[0m\n\u001b[0;32m    132\u001b[0m                     f\u001b[38;5;241m.\u001b[39mwrite(credential)\n\u001b[1;32m--> 134\u001b[0m     ee\u001b[38;5;241m.\u001b[39mInitialize(\u001b[38;5;241m*\u001b[39m\u001b[38;5;241m*\u001b[39mkwargs)\n\u001b[0;32m    136\u001b[0m \u001b[38;5;28;01mexcept\u001b[39;00m \u001b[38;5;167;01mException\u001b[39;00m:\n",
      "File \u001b[1;32mc:\\Users\\timmy\\Downloads\\Rameen-Fiverr\\venv\\lib\\site-packages\\ee\\_utils.py:38\u001b[0m, in \u001b[0;36maccept_opt_prefix.<locals>.opt_fixed.<locals>.wrapper\u001b[1;34m(*args, **kwargs)\u001b[0m\n\u001b[0;32m     37\u001b[0m       kwargs[new_key] \u001b[38;5;241m=\u001b[39m old_key_val\n\u001b[1;32m---> 38\u001b[0m \u001b[38;5;28;01mreturn\u001b[39;00m func(\u001b[38;5;241m*\u001b[39margs, \u001b[38;5;241m*\u001b[39m\u001b[38;5;241m*\u001b[39mkwargs)\n",
      "File \u001b[1;32mc:\\Users\\timmy\\Downloads\\Rameen-Fiverr\\venv\\lib\\site-packages\\ee\\__init__.py:181\u001b[0m, in \u001b[0;36mInitialize\u001b[1;34m(credentials, url, cloud_api_key, http_transport, project)\u001b[0m\n\u001b[0;32m    180\u001b[0m     \u001b[38;5;28;01mraise\u001b[39;00m EEException(NO_PROJECT_EXCEPTION) \u001b[38;5;28;01mfrom\u001b[39;00m \u001b[38;5;28;01mNone\u001b[39;00m\n\u001b[1;32m--> 181\u001b[0m   \u001b[38;5;28;01mraise\u001b[39;00m e\n\u001b[0;32m    182\u001b[0m Array\u001b[38;5;241m.\u001b[39minitialize()\n",
      "File \u001b[1;32mc:\\Users\\timmy\\Downloads\\Rameen-Fiverr\\venv\\lib\\site-packages\\ee\\__init__.py:172\u001b[0m, in \u001b[0;36mInitialize\u001b[1;34m(credentials, url, cloud_api_key, http_transport, project)\u001b[0m\n\u001b[0;32m    171\u001b[0m \u001b[38;5;28;01mtry\u001b[39;00m:\n\u001b[1;32m--> 172\u001b[0m   \u001b[43mApiFunction\u001b[49m\u001b[38;5;241;43m.\u001b[39;49m\u001b[43minitialize\u001b[49m\u001b[43m(\u001b[49m\u001b[43m)\u001b[49m\n\u001b[0;32m    173\u001b[0m \u001b[38;5;28;01mexcept\u001b[39;00m EEException \u001b[38;5;28;01mas\u001b[39;00m e:\n\u001b[0;32m    174\u001b[0m   \u001b[38;5;66;03m# We tried to detect missing projects before initialization, but some cases\u001b[39;00m\n\u001b[0;32m    175\u001b[0m   \u001b[38;5;66;03m# like Colab hide the project, so check errors from missing projects too.\u001b[39;00m\n",
      "File \u001b[1;32mc:\\Users\\timmy\\Downloads\\Rameen-Fiverr\\venv\\lib\\site-packages\\ee\\apifunction.py:161\u001b[0m, in \u001b[0;36mApiFunction.initialize\u001b[1;34m(cls)\u001b[0m\n\u001b[0;32m    160\u001b[0m \u001b[38;5;28;01mif\u001b[39;00m \u001b[38;5;129;01mnot\u001b[39;00m \u001b[38;5;28mcls\u001b[39m\u001b[38;5;241m.\u001b[39m_api:\n\u001b[1;32m--> 161\u001b[0m   signatures \u001b[38;5;241m=\u001b[39m \u001b[43mdata\u001b[49m\u001b[38;5;241;43m.\u001b[39;49m\u001b[43mgetAlgorithms\u001b[49m\u001b[43m(\u001b[49m\u001b[43m)\u001b[49m\n\u001b[0;32m    162\u001b[0m   api \u001b[38;5;241m=\u001b[39m {}\n",
      "File \u001b[1;32mc:\\Users\\timmy\\Downloads\\Rameen-Fiverr\\venv\\lib\\site-packages\\ee\\data.py:1474\u001b[0m, in \u001b[0;36mgetAlgorithms\u001b[1;34m()\u001b[0m\n\u001b[0;32m   1473\u001b[0m call\u001b[38;5;241m.\u001b[39madd_response_callback(inspect)\n\u001b[1;32m-> 1474\u001b[0m \u001b[38;5;28;01mreturn\u001b[39;00m _cloud_api_utils\u001b[38;5;241m.\u001b[39mconvert_algorithms(\u001b[43m_execute_cloud_call\u001b[49m\u001b[43m(\u001b[49m\u001b[43mcall\u001b[49m\u001b[43m)\u001b[49m)\n",
      "File \u001b[1;32mc:\\Users\\timmy\\Downloads\\Rameen-Fiverr\\venv\\lib\\site-packages\\ee\\data.py:404\u001b[0m, in \u001b[0;36m_execute_cloud_call\u001b[1;34m(call, num_retries)\u001b[0m\n\u001b[0;32m    403\u001b[0m \u001b[38;5;28;01mexcept\u001b[39;00m googleapiclient\u001b[38;5;241m.\u001b[39merrors\u001b[38;5;241m.\u001b[39mHttpError \u001b[38;5;28;01mas\u001b[39;00m e:\n\u001b[1;32m--> 404\u001b[0m   \u001b[38;5;28;01mraise\u001b[39;00m _translate_cloud_exception(e)\n",
      "\u001b[1;31mEEException\u001b[0m: Not signed up for Earth Engine or project is not registered. Visit https://developers.google.com/earth-engine/guides/access",
      "\nDuring handling of the above exception, another exception occurred:\n",
      "\u001b[1;31mHttpError\u001b[0m                                 Traceback (most recent call last)",
      "File \u001b[1;32mc:\\Users\\timmy\\Downloads\\Rameen-Fiverr\\venv\\lib\\site-packages\\ee\\data.py:402\u001b[0m, in \u001b[0;36m_execute_cloud_call\u001b[1;34m(call, num_retries)\u001b[0m\n\u001b[0;32m    401\u001b[0m \u001b[38;5;28;01mtry\u001b[39;00m:\n\u001b[1;32m--> 402\u001b[0m   \u001b[38;5;28;01mreturn\u001b[39;00m \u001b[43mcall\u001b[49m\u001b[38;5;241;43m.\u001b[39;49m\u001b[43mexecute\u001b[49m\u001b[43m(\u001b[49m\u001b[43mnum_retries\u001b[49m\u001b[38;5;241;43m=\u001b[39;49m\u001b[43mnum_retries\u001b[49m\u001b[43m)\u001b[49m\n\u001b[0;32m    403\u001b[0m \u001b[38;5;28;01mexcept\u001b[39;00m googleapiclient\u001b[38;5;241m.\u001b[39merrors\u001b[38;5;241m.\u001b[39mHttpError \u001b[38;5;28;01mas\u001b[39;00m e:\n",
      "File \u001b[1;32mc:\\Users\\timmy\\Downloads\\Rameen-Fiverr\\venv\\lib\\site-packages\\googleapiclient\\_helpers.py:130\u001b[0m, in \u001b[0;36mpositional.<locals>.positional_decorator.<locals>.positional_wrapper\u001b[1;34m(*args, **kwargs)\u001b[0m\n\u001b[0;32m    129\u001b[0m         logger\u001b[38;5;241m.\u001b[39mwarning(message)\n\u001b[1;32m--> 130\u001b[0m \u001b[38;5;28;01mreturn\u001b[39;00m wrapped(\u001b[38;5;241m*\u001b[39margs, \u001b[38;5;241m*\u001b[39m\u001b[38;5;241m*\u001b[39mkwargs)\n",
      "File \u001b[1;32mc:\\Users\\timmy\\Downloads\\Rameen-Fiverr\\venv\\lib\\site-packages\\googleapiclient\\http.py:938\u001b[0m, in \u001b[0;36mHttpRequest.execute\u001b[1;34m(self, http, num_retries)\u001b[0m\n\u001b[0;32m    937\u001b[0m \u001b[38;5;28;01mif\u001b[39;00m resp\u001b[38;5;241m.\u001b[39mstatus \u001b[38;5;241m>\u001b[39m\u001b[38;5;241m=\u001b[39m \u001b[38;5;241m300\u001b[39m:\n\u001b[1;32m--> 938\u001b[0m     \u001b[38;5;28;01mraise\u001b[39;00m HttpError(resp, content, uri\u001b[38;5;241m=\u001b[39m\u001b[38;5;28mself\u001b[39m\u001b[38;5;241m.\u001b[39muri)\n\u001b[0;32m    939\u001b[0m \u001b[38;5;28;01mreturn\u001b[39;00m \u001b[38;5;28mself\u001b[39m\u001b[38;5;241m.\u001b[39mpostproc(resp, content)\n",
      "\u001b[1;31mHttpError\u001b[0m: <HttpError 403 when requesting https://earthengine.googleapis.com/v1/projects/earthengine-legacy/algorithms?prettyPrint=false&alt=json returned \"Not signed up for Earth Engine or project is not registered. Visit https://developers.google.com/earth-engine/guides/access\". Details: \"Not signed up for Earth Engine or project is not registered. Visit https://developers.google.com/earth-engine/guides/access\">",
      "\nDuring handling of the above exception, another exception occurred:\n",
      "\u001b[1;31mEEException\u001b[0m                               Traceback (most recent call last)",
      "Cell \u001b[1;32mIn[2], line 1\u001b[0m\n\u001b[1;32m----> 1\u001b[0m m \u001b[38;5;241m=\u001b[39m \u001b[43mgeemap\u001b[49m\u001b[38;5;241;43m.\u001b[39;49m\u001b[43mMap\u001b[49m\u001b[43m(\u001b[49m\u001b[43m)\u001b[49m\n",
      "File \u001b[1;32mc:\\Users\\timmy\\Downloads\\Rameen-Fiverr\\venv\\lib\\site-packages\\geemap\\geemap.py:130\u001b[0m, in \u001b[0;36mMap.__init__\u001b[1;34m(self, **kwargs)\u001b[0m\n\u001b[0;32m    128\u001b[0m \u001b[38;5;28mself\u001b[39m\u001b[38;5;241m.\u001b[39m_USER_AGENT_PREFIX \u001b[38;5;241m=\u001b[39m \u001b[38;5;124m\"\u001b[39m\u001b[38;5;124mgeemap\u001b[39m\u001b[38;5;124m\"\u001b[39m\n\u001b[0;32m    129\u001b[0m \u001b[38;5;28mself\u001b[39m\u001b[38;5;241m.\u001b[39mkwargs \u001b[38;5;241m=\u001b[39m kwargs\n\u001b[1;32m--> 130\u001b[0m \u001b[38;5;28msuper\u001b[39m()\u001b[38;5;241m.\u001b[39m\u001b[38;5;21m__init__\u001b[39m(\u001b[38;5;241m*\u001b[39m\u001b[38;5;241m*\u001b[39mkwargs)\n\u001b[0;32m    132\u001b[0m \u001b[38;5;28;01mif\u001b[39;00m kwargs\u001b[38;5;241m.\u001b[39mget(\u001b[38;5;124m\"\u001b[39m\u001b[38;5;124mheight\u001b[39m\u001b[38;5;124m\"\u001b[39m):\n\u001b[0;32m    133\u001b[0m     \u001b[38;5;28mself\u001b[39m\u001b[38;5;241m.\u001b[39mlayout\u001b[38;5;241m.\u001b[39mheight \u001b[38;5;241m=\u001b[39m kwargs\u001b[38;5;241m.\u001b[39mget(\u001b[38;5;124m\"\u001b[39m\u001b[38;5;124mheight\u001b[39m\u001b[38;5;124m\"\u001b[39m)\n",
      "File \u001b[1;32mc:\\Users\\timmy\\Downloads\\Rameen-Fiverr\\venv\\lib\\site-packages\\geemap\\core.py:477\u001b[0m, in \u001b[0;36mMap.__init__\u001b[1;34m(self, **kwargs)\u001b[0m\n\u001b[0;32m    475\u001b[0m \u001b[38;5;66;03m# Authenticate and initialize EE.\u001b[39;00m\n\u001b[0;32m    476\u001b[0m \u001b[38;5;28;01mif\u001b[39;00m kwargs\u001b[38;5;241m.\u001b[39mget(\u001b[38;5;124m\"\u001b[39m\u001b[38;5;124mee_initialize\u001b[39m\u001b[38;5;124m\"\u001b[39m, \u001b[38;5;28;01mTrue\u001b[39;00m):\n\u001b[1;32m--> 477\u001b[0m     \u001b[43mcommon\u001b[49m\u001b[38;5;241;43m.\u001b[39;49m\u001b[43mee_initialize\u001b[49m\u001b[43m(\u001b[49m\u001b[43muser_agent_prefix\u001b[49m\u001b[38;5;241;43m=\u001b[39;49m\u001b[38;5;28;43mself\u001b[39;49m\u001b[38;5;241;43m.\u001b[39;49m\u001b[43m_USER_AGENT_PREFIX\u001b[49m\u001b[43m)\u001b[49m\n\u001b[0;32m    479\u001b[0m \u001b[38;5;66;03m# Listen for layers being added/removed so we can update the layer manager.\u001b[39;00m\n\u001b[0;32m    480\u001b[0m \u001b[38;5;28mself\u001b[39m\u001b[38;5;241m.\u001b[39mobserve(\u001b[38;5;28mself\u001b[39m\u001b[38;5;241m.\u001b[39m_on_layers_change, \u001b[38;5;124m\"\u001b[39m\u001b[38;5;124mlayers\u001b[39m\u001b[38;5;124m\"\u001b[39m)\n",
      "File \u001b[1;32mc:\\Users\\timmy\\Downloads\\Rameen-Fiverr\\venv\\lib\\site-packages\\geemap\\common.py:138\u001b[0m, in \u001b[0;36mee_initialize\u001b[1;34m(token_name, auth_mode, service_account, auth_args, user_agent_prefix, **kwargs)\u001b[0m\n\u001b[0;32m    136\u001b[0m         \u001b[38;5;28;01mexcept\u001b[39;00m \u001b[38;5;167;01mException\u001b[39;00m:\n\u001b[0;32m    137\u001b[0m             ee\u001b[38;5;241m.\u001b[39mAuthenticate(\u001b[38;5;241m*\u001b[39m\u001b[38;5;241m*\u001b[39mauth_args)\n\u001b[1;32m--> 138\u001b[0m             ee\u001b[38;5;241m.\u001b[39mInitialize(\u001b[38;5;241m*\u001b[39m\u001b[38;5;241m*\u001b[39mkwargs)\n\u001b[0;32m    140\u001b[0m ee\u001b[38;5;241m.\u001b[39mdata\u001b[38;5;241m.\u001b[39msetUserAgent(user_agent)\n",
      "File \u001b[1;32mc:\\Users\\timmy\\Downloads\\Rameen-Fiverr\\venv\\lib\\site-packages\\ee\\_utils.py:38\u001b[0m, in \u001b[0;36maccept_opt_prefix.<locals>.opt_fixed.<locals>.wrapper\u001b[1;34m(*args, **kwargs)\u001b[0m\n\u001b[0;32m     36\u001b[0m     \u001b[38;5;28;01mif\u001b[39;00m new_key \u001b[38;5;129;01mnot\u001b[39;00m \u001b[38;5;129;01min\u001b[39;00m kwargs:\n\u001b[0;32m     37\u001b[0m       kwargs[new_key] \u001b[38;5;241m=\u001b[39m old_key_val\n\u001b[1;32m---> 38\u001b[0m \u001b[38;5;28;01mreturn\u001b[39;00m func(\u001b[38;5;241m*\u001b[39margs, \u001b[38;5;241m*\u001b[39m\u001b[38;5;241m*\u001b[39mkwargs)\n",
      "File \u001b[1;32mc:\\Users\\timmy\\Downloads\\Rameen-Fiverr\\venv\\lib\\site-packages\\ee\\__init__.py:181\u001b[0m, in \u001b[0;36mInitialize\u001b[1;34m(credentials, url, cloud_api_key, http_transport, project)\u001b[0m\n\u001b[0;32m    179\u001b[0m   \u001b[38;5;28;01mif\u001b[39;00m (adc_err \u001b[38;5;129;01min\u001b[39;00m \u001b[38;5;28mstr\u001b[39m(e)) \u001b[38;5;129;01mor\u001b[39;00m (matches \u001b[38;5;129;01mand\u001b[39;00m oauth\u001b[38;5;241m.\u001b[39mis_sdk_project(matches[\u001b[38;5;241m1\u001b[39m])):\n\u001b[0;32m    180\u001b[0m     \u001b[38;5;28;01mraise\u001b[39;00m EEException(NO_PROJECT_EXCEPTION) \u001b[38;5;28;01mfrom\u001b[39;00m \u001b[38;5;28;01mNone\u001b[39;00m\n\u001b[1;32m--> 181\u001b[0m   \u001b[38;5;28;01mraise\u001b[39;00m e\n\u001b[0;32m    182\u001b[0m Array\u001b[38;5;241m.\u001b[39minitialize()\n\u001b[0;32m    183\u001b[0m Blob\u001b[38;5;241m.\u001b[39minitialize()\n",
      "File \u001b[1;32mc:\\Users\\timmy\\Downloads\\Rameen-Fiverr\\venv\\lib\\site-packages\\ee\\__init__.py:172\u001b[0m, in \u001b[0;36mInitialize\u001b[1;34m(credentials, url, cloud_api_key, http_transport, project)\u001b[0m\n\u001b[0;32m    170\u001b[0m \u001b[38;5;66;03m# Initialize the dynamically loaded functions on the objects that want them.\u001b[39;00m\n\u001b[0;32m    171\u001b[0m \u001b[38;5;28;01mtry\u001b[39;00m:\n\u001b[1;32m--> 172\u001b[0m   \u001b[43mApiFunction\u001b[49m\u001b[38;5;241;43m.\u001b[39;49m\u001b[43minitialize\u001b[49m\u001b[43m(\u001b[49m\u001b[43m)\u001b[49m\n\u001b[0;32m    173\u001b[0m \u001b[38;5;28;01mexcept\u001b[39;00m EEException \u001b[38;5;28;01mas\u001b[39;00m e:\n\u001b[0;32m    174\u001b[0m   \u001b[38;5;66;03m# We tried to detect missing projects before initialization, but some cases\u001b[39;00m\n\u001b[0;32m    175\u001b[0m   \u001b[38;5;66;03m# like Colab hide the project, so check errors from missing projects too.\u001b[39;00m\n\u001b[0;32m    176\u001b[0m   adc_err \u001b[38;5;241m=\u001b[39m \u001b[38;5;124m'\u001b[39m\u001b[38;5;124mauthenticating by using local Application Default Credentials\u001b[39m\u001b[38;5;124m'\u001b[39m\n",
      "File \u001b[1;32mc:\\Users\\timmy\\Downloads\\Rameen-Fiverr\\venv\\lib\\site-packages\\ee\\apifunction.py:161\u001b[0m, in \u001b[0;36mApiFunction.initialize\u001b[1;34m(cls)\u001b[0m\n\u001b[0;32m    159\u001b[0m \u001b[38;5;250m\u001b[39m\u001b[38;5;124;03m\"\"\"Initializes the list of signatures from the Earth Engine front-end.\"\"\"\u001b[39;00m\n\u001b[0;32m    160\u001b[0m \u001b[38;5;28;01mif\u001b[39;00m \u001b[38;5;129;01mnot\u001b[39;00m \u001b[38;5;28mcls\u001b[39m\u001b[38;5;241m.\u001b[39m_api:\n\u001b[1;32m--> 161\u001b[0m   signatures \u001b[38;5;241m=\u001b[39m \u001b[43mdata\u001b[49m\u001b[38;5;241;43m.\u001b[39;49m\u001b[43mgetAlgorithms\u001b[49m\u001b[43m(\u001b[49m\u001b[43m)\u001b[49m\n\u001b[0;32m    162\u001b[0m   api \u001b[38;5;241m=\u001b[39m {}\n\u001b[0;32m    163\u001b[0m   \u001b[38;5;28;01mfor\u001b[39;00m name, sig \u001b[38;5;129;01min\u001b[39;00m signatures\u001b[38;5;241m.\u001b[39mitems():\n\u001b[0;32m    164\u001b[0m     \u001b[38;5;66;03m# Strip type parameters.\u001b[39;00m\n",
      "File \u001b[1;32mc:\\Users\\timmy\\Downloads\\Rameen-Fiverr\\venv\\lib\\site-packages\\ee\\data.py:1474\u001b[0m, in \u001b[0;36mgetAlgorithms\u001b[1;34m()\u001b[0m\n\u001b[0;32m   1469\u001b[0m     \u001b[38;5;28mprint\u001b[39m(\n\u001b[0;32m   1470\u001b[0m         \u001b[38;5;124m'\u001b[39m\u001b[38;5;124m*** Earth Engine ***\u001b[39m\u001b[38;5;124m'\u001b[39m,\n\u001b[0;32m   1471\u001b[0m         response[_INIT_MESSAGE_HEADER],\n\u001b[0;32m   1472\u001b[0m         file\u001b[38;5;241m=\u001b[39msys\u001b[38;5;241m.\u001b[39mstderr)\n\u001b[0;32m   1473\u001b[0m call\u001b[38;5;241m.\u001b[39madd_response_callback(inspect)\n\u001b[1;32m-> 1474\u001b[0m \u001b[38;5;28;01mreturn\u001b[39;00m _cloud_api_utils\u001b[38;5;241m.\u001b[39mconvert_algorithms(\u001b[43m_execute_cloud_call\u001b[49m\u001b[43m(\u001b[49m\u001b[43mcall\u001b[49m\u001b[43m)\u001b[49m)\n",
      "File \u001b[1;32mc:\\Users\\timmy\\Downloads\\Rameen-Fiverr\\venv\\lib\\site-packages\\ee\\data.py:404\u001b[0m, in \u001b[0;36m_execute_cloud_call\u001b[1;34m(call, num_retries)\u001b[0m\n\u001b[0;32m    402\u001b[0m   \u001b[38;5;28;01mreturn\u001b[39;00m call\u001b[38;5;241m.\u001b[39mexecute(num_retries\u001b[38;5;241m=\u001b[39mnum_retries)\n\u001b[0;32m    403\u001b[0m \u001b[38;5;28;01mexcept\u001b[39;00m googleapiclient\u001b[38;5;241m.\u001b[39merrors\u001b[38;5;241m.\u001b[39mHttpError \u001b[38;5;28;01mas\u001b[39;00m e:\n\u001b[1;32m--> 404\u001b[0m   \u001b[38;5;28;01mraise\u001b[39;00m _translate_cloud_exception(e)\n",
      "\u001b[1;31mEEException\u001b[0m: Not signed up for Earth Engine or project is not registered. Visit https://developers.google.com/earth-engine/guides/access"
     ]
    }
   ],
   "source": [
    "m = geemap.Map()"
   ]
  },
  {
   "cell_type": "code",
   "execution_count": null,
   "metadata": {},
   "outputs": [],
   "source": []
  },
  {
   "cell_type": "code",
   "execution_count": null,
   "metadata": {},
   "outputs": [],
   "source": []
  },
  {
   "cell_type": "code",
   "execution_count": null,
   "metadata": {},
   "outputs": [],
   "source": []
  },
  {
   "cell_type": "code",
   "execution_count": null,
   "metadata": {},
   "outputs": [],
   "source": []
  },
  {
   "cell_type": "code",
   "execution_count": null,
   "metadata": {},
   "outputs": [],
   "source": []
  },
  {
   "cell_type": "code",
   "execution_count": null,
   "metadata": {},
   "outputs": [],
   "source": []
  },
  {
   "cell_type": "code",
   "execution_count": null,
   "metadata": {},
   "outputs": [],
   "source": []
  },
  {
   "cell_type": "code",
   "execution_count": null,
   "metadata": {},
   "outputs": [],
   "source": []
  },
  {
   "cell_type": "code",
   "execution_count": null,
   "metadata": {},
   "outputs": [],
   "source": []
  },
  {
   "cell_type": "code",
   "execution_count": null,
   "metadata": {},
   "outputs": [],
   "source": []
  },
  {
   "cell_type": "code",
   "execution_count": null,
   "metadata": {},
   "outputs": [],
   "source": []
  }
 ],
 "metadata": {
  "kernelspec": {
   "display_name": "Python 3",
   "language": "python",
   "name": "python3"
  },
  "language_info": {
   "codemirror_mode": {
    "name": "ipython",
    "version": 3
   },
   "file_extension": ".py",
   "mimetype": "text/x-python",
   "name": "python",
   "nbconvert_exporter": "python",
   "pygments_lexer": "ipython3",
   "version": "3.10.0"
  }
 },
 "nbformat": 4,
 "nbformat_minor": 2
}
