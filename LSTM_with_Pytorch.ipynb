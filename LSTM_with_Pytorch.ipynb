{
  "cells": [
    {
      "cell_type": "code",
      "execution_count": 30,
      "metadata": {
        "id": "9pCQEoM_xyFD"
      },
      "outputs": [],
      "source": [
        "import pandas as pd\n",
        "import numpy as np\n",
        "import matplotlib.pyplot as plt\n",
        "import datetime\n",
        "from datetime import date, timedelta\n",
        "import torch\n",
        "import torch.nn as nn"
      ]
    },
    {
      "cell_type": "code",
      "execution_count": 4,
      "metadata": {
        "id": "wF-qgYf1x_W-"
      },
      "outputs": [],
      "source": [
        "data = pd.read_csv('clean.csv')"
      ]
    },
    {
      "cell_type": "code",
      "execution_count": 5,
      "metadata": {
        "colab": {
          "base_uri": "https://localhost:8080/",
          "height": 424
        },
        "id": "91lqfytbx_ay",
        "outputId": "3d34db53-e73b-40b8-d303-ac927bec2e69"
      },
      "outputs": [
        {
          "data": {
            "text/html": [
              "<div>\n",
              "<style scoped>\n",
              "    .dataframe tbody tr th:only-of-type {\n",
              "        vertical-align: middle;\n",
              "    }\n",
              "\n",
              "    .dataframe tbody tr th {\n",
              "        vertical-align: top;\n",
              "    }\n",
              "\n",
              "    .dataframe thead th {\n",
              "        text-align: right;\n",
              "    }\n",
              "</style>\n",
              "<table border=\"1\" class=\"dataframe\">\n",
              "  <thead>\n",
              "    <tr style=\"text-align: right;\">\n",
              "      <th></th>\n",
              "      <th>date</th>\n",
              "      <th>AQI</th>\n",
              "      <th>latitude</th>\n",
              "      <th>longitude</th>\n",
              "    </tr>\n",
              "  </thead>\n",
              "  <tbody>\n",
              "    <tr>\n",
              "      <th>0</th>\n",
              "      <td>2023-04-01 00:00:00</td>\n",
              "      <td>45.765</td>\n",
              "      <td>27.889417</td>\n",
              "      <td>71.375264</td>\n",
              "    </tr>\n",
              "    <tr>\n",
              "      <th>1</th>\n",
              "      <td>2023-04-01 01:00:00</td>\n",
              "      <td>46.520</td>\n",
              "      <td>27.889417</td>\n",
              "      <td>71.375264</td>\n",
              "    </tr>\n",
              "    <tr>\n",
              "      <th>2</th>\n",
              "      <td>2023-04-01 02:00:00</td>\n",
              "      <td>47.640</td>\n",
              "      <td>27.889417</td>\n",
              "      <td>71.375264</td>\n",
              "    </tr>\n",
              "    <tr>\n",
              "      <th>3</th>\n",
              "      <td>2023-04-01 03:00:00</td>\n",
              "      <td>49.330</td>\n",
              "      <td>27.889417</td>\n",
              "      <td>71.375264</td>\n",
              "    </tr>\n",
              "    <tr>\n",
              "      <th>4</th>\n",
              "      <td>2023-04-01 04:00:00</td>\n",
              "      <td>51.210</td>\n",
              "      <td>27.889417</td>\n",
              "      <td>71.375264</td>\n",
              "    </tr>\n",
              "    <tr>\n",
              "      <th>...</th>\n",
              "      <td>...</td>\n",
              "      <td>...</td>\n",
              "      <td>...</td>\n",
              "      <td>...</td>\n",
              "    </tr>\n",
              "    <tr>\n",
              "      <th>9236</th>\n",
              "      <td>2024-04-19 20:00:00</td>\n",
              "      <td>64.075</td>\n",
              "      <td>27.889417</td>\n",
              "      <td>71.375264</td>\n",
              "    </tr>\n",
              "    <tr>\n",
              "      <th>9237</th>\n",
              "      <td>2024-04-19 21:00:00</td>\n",
              "      <td>64.950</td>\n",
              "      <td>27.889417</td>\n",
              "      <td>71.375264</td>\n",
              "    </tr>\n",
              "    <tr>\n",
              "      <th>9238</th>\n",
              "      <td>2024-04-19 22:00:00</td>\n",
              "      <td>63.735</td>\n",
              "      <td>27.889417</td>\n",
              "      <td>71.375264</td>\n",
              "    </tr>\n",
              "    <tr>\n",
              "      <th>9239</th>\n",
              "      <td>2024-04-19 23:00:00</td>\n",
              "      <td>61.845</td>\n",
              "      <td>27.889417</td>\n",
              "      <td>71.375264</td>\n",
              "    </tr>\n",
              "    <tr>\n",
              "      <th>9240</th>\n",
              "      <td>2024-04-20 00:00:00</td>\n",
              "      <td>60.765</td>\n",
              "      <td>27.889417</td>\n",
              "      <td>71.375264</td>\n",
              "    </tr>\n",
              "  </tbody>\n",
              "</table>\n",
              "<p>9241 rows × 4 columns</p>\n",
              "</div>"
            ],
            "text/plain": [
              "                     date     AQI   latitude  longitude\n",
              "0     2023-04-01 00:00:00  45.765  27.889417  71.375264\n",
              "1     2023-04-01 01:00:00  46.520  27.889417  71.375264\n",
              "2     2023-04-01 02:00:00  47.640  27.889417  71.375264\n",
              "3     2023-04-01 03:00:00  49.330  27.889417  71.375264\n",
              "4     2023-04-01 04:00:00  51.210  27.889417  71.375264\n",
              "...                   ...     ...        ...        ...\n",
              "9236  2024-04-19 20:00:00  64.075  27.889417  71.375264\n",
              "9237  2024-04-19 21:00:00  64.950  27.889417  71.375264\n",
              "9238  2024-04-19 22:00:00  63.735  27.889417  71.375264\n",
              "9239  2024-04-19 23:00:00  61.845  27.889417  71.375264\n",
              "9240  2024-04-20 00:00:00  60.765  27.889417  71.375264\n",
              "\n",
              "[9241 rows x 4 columns]"
            ]
          },
          "execution_count": 5,
          "metadata": {},
          "output_type": "execute_result"
        }
      ],
      "source": [
        "data"
      ]
    },
    {
      "cell_type": "code",
      "execution_count": 6,
      "metadata": {
        "colab": {
          "base_uri": "https://localhost:8080/",
          "height": 424
        },
        "id": "g0CJu7IBx_dY",
        "outputId": "f86e30e8-6565-4d3d-a1ba-1629e6068078"
      },
      "outputs": [
        {
          "data": {
            "text/html": [
              "<div>\n",
              "<style scoped>\n",
              "    .dataframe tbody tr th:only-of-type {\n",
              "        vertical-align: middle;\n",
              "    }\n",
              "\n",
              "    .dataframe tbody tr th {\n",
              "        vertical-align: top;\n",
              "    }\n",
              "\n",
              "    .dataframe thead th {\n",
              "        text-align: right;\n",
              "    }\n",
              "</style>\n",
              "<table border=\"1\" class=\"dataframe\">\n",
              "  <thead>\n",
              "    <tr style=\"text-align: right;\">\n",
              "      <th></th>\n",
              "      <th>date</th>\n",
              "      <th>AQI</th>\n",
              "    </tr>\n",
              "  </thead>\n",
              "  <tbody>\n",
              "    <tr>\n",
              "      <th>0</th>\n",
              "      <td>2023-04-01 00:00:00</td>\n",
              "      <td>45.765</td>\n",
              "    </tr>\n",
              "    <tr>\n",
              "      <th>1</th>\n",
              "      <td>2023-04-01 01:00:00</td>\n",
              "      <td>46.520</td>\n",
              "    </tr>\n",
              "    <tr>\n",
              "      <th>2</th>\n",
              "      <td>2023-04-01 02:00:00</td>\n",
              "      <td>47.640</td>\n",
              "    </tr>\n",
              "    <tr>\n",
              "      <th>3</th>\n",
              "      <td>2023-04-01 03:00:00</td>\n",
              "      <td>49.330</td>\n",
              "    </tr>\n",
              "    <tr>\n",
              "      <th>4</th>\n",
              "      <td>2023-04-01 04:00:00</td>\n",
              "      <td>51.210</td>\n",
              "    </tr>\n",
              "    <tr>\n",
              "      <th>...</th>\n",
              "      <td>...</td>\n",
              "      <td>...</td>\n",
              "    </tr>\n",
              "    <tr>\n",
              "      <th>9236</th>\n",
              "      <td>2024-04-19 20:00:00</td>\n",
              "      <td>64.075</td>\n",
              "    </tr>\n",
              "    <tr>\n",
              "      <th>9237</th>\n",
              "      <td>2024-04-19 21:00:00</td>\n",
              "      <td>64.950</td>\n",
              "    </tr>\n",
              "    <tr>\n",
              "      <th>9238</th>\n",
              "      <td>2024-04-19 22:00:00</td>\n",
              "      <td>63.735</td>\n",
              "    </tr>\n",
              "    <tr>\n",
              "      <th>9239</th>\n",
              "      <td>2024-04-19 23:00:00</td>\n",
              "      <td>61.845</td>\n",
              "    </tr>\n",
              "    <tr>\n",
              "      <th>9240</th>\n",
              "      <td>2024-04-20 00:00:00</td>\n",
              "      <td>60.765</td>\n",
              "    </tr>\n",
              "  </tbody>\n",
              "</table>\n",
              "<p>9241 rows × 2 columns</p>\n",
              "</div>"
            ],
            "text/plain": [
              "                     date     AQI\n",
              "0     2023-04-01 00:00:00  45.765\n",
              "1     2023-04-01 01:00:00  46.520\n",
              "2     2023-04-01 02:00:00  47.640\n",
              "3     2023-04-01 03:00:00  49.330\n",
              "4     2023-04-01 04:00:00  51.210\n",
              "...                   ...     ...\n",
              "9236  2024-04-19 20:00:00  64.075\n",
              "9237  2024-04-19 21:00:00  64.950\n",
              "9238  2024-04-19 22:00:00  63.735\n",
              "9239  2024-04-19 23:00:00  61.845\n",
              "9240  2024-04-20 00:00:00  60.765\n",
              "\n",
              "[9241 rows x 2 columns]"
            ]
          },
          "execution_count": 6,
          "metadata": {},
          "output_type": "execute_result"
        }
      ],
      "source": [
        "data = data[['date', 'AQI']]\n",
        "data"
      ]
    },
    {
      "cell_type": "code",
      "execution_count": 7,
      "metadata": {
        "colab": {
          "base_uri": "https://localhost:8080/",
          "height": 36
        },
        "id": "VNTE_G0dx_fq",
        "outputId": "503d5cdd-0591-4678-dddb-6e015fc9e230"
      },
      "outputs": [
        {
          "data": {
            "text/plain": [
              "'cpu'"
            ]
          },
          "execution_count": 7,
          "metadata": {},
          "output_type": "execute_result"
        }
      ],
      "source": [
        "device = 'cuda:0' if torch.cuda.is_available() else 'cpu'\n",
        "device"
      ]
    },
    {
      "cell_type": "code",
      "execution_count": 8,
      "metadata": {
        "colab": {
          "base_uri": "https://localhost:8080/",
          "height": 551
        },
        "id": "pE0-FGP8x_h7",
        "outputId": "28d336d1-3ef7-4742-9677-3272aba0192c"
      },
      "outputs": [
        {
          "name": "stderr",
          "output_type": "stream",
          "text": [
            "C:\\Users\\timmy\\AppData\\Local\\Temp\\ipykernel_22252\\3395756933.py:1: SettingWithCopyWarning: \n",
            "A value is trying to be set on a copy of a slice from a DataFrame.\n",
            "Try using .loc[row_indexer,col_indexer] = value instead\n",
            "\n",
            "See the caveats in the documentation: https://pandas.pydata.org/pandas-docs/stable/user_guide/indexing.html#returning-a-view-versus-a-copy\n",
            "  data['date'] = pd.to_datetime(data['date'])\n"
          ]
        },
        {
          "data": {
            "text/plain": [
              "[<matplotlib.lines.Line2D at 0x1c265d9b130>]"
            ]
          },
          "execution_count": 8,
          "metadata": {},
          "output_type": "execute_result"
        },
        {
          "data": {
            "image/png": "[encoded data removed]",
            "text/plain": [
              "<Figure size 640x480 with 1 Axes>"
            ]
          },
          "metadata": {},
          "output_type": "display_data"
        }
      ],
      "source": [
        "data['date'] = pd.to_datetime(data['date'])\n",
        "\n",
        "plt.plot(data['date'], data['AQI'])"
      ]
    },
    {
      "cell_type": "code",
      "execution_count": 9,
      "metadata": {
        "colab": {
          "base_uri": "https://localhost:8080/",
          "height": 455
        },
        "id": "MLsYVQgox_ko",
        "outputId": "0702adde-3d0d-4a1a-f32c-619304cc2071"
      },
      "outputs": [
        {
          "data": {
            "text/html": [
              "<div>\n",
              "<style scoped>\n",
              "    .dataframe tbody tr th:only-of-type {\n",
              "        vertical-align: middle;\n",
              "    }\n",
              "\n",
              "    .dataframe tbody tr th {\n",
              "        vertical-align: top;\n",
              "    }\n",
              "\n",
              "    .dataframe thead th {\n",
              "        text-align: right;\n",
              "    }\n",
              "</style>\n",
              "<table border=\"1\" class=\"dataframe\">\n",
              "  <thead>\n",
              "    <tr style=\"text-align: right;\">\n",
              "      <th></th>\n",
              "      <th>AQI</th>\n",
              "      <th>AQI(t-1)</th>\n",
              "      <th>AQI(t-2)</th>\n",
              "      <th>AQI(t-3)</th>\n",
              "      <th>AQI(t-4)</th>\n",
              "      <th>AQI(t-5)</th>\n",
              "      <th>AQI(t-6)</th>\n",
              "      <th>AQI(t-7)</th>\n",
              "      <th>AQI(t-8)</th>\n",
              "      <th>AQI(t-9)</th>\n",
              "      <th>...</th>\n",
              "      <th>AQI(t-15)</th>\n",
              "      <th>AQI(t-16)</th>\n",
              "      <th>AQI(t-17)</th>\n",
              "      <th>AQI(t-18)</th>\n",
              "      <th>AQI(t-19)</th>\n",
              "      <th>AQI(t-20)</th>\n",
              "      <th>AQI(t-21)</th>\n",
              "      <th>AQI(t-22)</th>\n",
              "      <th>AQI(t-23)</th>\n",
              "      <th>AQI(t-24)</th>\n",
              "    </tr>\n",
              "    <tr>\n",
              "      <th>date</th>\n",
              "      <th></th>\n",
              "      <th></th>\n",
              "      <th></th>\n",
              "      <th></th>\n",
              "      <th></th>\n",
              "      <th></th>\n",
              "      <th></th>\n",
              "      <th></th>\n",
              "      <th></th>\n",
              "      <th></th>\n",
              "      <th></th>\n",
              "      <th></th>\n",
              "      <th></th>\n",
              "      <th></th>\n",
              "      <th></th>\n",
              "      <th></th>\n",
              "      <th></th>\n",
              "      <th></th>\n",
              "      <th></th>\n",
              "      <th></th>\n",
              "      <th></th>\n",
              "    </tr>\n",
              "  </thead>\n",
              "  <tbody>\n",
              "    <tr>\n",
              "      <th>2023-04-02 00:00:00</th>\n",
              "      <td>34.430</td>\n",
              "      <td>35.995</td>\n",
              "      <td>36.750</td>\n",
              "      <td>37.130</td>\n",
              "      <td>36.865</td>\n",
              "      <td>36.430</td>\n",
              "      <td>36.180</td>\n",
              "      <td>35.925</td>\n",
              "      <td>35.645</td>\n",
              "      <td>35.360</td>\n",
              "      <td>...</td>\n",
              "      <td>42.035</td>\n",
              "      <td>44.425</td>\n",
              "      <td>47.205</td>\n",
              "      <td>49.650</td>\n",
              "      <td>51.400</td>\n",
              "      <td>51.210</td>\n",
              "      <td>49.330</td>\n",
              "      <td>47.640</td>\n",
              "      <td>46.520</td>\n",
              "      <td>45.765</td>\n",
              "    </tr>\n",
              "    <tr>\n",
              "      <th>2023-04-02 01:00:00</th>\n",
              "      <td>35.175</td>\n",
              "      <td>34.430</td>\n",
              "      <td>35.995</td>\n",
              "      <td>36.750</td>\n",
              "      <td>37.130</td>\n",
              "      <td>36.865</td>\n",
              "      <td>36.430</td>\n",
              "      <td>36.180</td>\n",
              "      <td>35.925</td>\n",
              "      <td>35.645</td>\n",
              "      <td>...</td>\n",
              "      <td>40.915</td>\n",
              "      <td>42.035</td>\n",
              "      <td>44.425</td>\n",
              "      <td>47.205</td>\n",
              "      <td>49.650</td>\n",
              "      <td>51.400</td>\n",
              "      <td>51.210</td>\n",
              "      <td>49.330</td>\n",
              "      <td>47.640</td>\n",
              "      <td>46.520</td>\n",
              "    </tr>\n",
              "    <tr>\n",
              "      <th>2023-04-02 02:00:00</th>\n",
              "      <td>36.520</td>\n",
              "      <td>35.175</td>\n",
              "      <td>34.430</td>\n",
              "      <td>35.995</td>\n",
              "      <td>36.750</td>\n",
              "      <td>37.130</td>\n",
              "      <td>36.865</td>\n",
              "      <td>36.430</td>\n",
              "      <td>36.180</td>\n",
              "      <td>35.925</td>\n",
              "      <td>...</td>\n",
              "      <td>40.240</td>\n",
              "      <td>40.915</td>\n",
              "      <td>42.035</td>\n",
              "      <td>44.425</td>\n",
              "      <td>47.205</td>\n",
              "      <td>49.650</td>\n",
              "      <td>51.400</td>\n",
              "      <td>51.210</td>\n",
              "      <td>49.330</td>\n",
              "      <td>47.640</td>\n",
              "    </tr>\n",
              "    <tr>\n",
              "      <th>2023-04-02 03:00:00</th>\n",
              "      <td>38.645</td>\n",
              "      <td>36.520</td>\n",
              "      <td>35.175</td>\n",
              "      <td>34.430</td>\n",
              "      <td>35.995</td>\n",
              "      <td>36.750</td>\n",
              "      <td>37.130</td>\n",
              "      <td>36.865</td>\n",
              "      <td>36.430</td>\n",
              "      <td>36.180</td>\n",
              "      <td>...</td>\n",
              "      <td>34.950</td>\n",
              "      <td>40.240</td>\n",
              "      <td>40.915</td>\n",
              "      <td>42.035</td>\n",
              "      <td>44.425</td>\n",
              "      <td>47.205</td>\n",
              "      <td>49.650</td>\n",
              "      <td>51.400</td>\n",
              "      <td>51.210</td>\n",
              "      <td>49.330</td>\n",
              "    </tr>\n",
              "    <tr>\n",
              "      <th>2023-04-02 04:00:00</th>\n",
              "      <td>40.920</td>\n",
              "      <td>38.645</td>\n",
              "      <td>36.520</td>\n",
              "      <td>35.175</td>\n",
              "      <td>34.430</td>\n",
              "      <td>35.995</td>\n",
              "      <td>36.750</td>\n",
              "      <td>37.130</td>\n",
              "      <td>36.865</td>\n",
              "      <td>36.430</td>\n",
              "      <td>...</td>\n",
              "      <td>34.805</td>\n",
              "      <td>34.950</td>\n",
              "      <td>40.240</td>\n",
              "      <td>40.915</td>\n",
              "      <td>42.035</td>\n",
              "      <td>44.425</td>\n",
              "      <td>47.205</td>\n",
              "      <td>49.650</td>\n",
              "      <td>51.400</td>\n",
              "      <td>51.210</td>\n",
              "    </tr>\n",
              "    <tr>\n",
              "      <th>...</th>\n",
              "      <td>...</td>\n",
              "      <td>...</td>\n",
              "      <td>...</td>\n",
              "      <td>...</td>\n",
              "      <td>...</td>\n",
              "      <td>...</td>\n",
              "      <td>...</td>\n",
              "      <td>...</td>\n",
              "      <td>...</td>\n",
              "      <td>...</td>\n",
              "      <td>...</td>\n",
              "      <td>...</td>\n",
              "      <td>...</td>\n",
              "      <td>...</td>\n",
              "      <td>...</td>\n",
              "      <td>...</td>\n",
              "      <td>...</td>\n",
              "      <td>...</td>\n",
              "      <td>...</td>\n",
              "      <td>...</td>\n",
              "      <td>...</td>\n",
              "    </tr>\n",
              "    <tr>\n",
              "      <th>2024-04-19 20:00:00</th>\n",
              "      <td>64.075</td>\n",
              "      <td>61.375</td>\n",
              "      <td>57.480</td>\n",
              "      <td>54.325</td>\n",
              "      <td>55.820</td>\n",
              "      <td>68.255</td>\n",
              "      <td>86.095</td>\n",
              "      <td>105.880</td>\n",
              "      <td>118.880</td>\n",
              "      <td>128.115</td>\n",
              "      <td>...</td>\n",
              "      <td>121.295</td>\n",
              "      <td>116.905</td>\n",
              "      <td>109.050</td>\n",
              "      <td>95.440</td>\n",
              "      <td>111.915</td>\n",
              "      <td>126.265</td>\n",
              "      <td>143.585</td>\n",
              "      <td>162.995</td>\n",
              "      <td>185.515</td>\n",
              "      <td>211.040</td>\n",
              "    </tr>\n",
              "    <tr>\n",
              "      <th>2024-04-19 21:00:00</th>\n",
              "      <td>64.950</td>\n",
              "      <td>64.075</td>\n",
              "      <td>61.375</td>\n",
              "      <td>57.480</td>\n",
              "      <td>54.325</td>\n",
              "      <td>55.820</td>\n",
              "      <td>68.255</td>\n",
              "      <td>86.095</td>\n",
              "      <td>105.880</td>\n",
              "      <td>118.880</td>\n",
              "      <td>...</td>\n",
              "      <td>125.655</td>\n",
              "      <td>121.295</td>\n",
              "      <td>116.905</td>\n",
              "      <td>109.050</td>\n",
              "      <td>95.440</td>\n",
              "      <td>111.915</td>\n",
              "      <td>126.265</td>\n",
              "      <td>143.585</td>\n",
              "      <td>162.995</td>\n",
              "      <td>185.515</td>\n",
              "    </tr>\n",
              "    <tr>\n",
              "      <th>2024-04-19 22:00:00</th>\n",
              "      <td>63.735</td>\n",
              "      <td>64.950</td>\n",
              "      <td>64.075</td>\n",
              "      <td>61.375</td>\n",
              "      <td>57.480</td>\n",
              "      <td>54.325</td>\n",
              "      <td>55.820</td>\n",
              "      <td>68.255</td>\n",
              "      <td>86.095</td>\n",
              "      <td>105.880</td>\n",
              "      <td>...</td>\n",
              "      <td>130.535</td>\n",
              "      <td>125.655</td>\n",
              "      <td>121.295</td>\n",
              "      <td>116.905</td>\n",
              "      <td>109.050</td>\n",
              "      <td>95.440</td>\n",
              "      <td>111.915</td>\n",
              "      <td>126.265</td>\n",
              "      <td>143.585</td>\n",
              "      <td>162.995</td>\n",
              "    </tr>\n",
              "    <tr>\n",
              "      <th>2024-04-19 23:00:00</th>\n",
              "      <td>61.845</td>\n",
              "      <td>63.735</td>\n",
              "      <td>64.950</td>\n",
              "      <td>64.075</td>\n",
              "      <td>61.375</td>\n",
              "      <td>57.480</td>\n",
              "      <td>54.325</td>\n",
              "      <td>55.820</td>\n",
              "      <td>68.255</td>\n",
              "      <td>86.095</td>\n",
              "      <td>...</td>\n",
              "      <td>135.995</td>\n",
              "      <td>130.535</td>\n",
              "      <td>125.655</td>\n",
              "      <td>121.295</td>\n",
              "      <td>116.905</td>\n",
              "      <td>109.050</td>\n",
              "      <td>95.440</td>\n",
              "      <td>111.915</td>\n",
              "      <td>126.265</td>\n",
              "      <td>143.585</td>\n",
              "    </tr>\n",
              "    <tr>\n",
              "      <th>2024-04-20 00:00:00</th>\n",
              "      <td>60.765</td>\n",
              "      <td>61.845</td>\n",
              "      <td>63.735</td>\n",
              "      <td>64.950</td>\n",
              "      <td>64.075</td>\n",
              "      <td>61.375</td>\n",
              "      <td>57.480</td>\n",
              "      <td>54.325</td>\n",
              "      <td>55.820</td>\n",
              "      <td>68.255</td>\n",
              "      <td>...</td>\n",
              "      <td>137.030</td>\n",
              "      <td>135.995</td>\n",
              "      <td>130.535</td>\n",
              "      <td>125.655</td>\n",
              "      <td>121.295</td>\n",
              "      <td>116.905</td>\n",
              "      <td>109.050</td>\n",
              "      <td>95.440</td>\n",
              "      <td>111.915</td>\n",
              "      <td>126.265</td>\n",
              "    </tr>\n",
              "  </tbody>\n",
              "</table>\n",
              "<p>9217 rows × 25 columns</p>\n",
              "</div>"
            ],
            "text/plain": [
              "                        AQI  AQI(t-1)  AQI(t-2)  AQI(t-3)  AQI(t-4)  AQI(t-5)  \\\n",
              "date                                                                            \n",
              "2023-04-02 00:00:00  34.430    35.995    36.750    37.130    36.865    36.430   \n",
              "2023-04-02 01:00:00  35.175    34.430    35.995    36.750    37.130    36.865   \n",
              "2023-04-02 02:00:00  36.520    35.175    34.430    35.995    36.750    37.130   \n",
              "2023-04-02 03:00:00  38.645    36.520    35.175    34.430    35.995    36.750   \n",
              "2023-04-02 04:00:00  40.920    38.645    36.520    35.175    34.430    35.995   \n",
              "...                     ...       ...       ...       ...       ...       ...   \n",
              "2024-04-19 20:00:00  64.075    61.375    57.480    54.325    55.820    68.255   \n",
              "2024-04-19 21:00:00  64.950    64.075    61.375    57.480    54.325    55.820   \n",
              "2024-04-19 22:00:00  63.735    64.950    64.075    61.375    57.480    54.325   \n",
              "2024-04-19 23:00:00  61.845    63.735    64.950    64.075    61.375    57.480   \n",
              "2024-04-20 00:00:00  60.765    61.845    63.735    64.950    64.075    61.375   \n",
              "\n",
              "                     AQI(t-6)  AQI(t-7)  AQI(t-8)  AQI(t-9)  ...  AQI(t-15)  \\\n",
              "date                                                         ...              \n",
              "2023-04-02 00:00:00    36.180    35.925    35.645    35.360  ...     42.035   \n",
              "2023-04-02 01:00:00    36.430    36.180    35.925    35.645  ...     40.915   \n",
              "2023-04-02 02:00:00    36.865    36.430    36.180    35.925  ...     40.240   \n",
              "2023-04-02 03:00:00    37.130    36.865    36.430    36.180  ...     34.950   \n",
              "2023-04-02 04:00:00    36.750    37.130    36.865    36.430  ...     34.805   \n",
              "...                       ...       ...       ...       ...  ...        ...   \n",
              "2024-04-19 20:00:00    86.095   105.880   118.880   128.115  ...    121.295   \n",
              "2024-04-19 21:00:00    68.255    86.095   105.880   118.880  ...    125.655   \n",
              "2024-04-19 22:00:00    55.820    68.255    86.095   105.880  ...    130.535   \n",
              "2024-04-19 23:00:00    54.325    55.820    68.255    86.095  ...    135.995   \n",
              "2024-04-20 00:00:00    57.480    54.325    55.820    68.255  ...    137.030   \n",
              "\n",
              "                     AQI(t-16)  AQI(t-17)  AQI(t-18)  AQI(t-19)  AQI(t-20)  \\\n",
              "date                                                                         \n",
              "2023-04-02 00:00:00     44.425     47.205     49.650     51.400     51.210   \n",
              "2023-04-02 01:00:00     42.035     44.425     47.205     49.650     51.400   \n",
              "2023-04-02 02:00:00     40.915     42.035     44.425     47.205     49.650   \n",
              "2023-04-02 03:00:00     40.240     40.915     42.035     44.425     47.205   \n",
              "2023-04-02 04:00:00     34.950     40.240     40.915     42.035     44.425   \n",
              "...                        ...        ...        ...        ...        ...   \n",
              "2024-04-19 20:00:00    116.905    109.050     95.440    111.915    126.265   \n",
              "2024-04-19 21:00:00    121.295    116.905    109.050     95.440    111.915   \n",
              "2024-04-19 22:00:00    125.655    121.295    116.905    109.050     95.440   \n",
              "2024-04-19 23:00:00    130.535    125.655    121.295    116.905    109.050   \n",
              "2024-04-20 00:00:00    135.995    130.535    125.655    121.295    116.905   \n",
              "\n",
              "                     AQI(t-21)  AQI(t-22)  AQI(t-23)  AQI(t-24)  \n",
              "date                                                             \n",
              "2023-04-02 00:00:00     49.330     47.640     46.520     45.765  \n",
              "2023-04-02 01:00:00     51.210     49.330     47.640     46.520  \n",
              "2023-04-02 02:00:00     51.400     51.210     49.330     47.640  \n",
              "2023-04-02 03:00:00     49.650     51.400     51.210     49.330  \n",
              "2023-04-02 04:00:00     47.205     49.650     51.400     51.210  \n",
              "...                        ...        ...        ...        ...  \n",
              "2024-04-19 20:00:00    143.585    162.995    185.515    211.040  \n",
              "2024-04-19 21:00:00    126.265    143.585    162.995    185.515  \n",
              "2024-04-19 22:00:00    111.915    126.265    143.585    162.995  \n",
              "2024-04-19 23:00:00     95.440    111.915    126.265    143.585  \n",
              "2024-04-20 00:00:00    109.050     95.440    111.915    126.265  \n",
              "\n",
              "[9217 rows x 25 columns]"
            ]
          },
          "execution_count": 9,
          "metadata": {},
          "output_type": "execute_result"
        }
      ],
      "source": [
        "from copy import deepcopy as dc\n",
        "\n",
        "def prepare_data(df, n_steps):\n",
        "  df = dc(df)\n",
        "  df['date'] = pd.to_datetime(df['date'])\n",
        "\n",
        "  df.set_index('date', inplace=True)\n",
        "\n",
        "  for i in range(1, n_steps+1):\n",
        "    df[f\"AQI(t-{i})\"] = df['AQI'].shift(i)\n",
        "\n",
        "  df.dropna(inplace=True)\n",
        "\n",
        "  return df\n",
        "\n",
        "lookback = 24\n",
        "shifted_df = prepare_data(data, lookback)\n",
        "shifted_df"
      ]
    },
    {
      "cell_type": "code",
      "execution_count": 10,
      "metadata": {
        "colab": {
          "base_uri": "https://localhost:8080/"
        },
        "id": "05MFFADjx_nW",
        "outputId": "279a3244-9101-44fb-fc8f-73a439baba62"
      },
      "outputs": [
        {
          "data": {
            "text/plain": [
              "array([[ 34.43 ,  35.995,  36.75 , ...,  47.64 ,  46.52 ,  45.765],\n",
              "       [ 35.175,  34.43 ,  35.995, ...,  49.33 ,  47.64 ,  46.52 ],\n",
              "       [ 36.52 ,  35.175,  34.43 , ...,  51.21 ,  49.33 ,  47.64 ],\n",
              "       ...,\n",
              "       [ 63.735,  64.95 ,  64.075, ..., 126.265, 143.585, 162.995],\n",
              "       [ 61.845,  63.735,  64.95 , ..., 111.915, 126.265, 143.585],\n",
              "       [ 60.765,  61.845,  63.735, ...,  95.44 , 111.915, 126.265]])"
            ]
          },
          "execution_count": 10,
          "metadata": {},
          "output_type": "execute_result"
        }
      ],
      "source": [
        "# converting to an array\n",
        "shifted_df_as_np = shifted_df.to_numpy()\n",
        "\n",
        "shifted_df_as_np"
      ]
    },
    {
      "cell_type": "code",
      "execution_count": 11,
      "metadata": {
        "colab": {
          "base_uri": "https://localhost:8080/"
        },
        "id": "b3lhn7jIx_rz",
        "outputId": "8c142f5b-02d9-4d6a-d538-2578facd2461"
      },
      "outputs": [
        {
          "data": {
            "text/plain": [
              "((9217, 24), (9217,))"
            ]
          },
          "execution_count": 11,
          "metadata": {},
          "output_type": "execute_result"
        }
      ],
      "source": [
        "X = shifted_df_as_np[:, 1:]\n",
        "y = shifted_df_as_np[:, 0]\n",
        "\n",
        "X.shape, y.shape"
      ]
    },
    {
      "cell_type": "code",
      "execution_count": 12,
      "metadata": {},
      "outputs": [
        {
          "data": {
            "text/plain": [
              "array([[ 45.765,  46.52 ,  47.64 , ...,  37.13 ,  36.75 ,  35.995],\n",
              "       [ 46.52 ,  47.64 ,  49.33 , ...,  36.75 ,  35.995,  34.43 ],\n",
              "       [ 47.64 ,  49.33 ,  51.21 , ...,  35.995,  34.43 ,  35.175],\n",
              "       ...,\n",
              "       [162.995, 143.585, 126.265, ...,  61.375,  64.075,  64.95 ],\n",
              "       [143.585, 126.265, 111.915, ...,  64.075,  64.95 ,  63.735],\n",
              "       [126.265, 111.915,  95.44 , ...,  64.95 ,  63.735,  61.845]])"
            ]
          },
          "execution_count": 12,
          "metadata": {},
          "output_type": "execute_result"
        }
      ],
      "source": [
        "X = dc(np.flip(X, axis=1))\n",
        "X"
      ]
    },
    {
      "cell_type": "code",
      "execution_count": 13,
      "metadata": {},
      "outputs": [],
      "source": [
        "# scaling the data\n",
        "from sklearn.preprocessing import StandardScaler\n",
        "\n",
        "data_scaler = StandardScaler()\n",
        "target_scaler = StandardScaler()\n",
        "X = data_scaler.fit_transform(X)\n",
        "y = target_scaler.fit_transform(y.reshape(-1, 1))\n"
      ]
    },
    {
      "cell_type": "code",
      "execution_count": 14,
      "metadata": {},
      "outputs": [
        {
          "data": {
            "text/plain": [
              "['target_scaler.pkl']"
            ]
          },
          "execution_count": 14,
          "metadata": {},
          "output_type": "execute_result"
        }
      ],
      "source": [
        "# saving the scaler\n",
        "import joblib\n",
        "\n",
        "joblib.dump(data_scaler, 'data_scaler.pkl')\n",
        "joblib.dump(target_scaler, 'target_scaler.pkl')"
      ]
    },
    {
      "cell_type": "code",
      "execution_count": 15,
      "metadata": {},
      "outputs": [],
      "source": [
        "# loading the scaler\n",
        "data_scaler = joblib.load('data_scaler.pkl')\n",
        "target_scaler = joblib.load('target_scaler.pkl')"
      ]
    },
    {
      "cell_type": "code",
      "execution_count": 16,
      "metadata": {
        "colab": {
          "base_uri": "https://localhost:8080/"
        },
        "id": "tIdSMUPUx_y_",
        "outputId": "718c893b-8c14-45ef-be68-23594e51bf44"
      },
      "outputs": [
        {
          "data": {
            "text/plain": [
              "9032"
            ]
          },
          "execution_count": 16,
          "metadata": {},
          "output_type": "execute_result"
        }
      ],
      "source": [
        "split_index = int(len(X) * 0.98)\n",
        "\n",
        "split_index"
      ]
    },
    {
      "cell_type": "code",
      "execution_count": 17,
      "metadata": {
        "colab": {
          "base_uri": "https://localhost:8080/"
        },
        "id": "8fFu_ljnx_1R",
        "outputId": "55324c42-d617-4811-cdb0-78a759b5621d"
      },
      "outputs": [
        {
          "data": {
            "text/plain": [
              "((9032, 24), (185, 24), (9032, 1), (185, 1))"
            ]
          },
          "execution_count": 17,
          "metadata": {},
          "output_type": "execute_result"
        }
      ],
      "source": [
        "X_train = X[:split_index]\n",
        "X_test = X[split_index:]\n",
        "\n",
        "y_train = y[:split_index]\n",
        "y_test = y[split_index:]\n",
        "\n",
        "X_train.shape, X_test.shape, y_train.shape, y_test.shape"
      ]
    },
    {
      "cell_type": "code",
      "execution_count": 18,
      "metadata": {
        "colab": {
          "base_uri": "https://localhost:8080/"
        },
        "id": "5esaxvZlx_4A",
        "outputId": "7199aa08-d571-4f99-c314-96451d9187e3"
      },
      "outputs": [
        {
          "data": {
            "text/plain": [
              "((9032, 24, 1), (185, 24, 1), (9032, 1), (185, 1))"
            ]
          },
          "execution_count": 18,
          "metadata": {},
          "output_type": "execute_result"
        }
      ],
      "source": [
        "X_train = X_train.reshape((-1, lookback, 1))\n",
        "X_test = X_test.reshape((-1, lookback, 1))\n",
        "\n",
        "y_train = y_train.reshape((-1, 1))\n",
        "y_test = y_test.reshape((-1, 1))\n",
        "\n",
        "X_train.shape, X_test.shape, y_train.shape, y_test.shape"
      ]
    },
    {
      "cell_type": "code",
      "execution_count": 19,
      "metadata": {
        "colab": {
          "base_uri": "https://localhost:8080/"
        },
        "id": "vUHQN5Fdx_6K",
        "outputId": "34329117-5361-440d-b5e0-a543e38730b8"
      },
      "outputs": [
        {
          "data": {
            "text/plain": [
              "(torch.Size([9032, 24, 1]),\n",
              " torch.Size([185, 24, 1]),\n",
              " torch.Size([9032, 1]),\n",
              " torch.Size([185, 1]))"
            ]
          },
          "execution_count": 19,
          "metadata": {},
          "output_type": "execute_result"
        }
      ],
      "source": [
        "X_train = torch.tensor(X_train).float()\n",
        "y_train = torch.tensor(y_train).float()\n",
        "X_test = torch.tensor(X_test).float()\n",
        "y_test = torch.tensor(y_test).float()\n",
        "\n",
        "X_train.shape, X_test.shape, y_train.shape, y_test.shape"
      ]
    },
    {
      "cell_type": "code",
      "execution_count": 20,
      "metadata": {
        "id": "9Up4g0oBx_-4"
      },
      "outputs": [],
      "source": [
        "# Creating a dataset\n",
        "from torch.utils.data import Dataset\n",
        "\n",
        "class TimeSeriesDataset(Dataset):\n",
        "  def __init__(self, X, y):\n",
        "    self.X = X\n",
        "    self.y = y\n",
        "\n",
        "  def __len__(self):\n",
        "    return len(self.X)\n",
        "\n",
        "  def __getitem__(self, i):\n",
        "    return self.X[i], self.y[i]\n",
        "\n",
        "train_dataset = TimeSeriesDataset(X_train, y_train)\n",
        "test_dataset = TimeSeriesDataset(X_test, y_test)"
      ]
    },
    {
      "cell_type": "code",
      "execution_count": 21,
      "metadata": {
        "colab": {
          "base_uri": "https://localhost:8080/"
        },
        "id": "4OmnzKKZyABl",
        "outputId": "1a895218-9b7a-47d1-88c1-9d3f0038e692"
      },
      "outputs": [
        {
          "data": {
            "text/plain": [
              "<__main__.TimeSeriesDataset at 0x1c200219870>"
            ]
          },
          "execution_count": 21,
          "metadata": {},
          "output_type": "execute_result"
        }
      ],
      "source": [
        "train_dataset"
      ]
    },
    {
      "cell_type": "code",
      "execution_count": 22,
      "metadata": {
        "id": "HDfb4NRfyADz"
      },
      "outputs": [],
      "source": [
        "# Data Loader\n",
        "from torch.utils.data import DataLoader\n",
        "\n",
        "batch_size = 16\n",
        "\n",
        "train_loader = DataLoader(train_dataset, batch_size=batch_size, shuffle=True)\n",
        "test_loader = DataLoader(test_dataset, batch_size=batch_size, shuffle=False)"
      ]
    },
    {
      "cell_type": "code",
      "execution_count": 23,
      "metadata": {
        "colab": {
          "base_uri": "https://localhost:8080/"
        },
        "id": "auHD-TnkyAHP",
        "outputId": "de9b6a68-e65b-4124-d69f-d953a553f223"
      },
      "outputs": [
        {
          "name": "stdout",
          "output_type": "stream",
          "text": [
            "torch.Size([16, 24, 1]) torch.Size([16, 1])\n"
          ]
        }
      ],
      "source": [
        "for _, batch in enumerate(train_loader):\n",
        "    x_batch, y_batch = batch[0].to(device), batch[1].to(device)\n",
        "    print(x_batch.shape, y_batch.shape)\n",
        "    break"
      ]
    },
    {
      "cell_type": "code",
      "execution_count": 24,
      "metadata": {
        "id": "rREkyGIX_chE"
      },
      "outputs": [],
      "source": [
        "# LSTM Model\n",
        "\n",
        "\n",
        "class LSTM(nn.Module):\n",
        "  def __init__(self, input_size, hidden_size, num_stacked_layers):\n",
        "    super().__init__()\n",
        "    self.hidden_size = hidden_size\n",
        "    self.num_stacked_layers = num_stacked_layers\n",
        "\n",
        "    self.lstm = nn.LSTM(input_size, hidden_size, num_stacked_layers, batch_first=True)\n",
        "    self.fc = nn.Linear(hidden_size, 1)\n",
        "\n",
        "  def forward(self, x):\n",
        "    batch_size = x.size(0)\n",
        "    h0 = torch.zeros(self.num_stacked_layers, batch_size, self.hidden_size).to(device)\n",
        "    c0 = torch.zeros(self.num_stacked_layers, batch_size, self.hidden_size).to(device)\n",
        "\n",
        "    out, _ = self.lstm(x, (h0, c0))\n",
        "    out = self.fc(out[:, -1, :])\n",
        "    return out\n",
        "\n"
      ]
    },
    {
      "cell_type": "code",
      "execution_count": 25,
      "metadata": {
        "colab": {
          "base_uri": "https://localhost:8080/"
        },
        "id": "K8WkLrjr_cja",
        "outputId": "8422f6fc-3a12-484e-a70a-c4069e31a881"
      },
      "outputs": [
        {
          "data": {
            "text/plain": [
              "LSTM(\n",
              "  (lstm): LSTM(1, 4, batch_first=True)\n",
              "  (fc): Linear(in_features=4, out_features=1, bias=True)\n",
              ")"
            ]
          },
          "execution_count": 25,
          "metadata": {},
          "output_type": "execute_result"
        }
      ],
      "source": [
        "model = LSTM(1, 4, 1)\n",
        "model.to(device)\n",
        "model"
      ]
    },
    {
      "cell_type": "code",
      "execution_count": 26,
      "metadata": {
        "id": "3tSdKe3n_clh"
      },
      "outputs": [],
      "source": [
        "def train_one_epoch():\n",
        "  model.train(True)\n",
        "  print(f'Epoch: {epoch +1 }')\n",
        "\n",
        "  running_loss = 0.0\n",
        "\n",
        "  for batch_index, batch in enumerate(train_loader):\n",
        "    x_batch, y_batch = batch[0].to(device), batch[1].to(device)\n",
        "\n",
        "    output = model(x_batch)\n",
        "    loss = loss_function(output, y_batch)\n",
        "    running_loss += loss.item()\n",
        "\n",
        "    optimizer.zero_grad()\n",
        "    loss.backward()\n",
        "    optimizer.step()\n",
        "\n",
        "    if batch_index % 100==99: # printing every 100 batch\n",
        "      avg_loss_across_batches = running_loss/100\n",
        "      print('Batch {0}, Loss: {1:.3f}'.format(batch_index+1,\n",
        "                                                  avg_loss_across_batches))\n",
        "      running_loss = 0.0\n",
        "  print()"
      ]
    },
    {
      "cell_type": "code",
      "execution_count": 27,
      "metadata": {
        "id": "4Sf7NXyB_cnw"
      },
      "outputs": [],
      "source": [
        "def validate_one_epoch():\n",
        "  model.train(False)\n",
        "  running_loss = 0.0\n",
        "\n",
        "  for batch_index, batch in enumerate(test_loader):\n",
        "    x_batch, y_batch = batch[0].to(device), batch[1].to(device)\n",
        "\n",
        "    with torch.no_grad():\n",
        "      output = model(x_batch)\n",
        "      loss = loss_function(output, y_batch)\n",
        "      running_loss += loss.item()\n",
        "\n",
        "  avg_loss_across_batches = running_loss / len(test_loader)\n",
        "\n",
        "  print('Val Loss: {0:.3f}'.format(avg_loss_across_batches))\n",
        "  print('***************************************************')\n",
        "  print()"
      ]
    },
    {
      "cell_type": "code",
      "execution_count": 26,
      "metadata": {
        "colab": {
          "base_uri": "https://localhost:8080/"
        },
        "id": "86ILvXmO_cqG",
        "outputId": "23dad2d1-97b2-4d96-bde0-0d60d909994e"
      },
      "outputs": [
        {
          "name": "stdout",
          "output_type": "stream",
          "text": [
            "Epoch: 1\n",
            "Batch 100, Loss: 0.929\n",
            "Batch 200, Loss: 0.670\n",
            "Batch 300, Loss: 0.579\n",
            "Batch 400, Loss: 0.424\n",
            "Batch 500, Loss: 0.397\n",
            "\n",
            "Val Loss: 0.067\n",
            "***************************************************\n",
            "\n",
            "Epoch: 2\n",
            "Batch 100, Loss: 0.179\n",
            "Batch 200, Loss: 0.156\n",
            "Batch 300, Loss: 0.169\n",
            "Batch 400, Loss: 0.130\n",
            "Batch 500, Loss: 0.162\n",
            "\n",
            "Val Loss: 0.027\n",
            "***************************************************\n",
            "\n",
            "Epoch: 3\n",
            "Batch 100, Loss: 0.111\n",
            "Batch 200, Loss: 0.075\n",
            "Batch 300, Loss: 0.063\n",
            "Batch 400, Loss: 0.056\n",
            "Batch 500, Loss: 0.063\n",
            "\n",
            "Val Loss: 0.018\n",
            "***************************************************\n",
            "\n",
            "Epoch: 4\n",
            "Batch 100, Loss: 0.056\n",
            "Batch 200, Loss: 0.049\n",
            "Batch 300, Loss: 0.037\n",
            "Batch 400, Loss: 0.055\n",
            "Batch 500, Loss: 0.043\n",
            "\n",
            "Val Loss: 0.013\n",
            "***************************************************\n",
            "\n",
            "Epoch: 5\n",
            "Batch 100, Loss: 0.058\n",
            "Batch 200, Loss: 0.040\n",
            "Batch 300, Loss: 0.035\n",
            "Batch 400, Loss: 0.033\n",
            "Batch 500, Loss: 0.024\n",
            "\n",
            "Val Loss: 0.010\n",
            "***************************************************\n",
            "\n",
            "Epoch: 6\n",
            "Batch 100, Loss: 0.024\n",
            "Batch 200, Loss: 0.027\n",
            "Batch 300, Loss: 0.037\n",
            "Batch 400, Loss: 0.035\n",
            "Batch 500, Loss: 0.044\n",
            "\n",
            "Val Loss: 0.009\n",
            "***************************************************\n",
            "\n",
            "Epoch: 7\n",
            "Batch 100, Loss: 0.018\n",
            "Batch 200, Loss: 0.030\n",
            "Batch 300, Loss: 0.034\n",
            "Batch 400, Loss: 0.025\n",
            "Batch 500, Loss: 0.034\n",
            "\n",
            "Val Loss: 0.009\n",
            "***************************************************\n",
            "\n",
            "Epoch: 8\n",
            "Batch 100, Loss: 0.023\n",
            "Batch 200, Loss: 0.023\n",
            "Batch 300, Loss: 0.018\n",
            "Batch 400, Loss: 0.035\n",
            "Batch 500, Loss: 0.031\n",
            "\n",
            "Val Loss: 0.008\n",
            "***************************************************\n",
            "\n",
            "Epoch: 9\n",
            "Batch 100, Loss: 0.023\n",
            "Batch 200, Loss: 0.028\n",
            "Batch 300, Loss: 0.024\n",
            "Batch 400, Loss: 0.025\n",
            "Batch 500, Loss: 0.027\n",
            "\n",
            "Val Loss: 0.009\n",
            "***************************************************\n",
            "\n",
            "Epoch: 10\n",
            "Batch 100, Loss: 0.019\n",
            "Batch 200, Loss: 0.032\n",
            "Batch 300, Loss: 0.022\n",
            "Batch 400, Loss: 0.023\n",
            "Batch 500, Loss: 0.015\n",
            "\n",
            "Val Loss: 0.008\n",
            "***************************************************\n",
            "\n"
          ]
        }
      ],
      "source": [
        "learning_rate = 0.001\n",
        "num_epochs = 10\n",
        "loss_function = nn.MSELoss()\n",
        "optimizer = torch.optim.Adam(model.parameters(), lr=learning_rate)\n",
        "\n",
        "for epoch in range(num_epochs):\n",
        "    train_one_epoch()\n",
        "    validate_one_epoch()"
      ]
    },
    {
      "cell_type": "code",
      "execution_count": 27,
      "metadata": {
        "colab": {
          "base_uri": "https://localhost:8080/",
          "height": 449
        },
        "id": "XB9NBN40_csh",
        "outputId": "5d9cd8ac-5fe6-4376-e2f6-31e826abcef7"
      },
      "outputs": [
        {
          "data": {
            "image/png": "[encoded data removed]",
            "text/plain": [
              "<Figure size 640x480 with 1 Axes>"
            ]
          },
          "metadata": {},
          "output_type": "display_data"
        }
      ],
      "source": [
        "with torch.no_grad():\n",
        "    predicted = model(X_train.to(device)).to('cpu').numpy()\n",
        "\n",
        "plt.plot(y_train, label='Actual AQI')\n",
        "plt.plot(predicted, label='Predicted AQI')\n",
        "plt.xlabel('Day')\n",
        "plt.ylabel('AQI')\n",
        "plt.legend()\n",
        "plt.show()\n"
      ]
    },
    {
      "cell_type": "code",
      "execution_count": 28,
      "metadata": {
        "colab": {
          "base_uri": "https://localhost:8080/"
        },
        "id": "W2QZIQ7TFXf3",
        "outputId": "a2e336b8-8a46-4119-f645-331ff700df3d"
      },
      "outputs": [
        {
          "data": {
            "text/plain": [
              "array([38.34424083, 36.78033918, 37.9283282 , ..., 69.23314226,\n",
              "       81.43485562, 84.65714912])"
            ]
          },
          "execution_count": 28,
          "metadata": {},
          "output_type": "execute_result"
        }
      ],
      "source": [
        "train_predictions = predicted.flatten()\n",
        "\n",
        "dummies = np.zeros((X_train.shape[0], lookback+1))\n",
        "dummies[:, 0] = train_predictions\n",
        "dummies = target_scaler.inverse_transform(dummies)\n",
        "\n",
        "train_predictions = dc(dummies[:, 0])\n",
        "train_predictions"
      ]
    },
    {
      "cell_type": "code",
      "execution_count": 29,
      "metadata": {
        "colab": {
          "base_uri": "https://localhost:8080/"
        },
        "id": "qVMNCc5zFXic",
        "outputId": "f25d189e-6d8d-4113-958b-8f8647f0865a"
      },
      "outputs": [
        {
          "data": {
            "text/plain": [
              "array([34.42999783, 35.17499933, 36.52000218, ..., 74.85000016,\n",
              "       80.87500018, 80.70999981])"
            ]
          },
          "execution_count": 29,
          "metadata": {},
          "output_type": "execute_result"
        }
      ],
      "source": [
        "dummies = np.zeros((X_train.shape[0], lookback+1))\n",
        "dummies[:, 0] = y_train.flatten()\n",
        "dummies = target_scaler.inverse_transform(dummies)\n",
        "\n",
        "new_y_train = dc(dummies[:, 0])\n",
        "new_y_train"
      ]
    },
    {
      "cell_type": "code",
      "execution_count": 30,
      "metadata": {
        "colab": {
          "base_uri": "https://localhost:8080/",
          "height": 449
        },
        "id": "itO2fWyBFXk4",
        "outputId": "ce4f681d-a25b-4827-d09a-a24275f1eac8"
      },
      "outputs": [
        {
          "data": {
            "image/png": "[encoded data removed]",
            "text/plain": [
              "<Figure size 640x480 with 1 Axes>"
            ]
          },
          "metadata": {},
          "output_type": "display_data"
        }
      ],
      "source": [
        "plt.plot(new_y_train, label='Actual AQI')\n",
        "plt.plot(train_predictions, label='Predicted AQI')\n",
        "plt.xlabel('Day')\n",
        "plt.ylabel('AQI')\n",
        "plt.legend()\n",
        "plt.show()\n"
      ]
    },
    {
      "cell_type": "code",
      "execution_count": 31,
      "metadata": {
        "colab": {
          "base_uri": "https://localhost:8080/"
        },
        "id": "QIKF4bqQFXoR",
        "outputId": "96f98118-6590-4896-bfa9-c130eaa5e098"
      },
      "outputs": [
        {
          "data": {
            "text/plain": [
              "array([ 80.26648092,  77.28549032,  78.78940303,  86.83083994,\n",
              "        96.83006295,  64.84583065,  97.89769525, 124.53060376,\n",
              "       122.71815794, 100.4028156 ,  91.97570221,  87.98875551,\n",
              "        80.88503302,  77.77569096,  72.75924728,  64.00890339,\n",
              "        59.79020887,  60.76920486,  62.100938  ,  61.04781064,\n",
              "        62.82957725,  69.45393864,  77.67768753,  76.4609153 ,\n",
              "        72.03921433,  68.8590214 ,  69.22827745,  74.3190897 ,\n",
              "        85.8047622 ,  67.16973104,  75.21066222,  75.81990986,\n",
              "        72.10835557,  70.00119234,  67.66249163,  65.19020767,\n",
              "        63.67332511,  63.73367209,  65.64537   ,  69.21070683,\n",
              "        70.97800878,  62.06762275,  63.06672246,  64.40458697,\n",
              "        69.30632036,  77.86084537,  85.36583681,  87.4738101 ,\n",
              "        88.36514095,  89.67455055,  90.51014413,  90.03661902,\n",
              "        88.25092296,  86.73984506,  84.900005  ,  79.08953573,\n",
              "        75.91675863,  77.59926868,  78.01707442,  78.15033993,\n",
              "        77.85874191,  78.72743593,  77.82049023,  76.44816027,\n",
              "        78.26952567,  66.87799428,  66.31441414,  63.28014777,\n",
              "        64.47390276,  66.03077795,  66.67897097,  60.74436611,\n",
              "        55.07668163,  56.55271227,  63.28308367,  71.02376131,\n",
              "        71.24076251,  63.50479752,  53.50581618,  43.25295145,\n",
              "        42.63177673,  49.96364876,  57.01394331,  61.13595018,\n",
              "        58.6967935 ,  55.43476248,  53.3562287 ,  51.65980894,\n",
              "        50.19040197,  49.27819762,  48.40833103,  48.10119872,\n",
              "        51.2610731 ,  57.96042067,  64.62414365,  65.7192418 ,\n",
              "        62.72917498,  58.41385548,  56.65139597,  56.41366895,\n",
              "        56.56979954,  56.37828604,  56.13557337,  56.32878755,\n",
              "        55.9731503 ,  57.11904481,  58.50556643,  59.2627143 ,\n",
              "        59.48861717,  59.78102525,  59.59007565,  58.44005477,\n",
              "        56.98957896,  55.8808844 ,  55.41319975,  55.74246764,\n",
              "        58.4775859 ,  61.38237747,  64.96877129,  64.33814442,\n",
              "        61.90067052,  62.45320076,  61.56212054,  60.59105505,\n",
              "        59.91483229,  59.99275884,  59.08968441,  56.50073438,\n",
              "        51.8790971 ,  52.11366444,  53.66737997,  53.91728021,\n",
              "        52.8631593 ,  51.70635364,  50.03846936,  47.12543401,\n",
              "        46.05788674,  53.19281208,  88.38426455, 130.24542817,\n",
              "       125.90765533,  89.12773992,  81.98929689, 103.34088662,\n",
              "       111.53323575, 115.02010896, 123.46863739, 125.93739022,\n",
              "       131.70106418, 136.2316305 , 149.04723255, 202.02304482,\n",
              "       278.07974772, 314.69475617, 294.48216875, 250.25166102,\n",
              "       217.19591621, 194.46674681, 169.22331371, 150.12363225,\n",
              "       132.95191249, 116.65500917, 103.60556928,  85.894222  ,\n",
              "       119.96783209, 124.63165945, 124.38005854, 129.24513798,\n",
              "       134.58000554, 140.35268857, 137.48191044, 132.42621258,\n",
              "       123.87356726, 112.88904234,  97.73918372,  74.95013726,\n",
              "        59.31140721,  51.15486169,  54.69815692,  60.17778294,\n",
              "        64.36640242,  66.23896251,  65.93398289,  63.54835261,\n",
              "        61.31472655])"
            ]
          },
          "execution_count": 31,
          "metadata": {},
          "output_type": "execute_result"
        }
      ],
      "source": [
        "test_predictions = model(X_test.to(device)).detach().cpu().numpy().flatten()\n",
        "\n",
        "dummies = np.zeros((X_test.shape[0], lookback+1))\n",
        "dummies[:, 0] = test_predictions\n",
        "dummies = target_scaler.inverse_transform(dummies)\n",
        "\n",
        "test_predictions = dc(dummies[:, 0])\n",
        "test_predictions"
      ]
    },
    {
      "cell_type": "code",
      "execution_count": 32,
      "metadata": {
        "colab": {
          "base_uri": "https://localhost:8080/"
        },
        "id": "thtzVtJz_cu4",
        "outputId": "351e44c9-50ba-4050-c56e-51f3c1b54e8b"
      },
      "outputs": [
        {
          "data": {
            "text/plain": [
              "array([ 78.86999975,  78.98000018,  83.81500012,  91.52500023,\n",
              "        73.88500003,  89.29500012, 108.34500043, 117.08499933,\n",
              "       108.11500029,  98.90999978,  92.12499991,  84.98000005,\n",
              "        80.33500008,  75.22500045,  67.51999998,  61.98499921,\n",
              "        60.7400003 ,  61.16500033,  60.58000069,  61.7350005 ,\n",
              "        66.59500031,  73.50499954,  75.26499979,  73.27500051,\n",
              "        70.48499979,  69.65500052,  72.57499967,  80.68499994,\n",
              "        71.61499974,  74.37500039,  75.04500004,  73.0950001 ,\n",
              "        71.07999983,  68.73499993,  66.22000002,  64.30000015,\n",
              "        63.66500077,  64.72999926,  67.45999985,  69.56500032,\n",
              "        64.28500068,  63.43500062,  63.84499894,  67.25000049,\n",
              "        73.89000023,  80.93000012,  85.00999998,  87.27999999,\n",
              "        88.93499987,  90.03000011,  90.1500001 ,  89.09500004,\n",
              "        87.72499997,  86.00500001,  81.68000014,  78.06000015,\n",
              "        77.67500003,  77.70999973,  77.88499994,  77.79999994,\n",
              "        78.34500024,  77.96499975,  76.99499998,  77.7900001 ,\n",
              "        70.50499946,  67.83500014,  64.49999912,  64.24000002,\n",
              "        65.12999942,  65.88      ,  62.06000105,  56.83000003,\n",
              "        56.27499934,  60.70999912,  67.20000075,  69.5749996 ,\n",
              "        65.36500089,  56.8549999 ,  45.99500218,  42.42500193,\n",
              "        47.19500042,  53.41500032,  58.08499933,  57.92000064,\n",
              "        55.68999969,  53.5250002 ,  51.55500059,  49.80500073,\n",
              "        48.56499867,  47.5050015 ,  46.95499988,  49.26000043,\n",
              "        54.81000068,  61.04999914,  63.81499999,  62.83000018,\n",
              "        59.56000062,  57.24499967,  56.25999986,  55.99499945,\n",
              "        55.73999943,  55.48499941,  55.55499995,  55.31000032,\n",
              "        56.08500077,  57.3049998 ,  58.21999908,  58.68999977,\n",
              "        59.06999914,  59.06000098,  58.23999987,  56.94499899,\n",
              "        55.72999904,  54.99500017,  54.99000109,  56.95499938,\n",
              "        59.57999917,  62.90000072,  63.57499945,  62.20499896,\n",
              "        62.18999948,  61.49000088,  60.58000069,  59.79999892,\n",
              "        59.58999957,  58.8550007 ,  56.75500042,  52.66499975,\n",
              "        51.66500047,  52.44999907,  52.7899991 ,  52.10999905,\n",
              "        51.0749995 ,  49.50500005,  46.76      ,  45.17000199,\n",
              "        50.29499998,  74.71999949, 105.82499921, 117.82499951,\n",
              "       101.56999983,  90.70999987,  97.71000042, 105.14000008,\n",
              "       110.9849997 , 118.17499993, 122.75000077, 127.92500073,\n",
              "       132.65500211, 141.63000023, 173.06499622, 231.54500026,\n",
              "       287.21000819, 298.69500042, 270.18499819, 237.379995  ,\n",
              "       211.03999581, 185.51500313, 162.99499842, 143.58499813,\n",
              "       126.2650022 , 111.91500068,  95.44000013, 109.05000035,\n",
              "       116.90499892, 121.29500028, 125.65499821, 130.53499881,\n",
              "       135.99499998, 137.03000176, 134.39999842, 128.11500154,\n",
              "       118.87999985, 105.88000026,  86.095     ,  68.25499997,\n",
              "        55.82000036,  54.32500052,  57.47999889,  61.37499969,\n",
              "        64.07499909,  64.94999902,  63.73499906,  61.84500038,\n",
              "        60.76500017])"
            ]
          },
          "execution_count": 32,
          "metadata": {},
          "output_type": "execute_result"
        }
      ],
      "source": [
        "dummies = np.zeros((X_test.shape[0], lookback+1))\n",
        "dummies[:, 0] = y_test.flatten()\n",
        "dummies = target_scaler.inverse_transform(dummies)\n",
        "\n",
        "new_y_test = dc(dummies[:, 0])\n",
        "new_y_test"
      ]
    },
    {
      "cell_type": "code",
      "execution_count": 33,
      "metadata": {
        "colab": {
          "base_uri": "https://localhost:8080/",
          "height": 449
        },
        "id": "1-dmKE3P_cyT",
        "outputId": "18771e0b-d805-4663-f2fe-442c1e287b5d"
      },
      "outputs": [
        {
          "data": {
            "image/png": "[encoded data removed]",
            "text/plain": [
              "<Figure size 640x480 with 1 Axes>"
            ]
          },
          "metadata": {},
          "output_type": "display_data"
        }
      ],
      "source": [
        "plt.plot(new_y_test, label='Actual AQI')\n",
        "plt.plot(test_predictions, label='Predicted AQI')\n",
        "plt.xlabel('Day')\n",
        "plt.ylabel('AQI')\n",
        "plt.legend()\n",
        "plt.show()\n"
      ]
    },
    {
      "cell_type": "code",
      "execution_count": 34,
      "metadata": {
        "id": "EdzvG4ybFqkm"
      },
      "outputs": [],
      "source": [
        "# Saving the model\n",
        "\n",
        "torch.save(model.state_dict(), \"lstm_model.pt\")  # Replace \"lstm_model.pt\" with your desired filename"
      ]
    },
    {
      "cell_type": "markdown",
      "metadata": {},
      "source": [
        "## Testing section"
      ]
    },
    {
      "cell_type": "code",
      "execution_count": 43,
      "metadata": {},
      "outputs": [],
      "source": [
        "def prepare_data(df, n_steps):\n",
        "  df = dc(df)\n",
        "  df['date'] = pd.to_datetime(df['date'])\n",
        "\n",
        "  df.set_index('date', inplace=True)\n",
        "\n",
        "  for i in range(1, n_steps+1):\n",
        "    df[f\"AQI(t-{i})\"] = df['AQI'].shift(i)\n",
        "\n",
        "  df.dropna(inplace=True)\n",
        "\n",
        "  return df\n",
        "\n",
        "device = 'cuda:0' if torch.cuda.is_available() else 'cpu'\n",
        "batch_size = 16"
      ]
    },
    {
      "cell_type": "code",
      "execution_count": 44,
      "metadata": {
        "id": "W5C2jjZHFqm_"
      },
      "outputs": [],
      "source": [
        "def model_data(df):\n",
        "    df['date'] = pd.to_datetime(df['date'])\n",
        "    shifted_df = prepare_data(df, lookback)\n",
        "    shifted_df_as_np = shifted_df.to_numpy()\n",
        "\n",
        "    # preparing the data for the model\n",
        "    X = shifted_df_as_np[:, 1:]\n",
        "    y = shifted_df_as_np[:, 0]\n",
        "    # flipping X\n",
        "    X = dc(np.flip(X, axis=1))\n",
        "    # loading the scaler\n",
        "    data_scaler = joblib.load('data_scaler.pkl')\n",
        "    target_scaler = joblib.load('target_scaler.pkl')\n",
        "    # scaling the data\n",
        "    scaled_data = data_scaler.transform(X)\n",
        "    scald_target = target_scaler.transform(y.reshape(-1, 1))\n",
        "    \n",
        "    # reshaping X and y\n",
        "    X_ = scaled_data.reshape((-1, lookback, 1))\n",
        "    y_ = scald_target.reshape((-1, 1))\n",
        "    # converting to tensor\n",
        "    X_ = torch.tensor(X_).float().to(device)\n",
        "    y_ = torch.tensor(y_).float().to(device)\n",
        "    # now using the dataset class\n",
        "    dataset = TimeSeriesDataset(X_, y_)\n",
        "    # creating a dataloader\n",
        "    dataloader = DataLoader(dataset, batch_size=batch_size, shuffle=False)\n",
        "    return dataloader, X_, y_\n",
        "\n",
        "# model loading function\n",
        "def load_model():\n",
        "    model = LSTM(1, 4, 1)\n",
        "    model.to(device)\n",
        "    # Load the state dictionaries\n",
        "    model.load_state_dict(torch.load(\"lstm_model.pt\"))\n",
        "    return model\n",
        "\n",
        "\n",
        "def predict(dataloader):\n",
        "    model = load_model()\n",
        "    model.eval()\n",
        "    predictions = []\n",
        "    y_ = []\n",
        "    with torch.no_grad():\n",
        "        for X, y in dataloader:\n",
        "            y_pred = model(X)\n",
        "            predictions.append(y_pred)\n",
        "            y_.append(y)\n",
        "    return predictions, y_"
      ]
    },
    {
      "cell_type": "code",
      "execution_count": 45,
      "metadata": {},
      "outputs": [
        {
          "name": "stderr",
          "output_type": "stream",
          "text": [
            "C:\\Users\\timmy\\AppData\\Local\\Temp\\ipykernel_22252\\1251811244.py:6: FutureWarning: 'H' is deprecated and will be removed in a future version, please use 'h' instead.\n",
            "  return pd.date_range(start=date, end=next_date,  freq='H')\n",
            "C:\\Users\\timmy\\AppData\\Local\\Temp\\ipykernel_22252\\1251811244.py:15: FutureWarning: The behavior of 'isin' with dtype=datetime64[ns] and castable values (e.g. strings) is deprecated. In a future version, these will not be considered matching by isin. Explicitly cast to the appropriate dtype before calling isin instead.\n",
            "  data_ = df[df['date'].isin(hourly_df['date'].astype(str).values.tolist())]\n"
          ]
        }
      ],
      "source": [
        "import pandas as pd\n",
        "def create_hourly_increments(date):\n",
        "    # getting the next date\n",
        "    date = pd.to_datetime(date)\n",
        "    next_date = date + pd.DateOffset(days=4)\n",
        "    return pd.date_range(start=date, end=next_date,  freq='H')\n",
        "    \n",
        "def get_date_data(date):\n",
        "    df = pd.read_csv('clean.csv')\n",
        "    df['date'] = pd.to_datetime(df['date'])\n",
        "    # convert date to datetime\n",
        "    date_dt = pd.to_datetime(date)\n",
        "    # getting the hourly increments for the selected date\n",
        "    hourly_df = pd.DataFrame({'date': create_hourly_increments(date)})\n",
        "    data_ = df[df['date'].isin(hourly_df['date'].astype(str).values.tolist())]\n",
        "    return data_\n",
        "\n",
        "d = get_date_data('2024-04-14')\n"
      ]
    },
    {
      "cell_type": "code",
      "execution_count": 46,
      "metadata": {},
      "outputs": [
        {
          "data": {
            "text/html": [
              "<div>\n",
              "<style scoped>\n",
              "    .dataframe tbody tr th:only-of-type {\n",
              "        vertical-align: middle;\n",
              "    }\n",
              "\n",
              "    .dataframe tbody tr th {\n",
              "        vertical-align: top;\n",
              "    }\n",
              "\n",
              "    .dataframe thead th {\n",
              "        text-align: right;\n",
              "    }\n",
              "</style>\n",
              "<table border=\"1\" class=\"dataframe\">\n",
              "  <thead>\n",
              "    <tr style=\"text-align: right;\">\n",
              "      <th></th>\n",
              "      <th>date</th>\n",
              "      <th>AQI</th>\n",
              "      <th>latitude</th>\n",
              "      <th>longitude</th>\n",
              "    </tr>\n",
              "  </thead>\n",
              "  <tbody>\n",
              "    <tr>\n",
              "      <th>9096</th>\n",
              "      <td>2024-04-14 00:00:00</td>\n",
              "      <td>64.285</td>\n",
              "      <td>27.889417</td>\n",
              "      <td>71.375264</td>\n",
              "    </tr>\n",
              "    <tr>\n",
              "      <th>9097</th>\n",
              "      <td>2024-04-14 01:00:00</td>\n",
              "      <td>63.435</td>\n",
              "      <td>27.889417</td>\n",
              "      <td>71.375264</td>\n",
              "    </tr>\n",
              "    <tr>\n",
              "      <th>9098</th>\n",
              "      <td>2024-04-14 02:00:00</td>\n",
              "      <td>63.845</td>\n",
              "      <td>27.889417</td>\n",
              "      <td>71.375264</td>\n",
              "    </tr>\n",
              "    <tr>\n",
              "      <th>9099</th>\n",
              "      <td>2024-04-14 03:00:00</td>\n",
              "      <td>67.250</td>\n",
              "      <td>27.889417</td>\n",
              "      <td>71.375264</td>\n",
              "    </tr>\n",
              "    <tr>\n",
              "      <th>9100</th>\n",
              "      <td>2024-04-14 04:00:00</td>\n",
              "      <td>73.890</td>\n",
              "      <td>27.889417</td>\n",
              "      <td>71.375264</td>\n",
              "    </tr>\n",
              "    <tr>\n",
              "      <th>...</th>\n",
              "      <td>...</td>\n",
              "      <td>...</td>\n",
              "      <td>...</td>\n",
              "      <td>...</td>\n",
              "    </tr>\n",
              "    <tr>\n",
              "      <th>9188</th>\n",
              "      <td>2024-04-17 20:00:00</td>\n",
              "      <td>51.075</td>\n",
              "      <td>27.889417</td>\n",
              "      <td>71.375264</td>\n",
              "    </tr>\n",
              "    <tr>\n",
              "      <th>9189</th>\n",
              "      <td>2024-04-17 21:00:00</td>\n",
              "      <td>49.505</td>\n",
              "      <td>27.889417</td>\n",
              "      <td>71.375264</td>\n",
              "    </tr>\n",
              "    <tr>\n",
              "      <th>9190</th>\n",
              "      <td>2024-04-17 22:00:00</td>\n",
              "      <td>46.760</td>\n",
              "      <td>27.889417</td>\n",
              "      <td>71.375264</td>\n",
              "    </tr>\n",
              "    <tr>\n",
              "      <th>9191</th>\n",
              "      <td>2024-04-17 23:00:00</td>\n",
              "      <td>45.170</td>\n",
              "      <td>27.889417</td>\n",
              "      <td>71.375264</td>\n",
              "    </tr>\n",
              "    <tr>\n",
              "      <th>9192</th>\n",
              "      <td>2024-04-18 00:00:00</td>\n",
              "      <td>50.295</td>\n",
              "      <td>27.889417</td>\n",
              "      <td>71.375264</td>\n",
              "    </tr>\n",
              "  </tbody>\n",
              "</table>\n",
              "<p>97 rows × 4 columns</p>\n",
              "</div>"
            ],
            "text/plain": [
              "                    date     AQI   latitude  longitude\n",
              "9096 2024-04-14 00:00:00  64.285  27.889417  71.375264\n",
              "9097 2024-04-14 01:00:00  63.435  27.889417  71.375264\n",
              "9098 2024-04-14 02:00:00  63.845  27.889417  71.375264\n",
              "9099 2024-04-14 03:00:00  67.250  27.889417  71.375264\n",
              "9100 2024-04-14 04:00:00  73.890  27.889417  71.375264\n",
              "...                  ...     ...        ...        ...\n",
              "9188 2024-04-17 20:00:00  51.075  27.889417  71.375264\n",
              "9189 2024-04-17 21:00:00  49.505  27.889417  71.375264\n",
              "9190 2024-04-17 22:00:00  46.760  27.889417  71.375264\n",
              "9191 2024-04-17 23:00:00  45.170  27.889417  71.375264\n",
              "9192 2024-04-18 00:00:00  50.295  27.889417  71.375264\n",
              "\n",
              "[97 rows x 4 columns]"
            ]
          },
          "execution_count": 46,
          "metadata": {},
          "output_type": "execute_result"
        }
      ],
      "source": [
        "d"
      ]
    },
    {
      "cell_type": "code",
      "execution_count": 47,
      "metadata": {},
      "outputs": [
        {
          "data": {
            "text/plain": [
              "97"
            ]
          },
          "execution_count": 47,
          "metadata": {},
          "output_type": "execute_result"
        }
      ],
      "source": [
        "len(d)"
      ]
    },
    {
      "cell_type": "code",
      "execution_count": 48,
      "metadata": {
        "id": "yTurIx9GFqqZ"
      },
      "outputs": [
        {
          "name": "stderr",
          "output_type": "stream",
          "text": [
            "C:\\Users\\timmy\\AppData\\Local\\Temp\\ipykernel_22252\\3864368778.py:2: SettingWithCopyWarning: \n",
            "A value is trying to be set on a copy of a slice from a DataFrame.\n",
            "Try using .loc[row_indexer,col_indexer] = value instead\n",
            "\n",
            "See the caveats in the documentation: https://pandas.pydata.org/pandas-docs/stable/user_guide/indexing.html#returning-a-view-versus-a-copy\n",
            "  df['date'] = pd.to_datetime(df['date'])\n"
          ]
        }
      ],
      "source": [
        "loader, x, y = model_data(d[['date', 'AQI']])"
      ]
    },
    {
      "cell_type": "code",
      "execution_count": 49,
      "metadata": {
        "id": "W-xVz1jPFqt-"
      },
      "outputs": [
        {
          "data": {
            "text/plain": [
              "LSTM(\n",
              "  (lstm): LSTM(1, 4, batch_first=True)\n",
              "  (fc): Linear(in_features=4, out_features=1, bias=True)\n",
              ")"
            ]
          },
          "execution_count": 49,
          "metadata": {},
          "output_type": "execute_result"
        }
      ],
      "source": [
        "model = load_model()\n",
        "model"
      ]
    },
    {
      "cell_type": "code",
      "execution_count": 50,
      "metadata": {},
      "outputs": [],
      "source": [
        "predictions, y = predict(loader)"
      ]
    },
    {
      "cell_type": "code",
      "execution_count": 51,
      "metadata": {},
      "outputs": [
        {
          "data": {
            "text/plain": [
              "[tensor([[-0.1053],\n",
              "         [-0.2570],\n",
              "         [-0.2645],\n",
              "         [-0.3049],\n",
              "         [-0.2890],\n",
              "         [-0.2683],\n",
              "         [-0.2596],\n",
              "         [-0.3387],\n",
              "         [-0.4142],\n",
              "         [-0.3945],\n",
              "         [-0.3049],\n",
              "         [-0.2018],\n",
              "         [-0.1989],\n",
              "         [-0.3019],\n",
              "         [-0.4351],\n",
              "         [-0.5716]]),\n",
              " tensor([[-0.5799],\n",
              "         [-0.4823],\n",
              "         [-0.3884],\n",
              "         [-0.3335],\n",
              "         [-0.3660],\n",
              "         [-0.4094],\n",
              "         [-0.4371],\n",
              "         [-0.4597],\n",
              "         [-0.4792],\n",
              "         [-0.4914],\n",
              "         [-0.5030],\n",
              "         [-0.5071],\n",
              "         [-0.4650],\n",
              "         [-0.3758],\n",
              "         [-0.2870],\n",
              "         [-0.2724]]),\n",
              " tensor([[-0.3122],\n",
              "         [-0.3697],\n",
              "         [-0.3932],\n",
              "         [-0.3964],\n",
              "         [-0.3943],\n",
              "         [-0.3968],\n",
              "         [-0.4001],\n",
              "         [-0.3975],\n",
              "         [-0.4022],\n",
              "         [-0.3870],\n",
              "         [-0.3685],\n",
              "         [-0.3584],\n",
              "         [-0.3554],\n",
              "         [-0.3515],\n",
              "         [-0.3541],\n",
              "         [-0.3694]]),\n",
              " tensor([[-0.3887],\n",
              "         [-0.4035],\n",
              "         [-0.4097],\n",
              "         [-0.4053],\n",
              "         [-0.3689],\n",
              "         [-0.3302],\n",
              "         [-0.2824],\n",
              "         [-0.2908],\n",
              "         [-0.3233],\n",
              "         [-0.3159],\n",
              "         [-0.3278],\n",
              "         [-0.3407],\n",
              "         [-0.3497],\n",
              "         [-0.3487],\n",
              "         [-0.3607],\n",
              "         [-0.3952]]),\n",
              " tensor([[-0.4568],\n",
              "         [-0.4536],\n",
              "         [-0.4329],\n",
              "         [-0.4296],\n",
              "         [-0.4436],\n",
              "         [-0.4591],\n",
              "         [-0.4813],\n",
              "         [-0.5201],\n",
              "         [-0.5343]])]"
            ]
          },
          "execution_count": 51,
          "metadata": {},
          "output_type": "execute_result"
        }
      ],
      "source": [
        "predictions"
      ]
    },
    {
      "cell_type": "code",
      "execution_count": 52,
      "metadata": {},
      "outputs": [
        {
          "data": {
            "text/plain": [
              "[tensor([[-0.2087],\n",
              "         [-0.2442],\n",
              "         [-0.2887],\n",
              "         [-0.2921],\n",
              "         [-0.2803],\n",
              "         [-0.2703],\n",
              "         [-0.3212],\n",
              "         [-0.3908],\n",
              "         [-0.3982],\n",
              "         [-0.3391],\n",
              "         [-0.2527],\n",
              "         [-0.2211],\n",
              "         [-0.2771],\n",
              "         [-0.3905],\n",
              "         [-0.5351],\n",
              "         [-0.5827]]),\n",
              " tensor([[-0.5191],\n",
              "         [-0.4363],\n",
              "         [-0.3741],\n",
              "         [-0.3763],\n",
              "         [-0.4060],\n",
              "         [-0.4348],\n",
              "         [-0.4611],\n",
              "         [-0.4844],\n",
              "         [-0.5009],\n",
              "         [-0.5150],\n",
              "         [-0.5223],\n",
              "         [-0.4916],\n",
              "         [-0.4177],\n",
              "         [-0.3346],\n",
              "         [-0.2978],\n",
              "         [-0.3109]]),\n",
              " tensor([[-0.3545],\n",
              "         [-0.3853],\n",
              "         [-0.3984],\n",
              "         [-0.4019],\n",
              "         [-0.4053],\n",
              "         [-0.4087],\n",
              "         [-0.4078],\n",
              "         [-0.4111],\n",
              "         [-0.4007],\n",
              "         [-0.3845],\n",
              "         [-0.3723],\n",
              "         [-0.3660],\n",
              "         [-0.3610],\n",
              "         [-0.3611],\n",
              "         [-0.3720],\n",
              "         [-0.3893]]),\n",
              " tensor([[-0.4055],\n",
              "         [-0.4153],\n",
              "         [-0.4153],\n",
              "         [-0.3891],\n",
              "         [-0.3542],\n",
              "         [-0.3100],\n",
              "         [-0.3010],\n",
              "         [-0.3192],\n",
              "         [-0.3194],\n",
              "         [-0.3288],\n",
              "         [-0.3409],\n",
              "         [-0.3513],\n",
              "         [-0.3541],\n",
              "         [-0.3638],\n",
              "         [-0.3918],\n",
              "         [-0.4463]]),\n",
              " tensor([[-0.4596],\n",
              "         [-0.4491],\n",
              "         [-0.4446],\n",
              "         [-0.4537],\n",
              "         [-0.4675],\n",
              "         [-0.4884],\n",
              "         [-0.5249],\n",
              "         [-0.5461],\n",
              "         [-0.4778]])]"
            ]
          },
          "execution_count": 52,
          "metadata": {},
          "output_type": "execute_result"
        }
      ],
      "source": [
        "y"
      ]
    },
    {
      "cell_type": "code",
      "execution_count": 53,
      "metadata": {},
      "outputs": [],
      "source": [
        "# a function for making plot\n",
        "def make_plot(predictions, y):\n",
        "    scaler = joblib.load('target_scaler.pkl')   \n",
        "    predictions = torch.cat(predictions).cpu().numpy().flatten()\n",
        "    y = torch.cat(y).cpu().numpy().flatten()\n",
        "\n",
        "    dummies = np.zeros((len(predictions), lookback+1))\n",
        "    dummies[:, 0] = predictions\n",
        "    dummies = scaler.inverse_transform(dummies)\n",
        "\n",
        "    predictions = dc(dummies[:, 0])\n",
        "\n",
        "    dummies = np.zeros((len(y), lookback+1))\n",
        "    dummies[:, 0] = y.flatten()\n",
        "    dummies = scaler.inverse_transform(dummies)\n",
        "\n",
        "    new_y = dc(dummies[:, 0])\n",
        "\n",
        "    plt.plot(new_y, label='Actual AQI')\n",
        "    plt.plot(predictions, label='Predicted AQI')\n",
        "    plt.xlabel('Hour')\n",
        "    plt.ylabel('AQI')\n",
        "    plt.legend()\n",
        "    plt.show()"
      ]
    },
    {
      "cell_type": "code",
      "execution_count": 54,
      "metadata": {},
      "outputs": [
        {
          "data": {
            "image/png": "[encoded data removed]",
            "text/plain": [
              "<Figure size 640x480 with 1 Axes>"
            ]
          },
          "metadata": {},
          "output_type": "display_data"
        }
      ],
      "source": [
        "make_plot(predictions, y)"
      ]
    },
    {
      "cell_type": "code",
      "execution_count": 49,
      "metadata": {},
      "outputs": [
        {
          "data": {
            "text/html": [
              "<style>#sk-container-id-1 {color: black;}#sk-container-id-1 pre{padding: 0;}#sk-container-id-1 div.sk-toggleable {background-color: white;}#sk-container-id-1 label.sk-toggleable__label {cursor: pointer;display: block;width: 100%;margin-bottom: 0;padding: 0.3em;box-sizing: border-box;text-align: center;}#sk-container-id-1 label.sk-toggleable__label-arrow:before {content: \"▸\";float: left;margin-right: 0.25em;color: #696969;}#sk-container-id-1 label.sk-toggleable__label-arrow:hover:before {color: black;}#sk-container-id-1 div.sk-estimator:hover label.sk-toggleable__label-arrow:before {color: black;}#sk-container-id-1 div.sk-toggleable__content {max-height: 0;max-width: 0;overflow: hidden;text-align: left;background-color: #f0f8ff;}#sk-container-id-1 div.sk-toggleable__content pre {margin: 0.2em;color: black;border-radius: 0.25em;background-color: #f0f8ff;}#sk-container-id-1 input.sk-toggleable__control:checked~div.sk-toggleable__content {max-height: 200px;max-width: 100%;overflow: auto;}#sk-container-id-1 input.sk-toggleable__control:checked~label.sk-toggleable__label-arrow:before {content: \"▾\";}#sk-container-id-1 div.sk-estimator input.sk-toggleable__control:checked~label.sk-toggleable__label {background-color: #d4ebff;}#sk-container-id-1 div.sk-label input.sk-toggleable__control:checked~label.sk-toggleable__label {background-color: #d4ebff;}#sk-container-id-1 input.sk-hidden--visually {border: 0;clip: rect(1px 1px 1px 1px);clip: rect(1px, 1px, 1px, 1px);height: 1px;margin: -1px;overflow: hidden;padding: 0;position: absolute;width: 1px;}#sk-container-id-1 div.sk-estimator {font-family: monospace;background-color: #f0f8ff;border: 1px dotted black;border-radius: 0.25em;box-sizing: border-box;margin-bottom: 0.5em;}#sk-container-id-1 div.sk-estimator:hover {background-color: #d4ebff;}#sk-container-id-1 div.sk-parallel-item::after {content: \"\";width: 100%;border-bottom: 1px solid gray;flex-grow: 1;}#sk-container-id-1 div.sk-label:hover label.sk-toggleable__label {background-color: #d4ebff;}#sk-container-id-1 div.sk-serial::before {content: \"\";position: absolute;border-left: 1px solid gray;box-sizing: border-box;top: 0;bottom: 0;left: 50%;z-index: 0;}#sk-container-id-1 div.sk-serial {display: flex;flex-direction: column;align-items: center;background-color: white;padding-right: 0.2em;padding-left: 0.2em;position: relative;}#sk-container-id-1 div.sk-item {position: relative;z-index: 1;}#sk-container-id-1 div.sk-parallel {display: flex;align-items: stretch;justify-content: center;background-color: white;position: relative;}#sk-container-id-1 div.sk-item::before, #sk-container-id-1 div.sk-parallel-item::before {content: \"\";position: absolute;border-left: 1px solid gray;box-sizing: border-box;top: 0;bottom: 0;left: 50%;z-index: -1;}#sk-container-id-1 div.sk-parallel-item {display: flex;flex-direction: column;z-index: 1;position: relative;background-color: white;}#sk-container-id-1 div.sk-parallel-item:first-child::after {align-self: flex-end;width: 50%;}#sk-container-id-1 div.sk-parallel-item:last-child::after {align-self: flex-start;width: 50%;}#sk-container-id-1 div.sk-parallel-item:only-child::after {width: 0;}#sk-container-id-1 div.sk-dashed-wrapped {border: 1px dashed gray;margin: 0 0.4em 0.5em 0.4em;box-sizing: border-box;padding-bottom: 0.4em;background-color: white;}#sk-container-id-1 div.sk-label label {font-family: monospace;font-weight: bold;display: inline-block;line-height: 1.2em;}#sk-container-id-1 div.sk-label-container {text-align: center;}#sk-container-id-1 div.sk-container {/* jupyter's `normalize.less` sets `[hidden] { display: none; }` but bootstrap.min.css set `[hidden] { display: none !important; }` so we also need the `!important` here to be able to override the default hidden behavior on the sphinx rendered scikit-learn.org. See: https://github.com/scikit-learn/scikit-learn/issues/21755 */display: inline-block !important;position: relative;}#sk-container-id-1 div.sk-text-repr-fallback {display: none;}</style><div id=\"sk-container-id-1\" class=\"sk-top-container\"><div class=\"sk-text-repr-fallback\"><pre>StandardScaler()</pre><b>In a Jupyter environment, please rerun this cell to show the HTML representation or trust the notebook. <br />On GitHub, the HTML representation is unable to render, please try loading this page with nbviewer.org.</b></div><div class=\"sk-container\" hidden><div class=\"sk-item\"><div class=\"sk-estimator sk-toggleable\"><input class=\"sk-toggleable__control sk-hidden--visually\" id=\"sk-estimator-id-1\" type=\"checkbox\" checked><label for=\"sk-estimator-id-1\" class=\"sk-toggleable__label sk-toggleable__label-arrow\">StandardScaler</label><div class=\"sk-toggleable__content\"><pre>StandardScaler()</pre></div></div></div></div></div>"
            ],
            "text/plain": [
              "StandardScaler()"
            ]
          },
          "execution_count": 49,
          "metadata": {},
          "output_type": "execute_result"
        }
      ],
      "source": [
        "data_scaler = joblib.load('data_scaler.pkl')\n",
        "data_scaler"
      ]
    },
    {
      "cell_type": "code",
      "execution_count": 62,
      "metadata": {},
      "outputs": [],
      "source": [
        "def predict_today(n=24):\n",
        "    # loading the database\n",
        "    data = pd.read_csv('clean.csv')\n",
        "    # getting today's date\n",
        "    today_date = date.today()\n",
        "    today_date = pd.to_datetime(today_date)\n",
        "    # get last date in the data\n",
        "    last_date = data['date'].iloc[-1]\n",
        "    # converting both to time and getting the total hours between them\n",
        "    last_date = pd.to_datetime(last_date)\n",
        "    hours_diff = (today_date - last_date).total_seconds() / 3600\n",
        "    aqi_data = data['AQI'].values.tolist()\n",
        "    model = load_model()\n",
        "    data_scaler = joblib.load('data_scaler.pkl')\n",
        "    target_Scaler = joblib.load('target_scaler.pkl')\n",
        "    lookback = 24\n",
        "    # ensureing we are just collecting the last 6 values\n",
        "    current_data = aqi_data[-lookback:]\n",
        "    predictions = []\n",
        "    for _ in range(int(hours_diff)):\n",
        "        # Ensure current_data has the required length\n",
        "        if len(current_data) != lookback:\n",
        "            raise ValueError(f\"Current data must have length {lookback}\")\n",
        "\n",
        "        # Prepare data for the model (scaling and reshaping)\n",
        "        current_data_np = np.array([current_data])  # Assuming data is a list\n",
        "        scaled_data = data_scaler.transform(current_data_np)\n",
        "        X = scaled_data.reshape((1, lookback, 1))\n",
        "        X_ = torch.tensor(X).float().to(device)\n",
        "\n",
        "        # Make prediction\n",
        "        with torch.no_grad():\n",
        "            y_pred = model(X_)\n",
        "\n",
        "        # Inverse scaling of the predicted value (assuming single value prediction)\n",
        "        predicted_value = target_scaler.inverse_transform(y_pred.cpu().detach().numpy())[0][0]\n",
        "\n",
        "        # Update current_data for the next iteration\n",
        "        current_data.append(predicted_value)\n",
        "        current_data = current_data[-lookback:]  # Keep only the last lookback values\n",
        "\n",
        "        # Append the prediction to the final list\n",
        "        predictions.append(predicted_value)\n",
        "\n",
        "    return predictions[-24:]\n"
      ]
    },
    {
      "cell_type": "code",
      "execution_count": 63,
      "metadata": {},
      "outputs": [
        {
          "data": {
            "text/plain": [
              "[79.09733,\n",
              " 79.140335,\n",
              " 79.18271,\n",
              " 79.22446,\n",
              " 79.26562,\n",
              " 79.3062,\n",
              " 79.3462,\n",
              " 79.38564,\n",
              " 79.42453,\n",
              " 79.46288,\n",
              " 79.50071,\n",
              " 79.53802,\n",
              " 79.57483,\n",
              " 79.61115,\n",
              " 79.64701,\n",
              " 79.68241,\n",
              " 79.717354,\n",
              " 79.75185,\n",
              " 79.7859,\n",
              " 79.81953,\n",
              " 79.85273,\n",
              " 79.88552,\n",
              " 79.9179,\n",
              " 79.94989]"
            ]
          },
          "execution_count": 63,
          "metadata": {},
          "output_type": "execute_result"
        }
      ],
      "source": [
        "pred = predict_today()\n",
        "pred"
      ]
    },
    {
      "cell_type": "code",
      "execution_count": 73,
      "metadata": {},
      "outputs": [],
      "source": [
        "# predicting for thr last seven days\n",
        "def predict_last_seven_days():\n",
        "    # getting the data\n",
        "    data = pd.read_csv('clean.csv')\n",
        "    # converting date to the right format\n",
        "    data['date'] = pd.to_datetime(data['date'])\n",
        "    # today's date\n",
        "    today_date = date.today()\n",
        "    # last seven days\n",
        "    last_seven_days = today_date - timedelta(days=7)\n",
        "    # converting to datetime\n",
        "    today_date = pd.to_datetime(today_date)\n",
        "    last_seven_days = pd.to_datetime(last_seven_days)\n",
        "    # caalculating the hours difference\n",
        "    hours_diff = (today_date - last_seven_days).days * 24\n",
        "    # the prev day before the last seven days data\n",
        "    previous_day_hrs = hours_diff + 24 \n",
        "    # getting the data\n",
        "    aqi_data = data['AQI'].values.tolist()[-previous_day_hrs:-hours_diff]\n",
        "    # loading model\n",
        "    model = load_model()\n",
        "    # loading scalers\n",
        "    data_scaler = joblib.load('data_scaler.pkl')\n",
        "    target_scaler = joblib.load('target_scaler.pkl')\n",
        "    # lookback\n",
        "    lookback = 24\n",
        "    # current data\n",
        "    current_data = aqi_data[-lookback:]\n",
        "    # predictions\n",
        "    predictions = []\n",
        "    # loop to make predictions\n",
        "    for _ in range(hours_diff):\n",
        "        if len(current_data) != lookback:\n",
        "            raise ValueError(f\"Current data must have length {lookback}\")\n",
        "\n",
        "        current_data_np = np.array([current_data])\n",
        "        scaled_data = data_scaler.transform(current_data_np)\n",
        "        X = scaled_data.reshape((1, lookback, 1))\n",
        "        X_ = torch.tensor(X).float().to(device)\n",
        "\n",
        "        with torch.no_grad():\n",
        "            y_pred = model(X_)\n",
        "\n",
        "        predicted_value = target_scaler.inverse_transform(y_pred.cpu().detach().numpy())[0][0]\n",
        "\n",
        "        current_data.append(predicted_value)\n",
        "        current_data = current_data[-lookback:]\n",
        "\n",
        "        predictions.append(predicted_value)\n",
        "\n",
        "    return predictions[-24*7:]"
      ]
    },
    {
      "cell_type": "code",
      "execution_count": 75,
      "metadata": {},
      "outputs": [
        {
          "data": {
            "text/plain": [
              "168"
            ]
          },
          "execution_count": 75,
          "metadata": {},
          "output_type": "execute_result"
        }
      ],
      "source": [
        "len(predict_last_seven_days())"
      ]
    },
    {
      "cell_type": "code",
      "execution_count": 76,
      "metadata": {},
      "outputs": [],
      "source": [
        "# next seven days prediction\n",
        "def predict_next_seven_days():\n",
        "    # loading the database\n",
        "    data = pd.read_csv('clean.csv')\n",
        "    # getting today's date\n",
        "    today_date = date.today()\n",
        "    today_date = pd.to_datetime(today_date)\n",
        "    # get last date in the data\n",
        "    last_date = data['date'].iloc[-1]\n",
        "    # converting both to time and getting the total hours between them\n",
        "    last_date = pd.to_datetime(last_date)\n",
        "    hours_diff = (today_date - last_date).total_seconds() / 3600\n",
        "    # adding 168 to the hours diff\n",
        "    hours_diff += 168\n",
        "    aqi_data = data['AQI'].values.tolist()\n",
        "    model = load_model()\n",
        "    data_scaler = joblib.load('data_scaler.pkl')\n",
        "    target_Scaler = joblib.load('target_scaler.pkl')\n",
        "    lookback = 24\n",
        "    # ensureing we are just collecting the last 6 values\n",
        "    current_data = aqi_data[-lookback:]\n",
        "    predictions = []\n",
        "    for _ in range(int(hours_diff)):\n",
        "        # Ensure current_data has the required length\n",
        "        if len(current_data) != lookback:\n",
        "            raise ValueError(f\"Current data must have length {lookback}\")\n",
        "\n",
        "        # Prepare data for the model (scaling and reshaping)\n",
        "        current_data_np = np.array([current_data])  # Assuming data is a list\n",
        "        scaled_data = data_scaler.transform(current_data_np)\n",
        "        X = scaled_data.reshape((1, lookback, 1))\n",
        "        X_ = torch.tensor(X).float().to(device)\n",
        "\n",
        "        # Make prediction\n",
        "        with torch.no_grad():\n",
        "            y_pred = model(X_)\n",
        "\n",
        "        # Inverse scaling of the predicted value (assuming single value prediction)\n",
        "        predicted_value = target_scaler.inverse_transform(y_pred.cpu().detach().numpy())[0][0]\n",
        "\n",
        "        # Update current_data for the next iteration\n",
        "        current_data.append(predicted_value)\n",
        "        current_data = current_data[-lookback:]  # Keep only the last lookback values\n",
        "\n",
        "        # Append the prediction to the final list\n",
        "        predictions.append(predicted_value)\n",
        "\n",
        "    return predictions[-168:]"
      ]
    },
    {
      "cell_type": "code",
      "execution_count": 78,
      "metadata": {},
      "outputs": [
        {
          "data": {
            "text/plain": [
              "[79.98149,\n",
              " 80.01271,\n",
              " 80.04356,\n",
              " 80.074036,\n",
              " 80.10416,\n",
              " 80.13394,\n",
              " 80.16338,\n",
              " 80.19248,\n",
              " 80.22126,\n",
              " 80.24972,\n",
              " 80.277855,\n",
              " 80.30568,\n",
              " 80.33319,\n",
              " 80.360405,\n",
              " 80.38733,\n",
              " 80.413956,\n",
              " 80.4403,\n",
              " 80.46636,\n",
              " 80.49216,\n",
              " 80.517685,\n",
              " 80.542946,\n",
              " 80.56794,\n",
              " 80.59268,\n",
              " 80.61717,\n",
              " 80.64142,\n",
              " 80.66542,\n",
              " 80.689186,\n",
              " 80.71271,\n",
              " 80.736,\n",
              " 80.75907,\n",
              " 80.78193,\n",
              " 80.804565,\n",
              " 80.82699,\n",
              " 80.84921,\n",
              " 80.87122,\n",
              " 80.89303,\n",
              " 80.914635,\n",
              " 80.93605,\n",
              " 80.957275,\n",
              " 80.97831,\n",
              " 80.99915,\n",
              " 81.0198,\n",
              " 81.04026,\n",
              " 81.06054,\n",
              " 81.08063,\n",
              " 81.10055,\n",
              " 81.1203,\n",
              " 81.139885,\n",
              " 81.1593,\n",
              " 81.17855,\n",
              " 81.19765,\n",
              " 81.21658,\n",
              " 81.23536,\n",
              " 81.25399,\n",
              " 81.27248,\n",
              " 81.29083,\n",
              " 81.30903,\n",
              " 81.32707,\n",
              " 81.34498,\n",
              " 81.36274,\n",
              " 81.38036,\n",
              " 81.39784,\n",
              " 81.415184,\n",
              " 81.432396,\n",
              " 81.44948,\n",
              " 81.46643,\n",
              " 81.48327,\n",
              " 81.49998,\n",
              " 81.51657,\n",
              " 81.533035,\n",
              " 81.54938,\n",
              " 81.5656,\n",
              " 81.5817,\n",
              " 81.597694,\n",
              " 81.61357,\n",
              " 81.62934,\n",
              " 81.645,\n",
              " 81.66054,\n",
              " 81.67597,\n",
              " 81.69131,\n",
              " 81.706535,\n",
              " 81.72167,\n",
              " 81.7367,\n",
              " 81.75163,\n",
              " 81.76646,\n",
              " 81.78118,\n",
              " 81.79581,\n",
              " 81.81033,\n",
              " 81.82477,\n",
              " 81.83911,\n",
              " 81.85336,\n",
              " 81.86752,\n",
              " 81.8816,\n",
              " 81.89559,\n",
              " 81.90949,\n",
              " 81.9233,\n",
              " 81.937035,\n",
              " 81.95068,\n",
              " 81.96425,\n",
              " 81.97773,\n",
              " 81.991135,\n",
              " 82.004456,\n",
              " 82.0177,\n",
              " 82.03086,\n",
              " 82.04395,\n",
              " 82.05698,\n",
              " 82.06992,\n",
              " 82.08279,\n",
              " 82.09557,\n",
              " 82.10829,\n",
              " 82.12095,\n",
              " 82.13352,\n",
              " 82.14603,\n",
              " 82.15846,\n",
              " 82.17083,\n",
              " 82.18314,\n",
              " 82.19539,\n",
              " 82.20756,\n",
              " 82.21966,\n",
              " 82.2317,\n",
              " 82.243675,\n",
              " 82.25559,\n",
              " 82.267456,\n",
              " 82.27925,\n",
              " 82.290985,\n",
              " 82.30265,\n",
              " 82.31426,\n",
              " 82.32582,\n",
              " 82.33733,\n",
              " 82.34879,\n",
              " 82.3602,\n",
              " 82.371544,\n",
              " 82.38283,\n",
              " 82.39406,\n",
              " 82.405235,\n",
              " 82.41635,\n",
              " 82.427414,\n",
              " 82.43843,\n",
              " 82.4494,\n",
              " 82.46033,\n",
              " 82.4712,\n",
              " 82.48202,\n",
              " 82.49279,\n",
              " 82.5035,\n",
              " 82.514175,\n",
              " 82.524796,\n",
              " 82.53537,\n",
              " 82.545906,\n",
              " 82.5564,\n",
              " 82.56684,\n",
              " 82.57724,\n",
              " 82.5876,\n",
              " 82.59792,\n",
              " 82.60819,\n",
              " 82.618416,\n",
              " 82.6286,\n",
              " 82.63874,\n",
              " 82.648834,\n",
              " 82.65889,\n",
              " 82.6689,\n",
              " 82.67886,\n",
              " 82.68879,\n",
              " 82.698685,\n",
              " 82.70855,\n",
              " 82.718376,\n",
              " 82.728165,\n",
              " 82.73791,\n",
              " 82.74761]"
            ]
          },
          "execution_count": 78,
          "metadata": {},
          "output_type": "execute_result"
        }
      ],
      "source": [
        "predict_next_seven_days()"
      ]
    },
    {
      "cell_type": "code",
      "execution_count": null,
      "metadata": {},
      "outputs": [],
      "source": []
    }
  ],
  "metadata": {
    "colab": {
      "provenance": []
    },
    "kernelspec": {
      "display_name": "Python 3",
      "name": "python3"
    },
    "language_info": {
      "codemirror_mode": {
        "name": "ipython",
        "version": 3
      },
      "file_extension": ".py",
      "mimetype": "text/x-python",
      "name": "python",
      "nbconvert_exporter": "python",
      "pygments_lexer": "ipython3",
      "version": "3.10.0"
    }
  },
  "nbformat": 4,
  "nbformat_minor": 0
}
