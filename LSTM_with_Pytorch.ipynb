{
  "cells": [
    {
      "cell_type": "code",
      "execution_count": 1,
      "metadata": {
        "id": "9pCQEoM_xyFD"
      },
      "outputs": [],
      "source": [
        "import pandas as pd\n",
        "import numpy as np\n",
        "import matplotlib.pyplot as plt\n",
        "import datetime\n",
        "from datetime import date, timedelta\n",
        "import torch\n",
        "import torch.nn as nn"
      ]
    },
    {
      "cell_type": "code",
      "execution_count": 2,
      "metadata": {
        "id": "wF-qgYf1x_W-"
      },
      "outputs": [],
      "source": [
        "data = pd.read_csv('lahore.csv')"
      ]
    },
    {
      "cell_type": "code",
      "execution_count": 3,
      "metadata": {
        "colab": {
          "base_uri": "https://localhost:8080/",
          "height": 424
        },
        "id": "91lqfytbx_ay",
        "outputId": "3d34db53-e73b-40b8-d303-ac927bec2e69"
      },
      "outputs": [
        {
          "data": {
            "text/html": [
              "<div>\n",
              "<style scoped>\n",
              "    .dataframe tbody tr th:only-of-type {\n",
              "        vertical-align: middle;\n",
              "    }\n",
              "\n",
              "    .dataframe tbody tr th {\n",
              "        vertical-align: top;\n",
              "    }\n",
              "\n",
              "    .dataframe thead th {\n",
              "        text-align: right;\n",
              "    }\n",
              "</style>\n",
              "<table border=\"1\" class=\"dataframe\">\n",
              "  <thead>\n",
              "    <tr style=\"text-align: right;\">\n",
              "      <th></th>\n",
              "      <th>date</th>\n",
              "      <th>AQI</th>\n",
              "      <th>latitude</th>\n",
              "      <th>longitude</th>\n",
              "    </tr>\n",
              "  </thead>\n",
              "  <tbody>\n",
              "    <tr>\n",
              "      <th>0</th>\n",
              "      <td>2023-09-22 00:00:00</td>\n",
              "      <td>103.220</td>\n",
              "      <td>31.742221</td>\n",
              "      <td>74.474629</td>\n",
              "    </tr>\n",
              "    <tr>\n",
              "      <th>1</th>\n",
              "      <td>2023-09-22 01:00:00</td>\n",
              "      <td>105.735</td>\n",
              "      <td>31.742221</td>\n",
              "      <td>74.474629</td>\n",
              "    </tr>\n",
              "    <tr>\n",
              "      <th>2</th>\n",
              "      <td>2023-09-22 02:00:00</td>\n",
              "      <td>109.670</td>\n",
              "      <td>31.742221</td>\n",
              "      <td>74.474629</td>\n",
              "    </tr>\n",
              "    <tr>\n",
              "      <th>3</th>\n",
              "      <td>2023-09-22 03:00:00</td>\n",
              "      <td>108.705</td>\n",
              "      <td>31.742221</td>\n",
              "      <td>74.474629</td>\n",
              "    </tr>\n",
              "    <tr>\n",
              "      <th>4</th>\n",
              "      <td>2023-09-22 04:00:00</td>\n",
              "      <td>101.325</td>\n",
              "      <td>31.742221</td>\n",
              "      <td>74.474629</td>\n",
              "    </tr>\n",
              "    <tr>\n",
              "      <th>...</th>\n",
              "      <td>...</td>\n",
              "      <td>...</td>\n",
              "      <td>...</td>\n",
              "      <td>...</td>\n",
              "    </tr>\n",
              "    <tr>\n",
              "      <th>4501</th>\n",
              "      <td>2024-04-19 20:00:00</td>\n",
              "      <td>78.665</td>\n",
              "      <td>31.742221</td>\n",
              "      <td>74.474629</td>\n",
              "    </tr>\n",
              "    <tr>\n",
              "      <th>4502</th>\n",
              "      <td>2024-04-19 21:00:00</td>\n",
              "      <td>69.900</td>\n",
              "      <td>31.742221</td>\n",
              "      <td>74.474629</td>\n",
              "    </tr>\n",
              "    <tr>\n",
              "      <th>4503</th>\n",
              "      <td>2024-04-19 22:00:00</td>\n",
              "      <td>65.780</td>\n",
              "      <td>31.742221</td>\n",
              "      <td>74.474629</td>\n",
              "    </tr>\n",
              "    <tr>\n",
              "      <th>4504</th>\n",
              "      <td>2024-04-19 23:00:00</td>\n",
              "      <td>73.635</td>\n",
              "      <td>31.742221</td>\n",
              "      <td>74.474629</td>\n",
              "    </tr>\n",
              "    <tr>\n",
              "      <th>4505</th>\n",
              "      <td>2024-04-20 00:00:00</td>\n",
              "      <td>76.665</td>\n",
              "      <td>31.742221</td>\n",
              "      <td>74.474629</td>\n",
              "    </tr>\n",
              "  </tbody>\n",
              "</table>\n",
              "<p>4506 rows × 4 columns</p>\n",
              "</div>"
            ],
            "text/plain": [
              "                     date      AQI   latitude  longitude\n",
              "0     2023-09-22 00:00:00  103.220  31.742221  74.474629\n",
              "1     2023-09-22 01:00:00  105.735  31.742221  74.474629\n",
              "2     2023-09-22 02:00:00  109.670  31.742221  74.474629\n",
              "3     2023-09-22 03:00:00  108.705  31.742221  74.474629\n",
              "4     2023-09-22 04:00:00  101.325  31.742221  74.474629\n",
              "...                   ...      ...        ...        ...\n",
              "4501  2024-04-19 20:00:00   78.665  31.742221  74.474629\n",
              "4502  2024-04-19 21:00:00   69.900  31.742221  74.474629\n",
              "4503  2024-04-19 22:00:00   65.780  31.742221  74.474629\n",
              "4504  2024-04-19 23:00:00   73.635  31.742221  74.474629\n",
              "4505  2024-04-20 00:00:00   76.665  31.742221  74.474629\n",
              "\n",
              "[4506 rows x 4 columns]"
            ]
          },
          "execution_count": 3,
          "metadata": {},
          "output_type": "execute_result"
        }
      ],
      "source": [
        "data"
      ]
    },
    {
      "cell_type": "code",
      "execution_count": 4,
      "metadata": {
        "colab": {
          "base_uri": "https://localhost:8080/",
          "height": 424
        },
        "id": "g0CJu7IBx_dY",
        "outputId": "f86e30e8-6565-4d3d-a1ba-1629e6068078"
      },
      "outputs": [
        {
          "data": {
            "text/html": [
              "<div>\n",
              "<style scoped>\n",
              "    .dataframe tbody tr th:only-of-type {\n",
              "        vertical-align: middle;\n",
              "    }\n",
              "\n",
              "    .dataframe tbody tr th {\n",
              "        vertical-align: top;\n",
              "    }\n",
              "\n",
              "    .dataframe thead th {\n",
              "        text-align: right;\n",
              "    }\n",
              "</style>\n",
              "<table border=\"1\" class=\"dataframe\">\n",
              "  <thead>\n",
              "    <tr style=\"text-align: right;\">\n",
              "      <th></th>\n",
              "      <th>date</th>\n",
              "      <th>AQI</th>\n",
              "    </tr>\n",
              "  </thead>\n",
              "  <tbody>\n",
              "    <tr>\n",
              "      <th>0</th>\n",
              "      <td>2023-09-22 00:00:00</td>\n",
              "      <td>103.220</td>\n",
              "    </tr>\n",
              "    <tr>\n",
              "      <th>1</th>\n",
              "      <td>2023-09-22 01:00:00</td>\n",
              "      <td>105.735</td>\n",
              "    </tr>\n",
              "    <tr>\n",
              "      <th>2</th>\n",
              "      <td>2023-09-22 02:00:00</td>\n",
              "      <td>109.670</td>\n",
              "    </tr>\n",
              "    <tr>\n",
              "      <th>3</th>\n",
              "      <td>2023-09-22 03:00:00</td>\n",
              "      <td>108.705</td>\n",
              "    </tr>\n",
              "    <tr>\n",
              "      <th>4</th>\n",
              "      <td>2023-09-22 04:00:00</td>\n",
              "      <td>101.325</td>\n",
              "    </tr>\n",
              "    <tr>\n",
              "      <th>...</th>\n",
              "      <td>...</td>\n",
              "      <td>...</td>\n",
              "    </tr>\n",
              "    <tr>\n",
              "      <th>4501</th>\n",
              "      <td>2024-04-19 20:00:00</td>\n",
              "      <td>78.665</td>\n",
              "    </tr>\n",
              "    <tr>\n",
              "      <th>4502</th>\n",
              "      <td>2024-04-19 21:00:00</td>\n",
              "      <td>69.900</td>\n",
              "    </tr>\n",
              "    <tr>\n",
              "      <th>4503</th>\n",
              "      <td>2024-04-19 22:00:00</td>\n",
              "      <td>65.780</td>\n",
              "    </tr>\n",
              "    <tr>\n",
              "      <th>4504</th>\n",
              "      <td>2024-04-19 23:00:00</td>\n",
              "      <td>73.635</td>\n",
              "    </tr>\n",
              "    <tr>\n",
              "      <th>4505</th>\n",
              "      <td>2024-04-20 00:00:00</td>\n",
              "      <td>76.665</td>\n",
              "    </tr>\n",
              "  </tbody>\n",
              "</table>\n",
              "<p>4506 rows × 2 columns</p>\n",
              "</div>"
            ],
            "text/plain": [
              "                     date      AQI\n",
              "0     2023-09-22 00:00:00  103.220\n",
              "1     2023-09-22 01:00:00  105.735\n",
              "2     2023-09-22 02:00:00  109.670\n",
              "3     2023-09-22 03:00:00  108.705\n",
              "4     2023-09-22 04:00:00  101.325\n",
              "...                   ...      ...\n",
              "4501  2024-04-19 20:00:00   78.665\n",
              "4502  2024-04-19 21:00:00   69.900\n",
              "4503  2024-04-19 22:00:00   65.780\n",
              "4504  2024-04-19 23:00:00   73.635\n",
              "4505  2024-04-20 00:00:00   76.665\n",
              "\n",
              "[4506 rows x 2 columns]"
            ]
          },
          "execution_count": 4,
          "metadata": {},
          "output_type": "execute_result"
        }
      ],
      "source": [
        "data = data[['date', 'AQI']]\n",
        "data"
      ]
    },
    {
      "cell_type": "code",
      "execution_count": 5,
      "metadata": {
        "colab": {
          "base_uri": "https://localhost:8080/",
          "height": 36
        },
        "id": "VNTE_G0dx_fq",
        "outputId": "503d5cdd-0591-4678-dddb-6e015fc9e230"
      },
      "outputs": [
        {
          "data": {
            "text/plain": [
              "'cpu'"
            ]
          },
          "execution_count": 5,
          "metadata": {},
          "output_type": "execute_result"
        }
      ],
      "source": [
        "device = 'cuda:0' if torch.cuda.is_available() else 'cpu'\n",
        "device"
      ]
    },
    {
      "cell_type": "code",
      "execution_count": 6,
      "metadata": {
        "colab": {
          "base_uri": "https://localhost:8080/",
          "height": 551
        },
        "id": "pE0-FGP8x_h7",
        "outputId": "28d336d1-3ef7-4742-9677-3272aba0192c"
      },
      "outputs": [
        {
          "name": "stderr",
          "output_type": "stream",
          "text": [
            "C:\\Users\\timmy\\AppData\\Local\\Temp\\ipykernel_17836\\3395756933.py:1: SettingWithCopyWarning: \n",
            "A value is trying to be set on a copy of a slice from a DataFrame.\n",
            "Try using .loc[row_indexer,col_indexer] = value instead\n",
            "\n",
            "See the caveats in the documentation: https://pandas.pydata.org/pandas-docs/stable/user_guide/indexing.html#returning-a-view-versus-a-copy\n",
            "  data['date'] = pd.to_datetime(data['date'])\n"
          ]
        },
        {
          "data": {
            "text/plain": [
              "[<matplotlib.lines.Line2D at 0x2336b208f40>]"
            ]
          },
          "execution_count": 6,
          "metadata": {},
          "output_type": "execute_result"
        },
        {
          "data": {
            "image/png": "[encoded data removed]",
            "text/plain": [
              "<Figure size 640x480 with 1 Axes>"
            ]
          },
          "metadata": {},
          "output_type": "display_data"
        }
      ],
      "source": [
        "data['date'] = pd.to_datetime(data['date'])\n",
        "\n",
        "plt.plot(data['date'], data['AQI'])"
      ]
    },
    {
      "cell_type": "code",
      "execution_count": 7,
      "metadata": {
        "colab": {
          "base_uri": "https://localhost:8080/",
          "height": 455
        },
        "id": "MLsYVQgox_ko",
        "outputId": "0702adde-3d0d-4a1a-f32c-619304cc2071"
      },
      "outputs": [
        {
          "data": {
            "text/html": [
              "<div>\n",
              "<style scoped>\n",
              "    .dataframe tbody tr th:only-of-type {\n",
              "        vertical-align: middle;\n",
              "    }\n",
              "\n",
              "    .dataframe tbody tr th {\n",
              "        vertical-align: top;\n",
              "    }\n",
              "\n",
              "    .dataframe thead th {\n",
              "        text-align: right;\n",
              "    }\n",
              "</style>\n",
              "<table border=\"1\" class=\"dataframe\">\n",
              "  <thead>\n",
              "    <tr style=\"text-align: right;\">\n",
              "      <th></th>\n",
              "      <th>AQI</th>\n",
              "      <th>AQI(t-1)</th>\n",
              "      <th>AQI(t-2)</th>\n",
              "      <th>AQI(t-3)</th>\n",
              "      <th>AQI(t-4)</th>\n",
              "      <th>AQI(t-5)</th>\n",
              "      <th>AQI(t-6)</th>\n",
              "    </tr>\n",
              "    <tr>\n",
              "      <th>date</th>\n",
              "      <th></th>\n",
              "      <th></th>\n",
              "      <th></th>\n",
              "      <th></th>\n",
              "      <th></th>\n",
              "      <th></th>\n",
              "      <th></th>\n",
              "    </tr>\n",
              "  </thead>\n",
              "  <tbody>\n",
              "    <tr>\n",
              "      <th>2023-09-22 06:00:00</th>\n",
              "      <td>82.490</td>\n",
              "      <td>91.290</td>\n",
              "      <td>101.325</td>\n",
              "      <td>108.705</td>\n",
              "      <td>109.670</td>\n",
              "      <td>105.735</td>\n",
              "      <td>103.220</td>\n",
              "    </tr>\n",
              "    <tr>\n",
              "      <th>2023-09-22 07:00:00</th>\n",
              "      <td>77.780</td>\n",
              "      <td>82.490</td>\n",
              "      <td>91.290</td>\n",
              "      <td>101.325</td>\n",
              "      <td>108.705</td>\n",
              "      <td>109.670</td>\n",
              "      <td>105.735</td>\n",
              "    </tr>\n",
              "    <tr>\n",
              "      <th>2023-09-22 08:00:00</th>\n",
              "      <td>76.005</td>\n",
              "      <td>77.780</td>\n",
              "      <td>82.490</td>\n",
              "      <td>91.290</td>\n",
              "      <td>101.325</td>\n",
              "      <td>108.705</td>\n",
              "      <td>109.670</td>\n",
              "    </tr>\n",
              "    <tr>\n",
              "      <th>2023-09-22 09:00:00</th>\n",
              "      <td>76.350</td>\n",
              "      <td>76.005</td>\n",
              "      <td>77.780</td>\n",
              "      <td>82.490</td>\n",
              "      <td>91.290</td>\n",
              "      <td>101.325</td>\n",
              "      <td>108.705</td>\n",
              "    </tr>\n",
              "    <tr>\n",
              "      <th>2023-09-22 10:00:00</th>\n",
              "      <td>76.945</td>\n",
              "      <td>76.350</td>\n",
              "      <td>76.005</td>\n",
              "      <td>77.780</td>\n",
              "      <td>82.490</td>\n",
              "      <td>91.290</td>\n",
              "      <td>101.325</td>\n",
              "    </tr>\n",
              "    <tr>\n",
              "      <th>...</th>\n",
              "      <td>...</td>\n",
              "      <td>...</td>\n",
              "      <td>...</td>\n",
              "      <td>...</td>\n",
              "      <td>...</td>\n",
              "      <td>...</td>\n",
              "      <td>...</td>\n",
              "    </tr>\n",
              "    <tr>\n",
              "      <th>2024-04-19 20:00:00</th>\n",
              "      <td>78.665</td>\n",
              "      <td>98.135</td>\n",
              "      <td>123.350</td>\n",
              "      <td>138.695</td>\n",
              "      <td>133.635</td>\n",
              "      <td>111.310</td>\n",
              "      <td>92.715</td>\n",
              "    </tr>\n",
              "    <tr>\n",
              "      <th>2024-04-19 21:00:00</th>\n",
              "      <td>69.900</td>\n",
              "      <td>78.665</td>\n",
              "      <td>98.135</td>\n",
              "      <td>123.350</td>\n",
              "      <td>138.695</td>\n",
              "      <td>133.635</td>\n",
              "      <td>111.310</td>\n",
              "    </tr>\n",
              "    <tr>\n",
              "      <th>2024-04-19 22:00:00</th>\n",
              "      <td>65.780</td>\n",
              "      <td>69.900</td>\n",
              "      <td>78.665</td>\n",
              "      <td>98.135</td>\n",
              "      <td>123.350</td>\n",
              "      <td>138.695</td>\n",
              "      <td>133.635</td>\n",
              "    </tr>\n",
              "    <tr>\n",
              "      <th>2024-04-19 23:00:00</th>\n",
              "      <td>73.635</td>\n",
              "      <td>65.780</td>\n",
              "      <td>69.900</td>\n",
              "      <td>78.665</td>\n",
              "      <td>98.135</td>\n",
              "      <td>123.350</td>\n",
              "      <td>138.695</td>\n",
              "    </tr>\n",
              "    <tr>\n",
              "      <th>2024-04-20 00:00:00</th>\n",
              "      <td>76.665</td>\n",
              "      <td>73.635</td>\n",
              "      <td>65.780</td>\n",
              "      <td>69.900</td>\n",
              "      <td>78.665</td>\n",
              "      <td>98.135</td>\n",
              "      <td>123.350</td>\n",
              "    </tr>\n",
              "  </tbody>\n",
              "</table>\n",
              "<p>4500 rows × 7 columns</p>\n",
              "</div>"
            ],
            "text/plain": [
              "                        AQI  AQI(t-1)  AQI(t-2)  AQI(t-3)  AQI(t-4)  AQI(t-5)  \\\n",
              "date                                                                            \n",
              "2023-09-22 06:00:00  82.490    91.290   101.325   108.705   109.670   105.735   \n",
              "2023-09-22 07:00:00  77.780    82.490    91.290   101.325   108.705   109.670   \n",
              "2023-09-22 08:00:00  76.005    77.780    82.490    91.290   101.325   108.705   \n",
              "2023-09-22 09:00:00  76.350    76.005    77.780    82.490    91.290   101.325   \n",
              "2023-09-22 10:00:00  76.945    76.350    76.005    77.780    82.490    91.290   \n",
              "...                     ...       ...       ...       ...       ...       ...   \n",
              "2024-04-19 20:00:00  78.665    98.135   123.350   138.695   133.635   111.310   \n",
              "2024-04-19 21:00:00  69.900    78.665    98.135   123.350   138.695   133.635   \n",
              "2024-04-19 22:00:00  65.780    69.900    78.665    98.135   123.350   138.695   \n",
              "2024-04-19 23:00:00  73.635    65.780    69.900    78.665    98.135   123.350   \n",
              "2024-04-20 00:00:00  76.665    73.635    65.780    69.900    78.665    98.135   \n",
              "\n",
              "                     AQI(t-6)  \n",
              "date                           \n",
              "2023-09-22 06:00:00   103.220  \n",
              "2023-09-22 07:00:00   105.735  \n",
              "2023-09-22 08:00:00   109.670  \n",
              "2023-09-22 09:00:00   108.705  \n",
              "2023-09-22 10:00:00   101.325  \n",
              "...                       ...  \n",
              "2024-04-19 20:00:00    92.715  \n",
              "2024-04-19 21:00:00   111.310  \n",
              "2024-04-19 22:00:00   133.635  \n",
              "2024-04-19 23:00:00   138.695  \n",
              "2024-04-20 00:00:00   123.350  \n",
              "\n",
              "[4500 rows x 7 columns]"
            ]
          },
          "execution_count": 7,
          "metadata": {},
          "output_type": "execute_result"
        }
      ],
      "source": [
        "from copy import deepcopy as dc\n",
        "\n",
        "def prepare_data(df, n_steps):\n",
        "  df = dc(df)\n",
        "  df['date'] = pd.to_datetime(df['date'])\n",
        "\n",
        "  df.set_index('date', inplace=True)\n",
        "\n",
        "  for i in range(1, n_steps+1):\n",
        "    df[f\"AQI(t-{i})\"] = df['AQI'].shift(i)\n",
        "\n",
        "  df.dropna(inplace=True)\n",
        "\n",
        "  return df\n",
        "\n",
        "lookback = 6\n",
        "shifted_df = prepare_data(data, lookback)\n",
        "shifted_df"
      ]
    },
    {
      "cell_type": "code",
      "execution_count": 8,
      "metadata": {
        "colab": {
          "base_uri": "https://localhost:8080/"
        },
        "id": "05MFFADjx_nW",
        "outputId": "279a3244-9101-44fb-fc8f-73a439baba62"
      },
      "outputs": [
        {
          "data": {
            "text/plain": [
              "array([[ 82.49 ,  91.29 , 101.325, ..., 109.67 , 105.735, 103.22 ],\n",
              "       [ 77.78 ,  82.49 ,  91.29 , ..., 108.705, 109.67 , 105.735],\n",
              "       [ 76.005,  77.78 ,  82.49 , ..., 101.325, 108.705, 109.67 ],\n",
              "       ...,\n",
              "       [ 65.78 ,  69.9  ,  78.665, ..., 123.35 , 138.695, 133.635],\n",
              "       [ 73.635,  65.78 ,  69.9  , ...,  98.135, 123.35 , 138.695],\n",
              "       [ 76.665,  73.635,  65.78 , ...,  78.665,  98.135, 123.35 ]])"
            ]
          },
          "execution_count": 8,
          "metadata": {},
          "output_type": "execute_result"
        }
      ],
      "source": [
        "# converting to an array\n",
        "shifted_df_as_np = shifted_df.to_numpy()\n",
        "\n",
        "shifted_df_as_np"
      ]
    },
    {
      "cell_type": "code",
      "execution_count": 9,
      "metadata": {
        "colab": {
          "base_uri": "https://localhost:8080/"
        },
        "id": "b3lhn7jIx_rz",
        "outputId": "8c142f5b-02d9-4d6a-d538-2578facd2461"
      },
      "outputs": [
        {
          "data": {
            "text/plain": [
              "((4500, 6), (4500,))"
            ]
          },
          "execution_count": 9,
          "metadata": {},
          "output_type": "execute_result"
        }
      ],
      "source": [
        "X = shifted_df_as_np[:, 1:]\n",
        "y = shifted_df_as_np[:, 0]\n",
        "\n",
        "X.shape, y.shape"
      ]
    },
    {
      "cell_type": "code",
      "execution_count": 10,
      "metadata": {},
      "outputs": [
        {
          "data": {
            "text/plain": [
              "array([[103.22 , 105.735, 109.67 , 108.705, 101.325,  91.29 ],\n",
              "       [105.735, 109.67 , 108.705, 101.325,  91.29 ,  82.49 ],\n",
              "       [109.67 , 108.705, 101.325,  91.29 ,  82.49 ,  77.78 ],\n",
              "       ...,\n",
              "       [133.635, 138.695, 123.35 ,  98.135,  78.665,  69.9  ],\n",
              "       [138.695, 123.35 ,  98.135,  78.665,  69.9  ,  65.78 ],\n",
              "       [123.35 ,  98.135,  78.665,  69.9  ,  65.78 ,  73.635]])"
            ]
          },
          "execution_count": 10,
          "metadata": {},
          "output_type": "execute_result"
        }
      ],
      "source": [
        "X = dc(np.flip(X, axis=1))\n",
        "X"
      ]
    },
    {
      "cell_type": "code",
      "execution_count": 11,
      "metadata": {},
      "outputs": [],
      "source": [
        "# scaling the data\n",
        "from sklearn.preprocessing import StandardScaler\n",
        "\n",
        "data_scaler = StandardScaler()\n",
        "target_scaler = StandardScaler()\n",
        "X = data_scaler.fit_transform(X)\n",
        "y = target_scaler.fit_transform(y.reshape(-1, 1))\n"
      ]
    },
    {
      "cell_type": "code",
      "execution_count": 12,
      "metadata": {},
      "outputs": [
        {
          "data": {
            "text/plain": [
              "array([[-0.97649846],\n",
              "       [-1.00863975],\n",
              "       [-1.02075245],\n",
              "       ...,\n",
              "       [-1.09052839],\n",
              "       [-1.03692545],\n",
              "       [-1.01624857]])"
            ]
          },
          "execution_count": 12,
          "metadata": {},
          "output_type": "execute_result"
        }
      ],
      "source": [
        "y"
      ]
    },
    {
      "cell_type": "code",
      "execution_count": 13,
      "metadata": {},
      "outputs": [
        {
          "data": {
            "text/plain": [
              "['target_scaler.pkl']"
            ]
          },
          "execution_count": 13,
          "metadata": {},
          "output_type": "execute_result"
        }
      ],
      "source": [
        "# saving the scaler\n",
        "import joblib\n",
        "\n",
        "joblib.dump(data_scaler, 'data_scaler.pkl')\n",
        "joblib.dump(target_scaler, 'target_scaler.pkl')"
      ]
    },
    {
      "cell_type": "code",
      "execution_count": 14,
      "metadata": {},
      "outputs": [],
      "source": [
        "# loading the scaler\n",
        "data_scaler = joblib.load('data_scaler.pkl')\n",
        "target_scaler = joblib.load('target_scaler.pkl')"
      ]
    },
    {
      "cell_type": "code",
      "execution_count": 15,
      "metadata": {
        "colab": {
          "base_uri": "https://localhost:8080/"
        },
        "id": "tIdSMUPUx_y_",
        "outputId": "718c893b-8c14-45ef-be68-23594e51bf44"
      },
      "outputs": [
        {
          "data": {
            "text/plain": [
              "4410"
            ]
          },
          "execution_count": 15,
          "metadata": {},
          "output_type": "execute_result"
        }
      ],
      "source": [
        "split_index = int(len(X) * 0.98)\n",
        "\n",
        "split_index"
      ]
    },
    {
      "cell_type": "code",
      "execution_count": 16,
      "metadata": {
        "colab": {
          "base_uri": "https://localhost:8080/"
        },
        "id": "8fFu_ljnx_1R",
        "outputId": "55324c42-d617-4811-cdb0-78a759b5621d"
      },
      "outputs": [
        {
          "data": {
            "text/plain": [
              "((4410, 6), (90, 6), (4410, 1), (90, 1))"
            ]
          },
          "execution_count": 16,
          "metadata": {},
          "output_type": "execute_result"
        }
      ],
      "source": [
        "X_train = X[:split_index]\n",
        "X_test = X[split_index:]\n",
        "\n",
        "y_train = y[:split_index]\n",
        "y_test = y[split_index:]\n",
        "\n",
        "X_train.shape, X_test.shape, y_train.shape, y_test.shape"
      ]
    },
    {
      "cell_type": "code",
      "execution_count": 17,
      "metadata": {
        "colab": {
          "base_uri": "https://localhost:8080/"
        },
        "id": "5esaxvZlx_4A",
        "outputId": "7199aa08-d571-4f99-c314-96451d9187e3"
      },
      "outputs": [
        {
          "data": {
            "text/plain": [
              "((4410, 6, 1), (90, 6, 1), (4410, 1), (90, 1))"
            ]
          },
          "execution_count": 17,
          "metadata": {},
          "output_type": "execute_result"
        }
      ],
      "source": [
        "X_train = X_train.reshape((-1, lookback, 1))\n",
        "X_test = X_test.reshape((-1, lookback, 1))\n",
        "\n",
        "y_train = y_train.reshape((-1, 1))\n",
        "y_test = y_test.reshape((-1, 1))\n",
        "\n",
        "X_train.shape, X_test.shape, y_train.shape, y_test.shape"
      ]
    },
    {
      "cell_type": "code",
      "execution_count": 18,
      "metadata": {
        "colab": {
          "base_uri": "https://localhost:8080/"
        },
        "id": "vUHQN5Fdx_6K",
        "outputId": "34329117-5361-440d-b5e0-a543e38730b8"
      },
      "outputs": [
        {
          "data": {
            "text/plain": [
              "(torch.Size([4410, 6, 1]),\n",
              " torch.Size([90, 6, 1]),\n",
              " torch.Size([4410, 1]),\n",
              " torch.Size([90, 1]))"
            ]
          },
          "execution_count": 18,
          "metadata": {},
          "output_type": "execute_result"
        }
      ],
      "source": [
        "X_train = torch.tensor(X_train).float()\n",
        "y_train = torch.tensor(y_train).float()\n",
        "X_test = torch.tensor(X_test).float()\n",
        "y_test = torch.tensor(y_test).float()\n",
        "\n",
        "X_train.shape, X_test.shape, y_train.shape, y_test.shape"
      ]
    },
    {
      "cell_type": "code",
      "execution_count": 19,
      "metadata": {
        "id": "9Up4g0oBx_-4"
      },
      "outputs": [],
      "source": [
        "# Creating a dataset\n",
        "from torch.utils.data import Dataset\n",
        "\n",
        "class TimeSeriesDataset(Dataset):\n",
        "  def __init__(self, X, y):\n",
        "    self.X = X\n",
        "    self.y = y\n",
        "\n",
        "  def __len__(self):\n",
        "    return len(self.X)\n",
        "\n",
        "  def __getitem__(self, i):\n",
        "    return self.X[i], self.y[i]\n",
        "\n",
        "train_dataset = TimeSeriesDataset(X_train, y_train)\n",
        "test_dataset = TimeSeriesDataset(X_test, y_test)"
      ]
    },
    {
      "cell_type": "code",
      "execution_count": 20,
      "metadata": {
        "colab": {
          "base_uri": "https://localhost:8080/"
        },
        "id": "4OmnzKKZyABl",
        "outputId": "1a895218-9b7a-47d1-88c1-9d3f0038e692"
      },
      "outputs": [
        {
          "data": {
            "text/plain": [
              "<__main__.TimeSeriesDataset at 0x2336b298d60>"
            ]
          },
          "execution_count": 20,
          "metadata": {},
          "output_type": "execute_result"
        }
      ],
      "source": [
        "train_dataset"
      ]
    },
    {
      "cell_type": "code",
      "execution_count": 21,
      "metadata": {
        "id": "HDfb4NRfyADz"
      },
      "outputs": [],
      "source": [
        "# Data Loader\n",
        "from torch.utils.data import DataLoader\n",
        "\n",
        "batch_size = 16\n",
        "\n",
        "train_loader = DataLoader(train_dataset, batch_size=batch_size, shuffle=True)\n",
        "test_loader = DataLoader(test_dataset, batch_size=batch_size, shuffle=False)"
      ]
    },
    {
      "cell_type": "code",
      "execution_count": 22,
      "metadata": {
        "colab": {
          "base_uri": "https://localhost:8080/"
        },
        "id": "auHD-TnkyAHP",
        "outputId": "de9b6a68-e65b-4124-d69f-d953a553f223"
      },
      "outputs": [
        {
          "name": "stdout",
          "output_type": "stream",
          "text": [
            "torch.Size([16, 6, 1]) torch.Size([16, 1])\n"
          ]
        }
      ],
      "source": [
        "for _, batch in enumerate(train_loader):\n",
        "    x_batch, y_batch = batch[0].to(device), batch[1].to(device)\n",
        "    print(x_batch.shape, y_batch.shape)\n",
        "    break"
      ]
    },
    {
      "cell_type": "code",
      "execution_count": 23,
      "metadata": {
        "id": "rREkyGIX_chE"
      },
      "outputs": [],
      "source": [
        "# LSTM Model\n",
        "\n",
        "\n",
        "class LSTM(nn.Module):\n",
        "  def __init__(self, input_size, hidden_size, num_stacked_layers):\n",
        "    super().__init__()\n",
        "    self.hidden_size = hidden_size\n",
        "    self.num_stacked_layers = num_stacked_layers\n",
        "\n",
        "    self.lstm = nn.LSTM(input_size, hidden_size, num_stacked_layers, batch_first=True)\n",
        "    self.fc = nn.Linear(hidden_size, 1)\n",
        "\n",
        "  def forward(self, x):\n",
        "    batch_size = x.size(0)\n",
        "    h0 = torch.zeros(self.num_stacked_layers, batch_size, self.hidden_size).to(device)\n",
        "    c0 = torch.zeros(self.num_stacked_layers, batch_size, self.hidden_size).to(device)\n",
        "\n",
        "    out, _ = self.lstm(x, (h0, c0))\n",
        "    out = self.fc(out[:, -1, :])\n",
        "    return out\n",
        "\n"
      ]
    },
    {
      "cell_type": "code",
      "execution_count": 24,
      "metadata": {
        "colab": {
          "base_uri": "https://localhost:8080/"
        },
        "id": "K8WkLrjr_cja",
        "outputId": "8422f6fc-3a12-484e-a70a-c4069e31a881"
      },
      "outputs": [
        {
          "data": {
            "text/plain": [
              "LSTM(\n",
              "  (lstm): LSTM(1, 12, batch_first=True)\n",
              "  (fc): Linear(in_features=12, out_features=1, bias=True)\n",
              ")"
            ]
          },
          "execution_count": 24,
          "metadata": {},
          "output_type": "execute_result"
        }
      ],
      "source": [
        "model = LSTM(1, 12, 1)\n",
        "model.to(device)\n",
        "model"
      ]
    },
    {
      "cell_type": "code",
      "execution_count": 25,
      "metadata": {
        "id": "3tSdKe3n_clh"
      },
      "outputs": [],
      "source": [
        "def train_one_epoch():\n",
        "  model.train(True)\n",
        "  print(f'Epoch: {epoch +1 }')\n",
        "\n",
        "  running_loss = 0.0\n",
        "\n",
        "  for batch_index, batch in enumerate(train_loader):\n",
        "    x_batch, y_batch = batch[0].to(device), batch[1].to(device)\n",
        "\n",
        "    output = model(x_batch)\n",
        "    loss = loss_function(output, y_batch)\n",
        "    running_loss += loss.item()\n",
        "\n",
        "    optimizer.zero_grad()\n",
        "    loss.backward()\n",
        "    optimizer.step()\n",
        "\n",
        "    if batch_index % 100==99: # printing every 100 batch\n",
        "      avg_loss_across_batches = running_loss/100\n",
        "      print('Batch {0}, Loss: {1:.3f}'.format(batch_index+1,\n",
        "                                                  avg_loss_across_batches))\n",
        "      running_loss = 0.0\n",
        "  print()"
      ]
    },
    {
      "cell_type": "code",
      "execution_count": 28,
      "metadata": {
        "id": "4Sf7NXyB_cnw"
      },
      "outputs": [],
      "source": [
        "def validate_one_epoch():\n",
        "  model.train(False)\n",
        "  running_loss = 0.0\n",
        "\n",
        "  for batch_index, batch in enumerate(test_loader):\n",
        "    x_batch, y_batch = batch[0].to(device), batch[1].to(device)\n",
        "\n",
        "    with torch.no_grad():\n",
        "      output = model(x_batch)\n",
        "      loss = loss_function(output, y_batch)\n",
        "      running_loss += loss.item()\n",
        "\n",
        "  avg_loss_across_batches = running_loss / len(test_loader)\n",
        "\n",
        "  print('Val Loss: {0:.3f}'.format(avg_loss_across_batches))\n",
        "  print('***************************************************')\n",
        "  print()"
      ]
    },
    {
      "cell_type": "code",
      "execution_count": 29,
      "metadata": {
        "colab": {
          "base_uri": "https://localhost:8080/"
        },
        "id": "86ILvXmO_cqG",
        "outputId": "23dad2d1-97b2-4d96-bde0-0d60d909994e"
      },
      "outputs": [
        {
          "name": "stdout",
          "output_type": "stream",
          "text": [
            "Epoch: 1\n",
            "Batch 100, Loss: 0.105\n",
            "Batch 200, Loss: 0.102\n",
            "\n",
            "Val Loss: 0.018\n",
            "***************************************************\n",
            "\n",
            "Epoch: 2\n",
            "Batch 100, Loss: 0.096\n",
            "Batch 200, Loss: 0.096\n",
            "\n",
            "Val Loss: 0.019\n",
            "***************************************************\n",
            "\n",
            "Epoch: 3\n",
            "Batch 100, Loss: 0.087\n",
            "Batch 200, Loss: 0.080\n",
            "\n",
            "Val Loss: 0.018\n",
            "***************************************************\n",
            "\n",
            "Epoch: 4\n",
            "Batch 100, Loss: 0.074\n",
            "Batch 200, Loss: 0.075\n",
            "\n",
            "Val Loss: 0.016\n",
            "***************************************************\n",
            "\n",
            "Epoch: 5\n",
            "Batch 100, Loss: 0.070\n",
            "Batch 200, Loss: 0.063\n",
            "\n",
            "Val Loss: 0.017\n",
            "***************************************************\n",
            "\n",
            "Epoch: 6\n",
            "Batch 100, Loss: 0.065\n",
            "Batch 200, Loss: 0.064\n",
            "\n",
            "Val Loss: 0.014\n",
            "***************************************************\n",
            "\n",
            "Epoch: 7\n",
            "Batch 100, Loss: 0.059\n",
            "Batch 200, Loss: 0.056\n",
            "\n",
            "Val Loss: 0.015\n",
            "***************************************************\n",
            "\n",
            "Epoch: 8\n",
            "Batch 100, Loss: 0.052\n",
            "Batch 200, Loss: 0.048\n",
            "\n",
            "Val Loss: 0.013\n",
            "***************************************************\n",
            "\n",
            "Epoch: 9\n",
            "Batch 100, Loss: 0.050\n",
            "Batch 200, Loss: 0.050\n",
            "\n",
            "Val Loss: 0.011\n",
            "***************************************************\n",
            "\n",
            "Epoch: 10\n",
            "Batch 100, Loss: 0.046\n",
            "Batch 200, Loss: 0.044\n",
            "\n",
            "Val Loss: 0.011\n",
            "***************************************************\n",
            "\n"
          ]
        }
      ],
      "source": [
        "learning_rate = 0.0001\n",
        "num_epochs = 10\n",
        "loss_function = nn.MSELoss()\n",
        "optimizer = torch.optim.Adam(model.parameters(), lr=learning_rate)\n",
        "\n",
        "for epoch in range(num_epochs):\n",
        "    train_one_epoch()\n",
        "    validate_one_epoch()"
      ]
    },
    {
      "cell_type": "code",
      "execution_count": 30,
      "metadata": {
        "colab": {
          "base_uri": "https://localhost:8080/",
          "height": 449
        },
        "id": "XB9NBN40_csh",
        "outputId": "5d9cd8ac-5fe6-4376-e2f6-31e826abcef7"
      },
      "outputs": [
        {
          "data": {
            "image/png": "[encoded data removed]",
            "text/plain": [
              "<Figure size 640x480 with 1 Axes>"
            ]
          },
          "metadata": {},
          "output_type": "display_data"
        }
      ],
      "source": [
        "with torch.no_grad():\n",
        "    predicted = model(X_train.to(device)).to('cpu').numpy()\n",
        "\n",
        "plt.plot(y_train, label='Actual AQI')\n",
        "plt.plot(predicted, label='Predicted AQI')\n",
        "plt.xlabel('Day')\n",
        "plt.ylabel('AQI')\n",
        "plt.legend()\n",
        "plt.show()\n"
      ]
    },
    {
      "cell_type": "code",
      "execution_count": 31,
      "metadata": {
        "colab": {
          "base_uri": "https://localhost:8080/"
        },
        "id": "W2QZIQ7TFXf3",
        "outputId": "a2e336b8-8a46-4119-f645-331ff700df3d"
      },
      "outputs": [
        {
          "data": {
            "text/plain": [
              "array([ 98.74549143,  89.34808516,  84.05795203, ..., 161.66209834,\n",
              "       127.24036915,  97.22827503])"
            ]
          },
          "execution_count": 31,
          "metadata": {},
          "output_type": "execute_result"
        }
      ],
      "source": [
        "train_predictions = predicted.flatten()\n",
        "\n",
        "dummies = np.zeros((X_train.shape[0], lookback+1))\n",
        "dummies[:, 0] = train_predictions\n",
        "dummies = target_scaler.inverse_transform(dummies)\n",
        "\n",
        "train_predictions = dc(dummies[:, 0])\n",
        "train_predictions"
      ]
    },
    {
      "cell_type": "code",
      "execution_count": 32,
      "metadata": {
        "colab": {
          "base_uri": "https://localhost:8080/"
        },
        "id": "qVMNCc5zFXic",
        "outputId": "f25d189e-6d8d-4113-958b-8f8647f0865a"
      },
      "outputs": [
        {
          "data": {
            "text/plain": [
              "array([ 82.48999696,  77.77999139,  76.00500263, ..., 122.07499951,\n",
              "        93.36000383,  78.8149939 ])"
            ]
          },
          "execution_count": 32,
          "metadata": {},
          "output_type": "execute_result"
        }
      ],
      "source": [
        "dummies = np.zeros((X_train.shape[0], lookback+1))\n",
        "dummies[:, 0] = y_train.flatten()\n",
        "dummies = target_scaler.inverse_transform(dummies)\n",
        "\n",
        "new_y_train = dc(dummies[:, 0])\n",
        "new_y_train"
      ]
    },
    {
      "cell_type": "code",
      "execution_count": 33,
      "metadata": {
        "colab": {
          "base_uri": "https://localhost:8080/",
          "height": 449
        },
        "id": "itO2fWyBFXk4",
        "outputId": "ce4f681d-a25b-4827-d09a-a24275f1eac8"
      },
      "outputs": [
        {
          "data": {
            "image/png": "[encoded data removed]",
            "text/plain": [
              "<Figure size 640x480 with 1 Axes>"
            ]
          },
          "metadata": {},
          "output_type": "display_data"
        }
      ],
      "source": [
        "plt.plot(new_y_train, label='Actual AQI')\n",
        "plt.plot(train_predictions, label='Predicted AQI')\n",
        "plt.xlabel('Day')\n",
        "plt.ylabel('AQI')\n",
        "plt.legend()\n",
        "plt.show()\n"
      ]
    },
    {
      "cell_type": "code",
      "execution_count": 34,
      "metadata": {
        "colab": {
          "base_uri": "https://localhost:8080/"
        },
        "id": "QIKF4bqQFXoR",
        "outputId": "96f98118-6590-4896-bfa9-c130eaa5e098"
      },
      "outputs": [
        {
          "data": {
            "text/plain": [
              "array([ 82.29033518,  77.28773283,  75.08810794,  70.88377712,\n",
              "        67.25690112,  71.76190813,  91.21513549, 122.05028963,\n",
              "       147.1225562 , 154.97829821, 151.32986548, 145.89991058,\n",
              "       139.9387238 , 131.96464687, 125.41464171, 122.56844597,\n",
              "       122.17488718, 132.11990249, 148.26178741, 170.28305184,\n",
              "       180.89712059, 168.19964812, 140.74331911, 117.82862958,\n",
              "       100.80108452,  88.54307934,  84.71904835,  91.39618406,\n",
              "       108.62230782, 123.21648422, 148.51255471, 181.88112239,\n",
              "       203.3222003 , 206.31533642, 199.13528169, 192.03249666,\n",
              "       183.60914579, 170.64549837, 156.3292448 , 140.83780886,\n",
              "       124.18732314,  75.10285177,  74.98895398,  99.86892194,\n",
              "       122.63481065, 127.16100754, 119.88233602, 111.70050043,\n",
              "       105.70300437,  99.40146934,  95.34869944,  97.49953345,\n",
              "       103.20064195, 103.20846806, 109.40790561, 122.39353774,\n",
              "       131.2700363 , 126.6423446 , 114.55572764, 102.59942932,\n",
              "        94.32720047,  88.6537279 ,  84.79157958,  82.0829259 ,\n",
              "        80.68070784,  82.22597943,  88.41412328,  97.77783187,\n",
              "       105.60023432, 108.21564729, 106.2594964 ,  99.9544501 ,\n",
              "        91.18266064,  81.75225546,  76.65235085,  76.76928825,\n",
              "        79.10844666,  86.29831459,  89.687263  ,  92.06980564,\n",
              "        98.58206906, 116.00191515, 140.54320314, 150.21162326,\n",
              "       134.74951774, 106.52872842,  84.81219299,  75.15450756,\n",
              "        71.67517461,  77.82703537])"
            ]
          },
          "execution_count": 34,
          "metadata": {},
          "output_type": "execute_result"
        }
      ],
      "source": [
        "test_predictions = model(X_test.to(device)).detach().cpu().numpy().flatten()\n",
        "\n",
        "dummies = np.zeros((X_test.shape[0], lookback+1))\n",
        "dummies[:, 0] = test_predictions\n",
        "dummies = target_scaler.inverse_transform(dummies)\n",
        "\n",
        "test_predictions = dc(dummies[:, 0])\n",
        "test_predictions"
      ]
    },
    {
      "cell_type": "code",
      "execution_count": 35,
      "metadata": {
        "colab": {
          "base_uri": "https://localhost:8080/"
        },
        "id": "thtzVtJz_cu4",
        "outputId": "351e44c9-50ba-4050-c56e-51f3c1b54e8b"
      },
      "outputs": [
        {
          "data": {
            "text/plain": [
              "array([ 72.85499501,  69.13499184,  63.18500268,  59.52500548,\n",
              "        66.53999139,  88.92999991, 117.95999636, 137.10999705,\n",
              "       142.39999917, 141.17500397, 138.67499986, 133.74000249,\n",
              "       126.08000046, 120.23000379, 117.60000422, 116.75500315,\n",
              "       127.44500085, 141.58500108, 161.47000064, 168.85000101,\n",
              "       157.41999958, 134.52499759, 114.82500333,  96.94499795,\n",
              "        83.54999758,  80.15000003,  87.66999687, 104.85499863,\n",
              "       115.90000108, 141.5349961 , 171.0199985 , 187.56500211,\n",
              "       191.96500086, 189.87500042, 186.50000099, 179.11500012,\n",
              "       166.87000059, 153.53999796, 137.90999801, 120.67000388,\n",
              "        61.69000683,  77.51000821, 100.65500012, 116.60000083,\n",
              "       116.66500293, 110.57000372, 104.73500417,  99.52500127,\n",
              "        92.84999678,  89.22499869,  92.30000321,  97.58000433,\n",
              "        95.58500242, 103.87499723, 116.68000005, 123.12499914,\n",
              "       117.18500225, 106.65999912,  96.09999687,  88.40499573,\n",
              "        82.4700037 ,  78.33499856,  75.36499138,  73.93999375,\n",
              "        76.00999876,  82.92999705,  92.12000278,  98.71499931,\n",
              "       100.31999737,  98.40500342,  92.13000377,  83.52499946,\n",
              "        74.04999596,  69.93500154,  70.77499775,  72.87999313,\n",
              "        80.97499912,  82.42999973,  85.07499642,  92.71499645,\n",
              "       111.30999871, 133.63499641, 138.69500185, 123.34999968,\n",
              "        98.13500276,  78.66500518,  69.89999369,  65.78000314,\n",
              "        73.63500272,  76.6649984 ])"
            ]
          },
          "execution_count": 35,
          "metadata": {},
          "output_type": "execute_result"
        }
      ],
      "source": [
        "dummies = np.zeros((X_test.shape[0], lookback+1))\n",
        "dummies[:, 0] = y_test.flatten()\n",
        "dummies = target_scaler.inverse_transform(dummies)\n",
        "\n",
        "new_y_test = dc(dummies[:, 0])\n",
        "new_y_test"
      ]
    },
    {
      "cell_type": "code",
      "execution_count": 36,
      "metadata": {
        "colab": {
          "base_uri": "https://localhost:8080/",
          "height": 449
        },
        "id": "1-dmKE3P_cyT",
        "outputId": "18771e0b-d805-4663-f2fe-442c1e287b5d"
      },
      "outputs": [
        {
          "data": {
            "image/png": "[encoded data removed]",
            "text/plain": [
              "<Figure size 640x480 with 1 Axes>"
            ]
          },
          "metadata": {},
          "output_type": "display_data"
        }
      ],
      "source": [
        "plt.plot(new_y_test, label='Actual AQI')\n",
        "plt.plot(test_predictions, label='Predicted AQI')\n",
        "plt.xlabel('Day')\n",
        "plt.ylabel('AQI')\n",
        "plt.legend()\n",
        "plt.show()\n"
      ]
    },
    {
      "cell_type": "code",
      "execution_count": 37,
      "metadata": {
        "id": "EdzvG4ybFqkm"
      },
      "outputs": [],
      "source": [
        "# Saving the model\n",
        "model.eval()\n",
        "torch.save(model, \"new_1_lstm_model.pt\")  \n",
        "# def save_model(model, filename):\n",
        "#   \"\"\"Saves the model's state dictionary to a file.\n",
        "\n",
        "#   Args:\n",
        "#       model (nn.Module): The model to save.\n",
        "#       filename (str): The filename to save the model state dictionary to.\n",
        "#   \"\"\"\n",
        "#   model.eval()  # Set the model to evaluation mode (optional but recommended)\n",
        "#   torch.save(model.state_dict(), filename)\n",
        "\n",
        "# # Example usage:\n",
        "# model = LSTM(1, 12, 1)\n",
        "# model.to(device)\n",
        "# save_model(model, \"new_lstm_model.pt\")"
      ]
    },
    {
      "cell_type": "code",
      "execution_count": 38,
      "metadata": {},
      "outputs": [],
      "source": [
        "torch.save({\n",
        "            'epoch': epoch,\n",
        "            'model_state_dict': model.state_dict(),\n",
        "            'optimizer_state_dict': optimizer.state_dict(),\n",
        "            'loss': loss_function,\n",
        "            }, 'model.pt')\n",
        "\n",
        "\n",
        "# model = LSTM(1, 4, 2)\n",
        "# optimizer = torch.optim.Adam(model.parameters(), lr=learning_rate)\n",
        "\n",
        "# checkpoint = torch.load('model.pt')\n",
        "# model.load_state_dict(checkpoint['model_state_dict'])\n",
        "# optimizer.load_state_dict(checkpoint['optimizer_state_dict'])\n",
        "# epoch = checkpoint['epoch']\n",
        "# loss = checkpoint['loss']\n",
        "\n",
        "model = torch.load('new_1_lstm_model.pt')\n",
        "for param in model.lstm.parameters():  # Freeze LSTM layer weights (example)\n",
        "  param.requires_grad = False\n",
        "\n",
        "\n",
        "# model.eval()\n",
        "# # - or -\n",
        "# model.train()"
      ]
    },
    {
      "cell_type": "code",
      "execution_count": 39,
      "metadata": {},
      "outputs": [
        {
          "name": "stderr",
          "output_type": "stream",
          "text": [
            "C:\\Users\\timmy\\AppData\\Local\\Temp\\ipykernel_17836\\3377460253.py:2: SettingWithCopyWarning: \n",
            "A value is trying to be set on a copy of a slice from a DataFrame.\n",
            "Try using .loc[row_indexer,col_indexer] = value instead\n",
            "\n",
            "See the caveats in the documentation: https://pandas.pydata.org/pandas-docs/stable/user_guide/indexing.html#returning-a-view-versus-a-copy\n",
            "  df['date'] = pd.to_datetime(df['date'])\n"
          ]
        }
      ],
      "source": [
        "def model_data(df):\n",
        "    df['date'] = pd.to_datetime(df['date'])\n",
        "    shifted_df = prepare_data(df, lookback)\n",
        "    shifted_df_as_np = shifted_df.to_numpy()\n",
        "    # preparing the data for the model\n",
        "    X = shifted_df_as_np[:, 1:]\n",
        "    y = shifted_df_as_np[:, 0]\n",
        "    # loading the scaler\n",
        "    data_scaler = joblib.load('data_scaler.pkl')\n",
        "    target_scaler = joblib.load('target_scaler.pkl')\n",
        "    # scaling the data\n",
        "    scaled_data = data_scaler.transform(X)\n",
        "    # preparing the data for the model\n",
        "    X = scaled_data\n",
        "    y = target_scaler.transform(y.reshape(-1, 1))\n",
        "    # flipping X\n",
        "    X = dc(np.flip(X, axis=1))\n",
        "    # reshaping X and y\n",
        "    X_ = X.reshape((-1, lookback, 1))\n",
        "    y_ = y.reshape((-1, 1))\n",
        "    # converting to tensor\n",
        "    X_ = torch.tensor(X_).float().to(device)\n",
        "    y_ = torch.tensor(y_).float().to(device)\n",
        "    # now using the dataset class\n",
        "    dataset = TimeSeriesDataset(X_, y_)\n",
        "    # creating a dataloader\n",
        "    dataloader = DataLoader(dataset, batch_size=batch_size, shuffle=False)\n",
        "    return dataloader, X_, y_\n",
        "\n",
        "\n",
        "df = pd.read_csv('lahore.csv')\n",
        "data, x, y = model_data(df[['date', 'AQI']])\n"
      ]
    },
    {
      "cell_type": "code",
      "execution_count": 40,
      "metadata": {},
      "outputs": [
        {
          "data": {
            "text/plain": [
              "torch.Size([4500, 6, 1])"
            ]
          },
          "execution_count": 40,
          "metadata": {},
          "output_type": "execute_result"
        }
      ],
      "source": [
        "x.shape"
      ]
    },
    {
      "cell_type": "code",
      "execution_count": 41,
      "metadata": {},
      "outputs": [],
      "source": [
        "# finetune the model on thw whole data\n",
        "\n",
        "def train_one_epoch():\n",
        "  model.train(True)\n",
        "  print(f'Epoch: {epoch +1 }')\n",
        "\n",
        "  running_loss = 0.0\n",
        "\n",
        "  for batch_index, batch in enumerate(data):\n",
        "    x_batch, y_batch = batch[0].to(device), batch[1].to(device)\n",
        "\n",
        "    output = model(x_batch)\n",
        "    loss = loss_function(output, y_batch)\n",
        "    running_loss += loss.item()\n",
        "\n",
        "    optimizer.zero_grad()\n",
        "    loss.backward()\n",
        "    optimizer.step()\n",
        "\n",
        "    if batch_index % 100==99: # printing every 100 batch\n",
        "      avg_loss_across_batches = running_loss/100\n",
        "      print('Batch {0}, Loss: {1:.3f}'.format(batch_index+1,\n",
        "                                                  avg_loss_across_batches))\n",
        "      running_loss = 0.0\n",
        "  print()\n",
        "  \n",
        "def validate_one_epoch():\n",
        "  model.train(False)\n",
        "  running_loss = 0.0\n",
        "\n",
        "  for batch_index, batch in enumerate(data):\n",
        "    x_batch, y_batch = batch[0].to(device), batch[1].to(device)\n",
        "\n",
        "    with torch.no_grad():\n",
        "      output = model(x_batch)\n",
        "      loss = loss_function(output, y_batch)\n",
        "      running_loss += loss.item()\n",
        "\n",
        "  avg_loss_across_batches = running_loss / len(data)\n",
        "\n",
        "  print('Val Loss: {0:.3f}'.format(avg_loss_across_batches))\n",
        "  print('***************************************************')\n",
        "  print()"
      ]
    },
    {
      "cell_type": "code",
      "execution_count": 42,
      "metadata": {},
      "outputs": [
        {
          "name": "stdout",
          "output_type": "stream",
          "text": [
            "Epoch: 1\n",
            "Batch 100, Loss: 0.029\n",
            "Batch 200, Loss: 0.060\n",
            "\n",
            "Val Loss: 0.040\n",
            "***************************************************\n",
            "\n",
            "Epoch: 2\n",
            "Batch 100, Loss: 0.029\n",
            "Batch 200, Loss: 0.059\n",
            "\n",
            "Val Loss: 0.040\n",
            "***************************************************\n",
            "\n",
            "Epoch: 3\n",
            "Batch 100, Loss: 0.029\n",
            "Batch 200, Loss: 0.058\n",
            "\n",
            "Val Loss: 0.039\n",
            "***************************************************\n",
            "\n",
            "Epoch: 4\n",
            "Batch 100, Loss: 0.029\n",
            "Batch 200, Loss: 0.057\n",
            "\n",
            "Val Loss: 0.039\n",
            "***************************************************\n",
            "\n",
            "Epoch: 5\n",
            "Batch 100, Loss: 0.029\n",
            "Batch 200, Loss: 0.056\n",
            "\n",
            "Val Loss: 0.039\n",
            "***************************************************\n",
            "\n"
          ]
        }
      ],
      "source": [
        "learning_rate = 0.0001\n",
        "num_epochs = 5\n",
        "\n",
        "loss_function = nn.MSELoss()\n",
        "optimizer = torch.optim.Adam(model.parameters(), lr=learning_rate)\n",
        "\n",
        "for epoch in range(num_epochs):\n",
        "    train_one_epoch()\n",
        "    validate_one_epoch()"
      ]
    },
    {
      "cell_type": "code",
      "execution_count": 43,
      "metadata": {},
      "outputs": [],
      "source": [
        "# Saving the model\n",
        "model.eval()\n",
        "torch.save(model, \"best_model.pt\")  "
      ]
    },
    {
      "cell_type": "markdown",
      "metadata": {},
      "source": [
        "## Testing section"
      ]
    },
    {
      "cell_type": "code",
      "execution_count": 44,
      "metadata": {},
      "outputs": [],
      "source": [
        "def prepare_data(df, n_steps):\n",
        "  df = dc(df)\n",
        "  df['date'] = pd.to_datetime(df['date'])\n",
        "\n",
        "  df.set_index('date', inplace=True)\n",
        "\n",
        "  for i in range(1, n_steps+1):\n",
        "    df[f\"AQI(t-{i})\"] = df['AQI'].shift(i)\n",
        "\n",
        "  df.dropna(inplace=True)\n",
        "\n",
        "  return df\n",
        "\n",
        "device = 'cuda:0' if torch.cuda.is_available() else 'cpu'\n",
        "batch_size = 16"
      ]
    },
    {
      "cell_type": "code",
      "execution_count": 45,
      "metadata": {
        "id": "W5C2jjZHFqm_"
      },
      "outputs": [],
      "source": [
        "def model_data(df):\n",
        "    df['date'] = pd.to_datetime(df['date'])\n",
        "    shifted_df = prepare_data(df, lookback)\n",
        "    shifted_df_as_np = shifted_df.to_numpy()\n",
        "\n",
        "    # preparing the data for the model\n",
        "    X = shifted_df_as_np[:, 1:]\n",
        "    y = shifted_df_as_np[:, 0]\n",
        "    # flipping X\n",
        "    X = dc(np.flip(X, axis=1))\n",
        "    # loading the scaler\n",
        "    data_scaler = joblib.load('data_scaler.pkl')\n",
        "    target_scaler = joblib.load('target_scaler.pkl')\n",
        "    # scaling the data\n",
        "    scaled_data = data_scaler.transform(X)\n",
        "    scald_target = target_scaler.transform(y.reshape(-1, 1))\n",
        "    \n",
        "    # reshaping X and y\n",
        "    X_ = scaled_data.reshape((-1, lookback, 1))\n",
        "    y_ = scald_target.reshape((-1, 1))\n",
        "    # converting to tensor\n",
        "    X_ = torch.tensor(X_).float().to(device)\n",
        "    y_ = torch.tensor(y_).float().to(device)\n",
        "    # now using the dataset class\n",
        "    dataset = TimeSeriesDataset(X_, y_)\n",
        "    # creating a dataloader\n",
        "    dataloader = DataLoader(dataset, batch_size=batch_size, shuffle=False)\n",
        "    return dataloader, X_, y_\n",
        "\n",
        "# model loading function\n",
        "def load_model():\n",
        "    model = torch.load('best_model.pt')\n",
        "    for param in model.lstm.parameters():\n",
        "        param.requires_grad = False\n",
        "    return model\n",
        "\n",
        "\n",
        "def predict(dataloader):\n",
        "    model = load_model()\n",
        "    model.eval()\n",
        "    predictions = []\n",
        "    y_ = []\n",
        "    with torch.no_grad():\n",
        "        for X, y in dataloader:\n",
        "            y_pred = model(X)\n",
        "            predictions.append(y_pred)\n",
        "            y_.append(y)\n",
        "    return predictions, y_"
      ]
    },
    {
      "cell_type": "code",
      "execution_count": 46,
      "metadata": {},
      "outputs": [],
      "source": [
        "import pandas as pd\n",
        "def create_hourly_increments(date):\n",
        "    # getting the next date\n",
        "    date = pd.to_datetime(date)\n",
        "    next_date = date + pd.DateOffset(days=4)\n",
        "    return pd.date_range(start=date, end=next_date,  freq='H')\n",
        "    \n",
        "def get_date_data(date):\n",
        "    df = pd.read_csv('lahore.csv')\n",
        "    df['date'] = pd.to_datetime(df['date'])\n",
        "    # convert date to datetime\n",
        "    date_dt = pd.to_datetime(date)\n",
        "    # getting the hourly increments for the selected date\n",
        "    hourly_df = pd.DataFrame({'date': create_hourly_increments(date)})\n",
        "    data_ = df[df['date'].isin(hourly_df['date'].astype(str).values.tolist())]\n",
        "    return data_\n",
        "\n",
        "d = get_date_data('2024-04-17')\n"
      ]
    },
    {
      "cell_type": "code",
      "execution_count": 47,
      "metadata": {},
      "outputs": [
        {
          "data": {
            "text/html": [
              "<div>\n",
              "<style scoped>\n",
              "    .dataframe tbody tr th:only-of-type {\n",
              "        vertical-align: middle;\n",
              "    }\n",
              "\n",
              "    .dataframe tbody tr th {\n",
              "        vertical-align: top;\n",
              "    }\n",
              "\n",
              "    .dataframe thead th {\n",
              "        text-align: right;\n",
              "    }\n",
              "</style>\n",
              "<table border=\"1\" class=\"dataframe\">\n",
              "  <thead>\n",
              "    <tr style=\"text-align: right;\">\n",
              "      <th></th>\n",
              "      <th>date</th>\n",
              "      <th>AQI</th>\n",
              "      <th>latitude</th>\n",
              "      <th>longitude</th>\n",
              "    </tr>\n",
              "  </thead>\n",
              "  <tbody>\n",
              "    <tr>\n",
              "      <th>4433</th>\n",
              "      <td>2024-04-17 00:00:00</td>\n",
              "      <td>141.585</td>\n",
              "      <td>31.742221</td>\n",
              "      <td>74.474629</td>\n",
              "    </tr>\n",
              "    <tr>\n",
              "      <th>4434</th>\n",
              "      <td>2024-04-17 01:00:00</td>\n",
              "      <td>161.470</td>\n",
              "      <td>31.742221</td>\n",
              "      <td>74.474629</td>\n",
              "    </tr>\n",
              "    <tr>\n",
              "      <th>4435</th>\n",
              "      <td>2024-04-17 02:00:00</td>\n",
              "      <td>168.850</td>\n",
              "      <td>31.742221</td>\n",
              "      <td>74.474629</td>\n",
              "    </tr>\n",
              "    <tr>\n",
              "      <th>4436</th>\n",
              "      <td>2024-04-17 03:00:00</td>\n",
              "      <td>157.420</td>\n",
              "      <td>31.742221</td>\n",
              "      <td>74.474629</td>\n",
              "    </tr>\n",
              "    <tr>\n",
              "      <th>4437</th>\n",
              "      <td>2024-04-17 04:00:00</td>\n",
              "      <td>134.525</td>\n",
              "      <td>31.742221</td>\n",
              "      <td>74.474629</td>\n",
              "    </tr>\n",
              "    <tr>\n",
              "      <th>...</th>\n",
              "      <td>...</td>\n",
              "      <td>...</td>\n",
              "      <td>...</td>\n",
              "      <td>...</td>\n",
              "    </tr>\n",
              "    <tr>\n",
              "      <th>4501</th>\n",
              "      <td>2024-04-19 20:00:00</td>\n",
              "      <td>78.665</td>\n",
              "      <td>31.742221</td>\n",
              "      <td>74.474629</td>\n",
              "    </tr>\n",
              "    <tr>\n",
              "      <th>4502</th>\n",
              "      <td>2024-04-19 21:00:00</td>\n",
              "      <td>69.900</td>\n",
              "      <td>31.742221</td>\n",
              "      <td>74.474629</td>\n",
              "    </tr>\n",
              "    <tr>\n",
              "      <th>4503</th>\n",
              "      <td>2024-04-19 22:00:00</td>\n",
              "      <td>65.780</td>\n",
              "      <td>31.742221</td>\n",
              "      <td>74.474629</td>\n",
              "    </tr>\n",
              "    <tr>\n",
              "      <th>4504</th>\n",
              "      <td>2024-04-19 23:00:00</td>\n",
              "      <td>73.635</td>\n",
              "      <td>31.742221</td>\n",
              "      <td>74.474629</td>\n",
              "    </tr>\n",
              "    <tr>\n",
              "      <th>4505</th>\n",
              "      <td>2024-04-20 00:00:00</td>\n",
              "      <td>76.665</td>\n",
              "      <td>31.742221</td>\n",
              "      <td>74.474629</td>\n",
              "    </tr>\n",
              "  </tbody>\n",
              "</table>\n",
              "<p>73 rows × 4 columns</p>\n",
              "</div>"
            ],
            "text/plain": [
              "                    date      AQI   latitude  longitude\n",
              "4433 2024-04-17 00:00:00  141.585  31.742221  74.474629\n",
              "4434 2024-04-17 01:00:00  161.470  31.742221  74.474629\n",
              "4435 2024-04-17 02:00:00  168.850  31.742221  74.474629\n",
              "4436 2024-04-17 03:00:00  157.420  31.742221  74.474629\n",
              "4437 2024-04-17 04:00:00  134.525  31.742221  74.474629\n",
              "...                  ...      ...        ...        ...\n",
              "4501 2024-04-19 20:00:00   78.665  31.742221  74.474629\n",
              "4502 2024-04-19 21:00:00   69.900  31.742221  74.474629\n",
              "4503 2024-04-19 22:00:00   65.780  31.742221  74.474629\n",
              "4504 2024-04-19 23:00:00   73.635  31.742221  74.474629\n",
              "4505 2024-04-20 00:00:00   76.665  31.742221  74.474629\n",
              "\n",
              "[73 rows x 4 columns]"
            ]
          },
          "execution_count": 47,
          "metadata": {},
          "output_type": "execute_result"
        }
      ],
      "source": [
        "d"
      ]
    },
    {
      "cell_type": "code",
      "execution_count": 48,
      "metadata": {},
      "outputs": [
        {
          "data": {
            "text/plain": [
              "73"
            ]
          },
          "execution_count": 48,
          "metadata": {},
          "output_type": "execute_result"
        }
      ],
      "source": [
        "len(d)"
      ]
    },
    {
      "cell_type": "code",
      "execution_count": 49,
      "metadata": {
        "id": "yTurIx9GFqqZ"
      },
      "outputs": [
        {
          "name": "stderr",
          "output_type": "stream",
          "text": [
            "C:\\Users\\timmy\\AppData\\Local\\Temp\\ipykernel_17836\\3198408548.py:2: SettingWithCopyWarning: \n",
            "A value is trying to be set on a copy of a slice from a DataFrame.\n",
            "Try using .loc[row_indexer,col_indexer] = value instead\n",
            "\n",
            "See the caveats in the documentation: https://pandas.pydata.org/pandas-docs/stable/user_guide/indexing.html#returning-a-view-versus-a-copy\n",
            "  df['date'] = pd.to_datetime(df['date'])\n"
          ]
        }
      ],
      "source": [
        "loader, x, y = model_data(d[['date', 'AQI']])"
      ]
    },
    {
      "cell_type": "code",
      "execution_count": 50,
      "metadata": {
        "id": "W-xVz1jPFqt-"
      },
      "outputs": [
        {
          "data": {
            "text/plain": [
              "LSTM(\n",
              "  (lstm): LSTM(1, 12, batch_first=True)\n",
              "  (fc): Linear(in_features=12, out_features=1, bias=True)\n",
              ")"
            ]
          },
          "execution_count": 50,
          "metadata": {},
          "output_type": "execute_result"
        }
      ],
      "source": [
        "model = load_model()\n",
        "model.eval()\n",
        "model"
      ]
    },
    {
      "cell_type": "code",
      "execution_count": 51,
      "metadata": {},
      "outputs": [],
      "source": [
        "predictions, y = predict(loader)"
      ]
    },
    {
      "cell_type": "code",
      "execution_count": 52,
      "metadata": {},
      "outputs": [],
      "source": [
        "# a function for making plot\n",
        "def make_plot(predictions, y):\n",
        "    scaler = joblib.load('target_scaler.pkl')   \n",
        "    predictions = torch.cat(predictions).cpu().numpy().flatten()\n",
        "    y = torch.cat(y).cpu().numpy().flatten()\n",
        "\n",
        "    dummies = np.zeros((len(predictions), lookback+1))\n",
        "    dummies[:, 0] = predictions\n",
        "    dummies = scaler.inverse_transform(dummies)\n",
        "\n",
        "    predictions = dc(dummies[:, 0])\n",
        "\n",
        "    dummies = np.zeros((len(y), lookback+1))\n",
        "    dummies[:, 0] = y.flatten()\n",
        "    dummies = scaler.inverse_transform(dummies)\n",
        "\n",
        "    new_y = dc(dummies[:, 0])\n",
        "\n",
        "    plt.plot(new_y, label='Actual AQI')\n",
        "    plt.plot(predictions, label='Predicted AQI')\n",
        "    plt.xlabel('Hour')\n",
        "    plt.ylabel('AQI')\n",
        "    plt.legend()\n",
        "    plt.show()"
      ]
    },
    {
      "cell_type": "code",
      "execution_count": 53,
      "metadata": {},
      "outputs": [
        {
          "data": {
            "image/png": "[encoded data removed]",
            "text/plain": [
              "<Figure size 640x480 with 1 Axes>"
            ]
          },
          "metadata": {},
          "output_type": "display_data"
        }
      ],
      "source": [
        "make_plot(predictions, y)"
      ]
    },
    {
      "cell_type": "code",
      "execution_count": 54,
      "metadata": {},
      "outputs": [
        {
          "data": {
            "text/html": [
              "<style>#sk-container-id-1 {\n",
              "  /* Definition of color scheme common for light and dark mode */\n",
              "  --sklearn-color-text: black;\n",
              "  --sklearn-color-line: gray;\n",
              "  /* Definition of color scheme for unfitted estimators */\n",
              "  --sklearn-color-unfitted-level-0: #fff5e6;\n",
              "  --sklearn-color-unfitted-level-1: #f6e4d2;\n",
              "  --sklearn-color-unfitted-level-2: #ffe0b3;\n",
              "  --sklearn-color-unfitted-level-3: chocolate;\n",
              "  /* Definition of color scheme for fitted estimators */\n",
              "  --sklearn-color-fitted-level-0: #f0f8ff;\n",
              "  --sklearn-color-fitted-level-1: #d4ebff;\n",
              "  --sklearn-color-fitted-level-2: #b3dbfd;\n",
              "  --sklearn-color-fitted-level-3: cornflowerblue;\n",
              "\n",
              "  /* Specific color for light theme */\n",
              "  --sklearn-color-text-on-default-background: var(--sg-text-color, var(--theme-code-foreground, var(--jp-content-font-color1, black)));\n",
              "  --sklearn-color-background: var(--sg-background-color, var(--theme-background, var(--jp-layout-color0, white)));\n",
              "  --sklearn-color-border-box: var(--sg-text-color, var(--theme-code-foreground, var(--jp-content-font-color1, black)));\n",
              "  --sklearn-color-icon: #696969;\n",
              "\n",
              "  @media (prefers-color-scheme: dark) {\n",
              "    /* Redefinition of color scheme for dark theme */\n",
              "    --sklearn-color-text-on-default-background: var(--sg-text-color, var(--theme-code-foreground, var(--jp-content-font-color1, white)));\n",
              "    --sklearn-color-background: var(--sg-background-color, var(--theme-background, var(--jp-layout-color0, #111)));\n",
              "    --sklearn-color-border-box: var(--sg-text-color, var(--theme-code-foreground, var(--jp-content-font-color1, white)));\n",
              "    --sklearn-color-icon: #878787;\n",
              "  }\n",
              "}\n",
              "\n",
              "#sk-container-id-1 {\n",
              "  color: var(--sklearn-color-text);\n",
              "}\n",
              "\n",
              "#sk-container-id-1 pre {\n",
              "  padding: 0;\n",
              "}\n",
              "\n",
              "#sk-container-id-1 input.sk-hidden--visually {\n",
              "  border: 0;\n",
              "  clip: rect(1px 1px 1px 1px);\n",
              "  clip: rect(1px, 1px, 1px, 1px);\n",
              "  height: 1px;\n",
              "  margin: -1px;\n",
              "  overflow: hidden;\n",
              "  padding: 0;\n",
              "  position: absolute;\n",
              "  width: 1px;\n",
              "}\n",
              "\n",
              "#sk-container-id-1 div.sk-dashed-wrapped {\n",
              "  border: 1px dashed var(--sklearn-color-line);\n",
              "  margin: 0 0.4em 0.5em 0.4em;\n",
              "  box-sizing: border-box;\n",
              "  padding-bottom: 0.4em;\n",
              "  background-color: var(--sklearn-color-background);\n",
              "}\n",
              "\n",
              "#sk-container-id-1 div.sk-container {\n",
              "  /* jupyter's `normalize.less` sets `[hidden] { display: none; }`\n",
              "     but bootstrap.min.css set `[hidden] { display: none !important; }`\n",
              "     so we also need the `!important` here to be able to override the\n",
              "     default hidden behavior on the sphinx rendered scikit-learn.org.\n",
              "     See: https://github.com/scikit-learn/scikit-learn/issues/21755 */\n",
              "  display: inline-block !important;\n",
              "  position: relative;\n",
              "}\n",
              "\n",
              "#sk-container-id-1 div.sk-text-repr-fallback {\n",
              "  display: none;\n",
              "}\n",
              "\n",
              "div.sk-parallel-item,\n",
              "div.sk-serial,\n",
              "div.sk-item {\n",
              "  /* draw centered vertical line to link estimators */\n",
              "  background-image: linear-gradient(var(--sklearn-color-text-on-default-background), var(--sklearn-color-text-on-default-background));\n",
              "  background-size: 2px 100%;\n",
              "  background-repeat: no-repeat;\n",
              "  background-position: center center;\n",
              "}\n",
              "\n",
              "/* Parallel-specific style estimator block */\n",
              "\n",
              "#sk-container-id-1 div.sk-parallel-item::after {\n",
              "  content: \"\";\n",
              "  width: 100%;\n",
              "  border-bottom: 2px solid var(--sklearn-color-text-on-default-background);\n",
              "  flex-grow: 1;\n",
              "}\n",
              "\n",
              "#sk-container-id-1 div.sk-parallel {\n",
              "  display: flex;\n",
              "  align-items: stretch;\n",
              "  justify-content: center;\n",
              "  background-color: var(--sklearn-color-background);\n",
              "  position: relative;\n",
              "}\n",
              "\n",
              "#sk-container-id-1 div.sk-parallel-item {\n",
              "  display: flex;\n",
              "  flex-direction: column;\n",
              "}\n",
              "\n",
              "#sk-container-id-1 div.sk-parallel-item:first-child::after {\n",
              "  align-self: flex-end;\n",
              "  width: 50%;\n",
              "}\n",
              "\n",
              "#sk-container-id-1 div.sk-parallel-item:last-child::after {\n",
              "  align-self: flex-start;\n",
              "  width: 50%;\n",
              "}\n",
              "\n",
              "#sk-container-id-1 div.sk-parallel-item:only-child::after {\n",
              "  width: 0;\n",
              "}\n",
              "\n",
              "/* Serial-specific style estimator block */\n",
              "\n",
              "#sk-container-id-1 div.sk-serial {\n",
              "  display: flex;\n",
              "  flex-direction: column;\n",
              "  align-items: center;\n",
              "  background-color: var(--sklearn-color-background);\n",
              "  padding-right: 1em;\n",
              "  padding-left: 1em;\n",
              "}\n",
              "\n",
              "\n",
              "/* Toggleable style: style used for estimator/Pipeline/ColumnTransformer box that is\n",
              "clickable and can be expanded/collapsed.\n",
              "- Pipeline and ColumnTransformer use this feature and define the default style\n",
              "- Estimators will overwrite some part of the style using the `sk-estimator` class\n",
              "*/\n",
              "\n",
              "/* Pipeline and ColumnTransformer style (default) */\n",
              "\n",
              "#sk-container-id-1 div.sk-toggleable {\n",
              "  /* Default theme specific background. It is overwritten whether we have a\n",
              "  specific estimator or a Pipeline/ColumnTransformer */\n",
              "  background-color: var(--sklearn-color-background);\n",
              "}\n",
              "\n",
              "/* Toggleable label */\n",
              "#sk-container-id-1 label.sk-toggleable__label {\n",
              "  cursor: pointer;\n",
              "  display: block;\n",
              "  width: 100%;\n",
              "  margin-bottom: 0;\n",
              "  padding: 0.5em;\n",
              "  box-sizing: border-box;\n",
              "  text-align: center;\n",
              "}\n",
              "\n",
              "#sk-container-id-1 label.sk-toggleable__label-arrow:before {\n",
              "  /* Arrow on the left of the label */\n",
              "  content: \"▸\";\n",
              "  float: left;\n",
              "  margin-right: 0.25em;\n",
              "  color: var(--sklearn-color-icon);\n",
              "}\n",
              "\n",
              "#sk-container-id-1 label.sk-toggleable__label-arrow:hover:before {\n",
              "  color: var(--sklearn-color-text);\n",
              "}\n",
              "\n",
              "/* Toggleable content - dropdown */\n",
              "\n",
              "#sk-container-id-1 div.sk-toggleable__content {\n",
              "  max-height: 0;\n",
              "  max-width: 0;\n",
              "  overflow: hidden;\n",
              "  text-align: left;\n",
              "  /* unfitted */\n",
              "  background-color: var(--sklearn-color-unfitted-level-0);\n",
              "}\n",
              "\n",
              "#sk-container-id-1 div.sk-toggleable__content.fitted {\n",
              "  /* fitted */\n",
              "  background-color: var(--sklearn-color-fitted-level-0);\n",
              "}\n",
              "\n",
              "#sk-container-id-1 div.sk-toggleable__content pre {\n",
              "  margin: 0.2em;\n",
              "  border-radius: 0.25em;\n",
              "  color: var(--sklearn-color-text);\n",
              "  /* unfitted */\n",
              "  background-color: var(--sklearn-color-unfitted-level-0);\n",
              "}\n",
              "\n",
              "#sk-container-id-1 div.sk-toggleable__content.fitted pre {\n",
              "  /* unfitted */\n",
              "  background-color: var(--sklearn-color-fitted-level-0);\n",
              "}\n",
              "\n",
              "#sk-container-id-1 input.sk-toggleable__control:checked~div.sk-toggleable__content {\n",
              "  /* Expand drop-down */\n",
              "  max-height: 200px;\n",
              "  max-width: 100%;\n",
              "  overflow: auto;\n",
              "}\n",
              "\n",
              "#sk-container-id-1 input.sk-toggleable__control:checked~label.sk-toggleable__label-arrow:before {\n",
              "  content: \"▾\";\n",
              "}\n",
              "\n",
              "/* Pipeline/ColumnTransformer-specific style */\n",
              "\n",
              "#sk-container-id-1 div.sk-label input.sk-toggleable__control:checked~label.sk-toggleable__label {\n",
              "  color: var(--sklearn-color-text);\n",
              "  background-color: var(--sklearn-color-unfitted-level-2);\n",
              "}\n",
              "\n",
              "#sk-container-id-1 div.sk-label.fitted input.sk-toggleable__control:checked~label.sk-toggleable__label {\n",
              "  background-color: var(--sklearn-color-fitted-level-2);\n",
              "}\n",
              "\n",
              "/* Estimator-specific style */\n",
              "\n",
              "/* Colorize estimator box */\n",
              "#sk-container-id-1 div.sk-estimator input.sk-toggleable__control:checked~label.sk-toggleable__label {\n",
              "  /* unfitted */\n",
              "  background-color: var(--sklearn-color-unfitted-level-2);\n",
              "}\n",
              "\n",
              "#sk-container-id-1 div.sk-estimator.fitted input.sk-toggleable__control:checked~label.sk-toggleable__label {\n",
              "  /* fitted */\n",
              "  background-color: var(--sklearn-color-fitted-level-2);\n",
              "}\n",
              "\n",
              "#sk-container-id-1 div.sk-label label.sk-toggleable__label,\n",
              "#sk-container-id-1 div.sk-label label {\n",
              "  /* The background is the default theme color */\n",
              "  color: var(--sklearn-color-text-on-default-background);\n",
              "}\n",
              "\n",
              "/* On hover, darken the color of the background */\n",
              "#sk-container-id-1 div.sk-label:hover label.sk-toggleable__label {\n",
              "  color: var(--sklearn-color-text);\n",
              "  background-color: var(--sklearn-color-unfitted-level-2);\n",
              "}\n",
              "\n",
              "/* Label box, darken color on hover, fitted */\n",
              "#sk-container-id-1 div.sk-label.fitted:hover label.sk-toggleable__label.fitted {\n",
              "  color: var(--sklearn-color-text);\n",
              "  background-color: var(--sklearn-color-fitted-level-2);\n",
              "}\n",
              "\n",
              "/* Estimator label */\n",
              "\n",
              "#sk-container-id-1 div.sk-label label {\n",
              "  font-family: monospace;\n",
              "  font-weight: bold;\n",
              "  display: inline-block;\n",
              "  line-height: 1.2em;\n",
              "}\n",
              "\n",
              "#sk-container-id-1 div.sk-label-container {\n",
              "  text-align: center;\n",
              "}\n",
              "\n",
              "/* Estimator-specific */\n",
              "#sk-container-id-1 div.sk-estimator {\n",
              "  font-family: monospace;\n",
              "  border: 1px dotted var(--sklearn-color-border-box);\n",
              "  border-radius: 0.25em;\n",
              "  box-sizing: border-box;\n",
              "  margin-bottom: 0.5em;\n",
              "  /* unfitted */\n",
              "  background-color: var(--sklearn-color-unfitted-level-0);\n",
              "}\n",
              "\n",
              "#sk-container-id-1 div.sk-estimator.fitted {\n",
              "  /* fitted */\n",
              "  background-color: var(--sklearn-color-fitted-level-0);\n",
              "}\n",
              "\n",
              "/* on hover */\n",
              "#sk-container-id-1 div.sk-estimator:hover {\n",
              "  /* unfitted */\n",
              "  background-color: var(--sklearn-color-unfitted-level-2);\n",
              "}\n",
              "\n",
              "#sk-container-id-1 div.sk-estimator.fitted:hover {\n",
              "  /* fitted */\n",
              "  background-color: var(--sklearn-color-fitted-level-2);\n",
              "}\n",
              "\n",
              "/* Specification for estimator info (e.g. \"i\" and \"?\") */\n",
              "\n",
              "/* Common style for \"i\" and \"?\" */\n",
              "\n",
              ".sk-estimator-doc-link,\n",
              "a:link.sk-estimator-doc-link,\n",
              "a:visited.sk-estimator-doc-link {\n",
              "  float: right;\n",
              "  font-size: smaller;\n",
              "  line-height: 1em;\n",
              "  font-family: monospace;\n",
              "  background-color: var(--sklearn-color-background);\n",
              "  border-radius: 1em;\n",
              "  height: 1em;\n",
              "  width: 1em;\n",
              "  text-decoration: none !important;\n",
              "  margin-left: 1ex;\n",
              "  /* unfitted */\n",
              "  border: var(--sklearn-color-unfitted-level-1) 1pt solid;\n",
              "  color: var(--sklearn-color-unfitted-level-1);\n",
              "}\n",
              "\n",
              ".sk-estimator-doc-link.fitted,\n",
              "a:link.sk-estimator-doc-link.fitted,\n",
              "a:visited.sk-estimator-doc-link.fitted {\n",
              "  /* fitted */\n",
              "  border: var(--sklearn-color-fitted-level-1) 1pt solid;\n",
              "  color: var(--sklearn-color-fitted-level-1);\n",
              "}\n",
              "\n",
              "/* On hover */\n",
              "div.sk-estimator:hover .sk-estimator-doc-link:hover,\n",
              ".sk-estimator-doc-link:hover,\n",
              "div.sk-label-container:hover .sk-estimator-doc-link:hover,\n",
              ".sk-estimator-doc-link:hover {\n",
              "  /* unfitted */\n",
              "  background-color: var(--sklearn-color-unfitted-level-3);\n",
              "  color: var(--sklearn-color-background);\n",
              "  text-decoration: none;\n",
              "}\n",
              "\n",
              "div.sk-estimator.fitted:hover .sk-estimator-doc-link.fitted:hover,\n",
              ".sk-estimator-doc-link.fitted:hover,\n",
              "div.sk-label-container:hover .sk-estimator-doc-link.fitted:hover,\n",
              ".sk-estimator-doc-link.fitted:hover {\n",
              "  /* fitted */\n",
              "  background-color: var(--sklearn-color-fitted-level-3);\n",
              "  color: var(--sklearn-color-background);\n",
              "  text-decoration: none;\n",
              "}\n",
              "\n",
              "/* Span, style for the box shown on hovering the info icon */\n",
              ".sk-estimator-doc-link span {\n",
              "  display: none;\n",
              "  z-index: 9999;\n",
              "  position: relative;\n",
              "  font-weight: normal;\n",
              "  right: .2ex;\n",
              "  padding: .5ex;\n",
              "  margin: .5ex;\n",
              "  width: min-content;\n",
              "  min-width: 20ex;\n",
              "  max-width: 50ex;\n",
              "  color: var(--sklearn-color-text);\n",
              "  box-shadow: 2pt 2pt 4pt #999;\n",
              "  /* unfitted */\n",
              "  background: var(--sklearn-color-unfitted-level-0);\n",
              "  border: .5pt solid var(--sklearn-color-unfitted-level-3);\n",
              "}\n",
              "\n",
              ".sk-estimator-doc-link.fitted span {\n",
              "  /* fitted */\n",
              "  background: var(--sklearn-color-fitted-level-0);\n",
              "  border: var(--sklearn-color-fitted-level-3);\n",
              "}\n",
              "\n",
              ".sk-estimator-doc-link:hover span {\n",
              "  display: block;\n",
              "}\n",
              "\n",
              "/* \"?\"-specific style due to the `<a>` HTML tag */\n",
              "\n",
              "#sk-container-id-1 a.estimator_doc_link {\n",
              "  float: right;\n",
              "  font-size: 1rem;\n",
              "  line-height: 1em;\n",
              "  font-family: monospace;\n",
              "  background-color: var(--sklearn-color-background);\n",
              "  border-radius: 1rem;\n",
              "  height: 1rem;\n",
              "  width: 1rem;\n",
              "  text-decoration: none;\n",
              "  /* unfitted */\n",
              "  color: var(--sklearn-color-unfitted-level-1);\n",
              "  border: var(--sklearn-color-unfitted-level-1) 1pt solid;\n",
              "}\n",
              "\n",
              "#sk-container-id-1 a.estimator_doc_link.fitted {\n",
              "  /* fitted */\n",
              "  border: var(--sklearn-color-fitted-level-1) 1pt solid;\n",
              "  color: var(--sklearn-color-fitted-level-1);\n",
              "}\n",
              "\n",
              "/* On hover */\n",
              "#sk-container-id-1 a.estimator_doc_link:hover {\n",
              "  /* unfitted */\n",
              "  background-color: var(--sklearn-color-unfitted-level-3);\n",
              "  color: var(--sklearn-color-background);\n",
              "  text-decoration: none;\n",
              "}\n",
              "\n",
              "#sk-container-id-1 a.estimator_doc_link.fitted:hover {\n",
              "  /* fitted */\n",
              "  background-color: var(--sklearn-color-fitted-level-3);\n",
              "}\n",
              "</style><div id=\"sk-container-id-1\" class=\"sk-top-container\"><div class=\"sk-text-repr-fallback\"><pre>StandardScaler()</pre><b>In a Jupyter environment, please rerun this cell to show the HTML representation or trust the notebook. <br />On GitHub, the HTML representation is unable to render, please try loading this page with nbviewer.org.</b></div><div class=\"sk-container\" hidden><div class=\"sk-item\"><div class=\"sk-estimator fitted sk-toggleable\"><input class=\"sk-toggleable__control sk-hidden--visually\" id=\"sk-estimator-id-1\" type=\"checkbox\" checked><label for=\"sk-estimator-id-1\" class=\"sk-toggleable__label fitted sk-toggleable__label-arrow fitted\">&nbsp;&nbsp;StandardScaler<a class=\"sk-estimator-doc-link fitted\" rel=\"noreferrer\" target=\"_blank\" href=\"https://scikit-learn.org/1.4/modules/generated/sklearn.preprocessing.StandardScaler.html\">?<span>Documentation for StandardScaler</span></a><span class=\"sk-estimator-doc-link fitted\">i<span>Fitted</span></span></label><div class=\"sk-toggleable__content fitted\"><pre>StandardScaler()</pre></div> </div></div></div></div>"
            ],
            "text/plain": [
              "StandardScaler()"
            ]
          },
          "execution_count": 54,
          "metadata": {},
          "output_type": "execute_result"
        }
      ],
      "source": [
        "data_scaler = joblib.load('data_scaler.pkl')\n",
        "data_scaler"
      ]
    },
    {
      "cell_type": "code",
      "execution_count": null,
      "metadata": {},
      "outputs": [],
      "source": []
    },
    {
      "cell_type": "code",
      "execution_count": 57,
      "metadata": {},
      "outputs": [],
      "source": [
        "def predict_today(n=24):\n",
        "    # loading the database\n",
        "    data = pd.read_csv('clean.csv')\n",
        "    # getting today's date\n",
        "    today_date = date.today()\n",
        "    today_date = pd.to_datetime(today_date)\n",
        "    # get last date in the data\n",
        "    last_date = data['date'].iloc[-1]\n",
        "    # converting both to time and getting the total hours between them\n",
        "    last_date = pd.to_datetime(last_date)\n",
        "    hours_diff = (today_date - last_date).total_seconds() / 3600\n",
        "    aqi_data = data['AQI'].values.tolist()\n",
        "    model = load_model()\n",
        "    data_scaler = joblib.load('data_scaler.pkl')\n",
        "    target_scaler = joblib.load('target_scaler.pkl')\n",
        "    lookback = 6\n",
        "    # ensureing we are just collecting the last 6 values\n",
        "    current_data = aqi_data[-lookback:]\n",
        "    predictions = []\n",
        "    model.eval()\n",
        "    for _ in range(int(hours_diff)):\n",
        "        # Ensure current_data has the required length\n",
        "        if len(current_data) != lookback:\n",
        "            raise ValueError(f\"Current data must have length {lookback}\")\n",
        "\n",
        "        # Prepare data for the model (scaling and reshaping)\n",
        "        current_data_np = np.array([current_data])  # Assuming data is a list\n",
        "        scaled_data = data_scaler.transform(current_data_np)\n",
        "        X = scaled_data.reshape((1, lookback, 1))\n",
        "        X_ = torch.tensor(X).float().to(device)\n",
        "\n",
        "        # Make prediction\n",
        "        with torch.no_grad():\n",
        "            y_pred = model(X_)\n",
        "\n",
        "        # Inverse scaling of the predicted value (assuming single value prediction)\n",
        "        predicted_value = target_scaler.inverse_transform(y_pred.cpu().detach().numpy())[0][0]\n",
        "\n",
        "        # Update current_data for the next iteration\n",
        "        current_data.append(predicted_value)\n",
        "        current_data = current_data[-lookback:]  # Keep only the last lookback values\n",
        "\n",
        "        # Append the prediction to the final list\n",
        "        predictions.append(predicted_value)\n",
        "\n",
        "    return predictions[-24:]\n"
      ]
    },
    {
      "cell_type": "code",
      "execution_count": 58,
      "metadata": {},
      "outputs": [
        {
          "data": {
            "text/plain": [
              "[342.44928,\n",
              " 342.44928,\n",
              " 342.44928,\n",
              " 342.44928,\n",
              " 342.44928,\n",
              " 342.44928,\n",
              " 342.44928,\n",
              " 342.44928,\n",
              " 342.44928,\n",
              " 342.44928,\n",
              " 342.44928,\n",
              " 342.44928,\n",
              " 342.44928,\n",
              " 342.44928,\n",
              " 342.44928,\n",
              " 342.44928,\n",
              " 342.44928,\n",
              " 342.44928,\n",
              " 342.44928,\n",
              " 342.44928,\n",
              " 342.44928,\n",
              " 342.44928,\n",
              " 342.44928,\n",
              " 342.44928]"
            ]
          },
          "execution_count": 58,
          "metadata": {},
          "output_type": "execute_result"
        }
      ],
      "source": [
        "pred = predict_today()\n",
        "pred"
      ]
    },
    {
      "cell_type": "code",
      "execution_count": 61,
      "metadata": {},
      "outputs": [],
      "source": [
        "# predicting for thr last seven days\n",
        "def predict_last_seven_days():\n",
        "    # getting the data\n",
        "    data = pd.read_csv('clean.csv')\n",
        "    # converting date to the right format\n",
        "    data['date'] = pd.to_datetime(data['date'])\n",
        "    # today's date\n",
        "    today_date = date.today()\n",
        "    # last seven days\n",
        "    last_seven_days = today_date - timedelta(days=7)\n",
        "    # converting to datetime\n",
        "    today_date = pd.to_datetime(today_date)\n",
        "    last_seven_days = pd.to_datetime(last_seven_days)\n",
        "    # caalculating the hours difference\n",
        "    hours_diff = (today_date - last_seven_days).days * 24\n",
        "    # the prev day before the last seven days data\n",
        "    previous_day_hrs = hours_diff + 24 \n",
        "    # getting the data\n",
        "    aqi_data = data['AQI'].values.tolist()[-previous_day_hrs:-hours_diff]\n",
        "    # loading model\n",
        "    model = load_model()\n",
        "    # loading scalers\n",
        "    data_scaler = joblib.load('data_scaler.pkl')\n",
        "    target_scaler = joblib.load('target_scaler.pkl')\n",
        "    # lookback\n",
        "    lookback = 6\n",
        "    # current data\n",
        "    current_data = aqi_data[-lookback:]\n",
        "    # predictions\n",
        "    predictions = []\n",
        "    # loop to make predictions\n",
        "    for _ in range(hours_diff):\n",
        "        if len(current_data) != lookback:\n",
        "            raise ValueError(f\"Current data must have length {lookback}\")\n",
        "\n",
        "        current_data_np = np.array([current_data])\n",
        "        scaled_data = data_scaler.transform(current_data_np)\n",
        "        X = scaled_data.reshape((1, lookback, 1))\n",
        "        X_ = torch.tensor(X).float().to(device)\n",
        "\n",
        "        with torch.no_grad():\n",
        "            y_pred = model(X_)\n",
        "\n",
        "        predicted_value = target_scaler.inverse_transform(y_pred.cpu().detach().numpy())[0][0]\n",
        "\n",
        "        current_data.append(predicted_value)\n",
        "        current_data = current_data[-lookback:]\n",
        "\n",
        "        predictions.append(predicted_value)\n",
        "\n",
        "    return predictions[-24*7:]"
      ]
    },
    {
      "cell_type": "code",
      "execution_count": 62,
      "metadata": {},
      "outputs": [
        {
          "data": {
            "text/plain": [
              "[62.309452,\n",
              " 63.52802,\n",
              " 65.197716,\n",
              " 67.00915,\n",
              " 68.89056,\n",
              " 70.812904,\n",
              " 72.766914,\n",
              " 74.752205,\n",
              " 76.767845,\n",
              " 78.81686,\n",
              " 80.902626,\n",
              " 83.02915,\n",
              " 85.20074,\n",
              " 87.42193,\n",
              " 89.69752,\n",
              " 92.032616,\n",
              " 94.43249,\n",
              " 96.90275,\n",
              " 99.44929,\n",
              " 102.0783,\n",
              " 104.79632,\n",
              " 107.610275,\n",
              " 110.52747,\n",
              " 113.5556,\n",
              " 116.70281,\n",
              " 119.97769,\n",
              " 123.38924,\n",
              " 126.94692,\n",
              " 130.6607,\n",
              " 134.54095,\n",
              " 138.59848,\n",
              " 142.84451,\n",
              " 147.29062,\n",
              " 151.9487,\n",
              " 156.8308,\n",
              " 161.94908,\n",
              " 167.31577,\n",
              " 172.94267,\n",
              " 178.84125,\n",
              " 185.02202,\n",
              " 191.49425,\n",
              " 198.26526,\n",
              " 205.33961,\n",
              " 212.71808,\n",
              " 220.39613,\n",
              " 228.36238,\n",
              " 236.59631,\n",
              " 245.06606,\n",
              " 253.72595,\n",
              " 262.51443,\n",
              " 271.35275,\n",
              " 280.145,\n",
              " 288.78018,\n",
              " 297.13675,\n",
              " 305.0892,\n",
              " 312.5165,\n",
              " 319.311,\n",
              " 325.3864,\n",
              " 330.68396,\n",
              " 335.17538,\n",
              " 338.8632,\n",
              " 341.7781,\n",
              " 343.97467,\n",
              " 345.52563,\n",
              " 346.51584,\n",
              " 347.03632,\n",
              " 347.1791,\n",
              " 347.03262,\n",
              " 346.67825,\n",
              " 346.1879,\n",
              " 345.6226,\n",
              " 345.03192,\n",
              " 344.45413,\n",
              " 343.91702,\n",
              " 343.439,\n",
              " 343.03052,\n",
              " 342.69562,\n",
              " 342.43326,\n",
              " 342.23877,\n",
              " 342.1051,\n",
              " 342.0237,\n",
              " 341.9855,\n",
              " 341.98145,\n",
              " 342.003,\n",
              " 342.04248,\n",
              " 342.09323,\n",
              " 342.14966,\n",
              " 342.20743,\n",
              " 342.26312,\n",
              " 342.31433,\n",
              " 342.35953,\n",
              " 342.3979,\n",
              " 342.4291,\n",
              " 342.4534,\n",
              " 342.47128,\n",
              " 342.48343,\n",
              " 342.4907,\n",
              " 342.4939,\n",
              " 342.49396,\n",
              " 342.49164,\n",
              " 342.4877,\n",
              " 342.48273,\n",
              " 342.47726,\n",
              " 342.4717,\n",
              " 342.46643,\n",
              " 342.46158,\n",
              " 342.45734,\n",
              " 342.45374,\n",
              " 342.45084,\n",
              " 342.4486,\n",
              " 342.44696,\n",
              " 342.44586,\n",
              " 342.4452,\n",
              " 342.44492,\n",
              " 342.44495,\n",
              " 342.4452,\n",
              " 342.4456,\n",
              " 342.44608,\n",
              " 342.4466,\n",
              " 342.4471,\n",
              " 342.4476,\n",
              " 342.44806,\n",
              " 342.44846,\n",
              " 342.4488,\n",
              " 342.44907,\n",
              " 342.44928,\n",
              " 342.44943,\n",
              " 342.44952,\n",
              " 342.44962,\n",
              " 342.44965,\n",
              " 342.44965,\n",
              " 342.44965,\n",
              " 342.44962,\n",
              " 342.4496,\n",
              " 342.44955,\n",
              " 342.44952,\n",
              " 342.4495,\n",
              " 342.44946,\n",
              " 342.44943,\n",
              " 342.4494,\n",
              " 342.44937,\n",
              " 342.44934,\n",
              " 342.4493,\n",
              " 342.44928,\n",
              " 342.44928,\n",
              " 342.44928,\n",
              " 342.44928,\n",
              " 342.44928,\n",
              " 342.44928,\n",
              " 342.44928,\n",
              " 342.44928,\n",
              " 342.44928,\n",
              " 342.44928,\n",
              " 342.44928,\n",
              " 342.44928,\n",
              " 342.44928,\n",
              " 342.44928,\n",
              " 342.44928,\n",
              " 342.44928,\n",
              " 342.44928,\n",
              " 342.44928,\n",
              " 342.44928,\n",
              " 342.44928,\n",
              " 342.44928,\n",
              " 342.44928,\n",
              " 342.44928,\n",
              " 342.44928,\n",
              " 342.44928]"
            ]
          },
          "execution_count": 62,
          "metadata": {},
          "output_type": "execute_result"
        }
      ],
      "source": [
        "predict_last_seven_days()"
      ]
    },
    {
      "cell_type": "code",
      "execution_count": 65,
      "metadata": {},
      "outputs": [],
      "source": [
        "# next seven days prediction\n",
        "def predict_next_seven_days():\n",
        "    # loading the database\n",
        "    data = pd.read_csv('clean.csv')\n",
        "    # getting today's date\n",
        "    today_date = date.today()\n",
        "    today_date = pd.to_datetime(today_date)\n",
        "    # get last date in the data\n",
        "    last_date = data['date'].iloc[-1]\n",
        "    # converting both to time and getting the total hours between them\n",
        "    last_date = pd.to_datetime(last_date)\n",
        "    hours_diff = (today_date - last_date).total_seconds() / 3600\n",
        "    # adding 168 to the hours diff\n",
        "    hours_diff += 168\n",
        "    aqi_data = data['AQI'].values.tolist()\n",
        "    model = load_model()\n",
        "    model.eval\n",
        "    data_scaler = joblib.load('data_scaler.pkl')\n",
        "    target_scaler = joblib.load('target_scaler.pkl')\n",
        "    lookback = 6\n",
        "    # ensureing we are just collecting the last 6 values\n",
        "    current_data = aqi_data[-lookback:]\n",
        "    predictions = []\n",
        "    for _ in range(int(hours_diff)):\n",
        "        # Ensure current_data has the required length\n",
        "        if len(current_data) != lookback:\n",
        "            raise ValueError(f\"Current data must have length {lookback}\")\n",
        "\n",
        "        # Prepare data for the model (scaling and reshaping)\n",
        "        current_data_np = np.array([current_data])  # Assuming data is a list\n",
        "        scaled_data = data_scaler.transform(current_data_np)\n",
        "        X = scaled_data.reshape((1, lookback, 1))\n",
        "        X_ = torch.tensor(X).float().to(device)\n",
        "\n",
        "        # Make prediction\n",
        "        with torch.no_grad():\n",
        "            y_pred = model(X_)\n",
        "\n",
        "        # Inverse scaling of the predicted value (assuming single value prediction)\n",
        "        predicted_value = target_scaler.inverse_transform(y_pred.cpu().detach().numpy())[0][0]\n",
        "\n",
        "        # Update current_data for the next iteration\n",
        "        current_data.append(predicted_value)\n",
        "        current_data = current_data[-lookback:]  # Keep only the last lookback values\n",
        "\n",
        "        # Append the prediction to the final list\n",
        "        predictions.append(predicted_value)\n",
        "\n",
        "    return predictions[-168:]"
      ]
    },
    {
      "cell_type": "code",
      "execution_count": 66,
      "metadata": {},
      "outputs": [
        {
          "data": {
            "text/plain": [
              "[342.44928,\n",
              " 342.44928,\n",
              " 342.44928,\n",
              " 342.44928,\n",
              " 342.44928,\n",
              " 342.44928,\n",
              " 342.44928,\n",
              " 342.44928,\n",
              " 342.44928,\n",
              " 342.44928,\n",
              " 342.44928,\n",
              " 342.44928,\n",
              " 342.44928,\n",
              " 342.44928,\n",
              " 342.44928,\n",
              " 342.44928,\n",
              " 342.44928,\n",
              " 342.44928,\n",
              " 342.44928,\n",
              " 342.44928,\n",
              " 342.44928,\n",
              " 342.44928,\n",
              " 342.44928,\n",
              " 342.44928,\n",
              " 342.44928,\n",
              " 342.44928,\n",
              " 342.44928,\n",
              " 342.44928,\n",
              " 342.44928,\n",
              " 342.44928,\n",
              " 342.44928,\n",
              " 342.44928,\n",
              " 342.44928,\n",
              " 342.44928,\n",
              " 342.44928,\n",
              " 342.44928,\n",
              " 342.44928,\n",
              " 342.44928,\n",
              " 342.44928,\n",
              " 342.44928,\n",
              " 342.44928,\n",
              " 342.44928,\n",
              " 342.44928,\n",
              " 342.44928,\n",
              " 342.44928,\n",
              " 342.44928,\n",
              " 342.44928,\n",
              " 342.44928,\n",
              " 342.44928,\n",
              " 342.44928,\n",
              " 342.44928,\n",
              " 342.44928,\n",
              " 342.44928,\n",
              " 342.44928,\n",
              " 342.44928,\n",
              " 342.44928,\n",
              " 342.44928,\n",
              " 342.44928,\n",
              " 342.44928,\n",
              " 342.44928,\n",
              " 342.44928,\n",
              " 342.44928,\n",
              " 342.44928,\n",
              " 342.44928,\n",
              " 342.44928,\n",
              " 342.44928,\n",
              " 342.44928,\n",
              " 342.44928,\n",
              " 342.44928,\n",
              " 342.44928,\n",
              " 342.44928,\n",
              " 342.44928,\n",
              " 342.44928,\n",
              " 342.44928,\n",
              " 342.44928,\n",
              " 342.44928,\n",
              " 342.44928,\n",
              " 342.44928,\n",
              " 342.44928,\n",
              " 342.44928,\n",
              " 342.44928,\n",
              " 342.44928,\n",
              " 342.44928,\n",
              " 342.44928,\n",
              " 342.44928,\n",
              " 342.44928,\n",
              " 342.44928,\n",
              " 342.44928,\n",
              " 342.44928,\n",
              " 342.44928,\n",
              " 342.44928,\n",
              " 342.44928,\n",
              " 342.44928,\n",
              " 342.44928,\n",
              " 342.44928,\n",
              " 342.44928,\n",
              " 342.44928,\n",
              " 342.44928,\n",
              " 342.44928,\n",
              " 342.44928,\n",
              " 342.44928,\n",
              " 342.44928,\n",
              " 342.44928,\n",
              " 342.44928,\n",
              " 342.44928,\n",
              " 342.44928,\n",
              " 342.44928,\n",
              " 342.44928,\n",
              " 342.44928,\n",
              " 342.44928,\n",
              " 342.44928,\n",
              " 342.44928,\n",
              " 342.44928,\n",
              " 342.44928,\n",
              " 342.44928,\n",
              " 342.44928,\n",
              " 342.44928,\n",
              " 342.44928,\n",
              " 342.44928,\n",
              " 342.44928,\n",
              " 342.44928,\n",
              " 342.44928,\n",
              " 342.44928,\n",
              " 342.44928,\n",
              " 342.44928,\n",
              " 342.44928,\n",
              " 342.44928,\n",
              " 342.44928,\n",
              " 342.44928,\n",
              " 342.44928,\n",
              " 342.44928,\n",
              " 342.44928,\n",
              " 342.44928,\n",
              " 342.44928,\n",
              " 342.44928,\n",
              " 342.44928,\n",
              " 342.44928,\n",
              " 342.44928,\n",
              " 342.44928,\n",
              " 342.44928,\n",
              " 342.44928,\n",
              " 342.44928,\n",
              " 342.44928,\n",
              " 342.44928,\n",
              " 342.44928,\n",
              " 342.44928,\n",
              " 342.44928,\n",
              " 342.44928,\n",
              " 342.44928,\n",
              " 342.44928,\n",
              " 342.44928,\n",
              " 342.44928,\n",
              " 342.44928,\n",
              " 342.44928,\n",
              " 342.44928,\n",
              " 342.44928,\n",
              " 342.44928,\n",
              " 342.44928,\n",
              " 342.44928,\n",
              " 342.44928,\n",
              " 342.44928,\n",
              " 342.44928,\n",
              " 342.44928,\n",
              " 342.44928,\n",
              " 342.44928,\n",
              " 342.44928,\n",
              " 342.44928,\n",
              " 342.44928]"
            ]
          },
          "execution_count": 66,
          "metadata": {},
          "output_type": "execute_result"
        }
      ],
      "source": [
        "predict_next_seven_days()"
      ]
    },
    {
      "cell_type": "code",
      "execution_count": null,
      "metadata": {},
      "outputs": [],
      "source": []
    }
  ],
  "metadata": {
    "colab": {
      "provenance": []
    },
    "kernelspec": {
      "display_name": "Python 3",
      "name": "python3"
    },
    "language_info": {
      "codemirror_mode": {
        "name": "ipython",
        "version": 3
      },
      "file_extension": ".py",
      "mimetype": "text/x-python",
      "name": "python",
      "nbconvert_exporter": "python",
      "pygments_lexer": "ipython3",
      "version": "3.10.0"
    }
  },
  "nbformat": 4,
  "nbformat_minor": 0
}
