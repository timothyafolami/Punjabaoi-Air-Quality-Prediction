{
  "cells": [
    {
      "cell_type": "code",
      "execution_count": 1,
      "metadata": {
        "id": "9pCQEoM_xyFD"
      },
      "outputs": [],
      "source": [
        "import pandas as pd\n",
        "import numpy as np\n",
        "import matplotlib.pyplot as plt\n",
        "\n",
        "import torch\n",
        "import torch.nn as nn"
      ]
    },
    {
      "cell_type": "code",
      "execution_count": 2,
      "metadata": {
        "id": "wF-qgYf1x_W-"
      },
      "outputs": [],
      "source": [
        "data = pd.read_csv('clean.csv')"
      ]
    },
    {
      "cell_type": "code",
      "execution_count": 3,
      "metadata": {
        "colab": {
          "base_uri": "https://localhost:8080/",
          "height": 424
        },
        "id": "91lqfytbx_ay",
        "outputId": "3d34db53-e73b-40b8-d303-ac927bec2e69"
      },
      "outputs": [
        {
          "data": {
            "text/html": [
              "<div>\n",
              "<style scoped>\n",
              "    .dataframe tbody tr th:only-of-type {\n",
              "        vertical-align: middle;\n",
              "    }\n",
              "\n",
              "    .dataframe tbody tr th {\n",
              "        vertical-align: top;\n",
              "    }\n",
              "\n",
              "    .dataframe thead th {\n",
              "        text-align: right;\n",
              "    }\n",
              "</style>\n",
              "<table border=\"1\" class=\"dataframe\">\n",
              "  <thead>\n",
              "    <tr style=\"text-align: right;\">\n",
              "      <th></th>\n",
              "      <th>date</th>\n",
              "      <th>AQI</th>\n",
              "      <th>latitude</th>\n",
              "      <th>longitude</th>\n",
              "    </tr>\n",
              "  </thead>\n",
              "  <tbody>\n",
              "    <tr>\n",
              "      <th>0</th>\n",
              "      <td>2023-04-01 00:00:00</td>\n",
              "      <td>45.765</td>\n",
              "      <td>27.889417</td>\n",
              "      <td>71.375264</td>\n",
              "    </tr>\n",
              "    <tr>\n",
              "      <th>1</th>\n",
              "      <td>2023-04-01 01:00:00</td>\n",
              "      <td>46.520</td>\n",
              "      <td>27.889417</td>\n",
              "      <td>71.375264</td>\n",
              "    </tr>\n",
              "    <tr>\n",
              "      <th>2</th>\n",
              "      <td>2023-04-01 02:00:00</td>\n",
              "      <td>47.640</td>\n",
              "      <td>27.889417</td>\n",
              "      <td>71.375264</td>\n",
              "    </tr>\n",
              "    <tr>\n",
              "      <th>3</th>\n",
              "      <td>2023-04-01 03:00:00</td>\n",
              "      <td>49.330</td>\n",
              "      <td>27.889417</td>\n",
              "      <td>71.375264</td>\n",
              "    </tr>\n",
              "    <tr>\n",
              "      <th>4</th>\n",
              "      <td>2023-04-01 04:00:00</td>\n",
              "      <td>51.210</td>\n",
              "      <td>27.889417</td>\n",
              "      <td>71.375264</td>\n",
              "    </tr>\n",
              "    <tr>\n",
              "      <th>...</th>\n",
              "      <td>...</td>\n",
              "      <td>...</td>\n",
              "      <td>...</td>\n",
              "      <td>...</td>\n",
              "    </tr>\n",
              "    <tr>\n",
              "      <th>9236</th>\n",
              "      <td>2024-04-19 20:00:00</td>\n",
              "      <td>64.075</td>\n",
              "      <td>27.889417</td>\n",
              "      <td>71.375264</td>\n",
              "    </tr>\n",
              "    <tr>\n",
              "      <th>9237</th>\n",
              "      <td>2024-04-19 21:00:00</td>\n",
              "      <td>64.950</td>\n",
              "      <td>27.889417</td>\n",
              "      <td>71.375264</td>\n",
              "    </tr>\n",
              "    <tr>\n",
              "      <th>9238</th>\n",
              "      <td>2024-04-19 22:00:00</td>\n",
              "      <td>63.735</td>\n",
              "      <td>27.889417</td>\n",
              "      <td>71.375264</td>\n",
              "    </tr>\n",
              "    <tr>\n",
              "      <th>9239</th>\n",
              "      <td>2024-04-19 23:00:00</td>\n",
              "      <td>61.845</td>\n",
              "      <td>27.889417</td>\n",
              "      <td>71.375264</td>\n",
              "    </tr>\n",
              "    <tr>\n",
              "      <th>9240</th>\n",
              "      <td>2024-04-20 00:00:00</td>\n",
              "      <td>60.765</td>\n",
              "      <td>27.889417</td>\n",
              "      <td>71.375264</td>\n",
              "    </tr>\n",
              "  </tbody>\n",
              "</table>\n",
              "<p>9241 rows × 4 columns</p>\n",
              "</div>"
            ],
            "text/plain": [
              "                     date     AQI   latitude  longitude\n",
              "0     2023-04-01 00:00:00  45.765  27.889417  71.375264\n",
              "1     2023-04-01 01:00:00  46.520  27.889417  71.375264\n",
              "2     2023-04-01 02:00:00  47.640  27.889417  71.375264\n",
              "3     2023-04-01 03:00:00  49.330  27.889417  71.375264\n",
              "4     2023-04-01 04:00:00  51.210  27.889417  71.375264\n",
              "...                   ...     ...        ...        ...\n",
              "9236  2024-04-19 20:00:00  64.075  27.889417  71.375264\n",
              "9237  2024-04-19 21:00:00  64.950  27.889417  71.375264\n",
              "9238  2024-04-19 22:00:00  63.735  27.889417  71.375264\n",
              "9239  2024-04-19 23:00:00  61.845  27.889417  71.375264\n",
              "9240  2024-04-20 00:00:00  60.765  27.889417  71.375264\n",
              "\n",
              "[9241 rows x 4 columns]"
            ]
          },
          "execution_count": 3,
          "metadata": {},
          "output_type": "execute_result"
        }
      ],
      "source": [
        "data"
      ]
    },
    {
      "cell_type": "code",
      "execution_count": 4,
      "metadata": {
        "colab": {
          "base_uri": "https://localhost:8080/",
          "height": 424
        },
        "id": "g0CJu7IBx_dY",
        "outputId": "f86e30e8-6565-4d3d-a1ba-1629e6068078"
      },
      "outputs": [
        {
          "data": {
            "text/html": [
              "<div>\n",
              "<style scoped>\n",
              "    .dataframe tbody tr th:only-of-type {\n",
              "        vertical-align: middle;\n",
              "    }\n",
              "\n",
              "    .dataframe tbody tr th {\n",
              "        vertical-align: top;\n",
              "    }\n",
              "\n",
              "    .dataframe thead th {\n",
              "        text-align: right;\n",
              "    }\n",
              "</style>\n",
              "<table border=\"1\" class=\"dataframe\">\n",
              "  <thead>\n",
              "    <tr style=\"text-align: right;\">\n",
              "      <th></th>\n",
              "      <th>date</th>\n",
              "      <th>AQI</th>\n",
              "    </tr>\n",
              "  </thead>\n",
              "  <tbody>\n",
              "    <tr>\n",
              "      <th>0</th>\n",
              "      <td>2023-04-01 00:00:00</td>\n",
              "      <td>45.765</td>\n",
              "    </tr>\n",
              "    <tr>\n",
              "      <th>1</th>\n",
              "      <td>2023-04-01 01:00:00</td>\n",
              "      <td>46.520</td>\n",
              "    </tr>\n",
              "    <tr>\n",
              "      <th>2</th>\n",
              "      <td>2023-04-01 02:00:00</td>\n",
              "      <td>47.640</td>\n",
              "    </tr>\n",
              "    <tr>\n",
              "      <th>3</th>\n",
              "      <td>2023-04-01 03:00:00</td>\n",
              "      <td>49.330</td>\n",
              "    </tr>\n",
              "    <tr>\n",
              "      <th>4</th>\n",
              "      <td>2023-04-01 04:00:00</td>\n",
              "      <td>51.210</td>\n",
              "    </tr>\n",
              "    <tr>\n",
              "      <th>...</th>\n",
              "      <td>...</td>\n",
              "      <td>...</td>\n",
              "    </tr>\n",
              "    <tr>\n",
              "      <th>9236</th>\n",
              "      <td>2024-04-19 20:00:00</td>\n",
              "      <td>64.075</td>\n",
              "    </tr>\n",
              "    <tr>\n",
              "      <th>9237</th>\n",
              "      <td>2024-04-19 21:00:00</td>\n",
              "      <td>64.950</td>\n",
              "    </tr>\n",
              "    <tr>\n",
              "      <th>9238</th>\n",
              "      <td>2024-04-19 22:00:00</td>\n",
              "      <td>63.735</td>\n",
              "    </tr>\n",
              "    <tr>\n",
              "      <th>9239</th>\n",
              "      <td>2024-04-19 23:00:00</td>\n",
              "      <td>61.845</td>\n",
              "    </tr>\n",
              "    <tr>\n",
              "      <th>9240</th>\n",
              "      <td>2024-04-20 00:00:00</td>\n",
              "      <td>60.765</td>\n",
              "    </tr>\n",
              "  </tbody>\n",
              "</table>\n",
              "<p>9241 rows × 2 columns</p>\n",
              "</div>"
            ],
            "text/plain": [
              "                     date     AQI\n",
              "0     2023-04-01 00:00:00  45.765\n",
              "1     2023-04-01 01:00:00  46.520\n",
              "2     2023-04-01 02:00:00  47.640\n",
              "3     2023-04-01 03:00:00  49.330\n",
              "4     2023-04-01 04:00:00  51.210\n",
              "...                   ...     ...\n",
              "9236  2024-04-19 20:00:00  64.075\n",
              "9237  2024-04-19 21:00:00  64.950\n",
              "9238  2024-04-19 22:00:00  63.735\n",
              "9239  2024-04-19 23:00:00  61.845\n",
              "9240  2024-04-20 00:00:00  60.765\n",
              "\n",
              "[9241 rows x 2 columns]"
            ]
          },
          "execution_count": 4,
          "metadata": {},
          "output_type": "execute_result"
        }
      ],
      "source": [
        "data = data[['date', 'AQI']]\n",
        "data"
      ]
    },
    {
      "cell_type": "code",
      "execution_count": 5,
      "metadata": {
        "colab": {
          "base_uri": "https://localhost:8080/",
          "height": 36
        },
        "id": "VNTE_G0dx_fq",
        "outputId": "503d5cdd-0591-4678-dddb-6e015fc9e230"
      },
      "outputs": [
        {
          "data": {
            "text/plain": [
              "'cpu'"
            ]
          },
          "execution_count": 5,
          "metadata": {},
          "output_type": "execute_result"
        }
      ],
      "source": [
        "device = 'cuda:0' if torch.cuda.is_available() else 'cpu'\n",
        "device"
      ]
    },
    {
      "cell_type": "code",
      "execution_count": 6,
      "metadata": {
        "colab": {
          "base_uri": "https://localhost:8080/",
          "height": 551
        },
        "id": "pE0-FGP8x_h7",
        "outputId": "28d336d1-3ef7-4742-9677-3272aba0192c"
      },
      "outputs": [
        {
          "name": "stderr",
          "output_type": "stream",
          "text": [
            "C:\\Users\\timmy\\AppData\\Local\\Temp\\ipykernel_24932\\3395756933.py:1: SettingWithCopyWarning: \n",
            "A value is trying to be set on a copy of a slice from a DataFrame.\n",
            "Try using .loc[row_indexer,col_indexer] = value instead\n",
            "\n",
            "See the caveats in the documentation: https://pandas.pydata.org/pandas-docs/stable/user_guide/indexing.html#returning-a-view-versus-a-copy\n",
            "  data['date'] = pd.to_datetime(data['date'])\n"
          ]
        },
        {
          "data": {
            "text/plain": [
              "[<matplotlib.lines.Line2D at 0x17442c6a7a0>]"
            ]
          },
          "execution_count": 6,
          "metadata": {},
          "output_type": "execute_result"
        },
        {
          "data": {
            "image/png": "[encoded data removed]",
            "text/plain": [
              "<Figure size 640x480 with 1 Axes>"
            ]
          },
          "metadata": {},
          "output_type": "display_data"
        }
      ],
      "source": [
        "data['date'] = pd.to_datetime(data['date'])\n",
        "\n",
        "plt.plot(data['date'], data['AQI'])"
      ]
    },
    {
      "cell_type": "code",
      "execution_count": 7,
      "metadata": {
        "colab": {
          "base_uri": "https://localhost:8080/",
          "height": 455
        },
        "id": "MLsYVQgox_ko",
        "outputId": "0702adde-3d0d-4a1a-f32c-619304cc2071"
      },
      "outputs": [
        {
          "data": {
            "text/html": [
              "<div>\n",
              "<style scoped>\n",
              "    .dataframe tbody tr th:only-of-type {\n",
              "        vertical-align: middle;\n",
              "    }\n",
              "\n",
              "    .dataframe tbody tr th {\n",
              "        vertical-align: top;\n",
              "    }\n",
              "\n",
              "    .dataframe thead th {\n",
              "        text-align: right;\n",
              "    }\n",
              "</style>\n",
              "<table border=\"1\" class=\"dataframe\">\n",
              "  <thead>\n",
              "    <tr style=\"text-align: right;\">\n",
              "      <th></th>\n",
              "      <th>AQI</th>\n",
              "      <th>AQI(t-1)</th>\n",
              "      <th>AQI(t-2)</th>\n",
              "      <th>AQI(t-3)</th>\n",
              "      <th>AQI(t-4)</th>\n",
              "      <th>AQI(t-5)</th>\n",
              "      <th>AQI(t-6)</th>\n",
              "      <th>AQI(t-7)</th>\n",
              "    </tr>\n",
              "    <tr>\n",
              "      <th>date</th>\n",
              "      <th></th>\n",
              "      <th></th>\n",
              "      <th></th>\n",
              "      <th></th>\n",
              "      <th></th>\n",
              "      <th></th>\n",
              "      <th></th>\n",
              "      <th></th>\n",
              "    </tr>\n",
              "  </thead>\n",
              "  <tbody>\n",
              "    <tr>\n",
              "      <th>2023-04-01 07:00:00</th>\n",
              "      <td>47.205</td>\n",
              "      <td>49.650</td>\n",
              "      <td>51.400</td>\n",
              "      <td>51.210</td>\n",
              "      <td>49.330</td>\n",
              "      <td>47.640</td>\n",
              "      <td>46.520</td>\n",
              "      <td>45.765</td>\n",
              "    </tr>\n",
              "    <tr>\n",
              "      <th>2023-04-01 08:00:00</th>\n",
              "      <td>44.425</td>\n",
              "      <td>47.205</td>\n",
              "      <td>49.650</td>\n",
              "      <td>51.400</td>\n",
              "      <td>51.210</td>\n",
              "      <td>49.330</td>\n",
              "      <td>47.640</td>\n",
              "      <td>46.520</td>\n",
              "    </tr>\n",
              "    <tr>\n",
              "      <th>2023-04-01 09:00:00</th>\n",
              "      <td>42.035</td>\n",
              "      <td>44.425</td>\n",
              "      <td>47.205</td>\n",
              "      <td>49.650</td>\n",
              "      <td>51.400</td>\n",
              "      <td>51.210</td>\n",
              "      <td>49.330</td>\n",
              "      <td>47.640</td>\n",
              "    </tr>\n",
              "    <tr>\n",
              "      <th>2023-04-01 10:00:00</th>\n",
              "      <td>40.915</td>\n",
              "      <td>42.035</td>\n",
              "      <td>44.425</td>\n",
              "      <td>47.205</td>\n",
              "      <td>49.650</td>\n",
              "      <td>51.400</td>\n",
              "      <td>51.210</td>\n",
              "      <td>49.330</td>\n",
              "    </tr>\n",
              "    <tr>\n",
              "      <th>2023-04-01 11:00:00</th>\n",
              "      <td>40.240</td>\n",
              "      <td>40.915</td>\n",
              "      <td>42.035</td>\n",
              "      <td>44.425</td>\n",
              "      <td>47.205</td>\n",
              "      <td>49.650</td>\n",
              "      <td>51.400</td>\n",
              "      <td>51.210</td>\n",
              "    </tr>\n",
              "    <tr>\n",
              "      <th>...</th>\n",
              "      <td>...</td>\n",
              "      <td>...</td>\n",
              "      <td>...</td>\n",
              "      <td>...</td>\n",
              "      <td>...</td>\n",
              "      <td>...</td>\n",
              "      <td>...</td>\n",
              "      <td>...</td>\n",
              "    </tr>\n",
              "    <tr>\n",
              "      <th>2024-04-19 20:00:00</th>\n",
              "      <td>64.075</td>\n",
              "      <td>61.375</td>\n",
              "      <td>57.480</td>\n",
              "      <td>54.325</td>\n",
              "      <td>55.820</td>\n",
              "      <td>68.255</td>\n",
              "      <td>86.095</td>\n",
              "      <td>105.880</td>\n",
              "    </tr>\n",
              "    <tr>\n",
              "      <th>2024-04-19 21:00:00</th>\n",
              "      <td>64.950</td>\n",
              "      <td>64.075</td>\n",
              "      <td>61.375</td>\n",
              "      <td>57.480</td>\n",
              "      <td>54.325</td>\n",
              "      <td>55.820</td>\n",
              "      <td>68.255</td>\n",
              "      <td>86.095</td>\n",
              "    </tr>\n",
              "    <tr>\n",
              "      <th>2024-04-19 22:00:00</th>\n",
              "      <td>63.735</td>\n",
              "      <td>64.950</td>\n",
              "      <td>64.075</td>\n",
              "      <td>61.375</td>\n",
              "      <td>57.480</td>\n",
              "      <td>54.325</td>\n",
              "      <td>55.820</td>\n",
              "      <td>68.255</td>\n",
              "    </tr>\n",
              "    <tr>\n",
              "      <th>2024-04-19 23:00:00</th>\n",
              "      <td>61.845</td>\n",
              "      <td>63.735</td>\n",
              "      <td>64.950</td>\n",
              "      <td>64.075</td>\n",
              "      <td>61.375</td>\n",
              "      <td>57.480</td>\n",
              "      <td>54.325</td>\n",
              "      <td>55.820</td>\n",
              "    </tr>\n",
              "    <tr>\n",
              "      <th>2024-04-20 00:00:00</th>\n",
              "      <td>60.765</td>\n",
              "      <td>61.845</td>\n",
              "      <td>63.735</td>\n",
              "      <td>64.950</td>\n",
              "      <td>64.075</td>\n",
              "      <td>61.375</td>\n",
              "      <td>57.480</td>\n",
              "      <td>54.325</td>\n",
              "    </tr>\n",
              "  </tbody>\n",
              "</table>\n",
              "<p>9234 rows × 8 columns</p>\n",
              "</div>"
            ],
            "text/plain": [
              "                        AQI  AQI(t-1)  AQI(t-2)  AQI(t-3)  AQI(t-4)  AQI(t-5)  \\\n",
              "date                                                                            \n",
              "2023-04-01 07:00:00  47.205    49.650    51.400    51.210    49.330    47.640   \n",
              "2023-04-01 08:00:00  44.425    47.205    49.650    51.400    51.210    49.330   \n",
              "2023-04-01 09:00:00  42.035    44.425    47.205    49.650    51.400    51.210   \n",
              "2023-04-01 10:00:00  40.915    42.035    44.425    47.205    49.650    51.400   \n",
              "2023-04-01 11:00:00  40.240    40.915    42.035    44.425    47.205    49.650   \n",
              "...                     ...       ...       ...       ...       ...       ...   \n",
              "2024-04-19 20:00:00  64.075    61.375    57.480    54.325    55.820    68.255   \n",
              "2024-04-19 21:00:00  64.950    64.075    61.375    57.480    54.325    55.820   \n",
              "2024-04-19 22:00:00  63.735    64.950    64.075    61.375    57.480    54.325   \n",
              "2024-04-19 23:00:00  61.845    63.735    64.950    64.075    61.375    57.480   \n",
              "2024-04-20 00:00:00  60.765    61.845    63.735    64.950    64.075    61.375   \n",
              "\n",
              "                     AQI(t-6)  AQI(t-7)  \n",
              "date                                     \n",
              "2023-04-01 07:00:00    46.520    45.765  \n",
              "2023-04-01 08:00:00    47.640    46.520  \n",
              "2023-04-01 09:00:00    49.330    47.640  \n",
              "2023-04-01 10:00:00    51.210    49.330  \n",
              "2023-04-01 11:00:00    51.400    51.210  \n",
              "...                       ...       ...  \n",
              "2024-04-19 20:00:00    86.095   105.880  \n",
              "2024-04-19 21:00:00    68.255    86.095  \n",
              "2024-04-19 22:00:00    55.820    68.255  \n",
              "2024-04-19 23:00:00    54.325    55.820  \n",
              "2024-04-20 00:00:00    57.480    54.325  \n",
              "\n",
              "[9234 rows x 8 columns]"
            ]
          },
          "execution_count": 7,
          "metadata": {},
          "output_type": "execute_result"
        }
      ],
      "source": [
        "from copy import deepcopy as dc\n",
        "\n",
        "def prepare_data(df, n_steps):\n",
        "  df = dc(df)\n",
        "  df['date'] = pd.to_datetime(df['date'])\n",
        "\n",
        "  df.set_index('date', inplace=True)\n",
        "\n",
        "  for i in range(1, n_steps+1):\n",
        "    df[f\"AQI(t-{i})\"] = df['AQI'].shift(i)\n",
        "\n",
        "  df.dropna(inplace=True)\n",
        "\n",
        "  return df\n",
        "\n",
        "lookback = 7\n",
        "shifted_df = prepare_data(data, lookback)\n",
        "shifted_df"
      ]
    },
    {
      "cell_type": "code",
      "execution_count": 8,
      "metadata": {
        "colab": {
          "base_uri": "https://localhost:8080/"
        },
        "id": "05MFFADjx_nW",
        "outputId": "279a3244-9101-44fb-fc8f-73a439baba62"
      },
      "outputs": [
        {
          "data": {
            "text/plain": [
              "array([[47.205, 49.65 , 51.4  , ..., 47.64 , 46.52 , 45.765],\n",
              "       [44.425, 47.205, 49.65 , ..., 49.33 , 47.64 , 46.52 ],\n",
              "       [42.035, 44.425, 47.205, ..., 51.21 , 49.33 , 47.64 ],\n",
              "       ...,\n",
              "       [63.735, 64.95 , 64.075, ..., 54.325, 55.82 , 68.255],\n",
              "       [61.845, 63.735, 64.95 , ..., 57.48 , 54.325, 55.82 ],\n",
              "       [60.765, 61.845, 63.735, ..., 61.375, 57.48 , 54.325]])"
            ]
          },
          "execution_count": 8,
          "metadata": {},
          "output_type": "execute_result"
        }
      ],
      "source": [
        "# converting to an array\n",
        "shifted_df_as_np = shifted_df.to_numpy()\n",
        "\n",
        "shifted_df_as_np"
      ]
    },
    {
      "cell_type": "code",
      "execution_count": 10,
      "metadata": {
        "colab": {
          "base_uri": "https://localhost:8080/"
        },
        "id": "ZwcQ6Yuqx_py",
        "outputId": "088ddae1-41bc-4d9b-8198-b6d862e8202e"
      },
      "outputs": [
        {
          "data": {
            "text/plain": [
              "array([[-0.51809868, -0.485499  , -0.46216203, ..., -0.51218743,\n",
              "        -0.52708496, -0.53712404],\n",
              "       [-0.55514309, -0.51807922, -0.48548106, ..., -0.48966847,\n",
              "        -0.51216129, -0.52706397],\n",
              "       [-0.58699062, -0.55512339, -0.51806108, ..., -0.4646178 ,\n",
              "        -0.48964254, -0.51214041],\n",
              "       ...,\n",
              "       [-0.297831  , -0.28162283, -0.2932656 , ..., -0.42311096,\n",
              "        -0.40316521, -0.23745376],\n",
              "       [-0.32301587, -0.29781299, -0.28160609, ..., -0.38107113,\n",
              "        -0.42308564, -0.40314518],\n",
              "       [-0.33740722, -0.3229977 , -0.29779616, ..., -0.32917093,\n",
              "        -0.3810462 , -0.42306546]])"
            ]
          },
          "execution_count": 10,
          "metadata": {},
          "output_type": "execute_result"
        }
      ],
      "source": [
        "# scaling the data\n",
        "from sklearn.preprocessing import StandardScaler\n",
        "\n",
        "scaler = StandardScaler()\n",
        "shifted_df_as_np = scaler.fit_transform(shifted_df_as_np)\n",
        "\n",
        "shifted_df_as_np"
      ]
    },
    {
      "cell_type": "code",
      "execution_count": 11,
      "metadata": {},
      "outputs": [
        {
          "data": {
            "text/plain": [
              "['scaler.pkl']"
            ]
          },
          "execution_count": 11,
          "metadata": {},
          "output_type": "execute_result"
        }
      ],
      "source": [
        "# saving the scaler\n",
        "import joblib\n",
        "\n",
        "joblib.dump(scaler, 'scaler.pkl')"
      ]
    },
    {
      "cell_type": "code",
      "execution_count": 12,
      "metadata": {
        "colab": {
          "base_uri": "https://localhost:8080/"
        },
        "id": "b3lhn7jIx_rz",
        "outputId": "8c142f5b-02d9-4d6a-d538-2578facd2461"
      },
      "outputs": [
        {
          "data": {
            "text/plain": [
              "((9234, 7), (9234,))"
            ]
          },
          "execution_count": 12,
          "metadata": {},
          "output_type": "execute_result"
        }
      ],
      "source": [
        "X = shifted_df_as_np[:, 1:]\n",
        "y = shifted_df_as_np[:, 0]\n",
        "\n",
        "X.shape, y.shape"
      ]
    },
    {
      "cell_type": "code",
      "execution_count": 13,
      "metadata": {
        "colab": {
          "base_uri": "https://localhost:8080/"
        },
        "id": "_UEtRFzjx_ud",
        "outputId": "c801fd5d-a8fe-4c37-c7e2-efbbf71f6d74"
      },
      "outputs": [
        {
          "data": {
            "text/plain": [
              "array([[-0.53712404, -0.52708496, -0.51218743, ..., -0.46467253,\n",
              "        -0.46216203, -0.485499  ],\n",
              "       [-0.52706397, -0.51216129, -0.48966847, ..., -0.46214077,\n",
              "        -0.48548106, -0.51807922],\n",
              "       [-0.51214041, -0.48964254, -0.4646178 , ..., -0.48545964,\n",
              "        -0.51806108, -0.55512339],\n",
              "       ...,\n",
              "       [-0.23745376, -0.40316521, -0.42311096, ..., -0.3292232 ,\n",
              "        -0.2932656 , -0.28162283],\n",
              "       [-0.40314518, -0.42308564, -0.38107113, ..., -0.29324551,\n",
              "        -0.28160609, -0.29781299],\n",
              "       [-0.42306546, -0.3810462 , -0.32917093, ..., -0.28158607,\n",
              "        -0.29779616, -0.3229977 ]])"
            ]
          },
          "execution_count": 13,
          "metadata": {},
          "output_type": "execute_result"
        }
      ],
      "source": [
        "X = dc(np.flip(X, axis=1))\n",
        "X"
      ]
    },
    {
      "cell_type": "code",
      "execution_count": 15,
      "metadata": {
        "colab": {
          "base_uri": "https://localhost:8080/"
        },
        "id": "tIdSMUPUx_y_",
        "outputId": "718c893b-8c14-45ef-be68-23594e51bf44"
      },
      "outputs": [
        {
          "data": {
            "text/plain": [
              "9141"
            ]
          },
          "execution_count": 15,
          "metadata": {},
          "output_type": "execute_result"
        }
      ],
      "source": [
        "split_index = int(len(X) * 0.99)\n",
        "\n",
        "split_index"
      ]
    },
    {
      "cell_type": "code",
      "execution_count": 16,
      "metadata": {
        "colab": {
          "base_uri": "https://localhost:8080/"
        },
        "id": "8fFu_ljnx_1R",
        "outputId": "55324c42-d617-4811-cdb0-78a759b5621d"
      },
      "outputs": [
        {
          "data": {
            "text/plain": [
              "((9141, 7), (93, 7), (9141,), (93,))"
            ]
          },
          "execution_count": 16,
          "metadata": {},
          "output_type": "execute_result"
        }
      ],
      "source": [
        "X_train = X[:split_index]\n",
        "X_test = X[split_index:]\n",
        "\n",
        "y_train = y[:split_index]\n",
        "y_test = y[split_index:]\n",
        "\n",
        "X_train.shape, X_test.shape, y_train.shape, y_test.shape"
      ]
    },
    {
      "cell_type": "code",
      "execution_count": 17,
      "metadata": {
        "colab": {
          "base_uri": "https://localhost:8080/"
        },
        "id": "5esaxvZlx_4A",
        "outputId": "7199aa08-d571-4f99-c314-96451d9187e3"
      },
      "outputs": [
        {
          "data": {
            "text/plain": [
              "((9141, 7, 1), (93, 7, 1), (9141, 1), (93, 1))"
            ]
          },
          "execution_count": 17,
          "metadata": {},
          "output_type": "execute_result"
        }
      ],
      "source": [
        "X_train = X_train.reshape((-1, lookback, 1))\n",
        "X_test = X_test.reshape((-1, lookback, 1))\n",
        "\n",
        "y_train = y_train.reshape((-1, 1))\n",
        "y_test = y_test.reshape((-1, 1))\n",
        "\n",
        "X_train.shape, X_test.shape, y_train.shape, y_test.shape"
      ]
    },
    {
      "cell_type": "code",
      "execution_count": 18,
      "metadata": {
        "colab": {
          "base_uri": "https://localhost:8080/"
        },
        "id": "vUHQN5Fdx_6K",
        "outputId": "34329117-5361-440d-b5e0-a543e38730b8"
      },
      "outputs": [
        {
          "data": {
            "text/plain": [
              "(torch.Size([9141, 7, 1]),\n",
              " torch.Size([93, 7, 1]),\n",
              " torch.Size([9141, 1]),\n",
              " torch.Size([93, 1]))"
            ]
          },
          "execution_count": 18,
          "metadata": {},
          "output_type": "execute_result"
        }
      ],
      "source": [
        "X_train = torch.tensor(X_train).float()\n",
        "y_train = torch.tensor(y_train).float()\n",
        "X_test = torch.tensor(X_test).float()\n",
        "y_test = torch.tensor(y_test).float()\n",
        "\n",
        "X_train.shape, X_test.shape, y_train.shape, y_test.shape"
      ]
    },
    {
      "cell_type": "code",
      "execution_count": 19,
      "metadata": {
        "id": "9Up4g0oBx_-4"
      },
      "outputs": [],
      "source": [
        "# Creating a dataset\n",
        "from torch.utils.data import Dataset\n",
        "\n",
        "class TimeSeriesDataset(Dataset):\n",
        "  def __init__(self, X, y):\n",
        "    self.X = X\n",
        "    self.y = y\n",
        "\n",
        "  def __len__(self):\n",
        "    return len(self.X)\n",
        "\n",
        "  def __getitem__(self, i):\n",
        "    return self.X[i], self.y[i]\n",
        "\n",
        "train_dataset = TimeSeriesDataset(X_train, y_train)\n",
        "test_dataset = TimeSeriesDataset(X_test, y_test)"
      ]
    },
    {
      "cell_type": "code",
      "execution_count": 20,
      "metadata": {
        "colab": {
          "base_uri": "https://localhost:8080/"
        },
        "id": "4OmnzKKZyABl",
        "outputId": "1a895218-9b7a-47d1-88c1-9d3f0038e692"
      },
      "outputs": [
        {
          "data": {
            "text/plain": [
              "<__main__.TimeSeriesDataset at 0x1744618d3f0>"
            ]
          },
          "execution_count": 20,
          "metadata": {},
          "output_type": "execute_result"
        }
      ],
      "source": [
        "train_dataset"
      ]
    },
    {
      "cell_type": "code",
      "execution_count": 21,
      "metadata": {
        "id": "HDfb4NRfyADz"
      },
      "outputs": [],
      "source": [
        "# Data Loader\n",
        "from torch.utils.data import DataLoader\n",
        "\n",
        "batch_size = 16\n",
        "\n",
        "train_loader = DataLoader(train_dataset, batch_size=batch_size, shuffle=True)\n",
        "test_loader = DataLoader(test_dataset, batch_size=batch_size, shuffle=False)"
      ]
    },
    {
      "cell_type": "code",
      "execution_count": 22,
      "metadata": {
        "colab": {
          "base_uri": "https://localhost:8080/"
        },
        "id": "auHD-TnkyAHP",
        "outputId": "de9b6a68-e65b-4124-d69f-d953a553f223"
      },
      "outputs": [
        {
          "name": "stdout",
          "output_type": "stream",
          "text": [
            "torch.Size([16, 7, 1]) torch.Size([16, 1])\n"
          ]
        }
      ],
      "source": [
        "for _, batch in enumerate(train_loader):\n",
        "    x_batch, y_batch = batch[0].to(device), batch[1].to(device)\n",
        "    print(x_batch.shape, y_batch.shape)\n",
        "    break"
      ]
    },
    {
      "cell_type": "code",
      "execution_count": 23,
      "metadata": {
        "id": "rREkyGIX_chE"
      },
      "outputs": [],
      "source": [
        "# LSTM Model\n",
        "\n",
        "\n",
        "class LSTM(nn.Module):\n",
        "  def __init__(self, input_size, hidden_size, num_stacked_layers):\n",
        "    super().__init__()\n",
        "    self.hidden_size = hidden_size\n",
        "    self.num_stacked_layers = num_stacked_layers\n",
        "\n",
        "    self.lstm = nn.LSTM(input_size, hidden_size, num_stacked_layers, batch_first=True)\n",
        "    self.fc = nn.Linear(hidden_size, 1)\n",
        "\n",
        "  def forward(self, x):\n",
        "    batch_size = x.size(0)\n",
        "    h0 = torch.zeros(self.num_stacked_layers, batch_size, self.hidden_size).to(device)\n",
        "    c0 = torch.zeros(self.num_stacked_layers, batch_size, self.hidden_size).to(device)\n",
        "\n",
        "    out, _ = self.lstm(x, (h0, c0))\n",
        "    out = self.fc(out[:, -1, :])\n",
        "    return out\n",
        "\n"
      ]
    },
    {
      "cell_type": "code",
      "execution_count": 24,
      "metadata": {
        "colab": {
          "base_uri": "https://localhost:8080/"
        },
        "id": "K8WkLrjr_cja",
        "outputId": "8422f6fc-3a12-484e-a70a-c4069e31a881"
      },
      "outputs": [
        {
          "data": {
            "text/plain": [
              "LSTM(\n",
              "  (lstm): LSTM(1, 4, batch_first=True)\n",
              "  (fc): Linear(in_features=4, out_features=1, bias=True)\n",
              ")"
            ]
          },
          "execution_count": 24,
          "metadata": {},
          "output_type": "execute_result"
        }
      ],
      "source": [
        "model = LSTM(1, 4, 1)\n",
        "model.to(device)\n",
        "model"
      ]
    },
    {
      "cell_type": "code",
      "execution_count": 25,
      "metadata": {
        "id": "3tSdKe3n_clh"
      },
      "outputs": [],
      "source": [
        "def train_one_epoch():\n",
        "  model.train(True)\n",
        "  print(f'Epoch: {epoch +1 }')\n",
        "\n",
        "  running_loss = 0.0\n",
        "\n",
        "  for batch_index, batch in enumerate(train_loader):\n",
        "    x_batch, y_batch = batch[0].to(device), batch[1].to(device)\n",
        "\n",
        "    output = model(x_batch)\n",
        "    loss = loss_function(output, y_batch)\n",
        "    running_loss += loss.item()\n",
        "\n",
        "    optimizer.zero_grad()\n",
        "    loss.backward()\n",
        "    optimizer.step()\n",
        "\n",
        "    if batch_index % 100==99: # printing every 100 batch\n",
        "      avg_loss_across_batches = running_loss/100\n",
        "      print('Batch {0}, Loss: {1:.3f}'.format(batch_index+1,\n",
        "                                                  avg_loss_across_batches))\n",
        "      running_loss = 0.0\n",
        "  print()"
      ]
    },
    {
      "cell_type": "code",
      "execution_count": 26,
      "metadata": {
        "id": "4Sf7NXyB_cnw"
      },
      "outputs": [],
      "source": [
        "def validate_one_epoch():\n",
        "  model.train(False)\n",
        "  running_loss = 0.0\n",
        "\n",
        "  for batch_index, batch in enumerate(test_loader):\n",
        "    x_batch, y_batch = batch[0].to(device), batch[1].to(device)\n",
        "\n",
        "    with torch.no_grad():\n",
        "      output = model(x_batch)\n",
        "      loss = loss_function(output, y_batch)\n",
        "      running_loss += loss.item()\n",
        "\n",
        "  avg_loss_across_batches = running_loss / len(test_loader)\n",
        "\n",
        "  print('Val Loss: {0:.3f}'.format(avg_loss_across_batches))\n",
        "  print('***************************************************')\n",
        "  print()"
      ]
    },
    {
      "cell_type": "code",
      "execution_count": 27,
      "metadata": {
        "colab": {
          "base_uri": "https://localhost:8080/"
        },
        "id": "86ILvXmO_cqG",
        "outputId": "23dad2d1-97b2-4d96-bde0-0d60d909994e"
      },
      "outputs": [
        {
          "name": "stdout",
          "output_type": "stream",
          "text": [
            "Epoch: 1\n",
            "Batch 100, Loss: 1.010\n",
            "Batch 200, Loss: 0.657\n",
            "Batch 300, Loss: 0.654\n",
            "Batch 400, Loss: 0.444\n",
            "Batch 500, Loss: 0.270\n",
            "\n",
            "Val Loss: 0.185\n",
            "***************************************************\n",
            "\n",
            "Epoch: 2\n",
            "Batch 100, Loss: 0.201\n",
            "Batch 200, Loss: 0.154\n",
            "Batch 300, Loss: 0.225\n",
            "Batch 400, Loss: 0.218\n",
            "Batch 500, Loss: 0.184\n",
            "\n",
            "Val Loss: 0.137\n",
            "***************************************************\n",
            "\n",
            "Epoch: 3\n",
            "Batch 100, Loss: 0.164\n",
            "Batch 200, Loss: 0.090\n",
            "Batch 300, Loss: 0.132\n",
            "Batch 400, Loss: 0.118\n",
            "Batch 500, Loss: 0.090\n",
            "\n",
            "Val Loss: 0.076\n",
            "***************************************************\n",
            "\n",
            "Epoch: 4\n",
            "Batch 100, Loss: 0.091\n",
            "Batch 200, Loss: 0.102\n",
            "Batch 300, Loss: 0.071\n",
            "Batch 400, Loss: 0.055\n",
            "Batch 500, Loss: 0.083\n",
            "\n",
            "Val Loss: 0.052\n",
            "***************************************************\n",
            "\n",
            "Epoch: 5\n",
            "Batch 100, Loss: 0.076\n",
            "Batch 200, Loss: 0.078\n",
            "Batch 300, Loss: 0.060\n",
            "Batch 400, Loss: 0.037\n",
            "Batch 500, Loss: 0.048\n",
            "\n",
            "Val Loss: 0.035\n",
            "***************************************************\n",
            "\n",
            "Epoch: 6\n",
            "Batch 100, Loss: 0.039\n",
            "Batch 200, Loss: 0.062\n",
            "Batch 300, Loss: 0.040\n",
            "Batch 400, Loss: 0.052\n",
            "Batch 500, Loss: 0.054\n",
            "\n",
            "Val Loss: 0.030\n",
            "***************************************************\n",
            "\n",
            "Epoch: 7\n",
            "Batch 100, Loss: 0.032\n",
            "Batch 200, Loss: 0.046\n",
            "Batch 300, Loss: 0.040\n",
            "Batch 400, Loss: 0.045\n",
            "Batch 500, Loss: 0.035\n",
            "\n",
            "Val Loss: 0.027\n",
            "***************************************************\n",
            "\n",
            "Epoch: 8\n",
            "Batch 100, Loss: 0.046\n",
            "Batch 200, Loss: 0.026\n",
            "Batch 300, Loss: 0.037\n",
            "Batch 400, Loss: 0.038\n",
            "Batch 500, Loss: 0.031\n",
            "\n",
            "Val Loss: 0.025\n",
            "***************************************************\n",
            "\n",
            "Epoch: 9\n",
            "Batch 100, Loss: 0.028\n",
            "Batch 200, Loss: 0.034\n",
            "Batch 300, Loss: 0.033\n",
            "Batch 400, Loss: 0.024\n",
            "Batch 500, Loss: 0.042\n",
            "\n",
            "Val Loss: 0.023\n",
            "***************************************************\n",
            "\n",
            "Epoch: 10\n",
            "Batch 100, Loss: 0.043\n",
            "Batch 200, Loss: 0.031\n",
            "Batch 300, Loss: 0.024\n",
            "Batch 400, Loss: 0.022\n",
            "Batch 500, Loss: 0.031\n",
            "\n",
            "Val Loss: 0.021\n",
            "***************************************************\n",
            "\n"
          ]
        }
      ],
      "source": [
        "learning_rate = 0.001\n",
        "num_epochs = 10\n",
        "loss_function = nn.MSELoss()\n",
        "optimizer = torch.optim.Adam(model.parameters(), lr=learning_rate)\n",
        "\n",
        "for epoch in range(num_epochs):\n",
        "    train_one_epoch()\n",
        "    validate_one_epoch()"
      ]
    },
    {
      "cell_type": "code",
      "execution_count": 28,
      "metadata": {
        "colab": {
          "base_uri": "https://localhost:8080/",
          "height": 449
        },
        "id": "XB9NBN40_csh",
        "outputId": "5d9cd8ac-5fe6-4376-e2f6-31e826abcef7"
      },
      "outputs": [
        {
          "data": {
            "image/png": "[encoded data removed]",
            "text/plain": [
              "<Figure size 640x480 with 1 Axes>"
            ]
          },
          "metadata": {},
          "output_type": "display_data"
        }
      ],
      "source": [
        "with torch.no_grad():\n",
        "    predicted = model(X_train.to(device)).to('cpu').numpy()\n",
        "\n",
        "plt.plot(y_train, label='Actual AQI')\n",
        "plt.plot(predicted, label='Predicted AQI')\n",
        "plt.xlabel('Day')\n",
        "plt.ylabel('AQI')\n",
        "plt.legend()\n",
        "plt.show()\n"
      ]
    },
    {
      "cell_type": "code",
      "execution_count": 29,
      "metadata": {
        "colab": {
          "base_uri": "https://localhost:8080/"
        },
        "id": "W2QZIQ7TFXf3",
        "outputId": "a2e336b8-8a46-4119-f645-331ff700df3d"
      },
      "outputs": [
        {
          "data": {
            "text/plain": [
              "array([49.92178391, 47.73194758, 45.18879525, ..., 48.99124973,\n",
              "       47.94790565, 47.37589409])"
            ]
          },
          "execution_count": 29,
          "metadata": {},
          "output_type": "execute_result"
        }
      ],
      "source": [
        "train_predictions = predicted.flatten()\n",
        "\n",
        "dummies = np.zeros((X_train.shape[0], lookback+1))\n",
        "dummies[:, 0] = train_predictions\n",
        "dummies = scaler.inverse_transform(dummies)\n",
        "\n",
        "train_predictions = dc(dummies[:, 0])\n",
        "train_predictions"
      ]
    },
    {
      "cell_type": "code",
      "execution_count": 30,
      "metadata": {
        "colab": {
          "base_uri": "https://localhost:8080/"
        },
        "id": "qVMNCc5zFXic",
        "outputId": "f25d189e-6d8d-4113-958b-8f8647f0865a"
      },
      "outputs": [
        {
          "data": {
            "text/plain": [
              "array([47.20500183, 44.42499789, 42.03499777, ..., 47.50499926,\n",
              "       46.9549995 , 49.26000079])"
            ]
          },
          "execution_count": 30,
          "metadata": {},
          "output_type": "execute_result"
        }
      ],
      "source": [
        "dummies = np.zeros((X_train.shape[0], lookback+1))\n",
        "dummies[:, 0] = y_train.flatten()\n",
        "dummies = scaler.inverse_transform(dummies)\n",
        "\n",
        "new_y_train = dc(dummies[:, 0])\n",
        "new_y_train"
      ]
    },
    {
      "cell_type": "code",
      "execution_count": 31,
      "metadata": {
        "colab": {
          "base_uri": "https://localhost:8080/",
          "height": 449
        },
        "id": "itO2fWyBFXk4",
        "outputId": "ce4f681d-a25b-4827-d09a-a24275f1eac8"
      },
      "outputs": [
        {
          "data": {
            "image/png": "[encoded data removed]",
            "text/plain": [
              "<Figure size 640x480 with 1 Axes>"
            ]
          },
          "metadata": {},
          "output_type": "display_data"
        }
      ],
      "source": [
        "plt.plot(new_y_train, label='Actual AQI')\n",
        "plt.plot(train_predictions, label='Predicted AQI')\n",
        "plt.xlabel('Day')\n",
        "plt.ylabel('AQI')\n",
        "plt.legend()\n",
        "plt.show()\n"
      ]
    },
    {
      "cell_type": "code",
      "execution_count": 32,
      "metadata": {
        "colab": {
          "base_uri": "https://localhost:8080/"
        },
        "id": "QIKF4bqQFXoR",
        "outputId": "96f98118-6590-4896-bfa9-c130eaa5e098"
      },
      "outputs": [
        {
          "data": {
            "text/plain": [
              "array([ 49.36892587,  54.4907643 ,  60.58272772,  63.40723834,\n",
              "        62.55565322,  59.51473275,  57.38449512,  56.40345145,\n",
              "        56.08242181,  55.79900144,  55.54292026,  55.59814433,\n",
              "        55.35609058,  56.08777156,  57.23537312,  58.11884203,\n",
              "        58.59677675,  58.98996536,  58.99357063,  58.21921691,\n",
              "        56.99952794,  55.84436695,  55.12209724,  55.07729533,\n",
              "        56.9042881 ,  59.40309477,  62.66433899,  63.32183023,\n",
              "        62.04673827,  62.12345974,  61.40812323,  60.53348409,\n",
              "        59.78324449,  59.57177287,  58.83808797,  56.83102875,\n",
              "        53.00544869,  52.03175869,  52.61296681,  52.86975473,\n",
              "        52.25392533,  51.31314791,  49.85756009,  47.34371508,\n",
              "        45.82439547,  50.23549566,  74.37479073, 109.55894787,\n",
              "       119.8422558 ,  97.31753584,  89.22639468,  99.11654531,\n",
              "       106.3988546 , 112.17718007, 120.11827778, 124.13895145,\n",
              "       129.80648211, 134.54810371, 145.36813992, 187.17719338,\n",
              "       258.83982026, 309.53400075, 306.96164846, 266.02748462,\n",
              "       229.36425399, 204.06518624, 177.17390631, 155.76122952,\n",
              "       137.69279857, 121.4426089 , 108.48653354,  92.14059858,\n",
              "       112.41649409, 118.49325143, 122.47504102, 127.22738448,\n",
              "       132.43916667, 138.26492643, 137.79734679, 134.10206173,\n",
              "       126.68615634, 116.69632863, 103.01520804,  82.88560981,\n",
              "        67.05433541,  56.15281842,  54.83686976,  57.49544425,\n",
              "        61.14745718,  63.80705152,  64.70558114,  63.54566085,\n",
              "        61.76915968])"
            ]
          },
          "execution_count": 32,
          "metadata": {},
          "output_type": "execute_result"
        }
      ],
      "source": [
        "test_predictions = model(X_test.to(device)).detach().cpu().numpy().flatten()\n",
        "\n",
        "dummies = np.zeros((X_test.shape[0], lookback+1))\n",
        "dummies[:, 0] = test_predictions\n",
        "dummies = scaler.inverse_transform(dummies)\n",
        "\n",
        "test_predictions = dc(dummies[:, 0])\n",
        "test_predictions"
      ]
    },
    {
      "cell_type": "code",
      "execution_count": 33,
      "metadata": {
        "colab": {
          "base_uri": "https://localhost:8080/"
        },
        "id": "thtzVtJz_cu4",
        "outputId": "351e44c9-50ba-4050-c56e-51f3c1b54e8b"
      },
      "outputs": [
        {
          "data": {
            "text/plain": [
              "array([ 54.81000025,  61.05000096,  63.8150001 ,  62.83000004,\n",
              "        59.55999985,  57.24499909,  56.25999902,  55.99500084,\n",
              "        55.73999989,  55.48499894,  55.55499969,  55.31000044,\n",
              "        56.08500052,  57.30500036,  58.21999969,  58.68999924,\n",
              "        59.06999912,  59.05999965,  58.24000086,  56.94499942,\n",
              "        55.73000043,  54.99500045,  54.9899996 ,  56.95499889,\n",
              "        59.58000102,  62.90000078,  63.57499947,  62.20500091,\n",
              "        62.19000059,  61.48999988,  60.57999917,  59.80000048,\n",
              "        59.59000049,  58.85500051,  56.7550006 ,  52.66499938,\n",
              "        51.66499899,  52.45000077,  52.79000054,  52.110001  ,\n",
              "        51.07499912,  49.50500003,  46.76000206,  45.16999957,\n",
              "        50.29500043,  74.72000047, 105.82500014, 117.8250003 ,\n",
              "       101.56999988,  90.70999992,  97.70999982, 105.13999974,\n",
              "       110.98500026, 118.17499954, 122.75000064, 127.92499884,\n",
              "       132.6549995 , 141.62999872, 173.06500429, 231.54500112,\n",
              "       287.21000146, 298.69499888, 270.18500853, 237.37999322,\n",
              "       211.03999682, 185.51499613, 162.99499745, 143.58500077,\n",
              "       126.26499784, 111.9149999 ,  95.44000002, 109.04999937,\n",
              "       116.90500013, 121.29500102, 125.65500127, 130.53500065,\n",
              "       135.99500043, 137.02999784, 134.40000156, 128.1149999 ,\n",
              "       118.88000111, 105.88000056,  86.095     ,  68.25499945,\n",
              "        55.8200001 ,  54.32500037,  57.4800011 ,  61.37500041,\n",
              "        64.07499967,  64.94999889,  63.73499989,  61.84499997,\n",
              "        60.76499937])"
            ]
          },
          "execution_count": 33,
          "metadata": {},
          "output_type": "execute_result"
        }
      ],
      "source": [
        "dummies = np.zeros((X_test.shape[0], lookback+1))\n",
        "dummies[:, 0] = y_test.flatten()\n",
        "dummies = scaler.inverse_transform(dummies)\n",
        "\n",
        "new_y_test = dc(dummies[:, 0])\n",
        "new_y_test"
      ]
    },
    {
      "cell_type": "code",
      "execution_count": 34,
      "metadata": {
        "colab": {
          "base_uri": "https://localhost:8080/",
          "height": 449
        },
        "id": "1-dmKE3P_cyT",
        "outputId": "18771e0b-d805-4663-f2fe-442c1e287b5d"
      },
      "outputs": [
        {
          "data": {
            "image/png": "[encoded data removed]",
            "text/plain": [
              "<Figure size 640x480 with 1 Axes>"
            ]
          },
          "metadata": {},
          "output_type": "display_data"
        }
      ],
      "source": [
        "plt.plot(new_y_test, label='Actual AQI')\n",
        "plt.plot(test_predictions, label='Predicted AQI')\n",
        "plt.xlabel('Day')\n",
        "plt.ylabel('AQI')\n",
        "plt.legend()\n",
        "plt.show()\n"
      ]
    },
    {
      "cell_type": "code",
      "execution_count": 35,
      "metadata": {
        "id": "EdzvG4ybFqkm"
      },
      "outputs": [],
      "source": [
        "# Saving the model\n",
        "\n",
        "torch.save(model.state_dict(), \"lstm_model.pt\")  # Replace \"lstm_model.pt\" with your desired filename"
      ]
    },
    {
      "cell_type": "code",
      "execution_count": null,
      "metadata": {
        "id": "W5C2jjZHFqm_"
      },
      "outputs": [],
      "source": []
    },
    {
      "cell_type": "code",
      "execution_count": null,
      "metadata": {
        "id": "yTurIx9GFqqZ"
      },
      "outputs": [],
      "source": []
    },
    {
      "cell_type": "code",
      "execution_count": null,
      "metadata": {
        "id": "W-xVz1jPFqt-"
      },
      "outputs": [],
      "source": []
    }
  ],
  "metadata": {
    "colab": {
      "provenance": []
    },
    "kernelspec": {
      "display_name": "Python 3",
      "name": "python3"
    },
    "language_info": {
      "codemirror_mode": {
        "name": "ipython",
        "version": 3
      },
      "file_extension": ".py",
      "mimetype": "text/x-python",
      "name": "python",
      "nbconvert_exporter": "python",
      "pygments_lexer": "ipython3",
      "version": "3.10.0"
    }
  },
  "nbformat": 4,
  "nbformat_minor": 0
}
