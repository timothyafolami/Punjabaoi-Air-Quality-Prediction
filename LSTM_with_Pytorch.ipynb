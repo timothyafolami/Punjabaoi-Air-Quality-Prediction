{
  "cells": [
    {
      "cell_type": "code",
      "execution_count": 1,
      "metadata": {
        "id": "9pCQEoM_xyFD"
      },
      "outputs": [],
      "source": [
        "import pandas as pd\n",
        "import numpy as np\n",
        "import matplotlib.pyplot as plt\n",
        "import datetime\n",
        "from datetime import date, timedelta\n",
        "import torch\n",
        "import torch.nn as nn"
      ]
    },
    {
      "cell_type": "code",
      "execution_count": 2,
      "metadata": {
        "id": "wF-qgYf1x_W-"
      },
      "outputs": [],
      "source": [
        "data = pd.read_csv('clean.csv')"
      ]
    },
    {
      "cell_type": "code",
      "execution_count": 3,
      "metadata": {
        "colab": {
          "base_uri": "https://localhost:8080/",
          "height": 424
        },
        "id": "91lqfytbx_ay",
        "outputId": "3d34db53-e73b-40b8-d303-ac927bec2e69"
      },
      "outputs": [
        {
          "data": {
            "text/html": [
              "<div>\n",
              "<style scoped>\n",
              "    .dataframe tbody tr th:only-of-type {\n",
              "        vertical-align: middle;\n",
              "    }\n",
              "\n",
              "    .dataframe tbody tr th {\n",
              "        vertical-align: top;\n",
              "    }\n",
              "\n",
              "    .dataframe thead th {\n",
              "        text-align: right;\n",
              "    }\n",
              "</style>\n",
              "<table border=\"1\" class=\"dataframe\">\n",
              "  <thead>\n",
              "    <tr style=\"text-align: right;\">\n",
              "      <th></th>\n",
              "      <th>date</th>\n",
              "      <th>AQI</th>\n",
              "      <th>latitude</th>\n",
              "      <th>longitude</th>\n",
              "    </tr>\n",
              "  </thead>\n",
              "  <tbody>\n",
              "    <tr>\n",
              "      <th>0</th>\n",
              "      <td>2023-04-01 00:00:00</td>\n",
              "      <td>45.765</td>\n",
              "      <td>27.889417</td>\n",
              "      <td>71.375264</td>\n",
              "    </tr>\n",
              "    <tr>\n",
              "      <th>1</th>\n",
              "      <td>2023-04-01 01:00:00</td>\n",
              "      <td>46.520</td>\n",
              "      <td>27.889417</td>\n",
              "      <td>71.375264</td>\n",
              "    </tr>\n",
              "    <tr>\n",
              "      <th>2</th>\n",
              "      <td>2023-04-01 02:00:00</td>\n",
              "      <td>47.640</td>\n",
              "      <td>27.889417</td>\n",
              "      <td>71.375264</td>\n",
              "    </tr>\n",
              "    <tr>\n",
              "      <th>3</th>\n",
              "      <td>2023-04-01 03:00:00</td>\n",
              "      <td>49.330</td>\n",
              "      <td>27.889417</td>\n",
              "      <td>71.375264</td>\n",
              "    </tr>\n",
              "    <tr>\n",
              "      <th>4</th>\n",
              "      <td>2023-04-01 04:00:00</td>\n",
              "      <td>51.210</td>\n",
              "      <td>27.889417</td>\n",
              "      <td>71.375264</td>\n",
              "    </tr>\n",
              "    <tr>\n",
              "      <th>...</th>\n",
              "      <td>...</td>\n",
              "      <td>...</td>\n",
              "      <td>...</td>\n",
              "      <td>...</td>\n",
              "    </tr>\n",
              "    <tr>\n",
              "      <th>9236</th>\n",
              "      <td>2024-04-19 20:00:00</td>\n",
              "      <td>64.075</td>\n",
              "      <td>27.889417</td>\n",
              "      <td>71.375264</td>\n",
              "    </tr>\n",
              "    <tr>\n",
              "      <th>9237</th>\n",
              "      <td>2024-04-19 21:00:00</td>\n",
              "      <td>64.950</td>\n",
              "      <td>27.889417</td>\n",
              "      <td>71.375264</td>\n",
              "    </tr>\n",
              "    <tr>\n",
              "      <th>9238</th>\n",
              "      <td>2024-04-19 22:00:00</td>\n",
              "      <td>63.735</td>\n",
              "      <td>27.889417</td>\n",
              "      <td>71.375264</td>\n",
              "    </tr>\n",
              "    <tr>\n",
              "      <th>9239</th>\n",
              "      <td>2024-04-19 23:00:00</td>\n",
              "      <td>61.845</td>\n",
              "      <td>27.889417</td>\n",
              "      <td>71.375264</td>\n",
              "    </tr>\n",
              "    <tr>\n",
              "      <th>9240</th>\n",
              "      <td>2024-04-20 00:00:00</td>\n",
              "      <td>60.765</td>\n",
              "      <td>27.889417</td>\n",
              "      <td>71.375264</td>\n",
              "    </tr>\n",
              "  </tbody>\n",
              "</table>\n",
              "<p>9241 rows × 4 columns</p>\n",
              "</div>"
            ],
            "text/plain": [
              "                     date     AQI   latitude  longitude\n",
              "0     2023-04-01 00:00:00  45.765  27.889417  71.375264\n",
              "1     2023-04-01 01:00:00  46.520  27.889417  71.375264\n",
              "2     2023-04-01 02:00:00  47.640  27.889417  71.375264\n",
              "3     2023-04-01 03:00:00  49.330  27.889417  71.375264\n",
              "4     2023-04-01 04:00:00  51.210  27.889417  71.375264\n",
              "...                   ...     ...        ...        ...\n",
              "9236  2024-04-19 20:00:00  64.075  27.889417  71.375264\n",
              "9237  2024-04-19 21:00:00  64.950  27.889417  71.375264\n",
              "9238  2024-04-19 22:00:00  63.735  27.889417  71.375264\n",
              "9239  2024-04-19 23:00:00  61.845  27.889417  71.375264\n",
              "9240  2024-04-20 00:00:00  60.765  27.889417  71.375264\n",
              "\n",
              "[9241 rows x 4 columns]"
            ]
          },
          "execution_count": 3,
          "metadata": {},
          "output_type": "execute_result"
        }
      ],
      "source": [
        "data"
      ]
    },
    {
      "cell_type": "code",
      "execution_count": 4,
      "metadata": {
        "colab": {
          "base_uri": "https://localhost:8080/",
          "height": 424
        },
        "id": "g0CJu7IBx_dY",
        "outputId": "f86e30e8-6565-4d3d-a1ba-1629e6068078"
      },
      "outputs": [
        {
          "data": {
            "text/html": [
              "<div>\n",
              "<style scoped>\n",
              "    .dataframe tbody tr th:only-of-type {\n",
              "        vertical-align: middle;\n",
              "    }\n",
              "\n",
              "    .dataframe tbody tr th {\n",
              "        vertical-align: top;\n",
              "    }\n",
              "\n",
              "    .dataframe thead th {\n",
              "        text-align: right;\n",
              "    }\n",
              "</style>\n",
              "<table border=\"1\" class=\"dataframe\">\n",
              "  <thead>\n",
              "    <tr style=\"text-align: right;\">\n",
              "      <th></th>\n",
              "      <th>date</th>\n",
              "      <th>AQI</th>\n",
              "    </tr>\n",
              "  </thead>\n",
              "  <tbody>\n",
              "    <tr>\n",
              "      <th>0</th>\n",
              "      <td>2023-04-01 00:00:00</td>\n",
              "      <td>45.765</td>\n",
              "    </tr>\n",
              "    <tr>\n",
              "      <th>1</th>\n",
              "      <td>2023-04-01 01:00:00</td>\n",
              "      <td>46.520</td>\n",
              "    </tr>\n",
              "    <tr>\n",
              "      <th>2</th>\n",
              "      <td>2023-04-01 02:00:00</td>\n",
              "      <td>47.640</td>\n",
              "    </tr>\n",
              "    <tr>\n",
              "      <th>3</th>\n",
              "      <td>2023-04-01 03:00:00</td>\n",
              "      <td>49.330</td>\n",
              "    </tr>\n",
              "    <tr>\n",
              "      <th>4</th>\n",
              "      <td>2023-04-01 04:00:00</td>\n",
              "      <td>51.210</td>\n",
              "    </tr>\n",
              "    <tr>\n",
              "      <th>...</th>\n",
              "      <td>...</td>\n",
              "      <td>...</td>\n",
              "    </tr>\n",
              "    <tr>\n",
              "      <th>9236</th>\n",
              "      <td>2024-04-19 20:00:00</td>\n",
              "      <td>64.075</td>\n",
              "    </tr>\n",
              "    <tr>\n",
              "      <th>9237</th>\n",
              "      <td>2024-04-19 21:00:00</td>\n",
              "      <td>64.950</td>\n",
              "    </tr>\n",
              "    <tr>\n",
              "      <th>9238</th>\n",
              "      <td>2024-04-19 22:00:00</td>\n",
              "      <td>63.735</td>\n",
              "    </tr>\n",
              "    <tr>\n",
              "      <th>9239</th>\n",
              "      <td>2024-04-19 23:00:00</td>\n",
              "      <td>61.845</td>\n",
              "    </tr>\n",
              "    <tr>\n",
              "      <th>9240</th>\n",
              "      <td>2024-04-20 00:00:00</td>\n",
              "      <td>60.765</td>\n",
              "    </tr>\n",
              "  </tbody>\n",
              "</table>\n",
              "<p>9241 rows × 2 columns</p>\n",
              "</div>"
            ],
            "text/plain": [
              "                     date     AQI\n",
              "0     2023-04-01 00:00:00  45.765\n",
              "1     2023-04-01 01:00:00  46.520\n",
              "2     2023-04-01 02:00:00  47.640\n",
              "3     2023-04-01 03:00:00  49.330\n",
              "4     2023-04-01 04:00:00  51.210\n",
              "...                   ...     ...\n",
              "9236  2024-04-19 20:00:00  64.075\n",
              "9237  2024-04-19 21:00:00  64.950\n",
              "9238  2024-04-19 22:00:00  63.735\n",
              "9239  2024-04-19 23:00:00  61.845\n",
              "9240  2024-04-20 00:00:00  60.765\n",
              "\n",
              "[9241 rows x 2 columns]"
            ]
          },
          "execution_count": 4,
          "metadata": {},
          "output_type": "execute_result"
        }
      ],
      "source": [
        "data = data[['date', 'AQI']]\n",
        "data"
      ]
    },
    {
      "cell_type": "code",
      "execution_count": 5,
      "metadata": {
        "colab": {
          "base_uri": "https://localhost:8080/",
          "height": 36
        },
        "id": "VNTE_G0dx_fq",
        "outputId": "503d5cdd-0591-4678-dddb-6e015fc9e230"
      },
      "outputs": [
        {
          "data": {
            "text/plain": [
              "'cpu'"
            ]
          },
          "execution_count": 5,
          "metadata": {},
          "output_type": "execute_result"
        }
      ],
      "source": [
        "device = 'cuda:0' if torch.cuda.is_available() else 'cpu'\n",
        "device"
      ]
    },
    {
      "cell_type": "code",
      "execution_count": 6,
      "metadata": {
        "colab": {
          "base_uri": "https://localhost:8080/",
          "height": 551
        },
        "id": "pE0-FGP8x_h7",
        "outputId": "28d336d1-3ef7-4742-9677-3272aba0192c"
      },
      "outputs": [
        {
          "name": "stderr",
          "output_type": "stream",
          "text": [
            "C:\\Users\\timmy\\AppData\\Local\\Temp\\ipykernel_15764\\3395756933.py:1: SettingWithCopyWarning: \n",
            "A value is trying to be set on a copy of a slice from a DataFrame.\n",
            "Try using .loc[row_indexer,col_indexer] = value instead\n",
            "\n",
            "See the caveats in the documentation: https://pandas.pydata.org/pandas-docs/stable/user_guide/indexing.html#returning-a-view-versus-a-copy\n",
            "  data['date'] = pd.to_datetime(data['date'])\n"
          ]
        },
        {
          "data": {
            "text/plain": [
              "[<matplotlib.lines.Line2D at 0x252b756a9e0>]"
            ]
          },
          "execution_count": 6,
          "metadata": {},
          "output_type": "execute_result"
        },
        {
          "data": {
            "image/png": "[encoded data removed]",
            "text/plain": [
              "<Figure size 640x480 with 1 Axes>"
            ]
          },
          "metadata": {},
          "output_type": "display_data"
        }
      ],
      "source": [
        "data['date'] = pd.to_datetime(data['date'])\n",
        "\n",
        "plt.plot(data['date'], data['AQI'])"
      ]
    },
    {
      "cell_type": "code",
      "execution_count": 7,
      "metadata": {
        "colab": {
          "base_uri": "https://localhost:8080/",
          "height": 455
        },
        "id": "MLsYVQgox_ko",
        "outputId": "0702adde-3d0d-4a1a-f32c-619304cc2071"
      },
      "outputs": [
        {
          "data": {
            "text/html": [
              "<div>\n",
              "<style scoped>\n",
              "    .dataframe tbody tr th:only-of-type {\n",
              "        vertical-align: middle;\n",
              "    }\n",
              "\n",
              "    .dataframe tbody tr th {\n",
              "        vertical-align: top;\n",
              "    }\n",
              "\n",
              "    .dataframe thead th {\n",
              "        text-align: right;\n",
              "    }\n",
              "</style>\n",
              "<table border=\"1\" class=\"dataframe\">\n",
              "  <thead>\n",
              "    <tr style=\"text-align: right;\">\n",
              "      <th></th>\n",
              "      <th>AQI</th>\n",
              "      <th>AQI(t-1)</th>\n",
              "      <th>AQI(t-2)</th>\n",
              "      <th>AQI(t-3)</th>\n",
              "      <th>AQI(t-4)</th>\n",
              "      <th>AQI(t-5)</th>\n",
              "      <th>AQI(t-6)</th>\n",
              "      <th>AQI(t-7)</th>\n",
              "    </tr>\n",
              "    <tr>\n",
              "      <th>date</th>\n",
              "      <th></th>\n",
              "      <th></th>\n",
              "      <th></th>\n",
              "      <th></th>\n",
              "      <th></th>\n",
              "      <th></th>\n",
              "      <th></th>\n",
              "      <th></th>\n",
              "    </tr>\n",
              "  </thead>\n",
              "  <tbody>\n",
              "    <tr>\n",
              "      <th>2023-04-01 07:00:00</th>\n",
              "      <td>47.205</td>\n",
              "      <td>49.650</td>\n",
              "      <td>51.400</td>\n",
              "      <td>51.210</td>\n",
              "      <td>49.330</td>\n",
              "      <td>47.640</td>\n",
              "      <td>46.520</td>\n",
              "      <td>45.765</td>\n",
              "    </tr>\n",
              "    <tr>\n",
              "      <th>2023-04-01 08:00:00</th>\n",
              "      <td>44.425</td>\n",
              "      <td>47.205</td>\n",
              "      <td>49.650</td>\n",
              "      <td>51.400</td>\n",
              "      <td>51.210</td>\n",
              "      <td>49.330</td>\n",
              "      <td>47.640</td>\n",
              "      <td>46.520</td>\n",
              "    </tr>\n",
              "    <tr>\n",
              "      <th>2023-04-01 09:00:00</th>\n",
              "      <td>42.035</td>\n",
              "      <td>44.425</td>\n",
              "      <td>47.205</td>\n",
              "      <td>49.650</td>\n",
              "      <td>51.400</td>\n",
              "      <td>51.210</td>\n",
              "      <td>49.330</td>\n",
              "      <td>47.640</td>\n",
              "    </tr>\n",
              "    <tr>\n",
              "      <th>2023-04-01 10:00:00</th>\n",
              "      <td>40.915</td>\n",
              "      <td>42.035</td>\n",
              "      <td>44.425</td>\n",
              "      <td>47.205</td>\n",
              "      <td>49.650</td>\n",
              "      <td>51.400</td>\n",
              "      <td>51.210</td>\n",
              "      <td>49.330</td>\n",
              "    </tr>\n",
              "    <tr>\n",
              "      <th>2023-04-01 11:00:00</th>\n",
              "      <td>40.240</td>\n",
              "      <td>40.915</td>\n",
              "      <td>42.035</td>\n",
              "      <td>44.425</td>\n",
              "      <td>47.205</td>\n",
              "      <td>49.650</td>\n",
              "      <td>51.400</td>\n",
              "      <td>51.210</td>\n",
              "    </tr>\n",
              "    <tr>\n",
              "      <th>...</th>\n",
              "      <td>...</td>\n",
              "      <td>...</td>\n",
              "      <td>...</td>\n",
              "      <td>...</td>\n",
              "      <td>...</td>\n",
              "      <td>...</td>\n",
              "      <td>...</td>\n",
              "      <td>...</td>\n",
              "    </tr>\n",
              "    <tr>\n",
              "      <th>2024-04-19 20:00:00</th>\n",
              "      <td>64.075</td>\n",
              "      <td>61.375</td>\n",
              "      <td>57.480</td>\n",
              "      <td>54.325</td>\n",
              "      <td>55.820</td>\n",
              "      <td>68.255</td>\n",
              "      <td>86.095</td>\n",
              "      <td>105.880</td>\n",
              "    </tr>\n",
              "    <tr>\n",
              "      <th>2024-04-19 21:00:00</th>\n",
              "      <td>64.950</td>\n",
              "      <td>64.075</td>\n",
              "      <td>61.375</td>\n",
              "      <td>57.480</td>\n",
              "      <td>54.325</td>\n",
              "      <td>55.820</td>\n",
              "      <td>68.255</td>\n",
              "      <td>86.095</td>\n",
              "    </tr>\n",
              "    <tr>\n",
              "      <th>2024-04-19 22:00:00</th>\n",
              "      <td>63.735</td>\n",
              "      <td>64.950</td>\n",
              "      <td>64.075</td>\n",
              "      <td>61.375</td>\n",
              "      <td>57.480</td>\n",
              "      <td>54.325</td>\n",
              "      <td>55.820</td>\n",
              "      <td>68.255</td>\n",
              "    </tr>\n",
              "    <tr>\n",
              "      <th>2024-04-19 23:00:00</th>\n",
              "      <td>61.845</td>\n",
              "      <td>63.735</td>\n",
              "      <td>64.950</td>\n",
              "      <td>64.075</td>\n",
              "      <td>61.375</td>\n",
              "      <td>57.480</td>\n",
              "      <td>54.325</td>\n",
              "      <td>55.820</td>\n",
              "    </tr>\n",
              "    <tr>\n",
              "      <th>2024-04-20 00:00:00</th>\n",
              "      <td>60.765</td>\n",
              "      <td>61.845</td>\n",
              "      <td>63.735</td>\n",
              "      <td>64.950</td>\n",
              "      <td>64.075</td>\n",
              "      <td>61.375</td>\n",
              "      <td>57.480</td>\n",
              "      <td>54.325</td>\n",
              "    </tr>\n",
              "  </tbody>\n",
              "</table>\n",
              "<p>9234 rows × 8 columns</p>\n",
              "</div>"
            ],
            "text/plain": [
              "                        AQI  AQI(t-1)  AQI(t-2)  AQI(t-3)  AQI(t-4)  AQI(t-5)  \\\n",
              "date                                                                            \n",
              "2023-04-01 07:00:00  47.205    49.650    51.400    51.210    49.330    47.640   \n",
              "2023-04-01 08:00:00  44.425    47.205    49.650    51.400    51.210    49.330   \n",
              "2023-04-01 09:00:00  42.035    44.425    47.205    49.650    51.400    51.210   \n",
              "2023-04-01 10:00:00  40.915    42.035    44.425    47.205    49.650    51.400   \n",
              "2023-04-01 11:00:00  40.240    40.915    42.035    44.425    47.205    49.650   \n",
              "...                     ...       ...       ...       ...       ...       ...   \n",
              "2024-04-19 20:00:00  64.075    61.375    57.480    54.325    55.820    68.255   \n",
              "2024-04-19 21:00:00  64.950    64.075    61.375    57.480    54.325    55.820   \n",
              "2024-04-19 22:00:00  63.735    64.950    64.075    61.375    57.480    54.325   \n",
              "2024-04-19 23:00:00  61.845    63.735    64.950    64.075    61.375    57.480   \n",
              "2024-04-20 00:00:00  60.765    61.845    63.735    64.950    64.075    61.375   \n",
              "\n",
              "                     AQI(t-6)  AQI(t-7)  \n",
              "date                                     \n",
              "2023-04-01 07:00:00    46.520    45.765  \n",
              "2023-04-01 08:00:00    47.640    46.520  \n",
              "2023-04-01 09:00:00    49.330    47.640  \n",
              "2023-04-01 10:00:00    51.210    49.330  \n",
              "2023-04-01 11:00:00    51.400    51.210  \n",
              "...                       ...       ...  \n",
              "2024-04-19 20:00:00    86.095   105.880  \n",
              "2024-04-19 21:00:00    68.255    86.095  \n",
              "2024-04-19 22:00:00    55.820    68.255  \n",
              "2024-04-19 23:00:00    54.325    55.820  \n",
              "2024-04-20 00:00:00    57.480    54.325  \n",
              "\n",
              "[9234 rows x 8 columns]"
            ]
          },
          "execution_count": 7,
          "metadata": {},
          "output_type": "execute_result"
        }
      ],
      "source": [
        "from copy import deepcopy as dc\n",
        "\n",
        "def prepare_data(df, n_steps):\n",
        "  df = dc(df)\n",
        "  df['date'] = pd.to_datetime(df['date'])\n",
        "\n",
        "  df.set_index('date', inplace=True)\n",
        "\n",
        "  for i in range(1, n_steps+1):\n",
        "    df[f\"AQI(t-{i})\"] = df['AQI'].shift(i)\n",
        "\n",
        "  df.dropna(inplace=True)\n",
        "\n",
        "  return df\n",
        "\n",
        "lookback = 7\n",
        "shifted_df = prepare_data(data, lookback)\n",
        "shifted_df"
      ]
    },
    {
      "cell_type": "code",
      "execution_count": 8,
      "metadata": {
        "colab": {
          "base_uri": "https://localhost:8080/"
        },
        "id": "05MFFADjx_nW",
        "outputId": "279a3244-9101-44fb-fc8f-73a439baba62"
      },
      "outputs": [
        {
          "data": {
            "text/plain": [
              "array([[47.205, 49.65 , 51.4  , ..., 47.64 , 46.52 , 45.765],\n",
              "       [44.425, 47.205, 49.65 , ..., 49.33 , 47.64 , 46.52 ],\n",
              "       [42.035, 44.425, 47.205, ..., 51.21 , 49.33 , 47.64 ],\n",
              "       ...,\n",
              "       [63.735, 64.95 , 64.075, ..., 54.325, 55.82 , 68.255],\n",
              "       [61.845, 63.735, 64.95 , ..., 57.48 , 54.325, 55.82 ],\n",
              "       [60.765, 61.845, 63.735, ..., 61.375, 57.48 , 54.325]])"
            ]
          },
          "execution_count": 8,
          "metadata": {},
          "output_type": "execute_result"
        }
      ],
      "source": [
        "# converting to an array\n",
        "shifted_df_as_np = shifted_df.to_numpy()\n",
        "\n",
        "shifted_df_as_np"
      ]
    },
    {
      "cell_type": "code",
      "execution_count": 9,
      "metadata": {
        "colab": {
          "base_uri": "https://localhost:8080/"
        },
        "id": "b3lhn7jIx_rz",
        "outputId": "8c142f5b-02d9-4d6a-d538-2578facd2461"
      },
      "outputs": [
        {
          "data": {
            "text/plain": [
              "((9234, 7), (9234,))"
            ]
          },
          "execution_count": 9,
          "metadata": {},
          "output_type": "execute_result"
        }
      ],
      "source": [
        "X = shifted_df_as_np[:, 1:]\n",
        "y = shifted_df_as_np[:, 0]\n",
        "\n",
        "X.shape, y.shape"
      ]
    },
    {
      "cell_type": "code",
      "execution_count": 10,
      "metadata": {},
      "outputs": [
        {
          "data": {
            "text/plain": [
              "array([[45.765, 46.52 , 47.64 , ..., 51.21 , 51.4  , 49.65 ],\n",
              "       [46.52 , 47.64 , 49.33 , ..., 51.4  , 49.65 , 47.205],\n",
              "       [47.64 , 49.33 , 51.21 , ..., 49.65 , 47.205, 44.425],\n",
              "       ...,\n",
              "       [68.255, 55.82 , 54.325, ..., 61.375, 64.075, 64.95 ],\n",
              "       [55.82 , 54.325, 57.48 , ..., 64.075, 64.95 , 63.735],\n",
              "       [54.325, 57.48 , 61.375, ..., 64.95 , 63.735, 61.845]])"
            ]
          },
          "execution_count": 10,
          "metadata": {},
          "output_type": "execute_result"
        }
      ],
      "source": [
        "X = dc(np.flip(X, axis=1))\n",
        "X"
      ]
    },
    {
      "cell_type": "code",
      "execution_count": 11,
      "metadata": {},
      "outputs": [],
      "source": [
        "# scaling the data\n",
        "from sklearn.preprocessing import StandardScaler\n",
        "\n",
        "data_scaler = StandardScaler()\n",
        "target_scaler = StandardScaler()\n",
        "X = data_scaler.fit_transform(X)\n",
        "y = target_scaler.fit_transform(y.reshape(-1, 1))\n"
      ]
    },
    {
      "cell_type": "code",
      "execution_count": 12,
      "metadata": {},
      "outputs": [
        {
          "data": {
            "text/plain": [
              "['target_scaler.pkl']"
            ]
          },
          "execution_count": 12,
          "metadata": {},
          "output_type": "execute_result"
        }
      ],
      "source": [
        "# saving the scaler\n",
        "import joblib\n",
        "\n",
        "joblib.dump(data_scaler, 'data_scaler.pkl')\n",
        "joblib.dump(target_scaler, 'target_scaler.pkl')"
      ]
    },
    {
      "cell_type": "code",
      "execution_count": 13,
      "metadata": {},
      "outputs": [],
      "source": [
        "# loading the scaler\n",
        "data_scaler = joblib.load('data_scaler.pkl')\n",
        "target_scaler = joblib.load('target_scaler.pkl')"
      ]
    },
    {
      "cell_type": "code",
      "execution_count": 14,
      "metadata": {
        "colab": {
          "base_uri": "https://localhost:8080/"
        },
        "id": "tIdSMUPUx_y_",
        "outputId": "718c893b-8c14-45ef-be68-23594e51bf44"
      },
      "outputs": [
        {
          "data": {
            "text/plain": [
              "9049"
            ]
          },
          "execution_count": 14,
          "metadata": {},
          "output_type": "execute_result"
        }
      ],
      "source": [
        "split_index = int(len(X) * 0.98)\n",
        "\n",
        "split_index"
      ]
    },
    {
      "cell_type": "code",
      "execution_count": 15,
      "metadata": {
        "colab": {
          "base_uri": "https://localhost:8080/"
        },
        "id": "8fFu_ljnx_1R",
        "outputId": "55324c42-d617-4811-cdb0-78a759b5621d"
      },
      "outputs": [
        {
          "data": {
            "text/plain": [
              "((9049, 7), (185, 7), (9049, 1), (185, 1))"
            ]
          },
          "execution_count": 15,
          "metadata": {},
          "output_type": "execute_result"
        }
      ],
      "source": [
        "X_train = X[:split_index]\n",
        "X_test = X[split_index:]\n",
        "\n",
        "y_train = y[:split_index]\n",
        "y_test = y[split_index:]\n",
        "\n",
        "X_train.shape, X_test.shape, y_train.shape, y_test.shape"
      ]
    },
    {
      "cell_type": "code",
      "execution_count": 16,
      "metadata": {
        "colab": {
          "base_uri": "https://localhost:8080/"
        },
        "id": "5esaxvZlx_4A",
        "outputId": "7199aa08-d571-4f99-c314-96451d9187e3"
      },
      "outputs": [
        {
          "data": {
            "text/plain": [
              "((9049, 7, 1), (185, 7, 1), (9049, 1), (185, 1))"
            ]
          },
          "execution_count": 16,
          "metadata": {},
          "output_type": "execute_result"
        }
      ],
      "source": [
        "X_train = X_train.reshape((-1, lookback, 1))\n",
        "X_test = X_test.reshape((-1, lookback, 1))\n",
        "\n",
        "y_train = y_train.reshape((-1, 1))\n",
        "y_test = y_test.reshape((-1, 1))\n",
        "\n",
        "X_train.shape, X_test.shape, y_train.shape, y_test.shape"
      ]
    },
    {
      "cell_type": "code",
      "execution_count": 17,
      "metadata": {
        "colab": {
          "base_uri": "https://localhost:8080/"
        },
        "id": "vUHQN5Fdx_6K",
        "outputId": "34329117-5361-440d-b5e0-a543e38730b8"
      },
      "outputs": [
        {
          "data": {
            "text/plain": [
              "(torch.Size([9049, 7, 1]),\n",
              " torch.Size([185, 7, 1]),\n",
              " torch.Size([9049, 1]),\n",
              " torch.Size([185, 1]))"
            ]
          },
          "execution_count": 17,
          "metadata": {},
          "output_type": "execute_result"
        }
      ],
      "source": [
        "X_train = torch.tensor(X_train).float()\n",
        "y_train = torch.tensor(y_train).float()\n",
        "X_test = torch.tensor(X_test).float()\n",
        "y_test = torch.tensor(y_test).float()\n",
        "\n",
        "X_train.shape, X_test.shape, y_train.shape, y_test.shape"
      ]
    },
    {
      "cell_type": "code",
      "execution_count": 18,
      "metadata": {
        "id": "9Up4g0oBx_-4"
      },
      "outputs": [],
      "source": [
        "# Creating a dataset\n",
        "from torch.utils.data import Dataset\n",
        "\n",
        "class TimeSeriesDataset(Dataset):\n",
        "  def __init__(self, X, y):\n",
        "    self.X = X\n",
        "    self.y = y\n",
        "\n",
        "  def __len__(self):\n",
        "    return len(self.X)\n",
        "\n",
        "  def __getitem__(self, i):\n",
        "    return self.X[i], self.y[i]\n",
        "\n",
        "train_dataset = TimeSeriesDataset(X_train, y_train)\n",
        "test_dataset = TimeSeriesDataset(X_test, y_test)"
      ]
    },
    {
      "cell_type": "code",
      "execution_count": 19,
      "metadata": {
        "colab": {
          "base_uri": "https://localhost:8080/"
        },
        "id": "4OmnzKKZyABl",
        "outputId": "1a895218-9b7a-47d1-88c1-9d3f0038e692"
      },
      "outputs": [
        {
          "data": {
            "text/plain": [
              "<__main__.TimeSeriesDataset at 0x252b744b250>"
            ]
          },
          "execution_count": 19,
          "metadata": {},
          "output_type": "execute_result"
        }
      ],
      "source": [
        "train_dataset"
      ]
    },
    {
      "cell_type": "code",
      "execution_count": 20,
      "metadata": {
        "id": "HDfb4NRfyADz"
      },
      "outputs": [],
      "source": [
        "# Data Loader\n",
        "from torch.utils.data import DataLoader\n",
        "\n",
        "batch_size = 16\n",
        "\n",
        "train_loader = DataLoader(train_dataset, batch_size=batch_size, shuffle=True)\n",
        "test_loader = DataLoader(test_dataset, batch_size=batch_size, shuffle=False)"
      ]
    },
    {
      "cell_type": "code",
      "execution_count": 21,
      "metadata": {
        "colab": {
          "base_uri": "https://localhost:8080/"
        },
        "id": "auHD-TnkyAHP",
        "outputId": "de9b6a68-e65b-4124-d69f-d953a553f223"
      },
      "outputs": [
        {
          "name": "stdout",
          "output_type": "stream",
          "text": [
            "torch.Size([16, 7, 1]) torch.Size([16, 1])\n"
          ]
        }
      ],
      "source": [
        "for _, batch in enumerate(train_loader):\n",
        "    x_batch, y_batch = batch[0].to(device), batch[1].to(device)\n",
        "    print(x_batch.shape, y_batch.shape)\n",
        "    break"
      ]
    },
    {
      "cell_type": "code",
      "execution_count": 22,
      "metadata": {
        "id": "rREkyGIX_chE"
      },
      "outputs": [],
      "source": [
        "# LSTM Model\n",
        "\n",
        "\n",
        "class LSTM(nn.Module):\n",
        "  def __init__(self, input_size, hidden_size, num_stacked_layers):\n",
        "    super().__init__()\n",
        "    self.hidden_size = hidden_size\n",
        "    self.num_stacked_layers = num_stacked_layers\n",
        "\n",
        "    self.lstm = nn.LSTM(input_size, hidden_size, num_stacked_layers, batch_first=True)\n",
        "    self.fc = nn.Linear(hidden_size, 1)\n",
        "\n",
        "  def forward(self, x):\n",
        "    batch_size = x.size(0)\n",
        "    h0 = torch.zeros(self.num_stacked_layers, batch_size, self.hidden_size).to(device)\n",
        "    c0 = torch.zeros(self.num_stacked_layers, batch_size, self.hidden_size).to(device)\n",
        "\n",
        "    out, _ = self.lstm(x, (h0, c0))\n",
        "    out = self.fc(out[:, -1, :])\n",
        "    return out\n",
        "\n"
      ]
    },
    {
      "cell_type": "code",
      "execution_count": 23,
      "metadata": {
        "colab": {
          "base_uri": "https://localhost:8080/"
        },
        "id": "K8WkLrjr_cja",
        "outputId": "8422f6fc-3a12-484e-a70a-c4069e31a881"
      },
      "outputs": [
        {
          "data": {
            "text/plain": [
              "LSTM(\n",
              "  (lstm): LSTM(1, 12, batch_first=True)\n",
              "  (fc): Linear(in_features=12, out_features=1, bias=True)\n",
              ")"
            ]
          },
          "execution_count": 23,
          "metadata": {},
          "output_type": "execute_result"
        }
      ],
      "source": [
        "model = LSTM(1, 12, 1)\n",
        "model.to(device)\n",
        "model"
      ]
    },
    {
      "cell_type": "code",
      "execution_count": 24,
      "metadata": {
        "id": "3tSdKe3n_clh"
      },
      "outputs": [],
      "source": [
        "def train_one_epoch():\n",
        "  model.train(True)\n",
        "  print(f'Epoch: {epoch +1 }')\n",
        "\n",
        "  running_loss = 0.0\n",
        "\n",
        "  for batch_index, batch in enumerate(train_loader):\n",
        "    x_batch, y_batch = batch[0].to(device), batch[1].to(device)\n",
        "\n",
        "    output = model(x_batch)\n",
        "    loss = loss_function(output, y_batch)\n",
        "    running_loss += loss.item()\n",
        "\n",
        "    optimizer.zero_grad()\n",
        "    loss.backward()\n",
        "    optimizer.step()\n",
        "\n",
        "    if batch_index % 100==99: # printing every 100 batch\n",
        "      avg_loss_across_batches = running_loss/100\n",
        "      print('Batch {0}, Loss: {1:.3f}'.format(batch_index+1,\n",
        "                                                  avg_loss_across_batches))\n",
        "      running_loss = 0.0\n",
        "  print()"
      ]
    },
    {
      "cell_type": "code",
      "execution_count": 25,
      "metadata": {
        "id": "4Sf7NXyB_cnw"
      },
      "outputs": [],
      "source": [
        "def validate_one_epoch():\n",
        "  model.train(False)\n",
        "  running_loss = 0.0\n",
        "\n",
        "  for batch_index, batch in enumerate(test_loader):\n",
        "    x_batch, y_batch = batch[0].to(device), batch[1].to(device)\n",
        "\n",
        "    with torch.no_grad():\n",
        "      output = model(x_batch)\n",
        "      loss = loss_function(output, y_batch)\n",
        "      running_loss += loss.item()\n",
        "\n",
        "  avg_loss_across_batches = running_loss / len(test_loader)\n",
        "\n",
        "  print('Val Loss: {0:.3f}'.format(avg_loss_across_batches))\n",
        "  print('***************************************************')\n",
        "  print()"
      ]
    },
    {
      "cell_type": "code",
      "execution_count": 26,
      "metadata": {
        "colab": {
          "base_uri": "https://localhost:8080/"
        },
        "id": "86ILvXmO_cqG",
        "outputId": "23dad2d1-97b2-4d96-bde0-0d60d909994e"
      },
      "outputs": [
        {
          "name": "stdout",
          "output_type": "stream",
          "text": [
            "Epoch: 1\n",
            "Batch 100, Loss: 1.237\n",
            "Batch 200, Loss: 0.962\n",
            "Batch 300, Loss: 1.216\n",
            "Batch 400, Loss: 0.972\n",
            "Batch 500, Loss: 0.827\n",
            "\n",
            "Val Loss: 0.315\n",
            "***************************************************\n",
            "\n",
            "Epoch: 2\n",
            "Batch 100, Loss: 0.772\n",
            "Batch 200, Loss: 0.737\n",
            "Batch 300, Loss: 0.760\n",
            "Batch 400, Loss: 0.485\n",
            "Batch 500, Loss: 0.543\n",
            "\n",
            "Val Loss: 0.127\n",
            "***************************************************\n",
            "\n",
            "Epoch: 3\n",
            "Batch 100, Loss: 0.437\n",
            "Batch 200, Loss: 0.359\n",
            "Batch 300, Loss: 0.309\n",
            "Batch 400, Loss: 0.228\n",
            "Batch 500, Loss: 0.210\n",
            "\n",
            "Val Loss: 0.092\n",
            "***************************************************\n",
            "\n",
            "Epoch: 4\n",
            "Batch 100, Loss: 0.281\n",
            "Batch 200, Loss: 0.253\n",
            "Batch 300, Loss: 0.190\n",
            "Batch 400, Loss: 0.181\n",
            "Batch 500, Loss: 0.195\n",
            "\n",
            "Val Loss: 0.096\n",
            "***************************************************\n",
            "\n",
            "Epoch: 5\n",
            "Batch 100, Loss: 0.199\n",
            "Batch 200, Loss: 0.160\n",
            "Batch 300, Loss: 0.227\n",
            "Batch 400, Loss: 0.198\n",
            "Batch 500, Loss: 0.128\n",
            "\n",
            "Val Loss: 0.093\n",
            "***************************************************\n",
            "\n",
            "Epoch: 6\n",
            "Batch 100, Loss: 0.124\n",
            "Batch 200, Loss: 0.154\n",
            "Batch 300, Loss: 0.133\n",
            "Batch 400, Loss: 0.148\n",
            "Batch 500, Loss: 0.184\n",
            "\n",
            "Val Loss: 0.085\n",
            "***************************************************\n",
            "\n",
            "Epoch: 7\n",
            "Batch 100, Loss: 0.148\n",
            "Batch 200, Loss: 0.140\n",
            "Batch 300, Loss: 0.121\n",
            "Batch 400, Loss: 0.122\n",
            "Batch 500, Loss: 0.113\n",
            "\n",
            "Val Loss: 0.075\n",
            "***************************************************\n",
            "\n",
            "Epoch: 8\n",
            "Batch 100, Loss: 0.085\n",
            "Batch 200, Loss: 0.115\n",
            "Batch 300, Loss: 0.137\n",
            "Batch 400, Loss: 0.114\n",
            "Batch 500, Loss: 0.089\n",
            "\n",
            "Val Loss: 0.066\n",
            "***************************************************\n",
            "\n",
            "Epoch: 9\n",
            "Batch 100, Loss: 0.107\n",
            "Batch 200, Loss: 0.073\n",
            "Batch 300, Loss: 0.101\n",
            "Batch 400, Loss: 0.098\n",
            "Batch 500, Loss: 0.091\n",
            "\n",
            "Val Loss: 0.058\n",
            "***************************************************\n",
            "\n",
            "Epoch: 10\n",
            "Batch 100, Loss: 0.085\n",
            "Batch 200, Loss: 0.076\n",
            "Batch 300, Loss: 0.098\n",
            "Batch 400, Loss: 0.073\n",
            "Batch 500, Loss: 0.089\n",
            "\n",
            "Val Loss: 0.051\n",
            "***************************************************\n",
            "\n",
            "Epoch: 11\n",
            "Batch 100, Loss: 0.090\n",
            "Batch 200, Loss: 0.086\n",
            "Batch 300, Loss: 0.064\n",
            "Batch 400, Loss: 0.078\n",
            "Batch 500, Loss: 0.059\n",
            "\n",
            "Val Loss: 0.046\n",
            "***************************************************\n",
            "\n",
            "Epoch: 12\n",
            "Batch 100, Loss: 0.084\n",
            "Batch 200, Loss: 0.060\n",
            "Batch 300, Loss: 0.061\n",
            "Batch 400, Loss: 0.068\n",
            "Batch 500, Loss: 0.053\n",
            "\n",
            "Val Loss: 0.041\n",
            "***************************************************\n",
            "\n",
            "Epoch: 13\n",
            "Batch 100, Loss: 0.081\n",
            "Batch 200, Loss: 0.051\n",
            "Batch 300, Loss: 0.047\n",
            "Batch 400, Loss: 0.080\n",
            "Batch 500, Loss: 0.054\n",
            "\n",
            "Val Loss: 0.038\n",
            "***************************************************\n",
            "\n",
            "Epoch: 14\n",
            "Batch 100, Loss: 0.066\n",
            "Batch 200, Loss: 0.066\n",
            "Batch 300, Loss: 0.076\n",
            "Batch 400, Loss: 0.050\n",
            "Batch 500, Loss: 0.054\n",
            "\n",
            "Val Loss: 0.034\n",
            "***************************************************\n",
            "\n",
            "Epoch: 15\n",
            "Batch 100, Loss: 0.060\n",
            "Batch 200, Loss: 0.082\n",
            "Batch 300, Loss: 0.040\n",
            "Batch 400, Loss: 0.063\n",
            "Batch 500, Loss: 0.045\n",
            "\n",
            "Val Loss: 0.034\n",
            "***************************************************\n",
            "\n",
            "Epoch: 16\n",
            "Batch 100, Loss: 0.042\n",
            "Batch 200, Loss: 0.074\n",
            "Batch 300, Loss: 0.051\n",
            "Batch 400, Loss: 0.049\n",
            "Batch 500, Loss: 0.045\n",
            "\n",
            "Val Loss: 0.030\n",
            "***************************************************\n",
            "\n",
            "Epoch: 17\n",
            "Batch 100, Loss: 0.046\n",
            "Batch 200, Loss: 0.052\n",
            "Batch 300, Loss: 0.051\n",
            "Batch 400, Loss: 0.046\n",
            "Batch 500, Loss: 0.050\n",
            "\n",
            "Val Loss: 0.028\n",
            "***************************************************\n",
            "\n",
            "Epoch: 18\n",
            "Batch 100, Loss: 0.043\n",
            "Batch 200, Loss: 0.032\n",
            "Batch 300, Loss: 0.064\n",
            "Batch 400, Loss: 0.050\n",
            "Batch 500, Loss: 0.036\n",
            "\n",
            "Val Loss: 0.028\n",
            "***************************************************\n",
            "\n",
            "Epoch: 19\n",
            "Batch 100, Loss: 0.040\n",
            "Batch 200, Loss: 0.053\n",
            "Batch 300, Loss: 0.036\n",
            "Batch 400, Loss: 0.043\n",
            "Batch 500, Loss: 0.043\n",
            "\n",
            "Val Loss: 0.026\n",
            "***************************************************\n",
            "\n",
            "Epoch: 20\n",
            "Batch 100, Loss: 0.043\n",
            "Batch 200, Loss: 0.045\n",
            "Batch 300, Loss: 0.039\n",
            "Batch 400, Loss: 0.037\n",
            "Batch 500, Loss: 0.029\n",
            "\n",
            "Val Loss: 0.024\n",
            "***************************************************\n",
            "\n",
            "Epoch: 21\n",
            "Batch 100, Loss: 0.040\n",
            "Batch 200, Loss: 0.044\n",
            "Batch 300, Loss: 0.047\n",
            "Batch 400, Loss: 0.041\n",
            "Batch 500, Loss: 0.030\n",
            "\n",
            "Val Loss: 0.022\n",
            "***************************************************\n",
            "\n",
            "Epoch: 22\n",
            "Batch 100, Loss: 0.032\n",
            "Batch 200, Loss: 0.042\n",
            "Batch 300, Loss: 0.040\n",
            "Batch 400, Loss: 0.033\n",
            "Batch 500, Loss: 0.039\n",
            "\n",
            "Val Loss: 0.022\n",
            "***************************************************\n",
            "\n",
            "Epoch: 23\n",
            "Batch 100, Loss: 0.046\n",
            "Batch 200, Loss: 0.030\n",
            "Batch 300, Loss: 0.028\n",
            "Batch 400, Loss: 0.041\n",
            "Batch 500, Loss: 0.038\n",
            "\n",
            "Val Loss: 0.021\n",
            "***************************************************\n",
            "\n",
            "Epoch: 24\n",
            "Batch 100, Loss: 0.035\n",
            "Batch 200, Loss: 0.029\n",
            "Batch 300, Loss: 0.055\n",
            "Batch 400, Loss: 0.031\n",
            "Batch 500, Loss: 0.026\n",
            "\n",
            "Val Loss: 0.020\n",
            "***************************************************\n",
            "\n",
            "Epoch: 25\n",
            "Batch 100, Loss: 0.024\n",
            "Batch 200, Loss: 0.044\n",
            "Batch 300, Loss: 0.028\n",
            "Batch 400, Loss: 0.031\n",
            "Batch 500, Loss: 0.042\n",
            "\n",
            "Val Loss: 0.019\n",
            "***************************************************\n",
            "\n",
            "Epoch: 26\n",
            "Batch 100, Loss: 0.038\n",
            "Batch 200, Loss: 0.033\n",
            "Batch 300, Loss: 0.028\n",
            "Batch 400, Loss: 0.038\n",
            "Batch 500, Loss: 0.019\n",
            "\n",
            "Val Loss: 0.018\n",
            "***************************************************\n",
            "\n",
            "Epoch: 27\n",
            "Batch 100, Loss: 0.033\n",
            "Batch 200, Loss: 0.030\n",
            "Batch 300, Loss: 0.038\n",
            "Batch 400, Loss: 0.030\n",
            "Batch 500, Loss: 0.024\n",
            "\n",
            "Val Loss: 0.017\n",
            "***************************************************\n",
            "\n",
            "Epoch: 28\n",
            "Batch 100, Loss: 0.030\n",
            "Batch 200, Loss: 0.032\n",
            "Batch 300, Loss: 0.027\n",
            "Batch 400, Loss: 0.033\n",
            "Batch 500, Loss: 0.031\n",
            "\n",
            "Val Loss: 0.017\n",
            "***************************************************\n",
            "\n",
            "Epoch: 29\n",
            "Batch 100, Loss: 0.036\n",
            "Batch 200, Loss: 0.035\n",
            "Batch 300, Loss: 0.033\n",
            "Batch 400, Loss: 0.023\n",
            "Batch 500, Loss: 0.022\n",
            "\n",
            "Val Loss: 0.016\n",
            "***************************************************\n",
            "\n",
            "Epoch: 30\n",
            "Batch 100, Loss: 0.027\n",
            "Batch 200, Loss: 0.031\n",
            "Batch 300, Loss: 0.021\n",
            "Batch 400, Loss: 0.027\n",
            "Batch 500, Loss: 0.028\n",
            "\n",
            "Val Loss: 0.016\n",
            "***************************************************\n",
            "\n",
            "Epoch: 31\n",
            "Batch 100, Loss: 0.034\n",
            "Batch 200, Loss: 0.017\n",
            "Batch 300, Loss: 0.025\n",
            "Batch 400, Loss: 0.024\n",
            "Batch 500, Loss: 0.032\n",
            "\n",
            "Val Loss: 0.015\n",
            "***************************************************\n",
            "\n",
            "Epoch: 32\n",
            "Batch 100, Loss: 0.023\n",
            "Batch 200, Loss: 0.037\n",
            "Batch 300, Loss: 0.028\n",
            "Batch 400, Loss: 0.024\n",
            "Batch 500, Loss: 0.024\n",
            "\n",
            "Val Loss: 0.014\n",
            "***************************************************\n",
            "\n",
            "Epoch: 33\n",
            "Batch 100, Loss: 0.016\n",
            "Batch 200, Loss: 0.021\n",
            "Batch 300, Loss: 0.019\n",
            "Batch 400, Loss: 0.026\n",
            "Batch 500, Loss: 0.036\n",
            "\n",
            "Val Loss: 0.015\n",
            "***************************************************\n",
            "\n",
            "Epoch: 34\n",
            "Batch 100, Loss: 0.031\n",
            "Batch 200, Loss: 0.020\n",
            "Batch 300, Loss: 0.021\n",
            "Batch 400, Loss: 0.021\n",
            "Batch 500, Loss: 0.033\n",
            "\n",
            "Val Loss: 0.013\n",
            "***************************************************\n",
            "\n",
            "Epoch: 35\n",
            "Batch 100, Loss: 0.025\n",
            "Batch 200, Loss: 0.021\n",
            "Batch 300, Loss: 0.029\n",
            "Batch 400, Loss: 0.023\n",
            "Batch 500, Loss: 0.022\n",
            "\n",
            "Val Loss: 0.013\n",
            "***************************************************\n",
            "\n",
            "Epoch: 36\n",
            "Batch 100, Loss: 0.025\n",
            "Batch 200, Loss: 0.032\n",
            "Batch 300, Loss: 0.027\n",
            "Batch 400, Loss: 0.017\n",
            "Batch 500, Loss: 0.020\n",
            "\n",
            "Val Loss: 0.013\n",
            "***************************************************\n",
            "\n",
            "Epoch: 37\n",
            "Batch 100, Loss: 0.025\n",
            "Batch 200, Loss: 0.029\n",
            "Batch 300, Loss: 0.027\n",
            "Batch 400, Loss: 0.019\n",
            "Batch 500, Loss: 0.019\n",
            "\n",
            "Val Loss: 0.013\n",
            "***************************************************\n",
            "\n",
            "Epoch: 38\n",
            "Batch 100, Loss: 0.024\n",
            "Batch 200, Loss: 0.021\n",
            "Batch 300, Loss: 0.016\n",
            "Batch 400, Loss: 0.027\n",
            "Batch 500, Loss: 0.032\n",
            "\n",
            "Val Loss: 0.013\n",
            "***************************************************\n",
            "\n",
            "Epoch: 39\n",
            "Batch 100, Loss: 0.019\n",
            "Batch 200, Loss: 0.026\n",
            "Batch 300, Loss: 0.034\n",
            "Batch 400, Loss: 0.020\n",
            "Batch 500, Loss: 0.019\n",
            "\n",
            "Val Loss: 0.012\n",
            "***************************************************\n",
            "\n",
            "Epoch: 40\n",
            "Batch 100, Loss: 0.029\n",
            "Batch 200, Loss: 0.021\n",
            "Batch 300, Loss: 0.016\n",
            "Batch 400, Loss: 0.020\n",
            "Batch 500, Loss: 0.023\n",
            "\n",
            "Val Loss: 0.012\n",
            "***************************************************\n",
            "\n",
            "Epoch: 41\n",
            "Batch 100, Loss: 0.026\n",
            "Batch 200, Loss: 0.017\n",
            "Batch 300, Loss: 0.026\n",
            "Batch 400, Loss: 0.024\n",
            "Batch 500, Loss: 0.022\n",
            "\n",
            "Val Loss: 0.012\n",
            "***************************************************\n",
            "\n",
            "Epoch: 42\n",
            "Batch 100, Loss: 0.025\n",
            "Batch 200, Loss: 0.032\n",
            "Batch 300, Loss: 0.020\n",
            "Batch 400, Loss: 0.015\n",
            "Batch 500, Loss: 0.026\n",
            "\n",
            "Val Loss: 0.012\n",
            "***************************************************\n",
            "\n",
            "Epoch: 43\n",
            "Batch 100, Loss: 0.023\n",
            "Batch 200, Loss: 0.018\n",
            "Batch 300, Loss: 0.027\n",
            "Batch 400, Loss: 0.018\n",
            "Batch 500, Loss: 0.026\n",
            "\n",
            "Val Loss: 0.011\n",
            "***************************************************\n",
            "\n",
            "Epoch: 44\n",
            "Batch 100, Loss: 0.018\n",
            "Batch 200, Loss: 0.017\n",
            "Batch 300, Loss: 0.031\n",
            "Batch 400, Loss: 0.020\n",
            "Batch 500, Loss: 0.026\n",
            "\n",
            "Val Loss: 0.011\n",
            "***************************************************\n",
            "\n",
            "Epoch: 45\n",
            "Batch 100, Loss: 0.022\n",
            "Batch 200, Loss: 0.024\n",
            "Batch 300, Loss: 0.016\n",
            "Batch 400, Loss: 0.027\n",
            "Batch 500, Loss: 0.021\n",
            "\n",
            "Val Loss: 0.011\n",
            "***************************************************\n",
            "\n",
            "Epoch: 46\n",
            "Batch 100, Loss: 0.018\n",
            "Batch 200, Loss: 0.022\n",
            "Batch 300, Loss: 0.022\n",
            "Batch 400, Loss: 0.020\n",
            "Batch 500, Loss: 0.026\n",
            "\n",
            "Val Loss: 0.011\n",
            "***************************************************\n",
            "\n",
            "Epoch: 47\n",
            "Batch 100, Loss: 0.019\n",
            "Batch 200, Loss: 0.024\n",
            "Batch 300, Loss: 0.017\n",
            "Batch 400, Loss: 0.016\n",
            "Batch 500, Loss: 0.028\n",
            "\n",
            "Val Loss: 0.011\n",
            "***************************************************\n",
            "\n",
            "Epoch: 48\n",
            "Batch 100, Loss: 0.019\n",
            "Batch 200, Loss: 0.025\n",
            "Batch 300, Loss: 0.016\n",
            "Batch 400, Loss: 0.027\n",
            "Batch 500, Loss: 0.025\n",
            "\n",
            "Val Loss: 0.010\n",
            "***************************************************\n",
            "\n",
            "Epoch: 49\n",
            "Batch 100, Loss: 0.024\n",
            "Batch 200, Loss: 0.023\n",
            "Batch 300, Loss: 0.016\n",
            "Batch 400, Loss: 0.023\n",
            "Batch 500, Loss: 0.021\n",
            "\n",
            "Val Loss: 0.010\n",
            "***************************************************\n",
            "\n",
            "Epoch: 50\n",
            "Batch 100, Loss: 0.016\n",
            "Batch 200, Loss: 0.018\n",
            "Batch 300, Loss: 0.028\n",
            "Batch 400, Loss: 0.026\n",
            "Batch 500, Loss: 0.021\n",
            "\n",
            "Val Loss: 0.010\n",
            "***************************************************\n",
            "\n"
          ]
        }
      ],
      "source": [
        "learning_rate = 0.0001\n",
        "num_epochs = 50\n",
        "loss_function = nn.MSELoss()\n",
        "optimizer = torch.optim.Adam(model.parameters(), lr=learning_rate)\n",
        "\n",
        "for epoch in range(num_epochs):\n",
        "    train_one_epoch()\n",
        "    validate_one_epoch()"
      ]
    },
    {
      "cell_type": "code",
      "execution_count": 27,
      "metadata": {
        "colab": {
          "base_uri": "https://localhost:8080/",
          "height": 449
        },
        "id": "XB9NBN40_csh",
        "outputId": "5d9cd8ac-5fe6-4376-e2f6-31e826abcef7"
      },
      "outputs": [
        {
          "data": {
            "image/png": "[encoded data removed]",
            "text/plain": [
              "<Figure size 640x480 with 1 Axes>"
            ]
          },
          "metadata": {},
          "output_type": "display_data"
        }
      ],
      "source": [
        "with torch.no_grad():\n",
        "    predicted = model(X_train.to(device)).to('cpu').numpy()\n",
        "\n",
        "plt.plot(y_train, label='Actual AQI')\n",
        "plt.plot(predicted, label='Predicted AQI')\n",
        "plt.xlabel('Day')\n",
        "plt.ylabel('AQI')\n",
        "plt.legend()\n",
        "plt.show()\n"
      ]
    },
    {
      "cell_type": "code",
      "execution_count": 28,
      "metadata": {
        "colab": {
          "base_uri": "https://localhost:8080/"
        },
        "id": "W2QZIQ7TFXf3",
        "outputId": "a2e336b8-8a46-4119-f645-331ff700df3d"
      },
      "outputs": [
        {
          "data": {
            "text/plain": [
              "array([49.073728  , 46.27830552, 43.48025289, ..., 66.73076956,\n",
              "       79.36029109, 84.12113332])"
            ]
          },
          "execution_count": 28,
          "metadata": {},
          "output_type": "execute_result"
        }
      ],
      "source": [
        "train_predictions = predicted.flatten()\n",
        "\n",
        "dummies = np.zeros((X_train.shape[0], lookback+1))\n",
        "dummies[:, 0] = train_predictions\n",
        "dummies = target_scaler.inverse_transform(dummies)\n",
        "\n",
        "train_predictions = dc(dummies[:, 0])\n",
        "train_predictions"
      ]
    },
    {
      "cell_type": "code",
      "execution_count": 29,
      "metadata": {
        "colab": {
          "base_uri": "https://localhost:8080/"
        },
        "id": "qVMNCc5zFXic",
        "outputId": "f25d189e-6d8d-4113-958b-8f8647f0865a"
      },
      "outputs": [
        {
          "data": {
            "text/plain": [
              "array([47.20500183, 44.42499789, 42.03499777, ..., 74.85000025,\n",
              "       80.87500012, 80.70999997])"
            ]
          },
          "execution_count": 29,
          "metadata": {},
          "output_type": "execute_result"
        }
      ],
      "source": [
        "dummies = np.zeros((X_train.shape[0], lookback+1))\n",
        "dummies[:, 0] = y_train.flatten()\n",
        "dummies = target_scaler.inverse_transform(dummies)\n",
        "\n",
        "new_y_train = dc(dummies[:, 0])\n",
        "new_y_train"
      ]
    },
    {
      "cell_type": "code",
      "execution_count": 30,
      "metadata": {
        "colab": {
          "base_uri": "https://localhost:8080/",
          "height": 449
        },
        "id": "itO2fWyBFXk4",
        "outputId": "ce4f681d-a25b-4827-d09a-a24275f1eac8"
      },
      "outputs": [
        {
          "data": {
            "image/png": "[encoded data removed]",
            "text/plain": [
              "<Figure size 640x480 with 1 Axes>"
            ]
          },
          "metadata": {},
          "output_type": "display_data"
        }
      ],
      "source": [
        "plt.plot(new_y_train, label='Actual AQI')\n",
        "plt.plot(train_predictions, label='Predicted AQI')\n",
        "plt.xlabel('Day')\n",
        "plt.ylabel('AQI')\n",
        "plt.legend()\n",
        "plt.show()\n"
      ]
    },
    {
      "cell_type": "code",
      "execution_count": 31,
      "metadata": {
        "colab": {
          "base_uri": "https://localhost:8080/"
        },
        "id": "QIKF4bqQFXoR",
        "outputId": "96f98118-6590-4896-bfa9-c130eaa5e098"
      },
      "outputs": [
        {
          "data": {
            "text/plain": [
              "array([ 80.49354315,  76.88244506,  77.85320075,  85.23571047,\n",
              "        95.07583021,  68.15150351,  91.27309169, 119.35810581,\n",
              "       123.43416906, 102.43625656,  90.75453288,  87.33432374,\n",
              "        82.21569695,  78.76321711,  73.66887443,  64.79458556,\n",
              "        59.45760763,  59.75839232,  61.18605947,  60.37008416,\n",
              "        61.66003108,  67.79322692,  76.05386027,  76.40681843,\n",
              "        72.05396608,  68.4304911 ,  68.44865162,  73.14781519,\n",
              "        83.78221155,  69.40043718,  73.04182665,  75.28155073,\n",
              "        72.34609097,  69.68660846,  67.30292427,  64.82518112,\n",
              "        63.12199298,  62.96774935,  64.69920706,  68.14202068,\n",
              "        70.25363259,  62.50449513,  61.82220539,  63.45117695,\n",
              "        68.08892129,  76.22846068,  83.98878296,  86.89479449,\n",
              "        87.70441138,  88.81917416,  89.82569175,  89.6728303 ,\n",
              "        88.13001384,  86.59242635,  84.86401701,  79.64606427,\n",
              "        75.98943069,  77.03639346,  77.7959325 ,  77.89504598,\n",
              "        77.52515739,  78.16197427,  77.54238305,  76.19800826,\n",
              "        77.53816498,  67.8677253 ,  65.50857122,  62.94700342,\n",
              "        63.63373936,  65.21902727,  65.99128761,  60.68775455,\n",
              "        54.44007588,  55.05242974,  61.5775707 ,  69.51406118,\n",
              "        70.91378529,  63.78278531,  53.17981202,  42.00855767,\n",
              "        40.41046346,  47.71113455,  55.31754198,  59.91013552,\n",
              "        58.18989617,  54.62949544,  52.24553392,  50.49953437,\n",
              "        48.95017386,  47.90863241,  46.99323499,  46.60021635,\n",
              "        49.52154579,  56.14167162,  63.1304649 ,  65.10585951,\n",
              "        62.3912737 ,  57.88163257,  55.66780736,  55.35600112,\n",
              "        55.54401615,  55.37706911,  55.08632639,  55.21464878,\n",
              "        54.93623374,  55.91227655,  57.37845652,  58.2741234 ,\n",
              "        58.55575008,  58.8258095 ,  58.70196908,  57.62641915,\n",
              "        56.11397459,  54.89163312,  54.33097858,  54.59394377,\n",
              "        57.13857219,  60.20770856,  63.80882284,  63.79655331,\n",
              "        61.38352154,  61.44930198,  60.86317799,  59.85859722,\n",
              "        59.08470422,  59.06401197,  58.2851539 ,  55.76455908,\n",
              "        51.06072567,  50.60938314,  52.27048003,  52.77994069,\n",
              "        51.76654804,  50.4888975 ,  48.7927857 ,  45.83267505,\n",
              "        44.42394673,  50.98482276,  81.92263943, 122.06657251,\n",
              "       127.06610478,  92.30326045,  79.80036605,  98.36055786,\n",
              "       111.06119391, 115.035064  , 121.03233105, 124.10773414,\n",
              "       129.08947715, 133.91316551, 145.14199228, 189.12445709,\n",
              "       262.11576287, 310.21533326, 298.81822201, 254.23529714,\n",
              "       221.6337333 , 200.1415036 , 176.01023762, 155.24102463,\n",
              "       137.18633484, 120.27062931, 107.02249839,  90.37206836,\n",
              "       116.39033733, 125.9597267 , 124.65220524, 126.45899779,\n",
              "       131.64981487, 137.78577505, 136.82203308, 132.0110213 ,\n",
              "       124.18343129, 113.99134194,  99.8512344 ,  77.96496397,\n",
              "        61.40992586,  52.21417348,  54.12143932,  59.00591173,\n",
              "        63.08534094,  65.15538495,  65.10344408,  62.92690608,\n",
              "        60.58353286])"
            ]
          },
          "execution_count": 31,
          "metadata": {},
          "output_type": "execute_result"
        }
      ],
      "source": [
        "test_predictions = model(X_test.to(device)).detach().cpu().numpy().flatten()\n",
        "\n",
        "dummies = np.zeros((X_test.shape[0], lookback+1))\n",
        "dummies[:, 0] = test_predictions\n",
        "dummies = target_scaler.inverse_transform(dummies)\n",
        "\n",
        "test_predictions = dc(dummies[:, 0])\n",
        "test_predictions"
      ]
    },
    {
      "cell_type": "code",
      "execution_count": 32,
      "metadata": {
        "colab": {
          "base_uri": "https://localhost:8080/"
        },
        "id": "thtzVtJz_cu4",
        "outputId": "351e44c9-50ba-4050-c56e-51f3c1b54e8b"
      },
      "outputs": [
        {
          "data": {
            "text/plain": [
              "array([ 78.87000017,  78.9799999 ,  83.815     ,  91.5250001 ,\n",
              "        73.88500024,  89.29500012, 108.34500004, 117.08499948,\n",
              "       108.11500112,  98.90999962,  92.12499999,  84.97999998,\n",
              "        80.33499982,  75.2250004 ,  67.51999948,  61.98499922,\n",
              "        60.73999959,  61.16500042,  60.57999917,  61.73499912,\n",
              "        66.59499957,  73.50500036,  75.2650005 ,  73.27500031,\n",
              "        70.48500027,  69.65499977,  72.5749996 ,  80.68500018,\n",
              "        71.61500043,  74.37499985,  75.04499992,  73.09499984,\n",
              "        71.07999987,  68.73499959,  66.22000054,  64.29999998,\n",
              "        63.66499915,  64.72999943,  67.46000044,  69.56500009,\n",
              "        64.28499966,  63.43500023,  63.84500074,  67.24999933,\n",
              "        73.88999997,  80.92999998,  85.00999999,  87.28000001,\n",
              "        88.93500001,  90.03000009,  90.15000012,  89.09499987,\n",
              "        87.72500005,  86.005     ,  81.67999999,  78.05999973,\n",
              "        77.67500011,  77.70999993,  77.88500011,  77.80000016,\n",
              "        78.34500019,  77.96499976,  76.99500001,  77.79000014,\n",
              "        70.50500032,  67.83499947,  64.5000005 ,  64.24000094,\n",
              "        65.13000048,  65.88000077,  62.06000081,  56.82999996,\n",
              "        56.27499934,  60.70999895,  67.19999976,  69.57499956,\n",
              "        65.36500026,  56.85499974,  45.99500145,  42.42500159,\n",
              "        47.19500013,  53.41499967,  58.08499905,  57.92000002,\n",
              "        55.69000032,  53.52500051,  51.55500038,  49.8049997 ,\n",
              "        48.56500092,  47.50499926,  46.9549995 ,  49.26000079,\n",
              "        54.81000025,  61.05000096,  63.8150001 ,  62.83000004,\n",
              "        59.55999985,  57.24499909,  56.25999902,  55.99500084,\n",
              "        55.73999989,  55.48499894,  55.55499969,  55.31000044,\n",
              "        56.08500052,  57.30500036,  58.21999969,  58.68999924,\n",
              "        59.06999912,  59.05999965,  58.24000086,  56.94499942,\n",
              "        55.73000043,  54.99500045,  54.9899996 ,  56.95499889,\n",
              "        59.58000102,  62.90000078,  63.57499947,  62.20500091,\n",
              "        62.19000059,  61.48999988,  60.57999917,  59.80000048,\n",
              "        59.59000049,  58.85500051,  56.7550006 ,  52.66499938,\n",
              "        51.66499899,  52.45000077,  52.79000054,  52.110001  ,\n",
              "        51.07499912,  49.50500003,  46.76000206,  45.16999957,\n",
              "        50.29500043,  74.72000047, 105.82500014, 117.8250003 ,\n",
              "       101.56999988,  90.70999992,  97.70999982, 105.13999974,\n",
              "       110.98500026, 118.17499954, 122.75000064, 127.92499884,\n",
              "       132.6549995 , 141.62999872, 173.06500429, 231.54500112,\n",
              "       287.21000146, 298.69499888, 270.18500853, 237.37999322,\n",
              "       211.03999682, 185.51499613, 162.99499745, 143.58500077,\n",
              "       126.26499784, 111.9149999 ,  95.44000002, 109.04999937,\n",
              "       116.90500013, 121.29500102, 125.65500127, 130.53500065,\n",
              "       135.99500043, 137.02999784, 134.40000156, 128.1149999 ,\n",
              "       118.88000111, 105.88000056,  86.095     ,  68.25499945,\n",
              "        55.8200001 ,  54.32500037,  57.4800011 ,  61.37500041,\n",
              "        64.07499967,  64.94999889,  63.73499989,  61.84499997,\n",
              "        60.76499937])"
            ]
          },
          "execution_count": 32,
          "metadata": {},
          "output_type": "execute_result"
        }
      ],
      "source": [
        "dummies = np.zeros((X_test.shape[0], lookback+1))\n",
        "dummies[:, 0] = y_test.flatten()\n",
        "dummies = target_scaler.inverse_transform(dummies)\n",
        "\n",
        "new_y_test = dc(dummies[:, 0])\n",
        "new_y_test"
      ]
    },
    {
      "cell_type": "code",
      "execution_count": 33,
      "metadata": {
        "colab": {
          "base_uri": "https://localhost:8080/",
          "height": 449
        },
        "id": "1-dmKE3P_cyT",
        "outputId": "18771e0b-d805-4663-f2fe-442c1e287b5d"
      },
      "outputs": [
        {
          "data": {
            "image/png": "[encoded data removed]",
            "text/plain": [
              "<Figure size 640x480 with 1 Axes>"
            ]
          },
          "metadata": {},
          "output_type": "display_data"
        }
      ],
      "source": [
        "plt.plot(new_y_test, label='Actual AQI')\n",
        "plt.plot(test_predictions, label='Predicted AQI')\n",
        "plt.xlabel('Day')\n",
        "plt.ylabel('AQI')\n",
        "plt.legend()\n",
        "plt.show()\n"
      ]
    },
    {
      "cell_type": "code",
      "execution_count": 34,
      "metadata": {
        "id": "EdzvG4ybFqkm"
      },
      "outputs": [],
      "source": [
        "# Saving the model\n",
        "model.eval()\n",
        "torch.save(model, \"new_1_lstm_model.pt\")  \n",
        "# def save_model(model, filename):\n",
        "#   \"\"\"Saves the model's state dictionary to a file.\n",
        "\n",
        "#   Args:\n",
        "#       model (nn.Module): The model to save.\n",
        "#       filename (str): The filename to save the model state dictionary to.\n",
        "#   \"\"\"\n",
        "#   model.eval()  # Set the model to evaluation mode (optional but recommended)\n",
        "#   torch.save(model.state_dict(), filename)\n",
        "\n",
        "# # Example usage:\n",
        "# model = LSTM(1, 12, 1)\n",
        "# model.to(device)\n",
        "# save_model(model, \"new_lstm_model.pt\")"
      ]
    },
    {
      "cell_type": "code",
      "execution_count": 35,
      "metadata": {},
      "outputs": [],
      "source": [
        "torch.save({\n",
        "            'epoch': epoch,\n",
        "            'model_state_dict': model.state_dict(),\n",
        "            'optimizer_state_dict': optimizer.state_dict(),\n",
        "            'loss': loss_function,\n",
        "            }, 'model.pt')\n",
        "\n",
        "\n",
        "# model = LSTM(1, 4, 2)\n",
        "# optimizer = torch.optim.Adam(model.parameters(), lr=learning_rate)\n",
        "\n",
        "# checkpoint = torch.load('model.pt')\n",
        "# model.load_state_dict(checkpoint['model_state_dict'])\n",
        "# optimizer.load_state_dict(checkpoint['optimizer_state_dict'])\n",
        "# epoch = checkpoint['epoch']\n",
        "# loss = checkpoint['loss']\n",
        "\n",
        "model = torch.load('new_1_lstm_model.pt')\n",
        "for param in model.lstm.parameters():  # Freeze LSTM layer weights (example)\n",
        "  param.requires_grad = False\n",
        "\n",
        "\n",
        "# model.eval()\n",
        "# # - or -\n",
        "# model.train()"
      ]
    },
    {
      "cell_type": "code",
      "execution_count": 36,
      "metadata": {},
      "outputs": [
        {
          "name": "stderr",
          "output_type": "stream",
          "text": [
            "C:\\Users\\timmy\\AppData\\Local\\Temp\\ipykernel_15764\\2721844118.py:2: SettingWithCopyWarning: \n",
            "A value is trying to be set on a copy of a slice from a DataFrame.\n",
            "Try using .loc[row_indexer,col_indexer] = value instead\n",
            "\n",
            "See the caveats in the documentation: https://pandas.pydata.org/pandas-docs/stable/user_guide/indexing.html#returning-a-view-versus-a-copy\n",
            "  df['date'] = pd.to_datetime(df['date'])\n"
          ]
        }
      ],
      "source": [
        "def model_data(df):\n",
        "    df['date'] = pd.to_datetime(df['date'])\n",
        "    shifted_df = prepare_data(df, lookback)\n",
        "    shifted_df_as_np = shifted_df.to_numpy()\n",
        "    # preparing the data for the model\n",
        "    X = shifted_df_as_np[:, 1:]\n",
        "    y = shifted_df_as_np[:, 0]\n",
        "    # loading the scaler\n",
        "    data_scaler = joblib.load('data_scaler.pkl')\n",
        "    target_scaler = joblib.load('target_scaler.pkl')\n",
        "    # scaling the data\n",
        "    scaled_data = data_scaler.transform(X)\n",
        "    # preparing the data for the model\n",
        "    X = scaled_data\n",
        "    y = target_scaler.transform(y.reshape(-1, 1))\n",
        "    # flipping X\n",
        "    X = dc(np.flip(X, axis=1))\n",
        "    # reshaping X and y\n",
        "    X_ = X.reshape((-1, lookback, 1))\n",
        "    y_ = y.reshape((-1, 1))\n",
        "    # converting to tensor\n",
        "    X_ = torch.tensor(X_).float().to(device)\n",
        "    y_ = torch.tensor(y_).float().to(device)\n",
        "    # now using the dataset class\n",
        "    dataset = TimeSeriesDataset(X_, y_)\n",
        "    # creating a dataloader\n",
        "    dataloader = DataLoader(dataset, batch_size=batch_size, shuffle=False)\n",
        "    return dataloader, X_, y_\n",
        "\n",
        "\n",
        "df = pd.read_csv('clean.csv')\n",
        "data, x, y = model_data(df[['date', 'AQI']])\n"
      ]
    },
    {
      "cell_type": "code",
      "execution_count": 37,
      "metadata": {},
      "outputs": [
        {
          "data": {
            "text/plain": [
              "torch.Size([9234, 7, 1])"
            ]
          },
          "execution_count": 37,
          "metadata": {},
          "output_type": "execute_result"
        }
      ],
      "source": [
        "x.shape"
      ]
    },
    {
      "cell_type": "code",
      "execution_count": 38,
      "metadata": {},
      "outputs": [],
      "source": [
        "# finetune the model on thw whole data\n",
        "\n",
        "def train_one_epoch():\n",
        "  model.train(True)\n",
        "  print(f'Epoch: {epoch +1 }')\n",
        "\n",
        "  running_loss = 0.0\n",
        "\n",
        "  for batch_index, batch in enumerate(data):\n",
        "    x_batch, y_batch = batch[0].to(device), batch[1].to(device)\n",
        "\n",
        "    output = model(x_batch)\n",
        "    loss = loss_function(output, y_batch)\n",
        "    running_loss += loss.item()\n",
        "\n",
        "    optimizer.zero_grad()\n",
        "    loss.backward()\n",
        "    optimizer.step()\n",
        "\n",
        "    if batch_index % 100==99: # printing every 100 batch\n",
        "      avg_loss_across_batches = running_loss/100\n",
        "      print('Batch {0}, Loss: {1:.3f}'.format(batch_index+1,\n",
        "                                                  avg_loss_across_batches))\n",
        "      running_loss = 0.0\n",
        "  print()\n",
        "  \n",
        "def validate_one_epoch():\n",
        "  model.train(False)\n",
        "  running_loss = 0.0\n",
        "\n",
        "  for batch_index, batch in enumerate(data):\n",
        "    x_batch, y_batch = batch[0].to(device), batch[1].to(device)\n",
        "\n",
        "    with torch.no_grad():\n",
        "      output = model(x_batch)\n",
        "      loss = loss_function(output, y_batch)\n",
        "      running_loss += loss.item()\n",
        "\n",
        "  avg_loss_across_batches = running_loss / len(data)\n",
        "\n",
        "  print('Val Loss: {0:.3f}'.format(avg_loss_across_batches))\n",
        "  print('***************************************************')\n",
        "  print()"
      ]
    },
    {
      "cell_type": "code",
      "execution_count": 39,
      "metadata": {},
      "outputs": [
        {
          "name": "stdout",
          "output_type": "stream",
          "text": [
            "Epoch: 1\n"
          ]
        },
        {
          "name": "stdout",
          "output_type": "stream",
          "text": [
            "Batch 100, Loss: 0.001\n",
            "Batch 200, Loss: 0.082\n",
            "Batch 300, Loss: 0.028\n",
            "Batch 400, Loss: 0.002\n",
            "Batch 500, Loss: 0.002\n",
            "\n",
            "Val Loss: 0.021\n",
            "***************************************************\n",
            "\n",
            "Epoch: 2\n",
            "Batch 100, Loss: 0.001\n",
            "Batch 200, Loss: 0.082\n",
            "Batch 300, Loss: 0.028\n",
            "Batch 400, Loss: 0.002\n",
            "Batch 500, Loss: 0.002\n",
            "\n",
            "Val Loss: 0.021\n",
            "***************************************************\n",
            "\n",
            "Epoch: 3\n",
            "Batch 100, Loss: 0.001\n",
            "Batch 200, Loss: 0.081\n",
            "Batch 300, Loss: 0.028\n",
            "Batch 400, Loss: 0.002\n",
            "Batch 500, Loss: 0.002\n",
            "\n",
            "Val Loss: 0.021\n",
            "***************************************************\n",
            "\n",
            "Epoch: 4\n",
            "Batch 100, Loss: 0.001\n",
            "Batch 200, Loss: 0.081\n",
            "Batch 300, Loss: 0.028\n",
            "Batch 400, Loss: 0.002\n",
            "Batch 500, Loss: 0.002\n",
            "\n",
            "Val Loss: 0.021\n",
            "***************************************************\n",
            "\n",
            "Epoch: 5\n",
            "Batch 100, Loss: 0.001\n",
            "Batch 200, Loss: 0.081\n",
            "Batch 300, Loss: 0.028\n",
            "Batch 400, Loss: 0.002\n",
            "Batch 500, Loss: 0.002\n",
            "\n",
            "Val Loss: 0.021\n",
            "***************************************************\n",
            "\n"
          ]
        }
      ],
      "source": [
        "learning_rate = 0.0001\n",
        "num_epochs = 5\n",
        "\n",
        "loss_function = nn.MSELoss()\n",
        "optimizer = torch.optim.Adam(model.parameters(), lr=learning_rate)\n",
        "\n",
        "for epoch in range(num_epochs):\n",
        "    train_one_epoch()\n",
        "    validate_one_epoch()"
      ]
    },
    {
      "cell_type": "code",
      "execution_count": 40,
      "metadata": {},
      "outputs": [],
      "source": [
        "# Saving the model\n",
        "model.eval()\n",
        "torch.save(model, \"best_model.pt\")  "
      ]
    },
    {
      "cell_type": "markdown",
      "metadata": {},
      "source": [
        "## Testing section"
      ]
    },
    {
      "cell_type": "code",
      "execution_count": 41,
      "metadata": {},
      "outputs": [],
      "source": [
        "def prepare_data(df, n_steps):\n",
        "  df = dc(df)\n",
        "  df['date'] = pd.to_datetime(df['date'])\n",
        "\n",
        "  df.set_index('date', inplace=True)\n",
        "\n",
        "  for i in range(1, n_steps+1):\n",
        "    df[f\"AQI(t-{i})\"] = df['AQI'].shift(i)\n",
        "\n",
        "  df.dropna(inplace=True)\n",
        "\n",
        "  return df\n",
        "\n",
        "device = 'cuda:0' if torch.cuda.is_available() else 'cpu'\n",
        "batch_size = 16"
      ]
    },
    {
      "cell_type": "code",
      "execution_count": 42,
      "metadata": {
        "id": "W5C2jjZHFqm_"
      },
      "outputs": [],
      "source": [
        "def model_data(df):\n",
        "    df['date'] = pd.to_datetime(df['date'])\n",
        "    shifted_df = prepare_data(df, lookback)\n",
        "    shifted_df_as_np = shifted_df.to_numpy()\n",
        "\n",
        "    # preparing the data for the model\n",
        "    X = shifted_df_as_np[:, 1:]\n",
        "    y = shifted_df_as_np[:, 0]\n",
        "    # flipping X\n",
        "    X = dc(np.flip(X, axis=1))\n",
        "    # loading the scaler\n",
        "    data_scaler = joblib.load('data_scaler.pkl')\n",
        "    target_scaler = joblib.load('target_scaler.pkl')\n",
        "    # scaling the data\n",
        "    scaled_data = data_scaler.transform(X)\n",
        "    scald_target = target_scaler.transform(y.reshape(-1, 1))\n",
        "    \n",
        "    # reshaping X and y\n",
        "    X_ = scaled_data.reshape((-1, lookback, 1))\n",
        "    y_ = scald_target.reshape((-1, 1))\n",
        "    # converting to tensor\n",
        "    X_ = torch.tensor(X_).float().to(device)\n",
        "    y_ = torch.tensor(y_).float().to(device)\n",
        "    # now using the dataset class\n",
        "    dataset = TimeSeriesDataset(X_, y_)\n",
        "    # creating a dataloader\n",
        "    dataloader = DataLoader(dataset, batch_size=batch_size, shuffle=False)\n",
        "    return dataloader, X_, y_\n",
        "\n",
        "# model loading function\n",
        "def load_model():\n",
        "    model = torch.load('best_model.pt')\n",
        "    for param in model.lstm.parameters():\n",
        "        param.requires_grad = False\n",
        "    return model\n",
        "\n",
        "\n",
        "def predict(dataloader):\n",
        "    model = load_model()\n",
        "    model.eval()\n",
        "    predictions = []\n",
        "    y_ = []\n",
        "    with torch.no_grad():\n",
        "        for X, y in dataloader:\n",
        "            y_pred = model(X)\n",
        "            predictions.append(y_pred)\n",
        "            y_.append(y)\n",
        "    return predictions, y_"
      ]
    },
    {
      "cell_type": "code",
      "execution_count": 43,
      "metadata": {},
      "outputs": [
        {
          "name": "stderr",
          "output_type": "stream",
          "text": [
            "C:\\Users\\timmy\\AppData\\Local\\Temp\\ipykernel_15764\\1799618833.py:6: FutureWarning: 'H' is deprecated and will be removed in a future version, please use 'h' instead.\n",
            "  return pd.date_range(start=date, end=next_date,  freq='H')\n",
            "C:\\Users\\timmy\\AppData\\Local\\Temp\\ipykernel_15764\\1799618833.py:15: FutureWarning: The behavior of 'isin' with dtype=datetime64[ns] and castable values (e.g. strings) is deprecated. In a future version, these will not be considered matching by isin. Explicitly cast to the appropriate dtype before calling isin instead.\n",
            "  data_ = df[df['date'].isin(hourly_df['date'].astype(str).values.tolist())]\n"
          ]
        }
      ],
      "source": [
        "import pandas as pd\n",
        "def create_hourly_increments(date):\n",
        "    # getting the next date\n",
        "    date = pd.to_datetime(date)\n",
        "    next_date = date + pd.DateOffset(days=4)\n",
        "    return pd.date_range(start=date, end=next_date,  freq='H')\n",
        "    \n",
        "def get_date_data(date):\n",
        "    df = pd.read_csv('clean.csv')\n",
        "    df['date'] = pd.to_datetime(df['date'])\n",
        "    # convert date to datetime\n",
        "    date_dt = pd.to_datetime(date)\n",
        "    # getting the hourly increments for the selected date\n",
        "    hourly_df = pd.DataFrame({'date': create_hourly_increments(date)})\n",
        "    data_ = df[df['date'].isin(hourly_df['date'].astype(str).values.tolist())]\n",
        "    return data_\n",
        "\n",
        "d = get_date_data('2024-04-17')\n"
      ]
    },
    {
      "cell_type": "code",
      "execution_count": 44,
      "metadata": {},
      "outputs": [
        {
          "data": {
            "text/html": [
              "<div>\n",
              "<style scoped>\n",
              "    .dataframe tbody tr th:only-of-type {\n",
              "        vertical-align: middle;\n",
              "    }\n",
              "\n",
              "    .dataframe tbody tr th {\n",
              "        vertical-align: top;\n",
              "    }\n",
              "\n",
              "    .dataframe thead th {\n",
              "        text-align: right;\n",
              "    }\n",
              "</style>\n",
              "<table border=\"1\" class=\"dataframe\">\n",
              "  <thead>\n",
              "    <tr style=\"text-align: right;\">\n",
              "      <th></th>\n",
              "      <th>date</th>\n",
              "      <th>AQI</th>\n",
              "      <th>latitude</th>\n",
              "      <th>longitude</th>\n",
              "    </tr>\n",
              "  </thead>\n",
              "  <tbody>\n",
              "    <tr>\n",
              "      <th>9168</th>\n",
              "      <td>2024-04-17 00:00:00</td>\n",
              "      <td>55.730</td>\n",
              "      <td>27.889417</td>\n",
              "      <td>71.375264</td>\n",
              "    </tr>\n",
              "    <tr>\n",
              "      <th>9169</th>\n",
              "      <td>2024-04-17 01:00:00</td>\n",
              "      <td>54.995</td>\n",
              "      <td>27.889417</td>\n",
              "      <td>71.375264</td>\n",
              "    </tr>\n",
              "    <tr>\n",
              "      <th>9170</th>\n",
              "      <td>2024-04-17 02:00:00</td>\n",
              "      <td>54.990</td>\n",
              "      <td>27.889417</td>\n",
              "      <td>71.375264</td>\n",
              "    </tr>\n",
              "    <tr>\n",
              "      <th>9171</th>\n",
              "      <td>2024-04-17 03:00:00</td>\n",
              "      <td>56.955</td>\n",
              "      <td>27.889417</td>\n",
              "      <td>71.375264</td>\n",
              "    </tr>\n",
              "    <tr>\n",
              "      <th>9172</th>\n",
              "      <td>2024-04-17 04:00:00</td>\n",
              "      <td>59.580</td>\n",
              "      <td>27.889417</td>\n",
              "      <td>71.375264</td>\n",
              "    </tr>\n",
              "    <tr>\n",
              "      <th>...</th>\n",
              "      <td>...</td>\n",
              "      <td>...</td>\n",
              "      <td>...</td>\n",
              "      <td>...</td>\n",
              "    </tr>\n",
              "    <tr>\n",
              "      <th>9236</th>\n",
              "      <td>2024-04-19 20:00:00</td>\n",
              "      <td>64.075</td>\n",
              "      <td>27.889417</td>\n",
              "      <td>71.375264</td>\n",
              "    </tr>\n",
              "    <tr>\n",
              "      <th>9237</th>\n",
              "      <td>2024-04-19 21:00:00</td>\n",
              "      <td>64.950</td>\n",
              "      <td>27.889417</td>\n",
              "      <td>71.375264</td>\n",
              "    </tr>\n",
              "    <tr>\n",
              "      <th>9238</th>\n",
              "      <td>2024-04-19 22:00:00</td>\n",
              "      <td>63.735</td>\n",
              "      <td>27.889417</td>\n",
              "      <td>71.375264</td>\n",
              "    </tr>\n",
              "    <tr>\n",
              "      <th>9239</th>\n",
              "      <td>2024-04-19 23:00:00</td>\n",
              "      <td>61.845</td>\n",
              "      <td>27.889417</td>\n",
              "      <td>71.375264</td>\n",
              "    </tr>\n",
              "    <tr>\n",
              "      <th>9240</th>\n",
              "      <td>2024-04-20 00:00:00</td>\n",
              "      <td>60.765</td>\n",
              "      <td>27.889417</td>\n",
              "      <td>71.375264</td>\n",
              "    </tr>\n",
              "  </tbody>\n",
              "</table>\n",
              "<p>73 rows × 4 columns</p>\n",
              "</div>"
            ],
            "text/plain": [
              "                    date     AQI   latitude  longitude\n",
              "9168 2024-04-17 00:00:00  55.730  27.889417  71.375264\n",
              "9169 2024-04-17 01:00:00  54.995  27.889417  71.375264\n",
              "9170 2024-04-17 02:00:00  54.990  27.889417  71.375264\n",
              "9171 2024-04-17 03:00:00  56.955  27.889417  71.375264\n",
              "9172 2024-04-17 04:00:00  59.580  27.889417  71.375264\n",
              "...                  ...     ...        ...        ...\n",
              "9236 2024-04-19 20:00:00  64.075  27.889417  71.375264\n",
              "9237 2024-04-19 21:00:00  64.950  27.889417  71.375264\n",
              "9238 2024-04-19 22:00:00  63.735  27.889417  71.375264\n",
              "9239 2024-04-19 23:00:00  61.845  27.889417  71.375264\n",
              "9240 2024-04-20 00:00:00  60.765  27.889417  71.375264\n",
              "\n",
              "[73 rows x 4 columns]"
            ]
          },
          "execution_count": 44,
          "metadata": {},
          "output_type": "execute_result"
        }
      ],
      "source": [
        "d"
      ]
    },
    {
      "cell_type": "code",
      "execution_count": 45,
      "metadata": {},
      "outputs": [
        {
          "data": {
            "text/plain": [
              "73"
            ]
          },
          "execution_count": 45,
          "metadata": {},
          "output_type": "execute_result"
        }
      ],
      "source": [
        "len(d)"
      ]
    },
    {
      "cell_type": "code",
      "execution_count": 46,
      "metadata": {
        "id": "yTurIx9GFqqZ"
      },
      "outputs": [
        {
          "name": "stderr",
          "output_type": "stream",
          "text": [
            "C:\\Users\\timmy\\AppData\\Local\\Temp\\ipykernel_15764\\3198408548.py:2: SettingWithCopyWarning: \n",
            "A value is trying to be set on a copy of a slice from a DataFrame.\n",
            "Try using .loc[row_indexer,col_indexer] = value instead\n",
            "\n",
            "See the caveats in the documentation: https://pandas.pydata.org/pandas-docs/stable/user_guide/indexing.html#returning-a-view-versus-a-copy\n",
            "  df['date'] = pd.to_datetime(df['date'])\n"
          ]
        }
      ],
      "source": [
        "loader, x, y = model_data(d[['date', 'AQI']])"
      ]
    },
    {
      "cell_type": "code",
      "execution_count": 61,
      "metadata": {
        "id": "W-xVz1jPFqt-"
      },
      "outputs": [
        {
          "data": {
            "text/plain": [
              "LSTM(\n",
              "  (lstm): LSTM(1, 12, batch_first=True)\n",
              "  (fc): Linear(in_features=12, out_features=1, bias=True)\n",
              ")"
            ]
          },
          "execution_count": 61,
          "metadata": {},
          "output_type": "execute_result"
        }
      ],
      "source": [
        "model = load_model()\n",
        "model.eval()\n",
        "model"
      ]
    },
    {
      "cell_type": "code",
      "execution_count": 48,
      "metadata": {},
      "outputs": [],
      "source": [
        "predictions, y = predict(loader)"
      ]
    },
    {
      "cell_type": "code",
      "execution_count": 49,
      "metadata": {},
      "outputs": [],
      "source": [
        "# a function for making plot\n",
        "def make_plot(predictions, y):\n",
        "    scaler = joblib.load('target_scaler.pkl')   \n",
        "    predictions = torch.cat(predictions).cpu().numpy().flatten()\n",
        "    y = torch.cat(y).cpu().numpy().flatten()\n",
        "\n",
        "    dummies = np.zeros((len(predictions), lookback+1))\n",
        "    dummies[:, 0] = predictions\n",
        "    dummies = scaler.inverse_transform(dummies)\n",
        "\n",
        "    predictions = dc(dummies[:, 0])\n",
        "\n",
        "    dummies = np.zeros((len(y), lookback+1))\n",
        "    dummies[:, 0] = y.flatten()\n",
        "    dummies = scaler.inverse_transform(dummies)\n",
        "\n",
        "    new_y = dc(dummies[:, 0])\n",
        "\n",
        "    plt.plot(new_y, label='Actual AQI')\n",
        "    plt.plot(predictions, label='Predicted AQI')\n",
        "    plt.xlabel('Hour')\n",
        "    plt.ylabel('AQI')\n",
        "    plt.legend()\n",
        "    plt.show()"
      ]
    },
    {
      "cell_type": "code",
      "execution_count": 50,
      "metadata": {},
      "outputs": [
        {
          "data": {
            "image/png": "[encoded data removed]",
            "text/plain": [
              "<Figure size 640x480 with 1 Axes>"
            ]
          },
          "metadata": {},
          "output_type": "display_data"
        }
      ],
      "source": [
        "make_plot(predictions, y)"
      ]
    },
    {
      "cell_type": "code",
      "execution_count": 51,
      "metadata": {},
      "outputs": [
        {
          "data": {
            "text/html": [
              "<style>#sk-container-id-1 {color: black;}#sk-container-id-1 pre{padding: 0;}#sk-container-id-1 div.sk-toggleable {background-color: white;}#sk-container-id-1 label.sk-toggleable__label {cursor: pointer;display: block;width: 100%;margin-bottom: 0;padding: 0.3em;box-sizing: border-box;text-align: center;}#sk-container-id-1 label.sk-toggleable__label-arrow:before {content: \"▸\";float: left;margin-right: 0.25em;color: #696969;}#sk-container-id-1 label.sk-toggleable__label-arrow:hover:before {color: black;}#sk-container-id-1 div.sk-estimator:hover label.sk-toggleable__label-arrow:before {color: black;}#sk-container-id-1 div.sk-toggleable__content {max-height: 0;max-width: 0;overflow: hidden;text-align: left;background-color: #f0f8ff;}#sk-container-id-1 div.sk-toggleable__content pre {margin: 0.2em;color: black;border-radius: 0.25em;background-color: #f0f8ff;}#sk-container-id-1 input.sk-toggleable__control:checked~div.sk-toggleable__content {max-height: 200px;max-width: 100%;overflow: auto;}#sk-container-id-1 input.sk-toggleable__control:checked~label.sk-toggleable__label-arrow:before {content: \"▾\";}#sk-container-id-1 div.sk-estimator input.sk-toggleable__control:checked~label.sk-toggleable__label {background-color: #d4ebff;}#sk-container-id-1 div.sk-label input.sk-toggleable__control:checked~label.sk-toggleable__label {background-color: #d4ebff;}#sk-container-id-1 input.sk-hidden--visually {border: 0;clip: rect(1px 1px 1px 1px);clip: rect(1px, 1px, 1px, 1px);height: 1px;margin: -1px;overflow: hidden;padding: 0;position: absolute;width: 1px;}#sk-container-id-1 div.sk-estimator {font-family: monospace;background-color: #f0f8ff;border: 1px dotted black;border-radius: 0.25em;box-sizing: border-box;margin-bottom: 0.5em;}#sk-container-id-1 div.sk-estimator:hover {background-color: #d4ebff;}#sk-container-id-1 div.sk-parallel-item::after {content: \"\";width: 100%;border-bottom: 1px solid gray;flex-grow: 1;}#sk-container-id-1 div.sk-label:hover label.sk-toggleable__label {background-color: #d4ebff;}#sk-container-id-1 div.sk-serial::before {content: \"\";position: absolute;border-left: 1px solid gray;box-sizing: border-box;top: 0;bottom: 0;left: 50%;z-index: 0;}#sk-container-id-1 div.sk-serial {display: flex;flex-direction: column;align-items: center;background-color: white;padding-right: 0.2em;padding-left: 0.2em;position: relative;}#sk-container-id-1 div.sk-item {position: relative;z-index: 1;}#sk-container-id-1 div.sk-parallel {display: flex;align-items: stretch;justify-content: center;background-color: white;position: relative;}#sk-container-id-1 div.sk-item::before, #sk-container-id-1 div.sk-parallel-item::before {content: \"\";position: absolute;border-left: 1px solid gray;box-sizing: border-box;top: 0;bottom: 0;left: 50%;z-index: -1;}#sk-container-id-1 div.sk-parallel-item {display: flex;flex-direction: column;z-index: 1;position: relative;background-color: white;}#sk-container-id-1 div.sk-parallel-item:first-child::after {align-self: flex-end;width: 50%;}#sk-container-id-1 div.sk-parallel-item:last-child::after {align-self: flex-start;width: 50%;}#sk-container-id-1 div.sk-parallel-item:only-child::after {width: 0;}#sk-container-id-1 div.sk-dashed-wrapped {border: 1px dashed gray;margin: 0 0.4em 0.5em 0.4em;box-sizing: border-box;padding-bottom: 0.4em;background-color: white;}#sk-container-id-1 div.sk-label label {font-family: monospace;font-weight: bold;display: inline-block;line-height: 1.2em;}#sk-container-id-1 div.sk-label-container {text-align: center;}#sk-container-id-1 div.sk-container {/* jupyter's `normalize.less` sets `[hidden] { display: none; }` but bootstrap.min.css set `[hidden] { display: none !important; }` so we also need the `!important` here to be able to override the default hidden behavior on the sphinx rendered scikit-learn.org. See: https://github.com/scikit-learn/scikit-learn/issues/21755 */display: inline-block !important;position: relative;}#sk-container-id-1 div.sk-text-repr-fallback {display: none;}</style><div id=\"sk-container-id-1\" class=\"sk-top-container\"><div class=\"sk-text-repr-fallback\"><pre>StandardScaler()</pre><b>In a Jupyter environment, please rerun this cell to show the HTML representation or trust the notebook. <br />On GitHub, the HTML representation is unable to render, please try loading this page with nbviewer.org.</b></div><div class=\"sk-container\" hidden><div class=\"sk-item\"><div class=\"sk-estimator sk-toggleable\"><input class=\"sk-toggleable__control sk-hidden--visually\" id=\"sk-estimator-id-1\" type=\"checkbox\" checked><label for=\"sk-estimator-id-1\" class=\"sk-toggleable__label sk-toggleable__label-arrow\">StandardScaler</label><div class=\"sk-toggleable__content\"><pre>StandardScaler()</pre></div></div></div></div></div>"
            ],
            "text/plain": [
              "StandardScaler()"
            ]
          },
          "execution_count": 51,
          "metadata": {},
          "output_type": "execute_result"
        }
      ],
      "source": [
        "data_scaler = joblib.load('data_scaler.pkl')\n",
        "data_scaler"
      ]
    },
    {
      "cell_type": "code",
      "execution_count": null,
      "metadata": {},
      "outputs": [],
      "source": []
    },
    {
      "cell_type": "code",
      "execution_count": 62,
      "metadata": {},
      "outputs": [],
      "source": [
        "def predict_today(n=24):\n",
        "    # loading the database\n",
        "    data = pd.read_csv('clean.csv')\n",
        "    # getting today's date\n",
        "    today_date = date.today()\n",
        "    today_date = pd.to_datetime(today_date)\n",
        "    # get last date in the data\n",
        "    last_date = data['date'].iloc[-1]\n",
        "    # converting both to time and getting the total hours between them\n",
        "    last_date = pd.to_datetime(last_date)\n",
        "    hours_diff = (today_date - last_date).total_seconds() / 3600\n",
        "    aqi_data = data['AQI'].values.tolist()\n",
        "    model = load_model()\n",
        "    data_scaler = joblib.load('data_scaler.pkl')\n",
        "    target_scaler = joblib.load('target_scaler.pkl')\n",
        "    lookback = 7\n",
        "    # ensureing we are just collecting the last 6 values\n",
        "    current_data = aqi_data[-lookback:]\n",
        "    predictions = []\n",
        "    model.eval()\n",
        "    for _ in range(int(hours_diff)):\n",
        "        # Ensure current_data has the required length\n",
        "        if len(current_data) != lookback:\n",
        "            raise ValueError(f\"Current data must have length {lookback}\")\n",
        "\n",
        "        # Prepare data for the model (scaling and reshaping)\n",
        "        current_data_np = np.array([current_data])  # Assuming data is a list\n",
        "        scaled_data = data_scaler.transform(current_data_np)\n",
        "        X = scaled_data.reshape((1, lookback, 1))\n",
        "        X_ = torch.tensor(X).float().to(device)\n",
        "\n",
        "        # Make prediction\n",
        "        with torch.no_grad():\n",
        "            y_pred = model(X_)\n",
        "\n",
        "        # Inverse scaling of the predicted value (assuming single value prediction)\n",
        "        predicted_value = target_scaler.inverse_transform(y_pred.cpu().detach().numpy())[0][0]\n",
        "\n",
        "        # Update current_data for the next iteration\n",
        "        current_data.append(predicted_value)\n",
        "        current_data = current_data[-lookback:]  # Keep only the last lookback values\n",
        "\n",
        "        # Append the prediction to the final list\n",
        "        predictions.append(predicted_value)\n",
        "\n",
        "    return predictions[-24:]\n"
      ]
    },
    {
      "cell_type": "code",
      "execution_count": 63,
      "metadata": {},
      "outputs": [
        {
          "data": {
            "text/plain": [
              "[50.46204,\n",
              " 50.46055,\n",
              " 50.459137,\n",
              " 50.457794,\n",
              " 50.456524,\n",
              " 50.455315,\n",
              " 50.454174,\n",
              " 50.453087,\n",
              " 50.45205,\n",
              " 50.451077,\n",
              " 50.450146,\n",
              " 50.44927,\n",
              " 50.448437,\n",
              " 50.447647,\n",
              " 50.44689,\n",
              " 50.446182,\n",
              " 50.445507,\n",
              " 50.444866,\n",
              " 50.44426,\n",
              " 50.443676,\n",
              " 50.443123,\n",
              " 50.442604,\n",
              " 50.442112,\n",
              " 50.441647]"
            ]
          },
          "execution_count": 63,
          "metadata": {},
          "output_type": "execute_result"
        }
      ],
      "source": [
        "pred = predict_today()\n",
        "pred"
      ]
    },
    {
      "cell_type": "code",
      "execution_count": 64,
      "metadata": {},
      "outputs": [],
      "source": [
        "# predicting for thr last seven days\n",
        "def predict_last_seven_days():\n",
        "    # getting the data\n",
        "    data = pd.read_csv('clean.csv')\n",
        "    # converting date to the right format\n",
        "    data['date'] = pd.to_datetime(data['date'])\n",
        "    # today's date\n",
        "    today_date = date.today()\n",
        "    # last seven days\n",
        "    last_seven_days = today_date - timedelta(days=7)\n",
        "    # converting to datetime\n",
        "    today_date = pd.to_datetime(today_date)\n",
        "    last_seven_days = pd.to_datetime(last_seven_days)\n",
        "    # caalculating the hours difference\n",
        "    hours_diff = (today_date - last_seven_days).days * 24\n",
        "    # the prev day before the last seven days data\n",
        "    previous_day_hrs = hours_diff + 24 \n",
        "    # getting the data\n",
        "    aqi_data = data['AQI'].values.tolist()[-previous_day_hrs:-hours_diff]\n",
        "    # loading model\n",
        "    model = load_model()\n",
        "    # loading scalers\n",
        "    data_scaler = joblib.load('data_scaler.pkl')\n",
        "    target_scaler = joblib.load('target_scaler.pkl')\n",
        "    # lookback\n",
        "    lookback = 7\n",
        "    # current data\n",
        "    current_data = aqi_data[-lookback:]\n",
        "    # predictions\n",
        "    predictions = []\n",
        "    # loop to make predictions\n",
        "    for _ in range(hours_diff):\n",
        "        if len(current_data) != lookback:\n",
        "            raise ValueError(f\"Current data must have length {lookback}\")\n",
        "\n",
        "        current_data_np = np.array([current_data])\n",
        "        scaled_data = data_scaler.transform(current_data_np)\n",
        "        X = scaled_data.reshape((1, lookback, 1))\n",
        "        X_ = torch.tensor(X).float().to(device)\n",
        "\n",
        "        with torch.no_grad():\n",
        "            y_pred = model(X_)\n",
        "\n",
        "        predicted_value = target_scaler.inverse_transform(y_pred.cpu().detach().numpy())[0][0]\n",
        "\n",
        "        current_data.append(predicted_value)\n",
        "        current_data = current_data[-lookback:]\n",
        "\n",
        "        predictions.append(predicted_value)\n",
        "\n",
        "    return predictions[-24*7:]"
      ]
    },
    {
      "cell_type": "code",
      "execution_count": 65,
      "metadata": {},
      "outputs": [
        {
          "data": {
            "text/plain": [
              "[59.94738,\n",
              " 59.8379,\n",
              " 59.78784,\n",
              " 59.680717,\n",
              " 59.500896,\n",
              " 59.26785,\n",
              " 59.004913,\n",
              " 58.73,\n",
              " 58.45331,\n",
              " 58.179924,\n",
              " 57.9119,\n",
              " 57.649876,\n",
              " 57.393932,\n",
              " 57.143993,\n",
              " 56.9,\n",
              " 56.661915,\n",
              " 56.429752,\n",
              " 56.203526,\n",
              " 55.98324,\n",
              " 55.768917,\n",
              " 55.56057,\n",
              " 55.358173,\n",
              " 55.161716,\n",
              " 54.971176,\n",
              " 54.786503,\n",
              " 54.60764,\n",
              " 54.434536,\n",
              " 54.267128,\n",
              " 54.10534,\n",
              " 53.949078,\n",
              " 53.798264,\n",
              " 53.652798,\n",
              " 53.512573,\n",
              " 53.377495,\n",
              " 53.247456,\n",
              " 53.122326,\n",
              " 53.00199,\n",
              " 52.886333,\n",
              " 52.775227,\n",
              " 52.668564,\n",
              " 52.566193,\n",
              " 52.468002,\n",
              " 52.373863,\n",
              " 52.28365,\n",
              " 52.19723,\n",
              " 52.11449,\n",
              " 52.035297,\n",
              " 51.959522,\n",
              " 51.887043,\n",
              " 51.81776,\n",
              " 51.75154,\n",
              " 51.688282,\n",
              " 51.627865,\n",
              " 51.570183,\n",
              " 51.51512,\n",
              " 51.46258,\n",
              " 51.41246,\n",
              " 51.36466,\n",
              " 51.319084,\n",
              " 51.275635,\n",
              " 51.234226,\n",
              " 51.19477,\n",
              " 51.15717,\n",
              " 51.12135,\n",
              " 51.08725,\n",
              " 51.054783,\n",
              " 51.02388,\n",
              " 50.994465,\n",
              " 50.966473,\n",
              " 50.939842,\n",
              " 50.91451,\n",
              " 50.890408,\n",
              " 50.867477,\n",
              " 50.845676,\n",
              " 50.824944,\n",
              " 50.805237,\n",
              " 50.786495,\n",
              " 50.76869,\n",
              " 50.75176,\n",
              " 50.735664,\n",
              " 50.720375,\n",
              " 50.70585,\n",
              " 50.692047,\n",
              " 50.678932,\n",
              " 50.666477,\n",
              " 50.654644,\n",
              " 50.6434,\n",
              " 50.632717,\n",
              " 50.62257,\n",
              " 50.61293,\n",
              " 50.60377,\n",
              " 50.595085,\n",
              " 50.58683,\n",
              " 50.578995,\n",
              " 50.571552,\n",
              " 50.564487,\n",
              " 50.55778,\n",
              " 50.551414,\n",
              " 50.545372,\n",
              " 50.53963,\n",
              " 50.534184,\n",
              " 50.529015,\n",
              " 50.524117,\n",
              " 50.519466,\n",
              " 50.515057,\n",
              " 50.51086,\n",
              " 50.506886,\n",
              " 50.503105,\n",
              " 50.49952,\n",
              " 50.496113,\n",
              " 50.49289,\n",
              " 50.489822,\n",
              " 50.48691,\n",
              " 50.484158,\n",
              " 50.481537,\n",
              " 50.479046,\n",
              " 50.47669,\n",
              " 50.474453,\n",
              " 50.47233,\n",
              " 50.470314,\n",
              " 50.468395,\n",
              " 50.466583,\n",
              " 50.464863,\n",
              " 50.463234,\n",
              " 50.46168,\n",
              " 50.46021,\n",
              " 50.45881,\n",
              " 50.45747,\n",
              " 50.456207,\n",
              " 50.455006,\n",
              " 50.453865,\n",
              " 50.452793,\n",
              " 50.451763,\n",
              " 50.450794,\n",
              " 50.449875,\n",
              " 50.44901,\n",
              " 50.448185,\n",
              " 50.4474,\n",
              " 50.446655,\n",
              " 50.445953,\n",
              " 50.445282,\n",
              " 50.444645,\n",
              " 50.444042,\n",
              " 50.44347,\n",
              " 50.44293,\n",
              " 50.442417,\n",
              " 50.441925,\n",
              " 50.441463,\n",
              " 50.441025,\n",
              " 50.440617,\n",
              " 50.440224,\n",
              " 50.43985,\n",
              " 50.439495,\n",
              " 50.439156,\n",
              " 50.438843,\n",
              " 50.43854,\n",
              " 50.438255,\n",
              " 50.437977,\n",
              " 50.437717,\n",
              " 50.437473,\n",
              " 50.437237,\n",
              " 50.437016,\n",
              " 50.436806,\n",
              " 50.4366,\n",
              " 50.436417,\n",
              " 50.436237,\n",
              " 50.43606,\n",
              " 50.435894]"
            ]
          },
          "execution_count": 65,
          "metadata": {},
          "output_type": "execute_result"
        }
      ],
      "source": [
        "predict_last_seven_days()"
      ]
    },
    {
      "cell_type": "code",
      "execution_count": 68,
      "metadata": {},
      "outputs": [],
      "source": [
        "# next seven days prediction\n",
        "def predict_next_seven_days():\n",
        "    # loading the database\n",
        "    data = pd.read_csv('clean.csv')\n",
        "    # getting today's date\n",
        "    today_date = date.today()\n",
        "    today_date = pd.to_datetime(today_date)\n",
        "    # get last date in the data\n",
        "    last_date = data['date'].iloc[-1]\n",
        "    # converting both to time and getting the total hours between them\n",
        "    last_date = pd.to_datetime(last_date)\n",
        "    hours_diff = (today_date - last_date).total_seconds() / 3600\n",
        "    # adding 168 to the hours diff\n",
        "    hours_diff += 168\n",
        "    aqi_data = data['AQI'].values.tolist()\n",
        "    model = load_model()\n",
        "    model.eval\n",
        "    data_scaler = joblib.load('data_scaler.pkl')\n",
        "    target_scaler = joblib.load('target_scaler.pkl')\n",
        "    lookback = 7\n",
        "    # ensureing we are just collecting the last 6 values\n",
        "    current_data = aqi_data[-lookback:]\n",
        "    predictions = []\n",
        "    for _ in range(int(hours_diff)):\n",
        "        # Ensure current_data has the required length\n",
        "        if len(current_data) != lookback:\n",
        "            raise ValueError(f\"Current data must have length {lookback}\")\n",
        "\n",
        "        # Prepare data for the model (scaling and reshaping)\n",
        "        current_data_np = np.array([current_data])  # Assuming data is a list\n",
        "        scaled_data = data_scaler.transform(current_data_np)\n",
        "        X = scaled_data.reshape((1, lookback, 1))\n",
        "        X_ = torch.tensor(X).float().to(device)\n",
        "\n",
        "        # Make prediction\n",
        "        with torch.no_grad():\n",
        "            y_pred = model(X_)\n",
        "\n",
        "        # Inverse scaling of the predicted value (assuming single value prediction)\n",
        "        predicted_value = target_scaler.inverse_transform(y_pred.cpu().detach().numpy())[0][0]\n",
        "\n",
        "        # Update current_data for the next iteration\n",
        "        current_data.append(predicted_value)\n",
        "        current_data = current_data[-lookback:]  # Keep only the last lookback values\n",
        "\n",
        "        # Append the prediction to the final list\n",
        "        predictions.append(predicted_value)\n",
        "\n",
        "    return predictions[-168:]"
      ]
    },
    {
      "cell_type": "code",
      "execution_count": 69,
      "metadata": {},
      "outputs": [
        {
          "data": {
            "text/plain": [
              "[50.4412,\n",
              " 50.440777,\n",
              " 50.440376,\n",
              " 50.439995,\n",
              " 50.439632,\n",
              " 50.439285,\n",
              " 50.438957,\n",
              " 50.43864,\n",
              " 50.438347,\n",
              " 50.438065,\n",
              " 50.437798,\n",
              " 50.437553,\n",
              " 50.43732,\n",
              " 50.437096,\n",
              " 50.436886,\n",
              " 50.43669,\n",
              " 50.43651,\n",
              " 50.436333,\n",
              " 50.43616,\n",
              " 50.436,\n",
              " 50.43585,\n",
              " 50.435696,\n",
              " 50.435555,\n",
              " 50.43542,\n",
              " 50.435295,\n",
              " 50.435173,\n",
              " 50.43505,\n",
              " 50.434944,\n",
              " 50.43485,\n",
              " 50.43475,\n",
              " 50.434654,\n",
              " 50.43457,\n",
              " 50.43449,\n",
              " 50.434402,\n",
              " 50.43433,\n",
              " 50.434258,\n",
              " 50.43419,\n",
              " 50.434124,\n",
              " 50.43407,\n",
              " 50.434013,\n",
              " 50.433968,\n",
              " 50.433918,\n",
              " 50.433872,\n",
              " 50.43383,\n",
              " 50.43379,\n",
              " 50.433746,\n",
              " 50.433712,\n",
              " 50.433666,\n",
              " 50.43362,\n",
              " 50.43358,\n",
              " 50.433537,\n",
              " 50.433502,\n",
              " 50.433468,\n",
              " 50.43344,\n",
              " 50.433414,\n",
              " 50.433388,\n",
              " 50.433357,\n",
              " 50.433334,\n",
              " 50.433308,\n",
              " 50.43329,\n",
              " 50.43326,\n",
              " 50.433243,\n",
              " 50.433224,\n",
              " 50.433205,\n",
              " 50.43318,\n",
              " 50.433167,\n",
              " 50.43315,\n",
              " 50.433144,\n",
              " 50.43314,\n",
              " 50.433132,\n",
              " 50.43313,\n",
              " 50.433125,\n",
              " 50.43312,\n",
              " 50.433113,\n",
              " 50.433105,\n",
              " 50.433094,\n",
              " 50.43309,\n",
              " 50.43308,\n",
              " 50.433075,\n",
              " 50.433067,\n",
              " 50.43306,\n",
              " 50.433052,\n",
              " 50.43304,\n",
              " 50.43303,\n",
              " 50.433014,\n",
              " 50.43301,\n",
              " 50.433002,\n",
              " 50.432995,\n",
              " 50.432987,\n",
              " 50.432987,\n",
              " 50.432987,\n",
              " 50.432995,\n",
              " 50.432995,\n",
              " 50.432995,\n",
              " 50.432995,\n",
              " 50.432987,\n",
              " 50.432987,\n",
              " 50.43299,\n",
              " 50.432995,\n",
              " 50.432995,\n",
              " 50.43299,\n",
              " 50.432987,\n",
              " 50.43299,\n",
              " 50.43299,\n",
              " 50.432995,\n",
              " 50.433,\n",
              " 50.432995,\n",
              " 50.432987,\n",
              " 50.432987,\n",
              " 50.432995,\n",
              " 50.432995,\n",
              " 50.433,\n",
              " 50.432995,\n",
              " 50.432987,\n",
              " 50.432987,\n",
              " 50.432995,\n",
              " 50.432995,\n",
              " 50.433,\n",
              " 50.432995,\n",
              " 50.432987,\n",
              " 50.432987,\n",
              " 50.432995,\n",
              " 50.432995,\n",
              " 50.433,\n",
              " 50.432995,\n",
              " 50.432987,\n",
              " 50.432987,\n",
              " 50.432995,\n",
              " 50.432995,\n",
              " 50.433,\n",
              " 50.432995,\n",
              " 50.432987,\n",
              " 50.432987,\n",
              " 50.432995,\n",
              " 50.432995,\n",
              " 50.433,\n",
              " 50.432995,\n",
              " 50.432987,\n",
              " 50.432987,\n",
              " 50.432995,\n",
              " 50.432995,\n",
              " 50.433,\n",
              " 50.432995,\n",
              " 50.432987,\n",
              " 50.432987,\n",
              " 50.432995,\n",
              " 50.432995,\n",
              " 50.433,\n",
              " 50.432995,\n",
              " 50.432987,\n",
              " 50.432987,\n",
              " 50.432995,\n",
              " 50.432995,\n",
              " 50.433,\n",
              " 50.432995,\n",
              " 50.432987,\n",
              " 50.432987,\n",
              " 50.432995,\n",
              " 50.432995,\n",
              " 50.433,\n",
              " 50.432995,\n",
              " 50.432987,\n",
              " 50.432987,\n",
              " 50.432995,\n",
              " 50.432995,\n",
              " 50.433,\n",
              " 50.432995,\n",
              " 50.432987]"
            ]
          },
          "execution_count": 69,
          "metadata": {},
          "output_type": "execute_result"
        }
      ],
      "source": [
        "predict_next_seven_days()"
      ]
    },
    {
      "cell_type": "code",
      "execution_count": null,
      "metadata": {},
      "outputs": [],
      "source": []
    }
  ],
  "metadata": {
    "colab": {
      "provenance": []
    },
    "kernelspec": {
      "display_name": "Python 3",
      "name": "python3"
    },
    "language_info": {
      "codemirror_mode": {
        "name": "ipython",
        "version": 3
      },
      "file_extension": ".py",
      "mimetype": "text/x-python",
      "name": "python",
      "nbconvert_exporter": "python",
      "pygments_lexer": "ipython3",
      "version": "3.10.0"
    }
  },
  "nbformat": 4,
  "nbformat_minor": 0
}
